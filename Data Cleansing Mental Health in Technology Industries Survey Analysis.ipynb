{
 "cells": [
  {
   "cell_type": "markdown",
   "metadata": {},
   "source": [
    "# Supervised Learning Capstone: Mental Health in Tech"
   ]
  },
  {
   "cell_type": "markdown",
   "metadata": {},
   "source": [
    "### Introduction"
   ]
  },
  {
   "cell_type": "markdown",
   "metadata": {},
   "source": [
    "This data is extracted from __[Kaggle](https://www.kaggle.com/osmi/mental-health-in-tech-survey)__ It is from a survey that was conducted in 2014. It measures the attitudes towards mental health in the workplace. The survey includes questions about attitudes, health, and benefits availability."
   ]
  },
  {
   "cell_type": "markdown",
   "metadata": {},
   "source": [
    "### Research Interest"
   ]
  },
  {
   "cell_type": "markdown",
   "metadata": {},
   "source": [
    "<b>Objective:</b> To use the variables of this dataset to predict if a person in tech has sought treatment for a mental health condition."
   ]
  },
  {
   "cell_type": "markdown",
   "metadata": {},
   "source": [
    "<b>Original Features:</b>\n",
    "-  <b>Timestamp</b>: Time survey was submitted\n",
    "-  <b>Age</b>: Age of Responder\n",
    "-  <b>Gender</b>: Gender of Responder\n",
    "-  <b>Country</b>: Country of Responder\n",
    "-  <b>state</b>: State of Responder\n",
    "-  <b>self_employed</b>: Are they self employed?\n",
    "-  <b>family_history</b>: Is there a family history of mental health conditions?\n",
    "-  <b>treatment</b>: Have you sought treatment for a mental health condition?\n",
    "-  <b>work_interfere</b>: If you have a mental health condition, do you feel that it interferes with your work?\n",
    "-  <b>no_employees</b>: How many employees does your company or organization have?\n",
    "-  <b>remote_work</b>: Do you work remotely (outside of an office) at least 50% of the time?\n",
    "-  <b>tech_company</b>: Is your employer primarily a tech company/organization?\n",
    "-  <b>benefits</b>: Does your employer provide mental health benefits?\n",
    "-  <b>care_options</b>: Do you know the options for mental health care your employer provides? \n",
    "-  <b>wellness_program</b>: Has your employer ever discussed mental health as part of an employee wellness program?\n",
    "-  <b>seek_help</b>: Does your employer provide resources to learn more about mental health issues and how to seek help?\n",
    "-  <b>anonymity</b>: Is your anonymity protected if you choose to take advantage of mental health or substance abuse treatment resources?\n",
    "-  <b>leave</b>: How easy is it for you to take medical leave for a mental health condition?\n",
    "-  <b>mental_health_consequence</b>: Do you think that discussing a mental health issue with your employer would have negative consequences?\n",
    "-  <b>phys_health_consequence</b>: Do you think that discussing a physical health issue with your employer would have negative consequences?\n",
    "-  <b>coworkers</b>: Would you be willing to discuss a mental health issue with your coworkers?\n",
    "-  <b>supervisor</b>: Would you be willing to discuss a mental health issue with your direct supervisor(s)?\n",
    "-  <b>mental_health_interview</b>: Would you bring up a mental health issue with a potential employer in an interview?\n",
    "-  <b>phys_health_interview</b>: Would you bring up a physical health issue with a potential employer in an interview?\n",
    "-  <b>mental_vs_physical</b>: Do you feel that your employer takes mental health as seriously as physical health?\n",
    "-  <b>obs_consequence</b>: Have you heard of or observed negative consequences for coworkers with mental health conditions in your workplace?\n",
    "-  <b>comments</b>: Any additional notes or comments"
   ]
  },
  {
   "cell_type": "markdown",
   "metadata": {},
   "source": [
    "### Modules and Data Loading"
   ]
  },
  {
   "cell_type": "code",
   "execution_count": 1,
   "metadata": {},
   "outputs": [],
   "source": [
    "#Import modules\n",
    "import numpy as np\n",
    "import pandas as pd\n",
    "import sklearn\n",
    "import scipy\n",
    "import matplotlib.pyplot as plt\n",
    "from sklearn.model_selection import GridSearchCV\n",
    "import seaborn as sns\n",
    "import math\n",
    "from sklearn.model_selection import cross_val_score\n",
    "%matplotlib inline\n",
    "plt.style.use('dark_background')\n",
    "#sklearn\n",
    "import sklearn\n",
    "from sklearn import ensemble\n",
    "from sklearn import preprocessing\n",
    "from sklearn.decomposition import PCA\n",
    "from sklearn.ensemble import AdaBoostClassifier, BaggingClassifier, ExtraTreesClassifier\n",
    "from sklearn.ensemble import RandomForestClassifier\n",
    "from sklearn.feature_selection import SelectFromModel\n",
    "from sklearn.impute import SimpleImputer\n",
    "from sklearn.linear_model import LogisticRegression\n",
    "from sklearn.metrics import accuracy_score, f1_score, precision_score, log_loss, recall_score \n",
    "from sklearn.metrics import classification_report, confusion_matrix, roc_auc_score\n",
    "from sklearn.model_selection import cross_val_score, GridSearchCV, train_test_split\n",
    "from sklearn.preprocessing import LabelEncoder, OneHotEncoder, StandardScaler, OrdinalEncoder\n",
    "from sklearn.svm import SVC\n",
    "from sklearn.tree import DecisionTreeClassifier\n",
    "from sklearn.utils import resample\n",
    "\n",
    "#for clustering\n",
    "from sklearn.cluster import KMeans\n",
    "from sklearn.preprocessing import normalize\n",
    "from sklearn.decomposition import PCA\n",
    "from sklearn.cluster import MiniBatchKMeans\n",
    "from sklearn.metrics import silhouette_score\n",
    "\n",
    "#other learners\n",
    "from xgboost import XGBClassifier\n",
    "from lightgbm import LGBMClassifier\n",
    "from kmodes.kmodes import KModes\n",
    "\n",
    "#imblearn\n",
    "from imblearn.ensemble import BalancedBaggingClassifier\n",
    "from imblearn.ensemble import EasyEnsembleClassifier\n",
    "from imblearn.ensemble import BalancedRandomForestClassifier\n",
    "\n",
    "#webscraping\n",
    "import requests\n",
    "from bs4 import BeautifulSoup\n",
    "import re\n",
    "import urllib\n",
    "from IPython.core.display import HTML\n",
    "\n",
    "#time series\n",
    "import statsmodels.api as sm\n",
    "from pylab import rcParams\n",
    "import itertools\n",
    "from statsmodels.tsa.stattools import adfuller\n",
    "from statsmodels.tsa.stattools import acf, pacf\n",
    "from statsmodels.tsa.seasonal import seasonal_decompose\n",
    "from statsmodels.tsa.arima_model import ARIMA\n",
    "\n",
    "\n",
    "#warning ignorer\n",
    "import warnings\n",
    "warnings.filterwarnings(\"ignore\")"
   ]
  },
  {
   "cell_type": "code",
   "execution_count": 2,
   "metadata": {},
   "outputs": [],
   "source": [
    "df = pd.read_csv((\"https://raw.githubusercontent.com/GenTaylor/SupervisedLearning/master/mentalhealthintechsurvey.csv\"))"
   ]
  },
  {
   "cell_type": "code",
   "execution_count": 3,
   "metadata": {},
   "outputs": [
    {
     "data": {
      "text/plain": [
       "Index(['Timestamp', 'Age', 'Gender', 'Country', 'state', 'self_employed',\n",
       "       'family_history', 'treatment', 'work_interfere', 'no_employees',\n",
       "       'remote_work', 'tech_company', 'benefits', 'care_options',\n",
       "       'wellness_program', 'seek_help', 'anonymity', 'leave',\n",
       "       'mental_health_consequence', 'phys_health_consequence', 'coworkers',\n",
       "       'supervisor', 'mental_health_interview', 'phys_health_interview',\n",
       "       'mental_vs_physical', 'obs_consequence', 'comments'],\n",
       "      dtype='object')"
      ]
     },
     "execution_count": 3,
     "metadata": {},
     "output_type": "execute_result"
    }
   ],
   "source": [
    "df.columns"
   ]
  },
  {
   "cell_type": "markdown",
   "metadata": {},
   "source": [
    "### Data Exploration and Cleaning"
   ]
  },
  {
   "cell_type": "code",
   "execution_count": 4,
   "metadata": {},
   "outputs": [
    {
     "data": {
      "text/plain": [
       "Timestamp                    object\n",
       "Age                           int64\n",
       "Gender                       object\n",
       "Country                      object\n",
       "state                        object\n",
       "self_employed                object\n",
       "family_history               object\n",
       "treatment                    object\n",
       "work_interfere               object\n",
       "no_employees                 object\n",
       "remote_work                  object\n",
       "tech_company                 object\n",
       "benefits                     object\n",
       "care_options                 object\n",
       "wellness_program             object\n",
       "seek_help                    object\n",
       "anonymity                    object\n",
       "leave                        object\n",
       "mental_health_consequence    object\n",
       "phys_health_consequence      object\n",
       "coworkers                    object\n",
       "supervisor                   object\n",
       "mental_health_interview      object\n",
       "phys_health_interview        object\n",
       "mental_vs_physical           object\n",
       "obs_consequence              object\n",
       "comments                     object\n",
       "dtype: object"
      ]
     },
     "execution_count": 4,
     "metadata": {},
     "output_type": "execute_result"
    }
   ],
   "source": [
    "df.dtypes"
   ]
  },
  {
   "cell_type": "markdown",
   "metadata": {},
   "source": [
    "There are 27 features and of those features 26 are objects and 1 is an integer."
   ]
  },
  {
   "cell_type": "code",
   "execution_count": 5,
   "metadata": {},
   "outputs": [
    {
     "data": {
      "text/html": [
       "<div>\n",
       "<style scoped>\n",
       "    .dataframe tbody tr th:only-of-type {\n",
       "        vertical-align: middle;\n",
       "    }\n",
       "\n",
       "    .dataframe tbody tr th {\n",
       "        vertical-align: top;\n",
       "    }\n",
       "\n",
       "    .dataframe thead th {\n",
       "        text-align: right;\n",
       "    }\n",
       "</style>\n",
       "<table border=\"1\" class=\"dataframe\">\n",
       "  <thead>\n",
       "    <tr style=\"text-align: right;\">\n",
       "      <th></th>\n",
       "      <th>Timestamp</th>\n",
       "      <th>Age</th>\n",
       "      <th>Gender</th>\n",
       "      <th>Country</th>\n",
       "      <th>state</th>\n",
       "      <th>self_employed</th>\n",
       "      <th>family_history</th>\n",
       "      <th>treatment</th>\n",
       "      <th>work_interfere</th>\n",
       "      <th>no_employees</th>\n",
       "      <th>...</th>\n",
       "      <th>leave</th>\n",
       "      <th>mental_health_consequence</th>\n",
       "      <th>phys_health_consequence</th>\n",
       "      <th>coworkers</th>\n",
       "      <th>supervisor</th>\n",
       "      <th>mental_health_interview</th>\n",
       "      <th>phys_health_interview</th>\n",
       "      <th>mental_vs_physical</th>\n",
       "      <th>obs_consequence</th>\n",
       "      <th>comments</th>\n",
       "    </tr>\n",
       "  </thead>\n",
       "  <tbody>\n",
       "    <tr>\n",
       "      <th>0</th>\n",
       "      <td>2014-08-27 11:29:31</td>\n",
       "      <td>37</td>\n",
       "      <td>Female</td>\n",
       "      <td>United States</td>\n",
       "      <td>IL</td>\n",
       "      <td>NaN</td>\n",
       "      <td>No</td>\n",
       "      <td>Yes</td>\n",
       "      <td>Often</td>\n",
       "      <td>6-25</td>\n",
       "      <td>...</td>\n",
       "      <td>Somewhat easy</td>\n",
       "      <td>No</td>\n",
       "      <td>No</td>\n",
       "      <td>Some of them</td>\n",
       "      <td>Yes</td>\n",
       "      <td>No</td>\n",
       "      <td>Maybe</td>\n",
       "      <td>Yes</td>\n",
       "      <td>No</td>\n",
       "      <td>NaN</td>\n",
       "    </tr>\n",
       "    <tr>\n",
       "      <th>1</th>\n",
       "      <td>2014-08-27 11:29:37</td>\n",
       "      <td>44</td>\n",
       "      <td>M</td>\n",
       "      <td>United States</td>\n",
       "      <td>IN</td>\n",
       "      <td>NaN</td>\n",
       "      <td>No</td>\n",
       "      <td>No</td>\n",
       "      <td>Rarely</td>\n",
       "      <td>More than 1000</td>\n",
       "      <td>...</td>\n",
       "      <td>Don't know</td>\n",
       "      <td>Maybe</td>\n",
       "      <td>No</td>\n",
       "      <td>No</td>\n",
       "      <td>No</td>\n",
       "      <td>No</td>\n",
       "      <td>No</td>\n",
       "      <td>Don't know</td>\n",
       "      <td>No</td>\n",
       "      <td>NaN</td>\n",
       "    </tr>\n",
       "    <tr>\n",
       "      <th>2</th>\n",
       "      <td>2014-08-27 11:29:44</td>\n",
       "      <td>32</td>\n",
       "      <td>Male</td>\n",
       "      <td>Canada</td>\n",
       "      <td>NaN</td>\n",
       "      <td>NaN</td>\n",
       "      <td>No</td>\n",
       "      <td>No</td>\n",
       "      <td>Rarely</td>\n",
       "      <td>6-25</td>\n",
       "      <td>...</td>\n",
       "      <td>Somewhat difficult</td>\n",
       "      <td>No</td>\n",
       "      <td>No</td>\n",
       "      <td>Yes</td>\n",
       "      <td>Yes</td>\n",
       "      <td>Yes</td>\n",
       "      <td>Yes</td>\n",
       "      <td>No</td>\n",
       "      <td>No</td>\n",
       "      <td>NaN</td>\n",
       "    </tr>\n",
       "    <tr>\n",
       "      <th>3</th>\n",
       "      <td>2014-08-27 11:29:46</td>\n",
       "      <td>31</td>\n",
       "      <td>Male</td>\n",
       "      <td>United Kingdom</td>\n",
       "      <td>NaN</td>\n",
       "      <td>NaN</td>\n",
       "      <td>Yes</td>\n",
       "      <td>Yes</td>\n",
       "      <td>Often</td>\n",
       "      <td>26-100</td>\n",
       "      <td>...</td>\n",
       "      <td>Somewhat difficult</td>\n",
       "      <td>Yes</td>\n",
       "      <td>Yes</td>\n",
       "      <td>Some of them</td>\n",
       "      <td>No</td>\n",
       "      <td>Maybe</td>\n",
       "      <td>Maybe</td>\n",
       "      <td>No</td>\n",
       "      <td>Yes</td>\n",
       "      <td>NaN</td>\n",
       "    </tr>\n",
       "    <tr>\n",
       "      <th>4</th>\n",
       "      <td>2014-08-27 11:30:22</td>\n",
       "      <td>31</td>\n",
       "      <td>Male</td>\n",
       "      <td>United States</td>\n",
       "      <td>TX</td>\n",
       "      <td>NaN</td>\n",
       "      <td>No</td>\n",
       "      <td>No</td>\n",
       "      <td>Never</td>\n",
       "      <td>100-500</td>\n",
       "      <td>...</td>\n",
       "      <td>Don't know</td>\n",
       "      <td>No</td>\n",
       "      <td>No</td>\n",
       "      <td>Some of them</td>\n",
       "      <td>Yes</td>\n",
       "      <td>Yes</td>\n",
       "      <td>Yes</td>\n",
       "      <td>Don't know</td>\n",
       "      <td>No</td>\n",
       "      <td>NaN</td>\n",
       "    </tr>\n",
       "  </tbody>\n",
       "</table>\n",
       "<p>5 rows × 27 columns</p>\n",
       "</div>"
      ],
      "text/plain": [
       "             Timestamp  Age  Gender         Country state self_employed  \\\n",
       "0  2014-08-27 11:29:31   37  Female   United States    IL           NaN   \n",
       "1  2014-08-27 11:29:37   44       M   United States    IN           NaN   \n",
       "2  2014-08-27 11:29:44   32    Male          Canada   NaN           NaN   \n",
       "3  2014-08-27 11:29:46   31    Male  United Kingdom   NaN           NaN   \n",
       "4  2014-08-27 11:30:22   31    Male   United States    TX           NaN   \n",
       "\n",
       "  family_history treatment work_interfere    no_employees  ...  \\\n",
       "0             No       Yes          Often            6-25  ...   \n",
       "1             No        No         Rarely  More than 1000  ...   \n",
       "2             No        No         Rarely            6-25  ...   \n",
       "3            Yes       Yes          Often          26-100  ...   \n",
       "4             No        No          Never         100-500  ...   \n",
       "\n",
       "                leave mental_health_consequence phys_health_consequence  \\\n",
       "0       Somewhat easy                        No                      No   \n",
       "1          Don't know                     Maybe                      No   \n",
       "2  Somewhat difficult                        No                      No   \n",
       "3  Somewhat difficult                       Yes                     Yes   \n",
       "4          Don't know                        No                      No   \n",
       "\n",
       "      coworkers supervisor mental_health_interview phys_health_interview  \\\n",
       "0  Some of them        Yes                      No                 Maybe   \n",
       "1            No         No                      No                    No   \n",
       "2           Yes        Yes                     Yes                   Yes   \n",
       "3  Some of them         No                   Maybe                 Maybe   \n",
       "4  Some of them        Yes                     Yes                   Yes   \n",
       "\n",
       "  mental_vs_physical obs_consequence comments  \n",
       "0                Yes              No      NaN  \n",
       "1         Don't know              No      NaN  \n",
       "2                 No              No      NaN  \n",
       "3                 No             Yes      NaN  \n",
       "4         Don't know              No      NaN  \n",
       "\n",
       "[5 rows x 27 columns]"
      ]
     },
     "execution_count": 5,
     "metadata": {},
     "output_type": "execute_result"
    }
   ],
   "source": [
    "df.head()"
   ]
  },
  {
   "cell_type": "code",
   "execution_count": 6,
   "metadata": {},
   "outputs": [
    {
     "data": {
      "text/plain": [
       "(1259, 27)"
      ]
     },
     "execution_count": 6,
     "metadata": {},
     "output_type": "execute_result"
    }
   ],
   "source": [
    "df.shape"
   ]
  },
  {
   "cell_type": "code",
   "execution_count": 7,
   "metadata": {
    "scrolled": true
   },
   "outputs": [
    {
     "data": {
      "text/plain": [
       "Index(['timestamp', 'age', 'gender', 'country', 'state', 'self_employed',\n",
       "       'family_history', 'treatment', 'work_interfere', 'no_employees',\n",
       "       'remote_work', 'tech_company', 'benefits', 'care_options',\n",
       "       'wellness_program', 'seek_help', 'anonymity', 'leave',\n",
       "       'mental_health_consequence', 'phys_health_consequence', 'coworkers',\n",
       "       'supervisor', 'mental_health_interview', 'phys_health_interview',\n",
       "       'mental_vs_physical', 'obs_consequence', 'comments'],\n",
       "      dtype='object')"
      ]
     },
     "execution_count": 7,
     "metadata": {},
     "output_type": "execute_result"
    }
   ],
   "source": [
    "#standardize all columns to lowercase for ease of use in querying\n",
    "df.columns = map(str.lower, df.columns)\n",
    "\n",
    "#verify\n",
    "df.columns"
   ]
  },
  {
   "cell_type": "code",
   "execution_count": 8,
   "metadata": {},
   "outputs": [
    {
     "data": {
      "text/html": [
       "<div>\n",
       "<style scoped>\n",
       "    .dataframe tbody tr th:only-of-type {\n",
       "        vertical-align: middle;\n",
       "    }\n",
       "\n",
       "    .dataframe tbody tr th {\n",
       "        vertical-align: top;\n",
       "    }\n",
       "\n",
       "    .dataframe thead th {\n",
       "        text-align: right;\n",
       "    }\n",
       "</style>\n",
       "<table border=\"1\" class=\"dataframe\">\n",
       "  <thead>\n",
       "    <tr style=\"text-align: right;\">\n",
       "      <th></th>\n",
       "      <th>timestamp</th>\n",
       "      <th>age</th>\n",
       "      <th>gender</th>\n",
       "      <th>country</th>\n",
       "      <th>state</th>\n",
       "      <th>self_employed</th>\n",
       "      <th>family_history</th>\n",
       "      <th>treatment</th>\n",
       "      <th>work_interfere</th>\n",
       "      <th>no_employees</th>\n",
       "      <th>...</th>\n",
       "      <th>leave</th>\n",
       "      <th>mental_health_consequence</th>\n",
       "      <th>phys_health_consequence</th>\n",
       "      <th>coworkers</th>\n",
       "      <th>supervisor</th>\n",
       "      <th>mental_health_interview</th>\n",
       "      <th>phys_health_interview</th>\n",
       "      <th>mental_vs_physical</th>\n",
       "      <th>obs_consequence</th>\n",
       "      <th>comments</th>\n",
       "    </tr>\n",
       "  </thead>\n",
       "  <tbody>\n",
       "    <tr>\n",
       "      <th>count</th>\n",
       "      <td>1259</td>\n",
       "      <td>1.259000e+03</td>\n",
       "      <td>1259</td>\n",
       "      <td>1259</td>\n",
       "      <td>744</td>\n",
       "      <td>1241</td>\n",
       "      <td>1259</td>\n",
       "      <td>1259</td>\n",
       "      <td>995</td>\n",
       "      <td>1259</td>\n",
       "      <td>...</td>\n",
       "      <td>1259</td>\n",
       "      <td>1259</td>\n",
       "      <td>1259</td>\n",
       "      <td>1259</td>\n",
       "      <td>1259</td>\n",
       "      <td>1259</td>\n",
       "      <td>1259</td>\n",
       "      <td>1259</td>\n",
       "      <td>1259</td>\n",
       "      <td>164</td>\n",
       "    </tr>\n",
       "    <tr>\n",
       "      <th>unique</th>\n",
       "      <td>1246</td>\n",
       "      <td>NaN</td>\n",
       "      <td>49</td>\n",
       "      <td>48</td>\n",
       "      <td>45</td>\n",
       "      <td>2</td>\n",
       "      <td>2</td>\n",
       "      <td>2</td>\n",
       "      <td>4</td>\n",
       "      <td>6</td>\n",
       "      <td>...</td>\n",
       "      <td>5</td>\n",
       "      <td>3</td>\n",
       "      <td>3</td>\n",
       "      <td>3</td>\n",
       "      <td>3</td>\n",
       "      <td>3</td>\n",
       "      <td>3</td>\n",
       "      <td>3</td>\n",
       "      <td>2</td>\n",
       "      <td>160</td>\n",
       "    </tr>\n",
       "    <tr>\n",
       "      <th>top</th>\n",
       "      <td>2014-08-27 17:33:52</td>\n",
       "      <td>NaN</td>\n",
       "      <td>Male</td>\n",
       "      <td>United States</td>\n",
       "      <td>CA</td>\n",
       "      <td>No</td>\n",
       "      <td>No</td>\n",
       "      <td>Yes</td>\n",
       "      <td>Sometimes</td>\n",
       "      <td>6-25</td>\n",
       "      <td>...</td>\n",
       "      <td>Don't know</td>\n",
       "      <td>No</td>\n",
       "      <td>No</td>\n",
       "      <td>Some of them</td>\n",
       "      <td>Yes</td>\n",
       "      <td>No</td>\n",
       "      <td>Maybe</td>\n",
       "      <td>Don't know</td>\n",
       "      <td>No</td>\n",
       "      <td>* Small family business - YMMV.</td>\n",
       "    </tr>\n",
       "    <tr>\n",
       "      <th>freq</th>\n",
       "      <td>2</td>\n",
       "      <td>NaN</td>\n",
       "      <td>615</td>\n",
       "      <td>751</td>\n",
       "      <td>138</td>\n",
       "      <td>1095</td>\n",
       "      <td>767</td>\n",
       "      <td>637</td>\n",
       "      <td>465</td>\n",
       "      <td>290</td>\n",
       "      <td>...</td>\n",
       "      <td>563</td>\n",
       "      <td>490</td>\n",
       "      <td>925</td>\n",
       "      <td>774</td>\n",
       "      <td>516</td>\n",
       "      <td>1008</td>\n",
       "      <td>557</td>\n",
       "      <td>576</td>\n",
       "      <td>1075</td>\n",
       "      <td>5</td>\n",
       "    </tr>\n",
       "    <tr>\n",
       "      <th>mean</th>\n",
       "      <td>NaN</td>\n",
       "      <td>7.942815e+07</td>\n",
       "      <td>NaN</td>\n",
       "      <td>NaN</td>\n",
       "      <td>NaN</td>\n",
       "      <td>NaN</td>\n",
       "      <td>NaN</td>\n",
       "      <td>NaN</td>\n",
       "      <td>NaN</td>\n",
       "      <td>NaN</td>\n",
       "      <td>...</td>\n",
       "      <td>NaN</td>\n",
       "      <td>NaN</td>\n",
       "      <td>NaN</td>\n",
       "      <td>NaN</td>\n",
       "      <td>NaN</td>\n",
       "      <td>NaN</td>\n",
       "      <td>NaN</td>\n",
       "      <td>NaN</td>\n",
       "      <td>NaN</td>\n",
       "      <td>NaN</td>\n",
       "    </tr>\n",
       "    <tr>\n",
       "      <th>std</th>\n",
       "      <td>NaN</td>\n",
       "      <td>2.818299e+09</td>\n",
       "      <td>NaN</td>\n",
       "      <td>NaN</td>\n",
       "      <td>NaN</td>\n",
       "      <td>NaN</td>\n",
       "      <td>NaN</td>\n",
       "      <td>NaN</td>\n",
       "      <td>NaN</td>\n",
       "      <td>NaN</td>\n",
       "      <td>...</td>\n",
       "      <td>NaN</td>\n",
       "      <td>NaN</td>\n",
       "      <td>NaN</td>\n",
       "      <td>NaN</td>\n",
       "      <td>NaN</td>\n",
       "      <td>NaN</td>\n",
       "      <td>NaN</td>\n",
       "      <td>NaN</td>\n",
       "      <td>NaN</td>\n",
       "      <td>NaN</td>\n",
       "    </tr>\n",
       "    <tr>\n",
       "      <th>min</th>\n",
       "      <td>NaN</td>\n",
       "      <td>-1.726000e+03</td>\n",
       "      <td>NaN</td>\n",
       "      <td>NaN</td>\n",
       "      <td>NaN</td>\n",
       "      <td>NaN</td>\n",
       "      <td>NaN</td>\n",
       "      <td>NaN</td>\n",
       "      <td>NaN</td>\n",
       "      <td>NaN</td>\n",
       "      <td>...</td>\n",
       "      <td>NaN</td>\n",
       "      <td>NaN</td>\n",
       "      <td>NaN</td>\n",
       "      <td>NaN</td>\n",
       "      <td>NaN</td>\n",
       "      <td>NaN</td>\n",
       "      <td>NaN</td>\n",
       "      <td>NaN</td>\n",
       "      <td>NaN</td>\n",
       "      <td>NaN</td>\n",
       "    </tr>\n",
       "    <tr>\n",
       "      <th>25%</th>\n",
       "      <td>NaN</td>\n",
       "      <td>2.700000e+01</td>\n",
       "      <td>NaN</td>\n",
       "      <td>NaN</td>\n",
       "      <td>NaN</td>\n",
       "      <td>NaN</td>\n",
       "      <td>NaN</td>\n",
       "      <td>NaN</td>\n",
       "      <td>NaN</td>\n",
       "      <td>NaN</td>\n",
       "      <td>...</td>\n",
       "      <td>NaN</td>\n",
       "      <td>NaN</td>\n",
       "      <td>NaN</td>\n",
       "      <td>NaN</td>\n",
       "      <td>NaN</td>\n",
       "      <td>NaN</td>\n",
       "      <td>NaN</td>\n",
       "      <td>NaN</td>\n",
       "      <td>NaN</td>\n",
       "      <td>NaN</td>\n",
       "    </tr>\n",
       "    <tr>\n",
       "      <th>50%</th>\n",
       "      <td>NaN</td>\n",
       "      <td>3.100000e+01</td>\n",
       "      <td>NaN</td>\n",
       "      <td>NaN</td>\n",
       "      <td>NaN</td>\n",
       "      <td>NaN</td>\n",
       "      <td>NaN</td>\n",
       "      <td>NaN</td>\n",
       "      <td>NaN</td>\n",
       "      <td>NaN</td>\n",
       "      <td>...</td>\n",
       "      <td>NaN</td>\n",
       "      <td>NaN</td>\n",
       "      <td>NaN</td>\n",
       "      <td>NaN</td>\n",
       "      <td>NaN</td>\n",
       "      <td>NaN</td>\n",
       "      <td>NaN</td>\n",
       "      <td>NaN</td>\n",
       "      <td>NaN</td>\n",
       "      <td>NaN</td>\n",
       "    </tr>\n",
       "    <tr>\n",
       "      <th>75%</th>\n",
       "      <td>NaN</td>\n",
       "      <td>3.600000e+01</td>\n",
       "      <td>NaN</td>\n",
       "      <td>NaN</td>\n",
       "      <td>NaN</td>\n",
       "      <td>NaN</td>\n",
       "      <td>NaN</td>\n",
       "      <td>NaN</td>\n",
       "      <td>NaN</td>\n",
       "      <td>NaN</td>\n",
       "      <td>...</td>\n",
       "      <td>NaN</td>\n",
       "      <td>NaN</td>\n",
       "      <td>NaN</td>\n",
       "      <td>NaN</td>\n",
       "      <td>NaN</td>\n",
       "      <td>NaN</td>\n",
       "      <td>NaN</td>\n",
       "      <td>NaN</td>\n",
       "      <td>NaN</td>\n",
       "      <td>NaN</td>\n",
       "    </tr>\n",
       "    <tr>\n",
       "      <th>max</th>\n",
       "      <td>NaN</td>\n",
       "      <td>1.000000e+11</td>\n",
       "      <td>NaN</td>\n",
       "      <td>NaN</td>\n",
       "      <td>NaN</td>\n",
       "      <td>NaN</td>\n",
       "      <td>NaN</td>\n",
       "      <td>NaN</td>\n",
       "      <td>NaN</td>\n",
       "      <td>NaN</td>\n",
       "      <td>...</td>\n",
       "      <td>NaN</td>\n",
       "      <td>NaN</td>\n",
       "      <td>NaN</td>\n",
       "      <td>NaN</td>\n",
       "      <td>NaN</td>\n",
       "      <td>NaN</td>\n",
       "      <td>NaN</td>\n",
       "      <td>NaN</td>\n",
       "      <td>NaN</td>\n",
       "      <td>NaN</td>\n",
       "    </tr>\n",
       "  </tbody>\n",
       "</table>\n",
       "<p>11 rows × 27 columns</p>\n",
       "</div>"
      ],
      "text/plain": [
       "                  timestamp           age gender        country state  \\\n",
       "count                  1259  1.259000e+03   1259           1259   744   \n",
       "unique                 1246           NaN     49             48    45   \n",
       "top     2014-08-27 17:33:52           NaN   Male  United States    CA   \n",
       "freq                      2           NaN    615            751   138   \n",
       "mean                    NaN  7.942815e+07    NaN            NaN   NaN   \n",
       "std                     NaN  2.818299e+09    NaN            NaN   NaN   \n",
       "min                     NaN -1.726000e+03    NaN            NaN   NaN   \n",
       "25%                     NaN  2.700000e+01    NaN            NaN   NaN   \n",
       "50%                     NaN  3.100000e+01    NaN            NaN   NaN   \n",
       "75%                     NaN  3.600000e+01    NaN            NaN   NaN   \n",
       "max                     NaN  1.000000e+11    NaN            NaN   NaN   \n",
       "\n",
       "       self_employed family_history treatment work_interfere no_employees  \\\n",
       "count           1241           1259      1259            995         1259   \n",
       "unique             2              2         2              4            6   \n",
       "top               No             No       Yes      Sometimes         6-25   \n",
       "freq            1095            767       637            465          290   \n",
       "mean             NaN            NaN       NaN            NaN          NaN   \n",
       "std              NaN            NaN       NaN            NaN          NaN   \n",
       "min              NaN            NaN       NaN            NaN          NaN   \n",
       "25%              NaN            NaN       NaN            NaN          NaN   \n",
       "50%              NaN            NaN       NaN            NaN          NaN   \n",
       "75%              NaN            NaN       NaN            NaN          NaN   \n",
       "max              NaN            NaN       NaN            NaN          NaN   \n",
       "\n",
       "        ...       leave mental_health_consequence phys_health_consequence  \\\n",
       "count   ...        1259                      1259                    1259   \n",
       "unique  ...           5                         3                       3   \n",
       "top     ...  Don't know                        No                      No   \n",
       "freq    ...         563                       490                     925   \n",
       "mean    ...         NaN                       NaN                     NaN   \n",
       "std     ...         NaN                       NaN                     NaN   \n",
       "min     ...         NaN                       NaN                     NaN   \n",
       "25%     ...         NaN                       NaN                     NaN   \n",
       "50%     ...         NaN                       NaN                     NaN   \n",
       "75%     ...         NaN                       NaN                     NaN   \n",
       "max     ...         NaN                       NaN                     NaN   \n",
       "\n",
       "           coworkers supervisor mental_health_interview phys_health_interview  \\\n",
       "count           1259       1259                    1259                  1259   \n",
       "unique             3          3                       3                     3   \n",
       "top     Some of them        Yes                      No                 Maybe   \n",
       "freq             774        516                    1008                   557   \n",
       "mean             NaN        NaN                     NaN                   NaN   \n",
       "std              NaN        NaN                     NaN                   NaN   \n",
       "min              NaN        NaN                     NaN                   NaN   \n",
       "25%              NaN        NaN                     NaN                   NaN   \n",
       "50%              NaN        NaN                     NaN                   NaN   \n",
       "75%              NaN        NaN                     NaN                   NaN   \n",
       "max              NaN        NaN                     NaN                   NaN   \n",
       "\n",
       "       mental_vs_physical obs_consequence                         comments  \n",
       "count                1259            1259                              164  \n",
       "unique                  3               2                              160  \n",
       "top            Don't know              No  * Small family business - YMMV.  \n",
       "freq                  576            1075                                5  \n",
       "mean                  NaN             NaN                              NaN  \n",
       "std                   NaN             NaN                              NaN  \n",
       "min                   NaN             NaN                              NaN  \n",
       "25%                   NaN             NaN                              NaN  \n",
       "50%                   NaN             NaN                              NaN  \n",
       "75%                   NaN             NaN                              NaN  \n",
       "max                   NaN             NaN                              NaN  \n",
       "\n",
       "[11 rows x 27 columns]"
      ]
     },
     "execution_count": 8,
     "metadata": {},
     "output_type": "execute_result"
    }
   ],
   "source": [
    "df.describe(include='all')  "
   ]
  },
  {
   "cell_type": "markdown",
   "metadata": {},
   "source": [
    "The mean of age seemed odd for something such as a technical professional so I decided to explore its values."
   ]
  },
  {
   "cell_type": "code",
   "execution_count": 9,
   "metadata": {},
   "outputs": [
    {
     "name": "stdout",
     "output_type": "stream",
     "text": [
      "Age Values\n",
      "Average Age:  79428148.31135821\n",
      "Minimum Age:  -1726\n",
      "Maximum Age:  99999999999\n",
      "Null values:  0\n"
     ]
    }
   ],
   "source": [
    "#check values of only int, age\n",
    "\n",
    "print(\"Age Values\")\n",
    "print(\"Average Age: \", df['age'].mean())\n",
    "print(\"Minimum Age: \", df['age'].min())\n",
    "print(\"Maximum Age: \", df['age'].max())\n",
    "print(\"Null values: \", pd.isnull(df['age']).sum())"
   ]
  },
  {
   "cell_type": "markdown",
   "metadata": {},
   "source": [
    "Age values are obviously off, and the outliers need to be fixed before any machine learning or analysis can be done."
   ]
  },
  {
   "cell_type": "code",
   "execution_count": 10,
   "metadata": {},
   "outputs": [
    {
     "name": "stdout",
     "output_type": "stream",
     "text": [
      "Age Values\n",
      "Average Age:  32.01913875598086\n",
      "Minimum Age:  5.0\n",
      "Maximum Age:  72.0\n",
      "Null values:  5\n"
     ]
    }
   ],
   "source": [
    "#fix outlier issues for ages\n",
    "def fixedage(age):\n",
    "    if age>=1 and age<=99:\n",
    "        return age\n",
    "    else:\n",
    "        return np.nan\n",
    "df['age'] = df['age'].apply(fixedage)\n",
    "\n",
    "\n",
    "#check age values again\n",
    "\n",
    "print(\"Age Values\")\n",
    "print(\"Average Age: \", df['age'].mean())\n",
    "print(\"Minimum Age: \", df['age'].min())\n",
    "print(\"Maximum Age: \", df['age'].max())\n",
    "print(\"Null values: \", pd.isnull(df['age']).sum())"
   ]
  },
  {
   "cell_type": "markdown",
   "metadata": {},
   "source": [
    "#### Handling Null Values"
   ]
  },
  {
   "cell_type": "code",
   "execution_count": 11,
   "metadata": {
    "scrolled": true
   },
   "outputs": [
    {
     "data": {
      "text/plain": [
       "comments                     1095\n",
       "state                         515\n",
       "work_interfere                264\n",
       "self_employed                  18\n",
       "age                             5\n",
       "benefits                        0\n",
       "gender                          0\n",
       "country                         0\n",
       "family_history                  0\n",
       "treatment                       0\n",
       "no_employees                    0\n",
       "remote_work                     0\n",
       "tech_company                    0\n",
       "care_options                    0\n",
       "obs_consequence                 0\n",
       "wellness_program                0\n",
       "seek_help                       0\n",
       "anonymity                       0\n",
       "leave                           0\n",
       "mental_health_consequence       0\n",
       "phys_health_consequence         0\n",
       "coworkers                       0\n",
       "supervisor                      0\n",
       "mental_health_interview         0\n",
       "phys_health_interview           0\n",
       "mental_vs_physical              0\n",
       "timestamp                       0\n",
       "dtype: int64"
      ]
     },
     "execution_count": 11,
     "metadata": {},
     "output_type": "execute_result"
    }
   ],
   "source": [
    "#Check Missing Data\n",
    "df.isnull().sum().sort_values(ascending=False)"
   ]
  },
  {
   "cell_type": "code",
   "execution_count": 12,
   "metadata": {},
   "outputs": [
    {
     "name": "stdout",
     "output_type": "stream",
     "text": [
      "Null values:  0\n"
     ]
    }
   ],
   "source": [
    "#fill null values with avg age\n",
    "\n",
    "df['age'].fillna(df['age'].mean(), inplace = True)\n",
    "\n",
    "\n",
    "df['age']=df['age'].astype(int)\n",
    "\n",
    "#check null again\n",
    "print(\"Null values: \", pd.isnull(df['age']).sum())"
   ]
  },
  {
   "cell_type": "code",
   "execution_count": 13,
   "metadata": {},
   "outputs": [],
   "source": [
    "#drop timestamp, state, and comments\n",
    "\n",
    "df = df.drop(['comments'], axis=1)\n",
    "df = df.drop(['timestamp'], axis=1)\n",
    "df = df.drop(['state'], axis=1)\n"
   ]
  },
  {
   "cell_type": "code",
   "execution_count": 14,
   "metadata": {},
   "outputs": [
    {
     "data": {
      "text/plain": [
       "work_interfere               264\n",
       "self_employed                 18\n",
       "obs_consequence                0\n",
       "mental_vs_physical             0\n",
       "gender                         0\n",
       "country                        0\n",
       "family_history                 0\n",
       "treatment                      0\n",
       "no_employees                   0\n",
       "remote_work                    0\n",
       "tech_company                   0\n",
       "benefits                       0\n",
       "care_options                   0\n",
       "wellness_program               0\n",
       "seek_help                      0\n",
       "anonymity                      0\n",
       "leave                          0\n",
       "mental_health_consequence      0\n",
       "phys_health_consequence        0\n",
       "coworkers                      0\n",
       "supervisor                     0\n",
       "mental_health_interview        0\n",
       "phys_health_interview          0\n",
       "age                            0\n",
       "dtype: int64"
      ]
     },
     "execution_count": 14,
     "metadata": {},
     "output_type": "execute_result"
    }
   ],
   "source": [
    "#Check Missing Data\n",
    "df.isnull().sum().sort_values(ascending=False)"
   ]
  },
  {
   "cell_type": "code",
   "execution_count": 15,
   "metadata": {},
   "outputs": [
    {
     "name": "stdout",
     "output_type": "stream",
     "text": [
      "Distinct values for work_interfere:\n",
      " {nan, 'Sometimes', 'Rarely', 'Often', 'Never'}\n"
     ]
    }
   ],
   "source": [
    "#Checking the unique values for 'work_interfere'\n",
    "print(\"Distinct values for work_interfere:\\n\", set(df['work_interfere']))"
   ]
  },
  {
   "cell_type": "code",
   "execution_count": 16,
   "metadata": {},
   "outputs": [],
   "source": [
    "\n",
    "df['work_interfere'].fillna(\"Unsure\",inplace = True) \n",
    "  \n",
    "df['self_employed'].fillna(\"No\",inplace = True) \n",
    "  "
   ]
  },
  {
   "cell_type": "code",
   "execution_count": 17,
   "metadata": {},
   "outputs": [
    {
     "data": {
      "text/plain": [
       "obs_consequence              0\n",
       "mental_vs_physical           0\n",
       "gender                       0\n",
       "country                      0\n",
       "self_employed                0\n",
       "family_history               0\n",
       "treatment                    0\n",
       "work_interfere               0\n",
       "no_employees                 0\n",
       "remote_work                  0\n",
       "tech_company                 0\n",
       "benefits                     0\n",
       "care_options                 0\n",
       "wellness_program             0\n",
       "seek_help                    0\n",
       "anonymity                    0\n",
       "leave                        0\n",
       "mental_health_consequence    0\n",
       "phys_health_consequence      0\n",
       "coworkers                    0\n",
       "supervisor                   0\n",
       "mental_health_interview      0\n",
       "phys_health_interview        0\n",
       "age                          0\n",
       "dtype: int64"
      ]
     },
     "execution_count": 17,
     "metadata": {},
     "output_type": "execute_result"
    }
   ],
   "source": [
    "#Check Missing Data\n",
    "df.isnull().sum().sort_values(ascending=False)"
   ]
  },
  {
   "cell_type": "markdown",
   "metadata": {},
   "source": [
    "##### Check Distinct Values"
   ]
  },
  {
   "cell_type": "code",
   "execution_count": 18,
   "metadata": {},
   "outputs": [
    {
     "name": "stdout",
     "output_type": "stream",
     "text": [
      "Distinct values for gender:\n",
      " {'woman', 'ostensibly male, unsure what that really means', 'Male', 'm', 'A little about you', 'Female', 'All', 'Femake', 'Mail', 'Male ', 'Nah', 'Man', 'M', 'fluid', 'Male-ish', 'Androgyne', 'cis-female/femme', 'Female ', 'something kinda male?', 'Agender', 'Genderqueer', 'queer/she/they', 'Make', 'Cis Female', 'Male (CIS)', 'Enby', 'Guy (-ish) ^_^', 'msle', 'maile', 'F', 'Cis Man', 'female', 'Mal', 'Neuter', 'male leaning androgynous', 'queer', 'cis male', 'f', 'p', 'non-binary', 'Malr', 'Trans woman', 'Woman', 'Trans-female', 'Female (cis)', 'Cis Male', 'femail', 'male', 'Female (trans)'}\n"
     ]
    }
   ],
   "source": [
    "#Gender\n",
    "print(\"Distinct values for gender:\\n\", set(df['gender']))"
   ]
  },
  {
   "cell_type": "code",
   "execution_count": 19,
   "metadata": {},
   "outputs": [
    {
     "name": "stdout",
     "output_type": "stream",
     "text": [
      "Distinct values for age:\n",
      " {5, 8, 11, 18, 19, 20, 21, 22, 23, 24, 25, 26, 27, 28, 29, 30, 31, 32, 33, 34, 35, 36, 37, 38, 39, 40, 41, 42, 43, 44, 45, 46, 47, 48, 49, 50, 51, 53, 54, 55, 56, 57, 58, 60, 61, 62, 65, 72}\n"
     ]
    }
   ],
   "source": [
    "#Age\n",
    "print(\"Distinct values for age:\\n\", set(df['age']))"
   ]
  },
  {
   "cell_type": "code",
   "execution_count": 20,
   "metadata": {},
   "outputs": [
    {
     "name": "stdout",
     "output_type": "stream",
     "text": [
      "Distinct values for country:\n",
      " {'Switzerland', 'Spain', 'Zimbabwe', 'China', 'Portugal', 'France', 'Ireland', 'Slovenia', 'India', 'Thailand', 'New Zealand', 'Australia', 'Italy', 'Bahamas, The', 'Nigeria', 'Croatia', 'Sweden', 'Uruguay', 'Bosnia and Herzegovina', 'Philippines', 'Poland', 'Germany', 'Costa Rica', 'United States', 'Denmark', 'Russia', 'Romania', 'South Africa', 'Canada', 'Latvia', 'Japan', 'Hungary', 'Austria', 'Singapore', 'Netherlands', 'Israel', 'Belgium', 'Finland', 'Czech Republic', 'Norway', 'Bulgaria', 'Moldova', 'Georgia', 'Brazil', 'Mexico', 'Greece', 'Colombia', 'United Kingdom'}\n"
     ]
    }
   ],
   "source": [
    "#Country\n",
    "print(\"Distinct values for country:\\n\", set(df['country']))"
   ]
  },
  {
   "cell_type": "markdown",
   "metadata": {},
   "source": [
    "Gender as a distinct value seems too varied in spellings and classifications so I assume it would cause a problem. I decided to cleanse this data through strings and grouping of the values into categories."
   ]
  },
  {
   "cell_type": "code",
   "execution_count": 21,
   "metadata": {},
   "outputs": [
    {
     "name": "stdout",
     "output_type": "stream",
     "text": [
      "Distinct responses for gender:\n",
      " {'other_or_trans', 'female', 'male'}\n"
     ]
    }
   ],
   "source": [
    "#create gender groups\n",
    "\n",
    "male= [\"man\",\"msle\", \"mail\", \"malr\",\"male\", \"m\", \"male-ish\", \"maile\", \"mal\", \"male (cis)\", \n",
    "       \"make\", \"male \",\"cis man\", \"Cis Male\", \"cis male\"]\n",
    "\n",
    "female=[\"female \",\"cis-female/femme\", \"female (cis)\", \"femail\", \"cis female\", \"f\", \"female\", \n",
    "        \"woman\",  \"femake\"]\n",
    "\n",
    "other_or_trans =[\"something kinda male?\", \"queer/she/they\", \"p\",\"a little about you\",\"non-binary\",\"nah\", \"all\", \n",
    "        \"enby\", \"fluid\", \"genderqueer\", \"androgyne\", \"agender\", \"male leaning androgynous\", \n",
    "        \"guy (-ish) ^_^\",  \"neuter\",  \"queer\", \"ostensibly male, unsure what that really means\", \"trans-female\",\"trans woman\",\"female (trans)\"]\n",
    "\n",
    "for (row, col) in df.iterrows():\n",
    "\n",
    "    if str.lower(col.gender) in male:\n",
    "        df['gender'].replace(to_replace=col.gender, value='male', inplace=True)\n",
    "\n",
    "    if str.lower(col.gender) in female:\n",
    "        df['gender'].replace(to_replace=col.gender, value='female', inplace=True)\n",
    "    \n",
    "    if str.lower(col.gender) in other_or_trans:\n",
    "        df['gender'].replace(to_replace=col.gender, value='other_or_trans', inplace=True)\n",
    "    \n",
    "    \n",
    " \n",
    "#Gender\n",
    "print(\"Distinct responses for gender:\\n\", set(df['gender']))"
   ]
  },
  {
   "cell_type": "code",
   "execution_count": 22,
   "metadata": {},
   "outputs": [
    {
     "name": "stdout",
     "output_type": "stream",
     "text": [
      "Distinct values for leave:\n",
      " {'Very easy', 'Somewhat easy', 'Somewhat difficult', \"Don't know\", 'Very difficult'}\n"
     ]
    }
   ],
   "source": [
    "print(\"Distinct values for leave:\\n\", set(df['leave']))"
   ]
  },
  {
   "cell_type": "markdown",
   "metadata": {},
   "source": [
    "<b>Ages:</b> I want to create a feature that groups the ages. I didn't want to not include certain groups such as those <18 because it is possible for someone in that age group to be working in tech and taking that survey. Their responses to age could have been typos but I did not want to take the risk of completely deleting them and changing things."
   ]
  },
  {
   "cell_type": "code",
   "execution_count": 23,
   "metadata": {},
   "outputs": [],
   "source": [
    "#Group the ages into groups\n",
    "df['age'] = pd.cut(df['age'],\n",
    "                         [0,18, 25, 35, 45, 55, 65, 99],\n",
    "                         labels=['<18','18-24','25-34','35-44','45-54', '55-64', '65+'])"
   ]
  },
  {
   "cell_type": "code",
   "execution_count": 24,
   "metadata": {},
   "outputs": [
    {
     "data": {
      "text/plain": [
       "Index(['age', 'gender', 'country', 'self_employed', 'family_history',\n",
       "       'treatment', 'work_interfere', 'no_employees', 'remote_work',\n",
       "       'tech_company', 'benefits', 'care_options', 'wellness_program',\n",
       "       'seek_help', 'anonymity', 'leave', 'mental_health_consequence',\n",
       "       'phys_health_consequence', 'coworkers', 'supervisor',\n",
       "       'mental_health_interview', 'phys_health_interview',\n",
       "       'mental_vs_physical', 'obs_consequence'],\n",
       "      dtype='object')"
      ]
     },
     "execution_count": 24,
     "metadata": {},
     "output_type": "execute_result"
    }
   ],
   "source": [
    "df.columns"
   ]
  },
  {
   "cell_type": "markdown",
   "metadata": {},
   "source": [
    "#### The practical uses of your model for an audience of interest:"
   ]
  },
  {
   "cell_type": "markdown",
   "metadata": {},
   "source": [
    "\n",
    "\n",
    "This model is practical for at least two groups, employers and health insurance companies. It can help companies who are trying to improve the mental health of their workers. Employers can use these results to help boost the mental health of employees which can improve performance. They can also use it as a way to recruit new employees. Knowing that a company cares about the mental health of its employees is a want of many who are looking for employment.\n",
    "\n",
    "It can help health insurance companies learn how to better market their insurance to companies. Health insurance companies can use this information to better understand how to sell their policies to companies. Once they have done their research on the company they're pitching to and they better understand the needs of the organization, they can determine if they should be selling policies with a heavy focus on mental health and well-being or not.\n"
   ]
  },
  {
   "cell_type": "markdown",
   "metadata": {},
   "source": [
    "#### -Genesis Taylor"
   ]
  }
 ],
 "metadata": {
  "kernelspec": {
   "display_name": "Python 3",
   "language": "python",
   "name": "python3"
  },
  "language_info": {
   "codemirror_mode": {
    "name": "ipython",
    "version": 3
   },
   "file_extension": ".py",
   "mimetype": "text/x-python",
   "name": "python",
   "nbconvert_exporter": "python",
   "pygments_lexer": "ipython3",
   "version": "3.8.5"
  }
 },
 "nbformat": 4,
 "nbformat_minor": 2
}
