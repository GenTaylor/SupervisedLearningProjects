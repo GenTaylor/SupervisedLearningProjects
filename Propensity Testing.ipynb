{
 "cells": [
  {
   "cell_type": "markdown",
   "metadata": {},
   "source": [
    "Using the data in the link below, attempt to model a customer’s propensity to join our loyalty program: https://bit.ly/2Etq2Ux\n",
    "***\n",
    "Genesis L. Taylor\n"
   ]
  },
  {
   "cell_type": "code",
   "execution_count": 1,
   "metadata": {
    "scrolled": true
   },
   "outputs": [],
   "source": [
    "%matplotlib inline\n",
    "import pandas as pd\n",
    "import numpy as np\n",
    "import seaborn as sns\n",
    "import time\n",
    "import timeit\n",
    "\n",
    "from matplotlib import pyplot as plt\n",
    "from scipy import stats\n",
    "from sklearn.model_selection  import train_test_split\n",
    "from sklearn.tree import DecisionTreeClassifier\n",
    "from sklearn.ensemble import AdaBoostClassifier, BaggingClassifier, ExtraTreesClassifier\n",
    "from sklearn.svm import SVC\n",
    "from sklearn.ensemble import RandomForestClassifier\n",
    "from sklearn.feature_selection import SelectFromModel\n",
    "from sklearn.linear_model import LogisticRegression\n",
    "from sklearn.metrics import classification_report\n",
    "from sklearn.preprocessing import LabelEncoder\n",
    "from sklearn.utils import resample\n",
    "import sklearn.metrics\n",
    "from sklearn.metrics import accuracy_score, f1_score, precision_score, recall_score, log_loss\n",
    "from sklearn.metrics import classification_report, confusion_matrix, roc_auc_score\n",
    "from sklearn.model_selection import cross_val_score, GridSearchCV, train_test_split\n",
    "\n",
    "from sklearn.preprocessing import StandardScaler\n",
    "\n",
    "from xgboost import XGBClassifier\n",
    "from lightgbm import LGBMClassifier\n",
    "\n",
    "#warning ignorer\n",
    "import warnings\n",
    "warnings.filterwarnings(\"ignore\")\n",
    "\n",
    "plt.style.use('dark_background')"
   ]
  },
  {
   "cell_type": "code",
   "execution_count": 2,
   "metadata": {
    "scrolled": true
   },
   "outputs": [],
   "source": [
    "#import dataframe\n",
    "\n",
    "df = pd.read_csv('https://raw.githubusercontent.com/Thinkful-Ed/data-201-resources/master/customers_data.csv')"
   ]
  },
  {
   "cell_type": "code",
   "execution_count": 3,
   "metadata": {
    "scrolled": true
   },
   "outputs": [
    {
     "name": "stdout",
     "output_type": "stream",
     "text": [
      "Index(['Unnamed: 0', 'purch_amt', 'gender', 'card_on_file', 'age',\n",
      "       'days_since_last_purch', 'loyalty'],\n",
      "      dtype='object')\n",
      "(120000, 7)\n"
     ]
    },
    {
     "data": {
      "text/html": [
       "<div>\n",
       "<style scoped>\n",
       "    .dataframe tbody tr th:only-of-type {\n",
       "        vertical-align: middle;\n",
       "    }\n",
       "\n",
       "    .dataframe tbody tr th {\n",
       "        vertical-align: top;\n",
       "    }\n",
       "\n",
       "    .dataframe thead th {\n",
       "        text-align: right;\n",
       "    }\n",
       "</style>\n",
       "<table border=\"1\" class=\"dataframe\">\n",
       "  <thead>\n",
       "    <tr style=\"text-align: right;\">\n",
       "      <th></th>\n",
       "      <th>Unnamed: 0</th>\n",
       "      <th>purch_amt</th>\n",
       "      <th>gender</th>\n",
       "      <th>card_on_file</th>\n",
       "      <th>age</th>\n",
       "      <th>days_since_last_purch</th>\n",
       "      <th>loyalty</th>\n",
       "    </tr>\n",
       "  </thead>\n",
       "  <tbody>\n",
       "    <tr>\n",
       "      <th>0</th>\n",
       "      <td>0</td>\n",
       "      <td>19.58</td>\n",
       "      <td>male</td>\n",
       "      <td>no</td>\n",
       "      <td>31.0</td>\n",
       "      <td>35.0</td>\n",
       "      <td>False</td>\n",
       "    </tr>\n",
       "    <tr>\n",
       "      <th>1</th>\n",
       "      <td>1</td>\n",
       "      <td>65.16</td>\n",
       "      <td>male</td>\n",
       "      <td>yes</td>\n",
       "      <td>23.0</td>\n",
       "      <td>61.0</td>\n",
       "      <td>False</td>\n",
       "    </tr>\n",
       "    <tr>\n",
       "      <th>2</th>\n",
       "      <td>2</td>\n",
       "      <td>40.60</td>\n",
       "      <td>female</td>\n",
       "      <td>no</td>\n",
       "      <td>36.0</td>\n",
       "      <td>49.0</td>\n",
       "      <td>False</td>\n",
       "    </tr>\n",
       "    <tr>\n",
       "      <th>3</th>\n",
       "      <td>3</td>\n",
       "      <td>38.01</td>\n",
       "      <td>male</td>\n",
       "      <td>yes</td>\n",
       "      <td>47.0</td>\n",
       "      <td>57.0</td>\n",
       "      <td>False</td>\n",
       "    </tr>\n",
       "    <tr>\n",
       "      <th>4</th>\n",
       "      <td>4</td>\n",
       "      <td>22.32</td>\n",
       "      <td>female</td>\n",
       "      <td>yes</td>\n",
       "      <td>5.0</td>\n",
       "      <td>39.0</td>\n",
       "      <td>False</td>\n",
       "    </tr>\n",
       "  </tbody>\n",
       "</table>\n",
       "</div>"
      ],
      "text/plain": [
       "   Unnamed: 0  purch_amt  gender card_on_file   age  days_since_last_purch  \\\n",
       "0           0      19.58    male           no  31.0                   35.0   \n",
       "1           1      65.16    male          yes  23.0                   61.0   \n",
       "2           2      40.60  female           no  36.0                   49.0   \n",
       "3           3      38.01    male          yes  47.0                   57.0   \n",
       "4           4      22.32  female          yes   5.0                   39.0   \n",
       "\n",
       "   loyalty  \n",
       "0    False  \n",
       "1    False  \n",
       "2    False  \n",
       "3    False  \n",
       "4    False  "
      ]
     },
     "execution_count": 3,
     "metadata": {},
     "output_type": "execute_result"
    }
   ],
   "source": [
    "#check columns and shape\n",
    "print(df.columns)\n",
    "print(df.shape)\n",
    "df.head()"
   ]
  },
  {
   "cell_type": "code",
   "execution_count": 4,
   "metadata": {
    "scrolled": true
   },
   "outputs": [
    {
     "name": "stdout",
     "output_type": "stream",
     "text": [
      "<class 'pandas.core.frame.DataFrame'>\n",
      "RangeIndex: 120000 entries, 0 to 119999\n",
      "Data columns (total 7 columns):\n",
      "Unnamed: 0               120000 non-null int64\n",
      "purch_amt                120000 non-null float64\n",
      "gender                   120000 non-null object\n",
      "card_on_file             120000 non-null object\n",
      "age                      120000 non-null float64\n",
      "days_since_last_purch    120000 non-null float64\n",
      "loyalty                  120000 non-null bool\n",
      "dtypes: bool(1), float64(3), int64(1), object(2)\n",
      "memory usage: 5.6+ MB\n"
     ]
    }
   ],
   "source": [
    "#check info: dtypes, nulls, etc\n",
    "df.info()"
   ]
  },
  {
   "cell_type": "code",
   "execution_count": 5,
   "metadata": {
    "scrolled": true
   },
   "outputs": [
    {
     "data": {
      "text/html": [
       "<div>\n",
       "<style scoped>\n",
       "    .dataframe tbody tr th:only-of-type {\n",
       "        vertical-align: middle;\n",
       "    }\n",
       "\n",
       "    .dataframe tbody tr th {\n",
       "        vertical-align: top;\n",
       "    }\n",
       "\n",
       "    .dataframe thead th {\n",
       "        text-align: right;\n",
       "    }\n",
       "</style>\n",
       "<table border=\"1\" class=\"dataframe\">\n",
       "  <thead>\n",
       "    <tr style=\"text-align: right;\">\n",
       "      <th></th>\n",
       "      <th>Unnamed: 0</th>\n",
       "      <th>purch_amt</th>\n",
       "      <th>age</th>\n",
       "      <th>days_since_last_purch</th>\n",
       "    </tr>\n",
       "  </thead>\n",
       "  <tbody>\n",
       "    <tr>\n",
       "      <th>count</th>\n",
       "      <td>120000.000000</td>\n",
       "      <td>120000.000000</td>\n",
       "      <td>120000.000000</td>\n",
       "      <td>120000.000000</td>\n",
       "    </tr>\n",
       "    <tr>\n",
       "      <th>mean</th>\n",
       "      <td>59999.500000</td>\n",
       "      <td>44.036234</td>\n",
       "      <td>25.803008</td>\n",
       "      <td>56.605908</td>\n",
       "    </tr>\n",
       "    <tr>\n",
       "      <th>std</th>\n",
       "      <td>34641.160489</td>\n",
       "      <td>20.473148</td>\n",
       "      <td>10.153072</td>\n",
       "      <td>16.422187</td>\n",
       "    </tr>\n",
       "    <tr>\n",
       "      <th>min</th>\n",
       "      <td>0.000000</td>\n",
       "      <td>-43.950000</td>\n",
       "      <td>-22.000000</td>\n",
       "      <td>-9.000000</td>\n",
       "    </tr>\n",
       "    <tr>\n",
       "      <th>25%</th>\n",
       "      <td>29999.750000</td>\n",
       "      <td>30.210000</td>\n",
       "      <td>19.000000</td>\n",
       "      <td>45.000000</td>\n",
       "    </tr>\n",
       "    <tr>\n",
       "      <th>50%</th>\n",
       "      <td>59999.500000</td>\n",
       "      <td>43.970000</td>\n",
       "      <td>26.000000</td>\n",
       "      <td>57.000000</td>\n",
       "    </tr>\n",
       "    <tr>\n",
       "      <th>75%</th>\n",
       "      <td>89999.250000</td>\n",
       "      <td>57.830000</td>\n",
       "      <td>33.000000</td>\n",
       "      <td>68.000000</td>\n",
       "    </tr>\n",
       "    <tr>\n",
       "      <th>max</th>\n",
       "      <td>119999.000000</td>\n",
       "      <td>142.200000</td>\n",
       "      <td>71.000000</td>\n",
       "      <td>125.000000</td>\n",
       "    </tr>\n",
       "  </tbody>\n",
       "</table>\n",
       "</div>"
      ],
      "text/plain": [
       "          Unnamed: 0      purch_amt            age  days_since_last_purch\n",
       "count  120000.000000  120000.000000  120000.000000          120000.000000\n",
       "mean    59999.500000      44.036234      25.803008              56.605908\n",
       "std     34641.160489      20.473148      10.153072              16.422187\n",
       "min         0.000000     -43.950000     -22.000000              -9.000000\n",
       "25%     29999.750000      30.210000      19.000000              45.000000\n",
       "50%     59999.500000      43.970000      26.000000              57.000000\n",
       "75%     89999.250000      57.830000      33.000000              68.000000\n",
       "max    119999.000000     142.200000      71.000000             125.000000"
      ]
     },
     "execution_count": 5,
     "metadata": {},
     "output_type": "execute_result"
    }
   ],
   "source": [
    "df.describe()"
   ]
  },
  {
   "cell_type": "code",
   "execution_count": 6,
   "metadata": {
    "scrolled": true
   },
   "outputs": [
    {
     "data": {
      "text/html": [
       "<div>\n",
       "<style scoped>\n",
       "    .dataframe tbody tr th:only-of-type {\n",
       "        vertical-align: middle;\n",
       "    }\n",
       "\n",
       "    .dataframe tbody tr th {\n",
       "        vertical-align: top;\n",
       "    }\n",
       "\n",
       "    .dataframe thead th {\n",
       "        text-align: right;\n",
       "    }\n",
       "</style>\n",
       "<table border=\"1\" class=\"dataframe\">\n",
       "  <thead>\n",
       "    <tr style=\"text-align: right;\">\n",
       "      <th></th>\n",
       "      <th>count</th>\n",
       "      <th>unique</th>\n",
       "      <th>top</th>\n",
       "      <th>freq</th>\n",
       "    </tr>\n",
       "  </thead>\n",
       "  <tbody>\n",
       "    <tr>\n",
       "      <th>gender</th>\n",
       "      <td>120000</td>\n",
       "      <td>2</td>\n",
       "      <td>male</td>\n",
       "      <td>60181</td>\n",
       "    </tr>\n",
       "    <tr>\n",
       "      <th>card_on_file</th>\n",
       "      <td>120000</td>\n",
       "      <td>2</td>\n",
       "      <td>yes</td>\n",
       "      <td>60087</td>\n",
       "    </tr>\n",
       "  </tbody>\n",
       "</table>\n",
       "</div>"
      ],
      "text/plain": [
       "               count unique   top   freq\n",
       "gender        120000      2  male  60181\n",
       "card_on_file  120000      2   yes  60087"
      ]
     },
     "execution_count": 6,
     "metadata": {},
     "output_type": "execute_result"
    }
   ],
   "source": [
    "#objects\n",
    "df.describe(include=[np.object]).transpose()"
   ]
  },
  {
   "cell_type": "code",
   "execution_count": 7,
   "metadata": {
    "scrolled": true
   },
   "outputs": [
    {
     "data": {
      "text/html": [
       "<div>\n",
       "<style scoped>\n",
       "    .dataframe tbody tr th:only-of-type {\n",
       "        vertical-align: middle;\n",
       "    }\n",
       "\n",
       "    .dataframe tbody tr th {\n",
       "        vertical-align: top;\n",
       "    }\n",
       "\n",
       "    .dataframe thead th {\n",
       "        text-align: right;\n",
       "    }\n",
       "</style>\n",
       "<table border=\"1\" class=\"dataframe\">\n",
       "  <thead>\n",
       "    <tr style=\"text-align: right;\">\n",
       "      <th></th>\n",
       "      <th>count</th>\n",
       "      <th>unique</th>\n",
       "      <th>top</th>\n",
       "      <th>freq</th>\n",
       "    </tr>\n",
       "  </thead>\n",
       "  <tbody>\n",
       "    <tr>\n",
       "      <th>loyalty</th>\n",
       "      <td>120000</td>\n",
       "      <td>2</td>\n",
       "      <td>False</td>\n",
       "      <td>100000</td>\n",
       "    </tr>\n",
       "  </tbody>\n",
       "</table>\n",
       "</div>"
      ],
      "text/plain": [
       "          count unique    top    freq\n",
       "loyalty  120000      2  False  100000"
      ]
     },
     "execution_count": 7,
     "metadata": {},
     "output_type": "execute_result"
    }
   ],
   "source": [
    "#bool\n",
    "df.describe(include=[np.bool]).transpose()"
   ]
  },
  {
   "cell_type": "markdown",
   "metadata": {},
   "source": [
    "### Data Cleaning"
   ]
  },
  {
   "cell_type": "markdown",
   "metadata": {},
   "source": [
    "No null values continue to outliers"
   ]
  },
  {
   "cell_type": "code",
   "execution_count": 8,
   "metadata": {
    "scrolled": true
   },
   "outputs": [
    {
     "data": {
      "text/plain": [
       "Unnamed: 0               120000\n",
       "purch_amt                 11007\n",
       "days_since_last_purch       128\n",
       "age                          86\n",
       "loyalty                       2\n",
       "card_on_file                  2\n",
       "gender                        2\n",
       "dtype: int64"
      ]
     },
     "execution_count": 8,
     "metadata": {},
     "output_type": "execute_result"
    }
   ],
   "source": [
    "#unique values\n",
    "df.nunique().sort_values(ascending=False)"
   ]
  },
  {
   "cell_type": "code",
   "execution_count": 9,
   "metadata": {
    "scrolled": true
   },
   "outputs": [
    {
     "data": {
      "text/plain": [
       "<matplotlib.axes._subplots.AxesSubplot at 0x1a0eadb5b00>"
      ]
     },
     "execution_count": 9,
     "metadata": {},
     "output_type": "execute_result"
    },
    {
     "data": {
      "image/png": "[encoded data removed]",
      "text/plain": [
       "<Figure size 432x288 with 1 Axes>"
      ]
     },
     "metadata": {
      "needs_background": "dark"
     },
     "output_type": "display_data"
    }
   ],
   "source": [
    "df.age.hist()"
   ]
  },
  {
   "cell_type": "markdown",
   "metadata": {},
   "source": [
    "We have some outliers and some negative numbers for age. There are no negative ages so they need to be handled. Also, usually with these loyalty programs, people under the age of 13 are not allowed to join, and people under 18 need parental permission. \n",
    "\n",
    "With this being said, negative ages and children under 13 will be deleted. \n",
    "Under 18 ages will be addressed separately in an age group column."
   ]
  },
  {
   "cell_type": "code",
   "execution_count": 10,
   "metadata": {
    "scrolled": true
   },
   "outputs": [
    {
     "name": "stdout",
     "output_type": "stream",
     "text": [
      "Age Values\n",
      "Average Age:  27.694735000552466\n",
      "Minimum Age:  13.0\n",
      "Maximum Age:  71.0\n",
      "Null values:  0\n"
     ]
    }
   ],
   "source": [
    "df = df[df['age']>=13]\n",
    "print(\"Age Values\")\n",
    "print(\"Average Age: \", df['age'].mean())\n",
    "print(\"Minimum Age: \", df['age'].min())\n",
    "print(\"Maximum Age: \", df['age'].max())\n",
    "print(\"Null values: \", pd.isnull(df['age']).sum())"
   ]
  },
  {
   "cell_type": "code",
   "execution_count": 11,
   "metadata": {
    "scrolled": true
   },
   "outputs": [],
   "source": [
    "#Group the ages into groups\n",
    "df['age_group'] = pd.cut(df['age'],\n",
    "                         [13, 18, 25, 35, 45, 55, 71],\n",
    "                         labels=['Under 18','18-24','25-34','35-44','45-54', '55+'])"
   ]
  },
  {
   "cell_type": "code",
   "execution_count": 12,
   "metadata": {
    "scrolled": true
   },
   "outputs": [
    {
     "data": {
      "text/plain": [
       "55+           211\n",
       "45-54        3019\n",
       "Under 18    14784\n",
       "35-44       17099\n",
       "18-24       30376\n",
       "25-34       41035\n",
       "Name: age_group, dtype: int64"
      ]
     },
     "execution_count": 12,
     "metadata": {},
     "output_type": "execute_result"
    }
   ],
   "source": [
    "df['age_group'].value_counts(ascending=True)"
   ]
  },
  {
   "cell_type": "code",
   "execution_count": 13,
   "metadata": {
    "scrolled": true
   },
   "outputs": [
    {
     "data": {
      "text/plain": [
       "<matplotlib.axes._subplots.AxesSubplot at 0x1a0eb3bc6a0>"
      ]
     },
     "execution_count": 13,
     "metadata": {},
     "output_type": "execute_result"
    },
    {
     "data": {
      "image/png": "[encoded data removed]",
      "text/plain": [
       "<Figure size 432x288 with 1 Axes>"
      ]
     },
     "metadata": {
      "needs_background": "dark"
     },
     "output_type": "display_data"
    }
   ],
   "source": [
    "df['days_since_last_purch'].hist()"
   ]
  },
  {
   "cell_type": "markdown",
   "metadata": {},
   "source": [
    "Days since last purchase also has negative values. Since I am unsure if those negative values indicate returns or anything else, I am going to assume that they are errors. \n",
    " First I am going to get rid of any values less than or equal to zero. From there I will decide if further changes are needed."
   ]
  },
  {
   "cell_type": "code",
   "execution_count": 14,
   "metadata": {
    "scrolled": true
   },
   "outputs": [
    {
     "name": "stdout",
     "output_type": "stream",
     "text": [
      "Days Values\n",
      "Average Days:  56.41451554974353\n",
      "Minimum Days:  0.0\n",
      "Maximum Days:  125.0\n",
      "Null values:  0\n"
     ]
    }
   ],
   "source": [
    "df = df[df['days_since_last_purch']>=0]\n",
    "print(\"Days Values\")\n",
    "print(\"Average Days: \", df['days_since_last_purch'].mean())\n",
    "print(\"Minimum Days: \", df['days_since_last_purch'].min())\n",
    "print(\"Maximum Days: \", df['days_since_last_purch'].max())\n",
    "print(\"Null values: \", pd.isnull(df['days_since_last_purch']).sum())"
   ]
  },
  {
   "cell_type": "code",
   "execution_count": 15,
   "metadata": {
    "scrolled": true
   },
   "outputs": [
    {
     "data": {
      "text/plain": [
       "<matplotlib.axes._subplots.AxesSubplot at 0x1a0ea6a35f8>"
      ]
     },
     "execution_count": 15,
     "metadata": {},
     "output_type": "execute_result"
    },
    {
     "data": {
      "image/png": "[encoded data removed]",
      "text/plain": [
       "<Figure size 432x288 with 1 Axes>"
      ]
     },
     "metadata": {
      "needs_background": "dark"
     },
     "output_type": "display_data"
    }
   ],
   "source": [
    "df['days_since_last_purch'].hist()"
   ]
  },
  {
   "cell_type": "markdown",
   "metadata": {},
   "source": [
    "While there may still be some outliers, they can be understandable depending on the business"
   ]
  },
  {
   "cell_type": "markdown",
   "metadata": {},
   "source": [
    "Purchase amount also has negative values. As with days since last purchase, I am unsure if those negative values indicate returns or anything else, I am going to assume that they are errors. First I am going to get rid of any values less than or equal to zero. From there I will decide if further changes are needed."
   ]
  },
  {
   "cell_type": "code",
   "execution_count": 16,
   "metadata": {
    "scrolled": true
   },
   "outputs": [
    {
     "data": {
      "text/plain": [
       "<matplotlib.axes._subplots.AxesSubplot at 0x1a0eb37dba8>"
      ]
     },
     "execution_count": 16,
     "metadata": {},
     "output_type": "execute_result"
    },
    {
     "data": {
      "image/png": "[encoded data removed]",
      "text/plain": [
       "<Figure size 432x288 with 1 Axes>"
      ]
     },
     "metadata": {
      "needs_background": "dark"
     },
     "output_type": "display_data"
    }
   ],
   "source": [
    "#purch_amt\n",
    "df['purch_amt'].hist()"
   ]
  },
  {
   "cell_type": "code",
   "execution_count": 17,
   "metadata": {
    "scrolled": true
   },
   "outputs": [],
   "source": [
    "df = df[df['purch_amt']>=0]"
   ]
  },
  {
   "cell_type": "code",
   "execution_count": 18,
   "metadata": {
    "scrolled": true
   },
   "outputs": [
    {
     "data": {
      "text/plain": [
       "<matplotlib.axes._subplots.AxesSubplot at 0x1a0eb46de80>"
      ]
     },
     "execution_count": 18,
     "metadata": {},
     "output_type": "execute_result"
    },
    {
     "data": {
      "image/png": "[encoded data removed]",
      "text/plain": [
       "<Figure size 432x288 with 1 Axes>"
      ]
     },
     "metadata": {
      "needs_background": "dark"
     },
     "output_type": "display_data"
    }
   ],
   "source": [
    "#purch_amt\n",
    "df['purch_amt'].hist()"
   ]
  },
  {
   "cell_type": "code",
   "execution_count": 19,
   "metadata": {
    "scrolled": true
   },
   "outputs": [
    {
     "data": {
      "text/plain": [
       "count    106911.000000\n",
       "mean         44.936517\n",
       "std          19.621061\n",
       "min           0.010000\n",
       "25%          31.050000\n",
       "50%          44.510000\n",
       "75%          58.180000\n",
       "max         142.200000\n",
       "Name: purch_amt, dtype: float64"
      ]
     },
     "execution_count": 19,
     "metadata": {},
     "output_type": "execute_result"
    }
   ],
   "source": [
    "df['purch_amt'].describe()"
   ]
  },
  {
   "cell_type": "markdown",
   "metadata": {},
   "source": [
    "There are still some outliers that I am somewhat uncomfortable with, I will handle this using the ideals of quantiles and the interquartile range (IQR)."
   ]
  },
  {
   "cell_type": "code",
   "execution_count": 20,
   "metadata": {
    "scrolled": true
   },
   "outputs": [
    {
     "name": "stdout",
     "output_type": "stream",
     "text": [
      "98.875\n"
     ]
    }
   ],
   "source": [
    "#(determine the min and max cuttoffs for detecting the outlier)\n",
    "q75, q25 = np.percentile(df['purch_amt'].dropna(), [75 ,25])\n",
    "iqr = q75 - q25\n",
    " \n",
    "ecmin = q25 - (iqr*1.5)\n",
    "ecmax = q75 + (iqr*1.5)\n",
    "\n",
    "print(ecmax)"
   ]
  },
  {
   "cell_type": "markdown",
   "metadata": {},
   "source": [
    "Since I'm only interested at this point in the outliers on the \"max\" end of the column, I will only be handling ecmax."
   ]
  },
  {
   "cell_type": "code",
   "execution_count": 21,
   "metadata": {
    "scrolled": true
   },
   "outputs": [],
   "source": [
    "df = df[df['purch_amt']<=ecmax]"
   ]
  },
  {
   "cell_type": "code",
   "execution_count": 22,
   "metadata": {
    "scrolled": true
   },
   "outputs": [
    {
     "data": {
      "text/plain": [
       "<matplotlib.axes._subplots.AxesSubplot at 0x1a0eb560978>"
      ]
     },
     "execution_count": 22,
     "metadata": {},
     "output_type": "execute_result"
    },
    {
     "data": {
      "image/png": "[encoded data removed]",
      "text/plain": [
       "<Figure size 432x288 with 1 Axes>"
      ]
     },
     "metadata": {
      "needs_background": "dark"
     },
     "output_type": "display_data"
    }
   ],
   "source": [
    "df['purch_amt'].hist()"
   ]
  },
  {
   "cell_type": "markdown",
   "metadata": {},
   "source": [
    "Better"
   ]
  },
  {
   "cell_type": "code",
   "execution_count": 23,
   "metadata": {
    "scrolled": true
   },
   "outputs": [
    {
     "name": "stdout",
     "output_type": "stream",
     "text": [
      "(106484, 8)\n",
      "Index(['Unnamed: 0', 'purch_amt', 'gender', 'card_on_file', 'age',\n",
      "       'days_since_last_purch', 'loyalty', 'age_group'],\n",
      "      dtype='object')\n"
     ]
    }
   ],
   "source": [
    "print(df.shape)\n",
    "print(df.columns)"
   ]
  },
  {
   "cell_type": "markdown",
   "metadata": {},
   "source": [
    "Next, I want to create more features, maybe for purchase days and purchase amounts like I did with age."
   ]
  },
  {
   "cell_type": "code",
   "execution_count": 24,
   "metadata": {
    "scrolled": true
   },
   "outputs": [
    {
     "data": {
      "text/plain": [
       "8.0     17500\n",
       "9.0     16693\n",
       "7.0     15571\n",
       "10.0    13290\n",
       "6.0     12137\n",
       "11.0     8565\n",
       "5.0      7940\n",
       "12.0     4580\n",
       "4.0      4505\n",
       "13.0     1957\n",
       "3.0      1941\n",
       "2.0       676\n",
       "14.0      667\n",
       "15.0      201\n",
       "1.0       181\n",
       "16.0       46\n",
       "0.0        27\n",
       "17.0        6\n",
       "18.0        1\n",
       "Name: weeks_since_last_purch, dtype: int64"
      ]
     },
     "execution_count": 24,
     "metadata": {},
     "output_type": "execute_result"
    }
   ],
   "source": [
    "#create features from days since last purchase\n",
    "\n",
    "#week\n",
    "df['weeks_since_last_purch'] = round(df['days_since_last_purch']/7,0)\n",
    "\n",
    "df['weeks_since_last_purch'].value_counts()"
   ]
  },
  {
   "cell_type": "code",
   "execution_count": 25,
   "metadata": {
    "scrolled": true
   },
   "outputs": [
    {
     "data": {
      "text/plain": [
       "2.0    67974\n",
       "1.0    24801\n",
       "3.0    12952\n",
       "0.0      612\n",
       "4.0      145\n",
       "Name: months_since_last_purch, dtype: int64"
      ]
     },
     "execution_count": 25,
     "metadata": {},
     "output_type": "execute_result"
    }
   ],
   "source": [
    "#month (using around 30 days as the month increment)\n",
    "\n",
    "df['months_since_last_purch'] = round(df['days_since_last_purch']/30,0)\n",
    "\n",
    "df['months_since_last_purch'].value_counts()"
   ]
  },
  {
   "cell_type": "code",
   "execution_count": 26,
   "metadata": {
    "scrolled": true
   },
   "outputs": [
    {
     "name": "stdout",
     "output_type": "stream",
     "text": [
      "Purchase Amount Values\n",
      "Average Purchase Amount:  44.69287207467771\n",
      "Minimum Purchase Amount:  0.01\n",
      "Maximum Purchase Amount:  98.81\n",
      "Null values:  0\n"
     ]
    }
   ],
   "source": [
    "print(\"Purchase Amount Values\")\n",
    "print(\"Average Purchase Amount: \", df['purch_amt'].mean())\n",
    "print(\"Minimum Purchase Amount: \", df['purch_amt'].min())\n",
    "print(\"Maximum Purchase Amount: \", df['purch_amt'].max())\n",
    "print(\"Null values: \", pd.isnull(df['purch_amt']).sum())"
   ]
  },
  {
   "cell_type": "code",
   "execution_count": 27,
   "metadata": {
    "scrolled": true
   },
   "outputs": [],
   "source": [
    "#create purchase amount increments\n",
    "#Group the ages into groups\n",
    "df['purch_group'] = pd.cut(df['purch_amt'],\n",
    "                         [0, 25, 50, 75, 100],\n",
    "                         labels=['Under 25','25-50','51-75','75+'])"
   ]
  },
  {
   "cell_type": "code",
   "execution_count": 28,
   "metadata": {
    "scrolled": true
   },
   "outputs": [
    {
     "data": {
      "text/html": [
       "<div>\n",
       "<style scoped>\n",
       "    .dataframe tbody tr th:only-of-type {\n",
       "        vertical-align: middle;\n",
       "    }\n",
       "\n",
       "    .dataframe tbody tr th {\n",
       "        vertical-align: top;\n",
       "    }\n",
       "\n",
       "    .dataframe thead th {\n",
       "        text-align: right;\n",
       "    }\n",
       "</style>\n",
       "<table border=\"1\" class=\"dataframe\">\n",
       "  <thead>\n",
       "    <tr style=\"text-align: right;\">\n",
       "      <th></th>\n",
       "      <th>Unnamed: 0</th>\n",
       "      <th>purch_amt</th>\n",
       "      <th>gender</th>\n",
       "      <th>card_on_file</th>\n",
       "      <th>age</th>\n",
       "      <th>days_since_last_purch</th>\n",
       "      <th>loyalty</th>\n",
       "      <th>age_group</th>\n",
       "      <th>weeks_since_last_purch</th>\n",
       "      <th>months_since_last_purch</th>\n",
       "      <th>purch_group</th>\n",
       "    </tr>\n",
       "  </thead>\n",
       "  <tbody>\n",
       "    <tr>\n",
       "      <th>0</th>\n",
       "      <td>0</td>\n",
       "      <td>19.58</td>\n",
       "      <td>male</td>\n",
       "      <td>no</td>\n",
       "      <td>31.0</td>\n",
       "      <td>35.0</td>\n",
       "      <td>False</td>\n",
       "      <td>25-34</td>\n",
       "      <td>5.0</td>\n",
       "      <td>1.0</td>\n",
       "      <td>Under 25</td>\n",
       "    </tr>\n",
       "    <tr>\n",
       "      <th>1</th>\n",
       "      <td>1</td>\n",
       "      <td>65.16</td>\n",
       "      <td>male</td>\n",
       "      <td>yes</td>\n",
       "      <td>23.0</td>\n",
       "      <td>61.0</td>\n",
       "      <td>False</td>\n",
       "      <td>18-24</td>\n",
       "      <td>9.0</td>\n",
       "      <td>2.0</td>\n",
       "      <td>51-75</td>\n",
       "    </tr>\n",
       "    <tr>\n",
       "      <th>2</th>\n",
       "      <td>2</td>\n",
       "      <td>40.60</td>\n",
       "      <td>female</td>\n",
       "      <td>no</td>\n",
       "      <td>36.0</td>\n",
       "      <td>49.0</td>\n",
       "      <td>False</td>\n",
       "      <td>35-44</td>\n",
       "      <td>7.0</td>\n",
       "      <td>2.0</td>\n",
       "      <td>25-50</td>\n",
       "    </tr>\n",
       "    <tr>\n",
       "      <th>3</th>\n",
       "      <td>3</td>\n",
       "      <td>38.01</td>\n",
       "      <td>male</td>\n",
       "      <td>yes</td>\n",
       "      <td>47.0</td>\n",
       "      <td>57.0</td>\n",
       "      <td>False</td>\n",
       "      <td>45-54</td>\n",
       "      <td>8.0</td>\n",
       "      <td>2.0</td>\n",
       "      <td>25-50</td>\n",
       "    </tr>\n",
       "    <tr>\n",
       "      <th>6</th>\n",
       "      <td>6</td>\n",
       "      <td>43.96</td>\n",
       "      <td>male</td>\n",
       "      <td>yes</td>\n",
       "      <td>36.0</td>\n",
       "      <td>64.0</td>\n",
       "      <td>False</td>\n",
       "      <td>35-44</td>\n",
       "      <td>9.0</td>\n",
       "      <td>2.0</td>\n",
       "      <td>25-50</td>\n",
       "    </tr>\n",
       "    <tr>\n",
       "      <th>7</th>\n",
       "      <td>7</td>\n",
       "      <td>6.09</td>\n",
       "      <td>female</td>\n",
       "      <td>yes</td>\n",
       "      <td>36.0</td>\n",
       "      <td>67.0</td>\n",
       "      <td>False</td>\n",
       "      <td>35-44</td>\n",
       "      <td>10.0</td>\n",
       "      <td>2.0</td>\n",
       "      <td>Under 25</td>\n",
       "    </tr>\n",
       "    <tr>\n",
       "      <th>8</th>\n",
       "      <td>8</td>\n",
       "      <td>25.89</td>\n",
       "      <td>female</td>\n",
       "      <td>no</td>\n",
       "      <td>28.0</td>\n",
       "      <td>53.0</td>\n",
       "      <td>False</td>\n",
       "      <td>25-34</td>\n",
       "      <td>8.0</td>\n",
       "      <td>2.0</td>\n",
       "      <td>25-50</td>\n",
       "    </tr>\n",
       "    <tr>\n",
       "      <th>9</th>\n",
       "      <td>9</td>\n",
       "      <td>93.63</td>\n",
       "      <td>female</td>\n",
       "      <td>no</td>\n",
       "      <td>40.0</td>\n",
       "      <td>47.0</td>\n",
       "      <td>True</td>\n",
       "      <td>35-44</td>\n",
       "      <td>7.0</td>\n",
       "      <td>2.0</td>\n",
       "      <td>75+</td>\n",
       "    </tr>\n",
       "    <tr>\n",
       "      <th>11</th>\n",
       "      <td>11</td>\n",
       "      <td>28.05</td>\n",
       "      <td>male</td>\n",
       "      <td>yes</td>\n",
       "      <td>14.0</td>\n",
       "      <td>46.0</td>\n",
       "      <td>False</td>\n",
       "      <td>Under 18</td>\n",
       "      <td>7.0</td>\n",
       "      <td>2.0</td>\n",
       "      <td>25-50</td>\n",
       "    </tr>\n",
       "    <tr>\n",
       "      <th>12</th>\n",
       "      <td>12</td>\n",
       "      <td>60.62</td>\n",
       "      <td>male</td>\n",
       "      <td>yes</td>\n",
       "      <td>16.0</td>\n",
       "      <td>58.0</td>\n",
       "      <td>False</td>\n",
       "      <td>Under 18</td>\n",
       "      <td>8.0</td>\n",
       "      <td>2.0</td>\n",
       "      <td>51-75</td>\n",
       "    </tr>\n",
       "    <tr>\n",
       "      <th>13</th>\n",
       "      <td>13</td>\n",
       "      <td>64.91</td>\n",
       "      <td>male</td>\n",
       "      <td>yes</td>\n",
       "      <td>22.0</td>\n",
       "      <td>59.0</td>\n",
       "      <td>True</td>\n",
       "      <td>18-24</td>\n",
       "      <td>8.0</td>\n",
       "      <td>2.0</td>\n",
       "      <td>51-75</td>\n",
       "    </tr>\n",
       "    <tr>\n",
       "      <th>14</th>\n",
       "      <td>14</td>\n",
       "      <td>56.84</td>\n",
       "      <td>male</td>\n",
       "      <td>yes</td>\n",
       "      <td>38.0</td>\n",
       "      <td>81.0</td>\n",
       "      <td>False</td>\n",
       "      <td>35-44</td>\n",
       "      <td>12.0</td>\n",
       "      <td>3.0</td>\n",
       "      <td>51-75</td>\n",
       "    </tr>\n",
       "    <tr>\n",
       "      <th>15</th>\n",
       "      <td>15</td>\n",
       "      <td>65.81</td>\n",
       "      <td>female</td>\n",
       "      <td>no</td>\n",
       "      <td>37.0</td>\n",
       "      <td>60.0</td>\n",
       "      <td>False</td>\n",
       "      <td>35-44</td>\n",
       "      <td>9.0</td>\n",
       "      <td>2.0</td>\n",
       "      <td>51-75</td>\n",
       "    </tr>\n",
       "    <tr>\n",
       "      <th>16</th>\n",
       "      <td>16</td>\n",
       "      <td>47.69</td>\n",
       "      <td>male</td>\n",
       "      <td>yes</td>\n",
       "      <td>43.0</td>\n",
       "      <td>72.0</td>\n",
       "      <td>False</td>\n",
       "      <td>35-44</td>\n",
       "      <td>10.0</td>\n",
       "      <td>2.0</td>\n",
       "      <td>25-50</td>\n",
       "    </tr>\n",
       "    <tr>\n",
       "      <th>17</th>\n",
       "      <td>17</td>\n",
       "      <td>42.50</td>\n",
       "      <td>male</td>\n",
       "      <td>no</td>\n",
       "      <td>37.0</td>\n",
       "      <td>64.0</td>\n",
       "      <td>False</td>\n",
       "      <td>35-44</td>\n",
       "      <td>9.0</td>\n",
       "      <td>2.0</td>\n",
       "      <td>25-50</td>\n",
       "    </tr>\n",
       "    <tr>\n",
       "      <th>18</th>\n",
       "      <td>18</td>\n",
       "      <td>37.39</td>\n",
       "      <td>male</td>\n",
       "      <td>no</td>\n",
       "      <td>23.0</td>\n",
       "      <td>65.0</td>\n",
       "      <td>False</td>\n",
       "      <td>18-24</td>\n",
       "      <td>9.0</td>\n",
       "      <td>2.0</td>\n",
       "      <td>25-50</td>\n",
       "    </tr>\n",
       "    <tr>\n",
       "      <th>21</th>\n",
       "      <td>21</td>\n",
       "      <td>58.94</td>\n",
       "      <td>male</td>\n",
       "      <td>no</td>\n",
       "      <td>29.0</td>\n",
       "      <td>64.0</td>\n",
       "      <td>False</td>\n",
       "      <td>25-34</td>\n",
       "      <td>9.0</td>\n",
       "      <td>2.0</td>\n",
       "      <td>51-75</td>\n",
       "    </tr>\n",
       "    <tr>\n",
       "      <th>22</th>\n",
       "      <td>22</td>\n",
       "      <td>63.49</td>\n",
       "      <td>female</td>\n",
       "      <td>yes</td>\n",
       "      <td>33.0</td>\n",
       "      <td>57.0</td>\n",
       "      <td>False</td>\n",
       "      <td>25-34</td>\n",
       "      <td>8.0</td>\n",
       "      <td>2.0</td>\n",
       "      <td>51-75</td>\n",
       "    </tr>\n",
       "    <tr>\n",
       "      <th>23</th>\n",
       "      <td>23</td>\n",
       "      <td>11.55</td>\n",
       "      <td>male</td>\n",
       "      <td>no</td>\n",
       "      <td>21.0</td>\n",
       "      <td>53.0</td>\n",
       "      <td>True</td>\n",
       "      <td>18-24</td>\n",
       "      <td>8.0</td>\n",
       "      <td>2.0</td>\n",
       "      <td>Under 25</td>\n",
       "    </tr>\n",
       "    <tr>\n",
       "      <th>24</th>\n",
       "      <td>24</td>\n",
       "      <td>54.61</td>\n",
       "      <td>male</td>\n",
       "      <td>no</td>\n",
       "      <td>37.0</td>\n",
       "      <td>65.0</td>\n",
       "      <td>False</td>\n",
       "      <td>35-44</td>\n",
       "      <td>9.0</td>\n",
       "      <td>2.0</td>\n",
       "      <td>51-75</td>\n",
       "    </tr>\n",
       "  </tbody>\n",
       "</table>\n",
       "</div>"
      ],
      "text/plain": [
       "    Unnamed: 0  purch_amt  gender card_on_file   age  days_since_last_purch  \\\n",
       "0            0      19.58    male           no  31.0                   35.0   \n",
       "1            1      65.16    male          yes  23.0                   61.0   \n",
       "2            2      40.60  female           no  36.0                   49.0   \n",
       "3            3      38.01    male          yes  47.0                   57.0   \n",
       "6            6      43.96    male          yes  36.0                   64.0   \n",
       "7            7       6.09  female          yes  36.0                   67.0   \n",
       "8            8      25.89  female           no  28.0                   53.0   \n",
       "9            9      93.63  female           no  40.0                   47.0   \n",
       "11          11      28.05    male          yes  14.0                   46.0   \n",
       "12          12      60.62    male          yes  16.0                   58.0   \n",
       "13          13      64.91    male          yes  22.0                   59.0   \n",
       "14          14      56.84    male          yes  38.0                   81.0   \n",
       "15          15      65.81  female           no  37.0                   60.0   \n",
       "16          16      47.69    male          yes  43.0                   72.0   \n",
       "17          17      42.50    male           no  37.0                   64.0   \n",
       "18          18      37.39    male           no  23.0                   65.0   \n",
       "21          21      58.94    male           no  29.0                   64.0   \n",
       "22          22      63.49  female          yes  33.0                   57.0   \n",
       "23          23      11.55    male           no  21.0                   53.0   \n",
       "24          24      54.61    male           no  37.0                   65.0   \n",
       "\n",
       "    loyalty age_group  weeks_since_last_purch  months_since_last_purch  \\\n",
       "0     False     25-34                     5.0                      1.0   \n",
       "1     False     18-24                     9.0                      2.0   \n",
       "2     False     35-44                     7.0                      2.0   \n",
       "3     False     45-54                     8.0                      2.0   \n",
       "6     False     35-44                     9.0                      2.0   \n",
       "7     False     35-44                    10.0                      2.0   \n",
       "8     False     25-34                     8.0                      2.0   \n",
       "9      True     35-44                     7.0                      2.0   \n",
       "11    False  Under 18                     7.0                      2.0   \n",
       "12    False  Under 18                     8.0                      2.0   \n",
       "13     True     18-24                     8.0                      2.0   \n",
       "14    False     35-44                    12.0                      3.0   \n",
       "15    False     35-44                     9.0                      2.0   \n",
       "16    False     35-44                    10.0                      2.0   \n",
       "17    False     35-44                     9.0                      2.0   \n",
       "18    False     18-24                     9.0                      2.0   \n",
       "21    False     25-34                     9.0                      2.0   \n",
       "22    False     25-34                     8.0                      2.0   \n",
       "23     True     18-24                     8.0                      2.0   \n",
       "24    False     35-44                     9.0                      2.0   \n",
       "\n",
       "   purch_group  \n",
       "0     Under 25  \n",
       "1        51-75  \n",
       "2        25-50  \n",
       "3        25-50  \n",
       "6        25-50  \n",
       "7     Under 25  \n",
       "8        25-50  \n",
       "9          75+  \n",
       "11       25-50  \n",
       "12       51-75  \n",
       "13       51-75  \n",
       "14       51-75  \n",
       "15       51-75  \n",
       "16       25-50  \n",
       "17       25-50  \n",
       "18       25-50  \n",
       "21       51-75  \n",
       "22       51-75  \n",
       "23    Under 25  \n",
       "24       51-75  "
      ]
     },
     "execution_count": 28,
     "metadata": {},
     "output_type": "execute_result"
    }
   ],
   "source": [
    "df.head(20)"
   ]
  },
  {
   "cell_type": "code",
   "execution_count": 29,
   "metadata": {
    "scrolled": true
   },
   "outputs": [
    {
     "data": {
      "text/plain": [
       "75+          6758\n",
       "Under 25    17377\n",
       "51-75       34822\n",
       "25-50       47527\n",
       "Name: purch_group, dtype: int64"
      ]
     },
     "execution_count": 29,
     "metadata": {},
     "output_type": "execute_result"
    }
   ],
   "source": [
    "df['purch_group'].value_counts(ascending=True)"
   ]
  },
  {
   "cell_type": "code",
   "execution_count": 30,
   "metadata": {
    "scrolled": true
   },
   "outputs": [],
   "source": [
    "#Set Unnamed: 0' to index\n",
    "df.set_index('Unnamed: 0', inplace=True)"
   ]
  },
  {
   "cell_type": "code",
   "execution_count": 31,
   "metadata": {
    "scrolled": true
   },
   "outputs": [
    {
     "data": {
      "image/png": "[encoded data removed]",
      "text/plain": [
       "<Figure size 864x432 with 1 Axes>"
      ]
     },
     "metadata": {
      "needs_background": "dark"
     },
     "output_type": "display_data"
    },
    {
     "name": "stdout",
     "output_type": "stream",
     "text": [
      "True     18818\n",
      "False    87666\n",
      "Name: loyalty, dtype: int64\n"
     ]
    }
   ],
   "source": [
    "#Plot loyalty to get an idea of the ratio\n",
    "plt.figure(figsize=(12,6))\n",
    "ax=sns.countplot(x=\"loyalty\", palette=\"magma\", data=df)\n",
    "\n",
    "plt.style.use('dark_background')\n",
    "plt.title(\"Loyalty\",fontsize=25,fontweight=\"bold\")\n",
    "plt.xlabel(\"\", fontsize=15, fontweight=\"bold\")\n",
    "plt.ylabel(\"\\nNumber of Customers\\n\", fontsize=15, fontweight=\"bold\")\n",
    "plt.xticks(fontsize=18)\n",
    "plt.yticks(fontsize=12)\n",
    "sns.despine(top=True, right=True, left=True, bottom=False)\n",
    "plt.show()\n",
    "print(df['loyalty'].value_counts(ascending=True))"
   ]
  },
  {
   "cell_type": "code",
   "execution_count": 32,
   "metadata": {
    "scrolled": true
   },
   "outputs": [
    {
     "data": {
      "text/plain": [
       "purch_amt                   float64\n",
       "gender                       object\n",
       "card_on_file                 object\n",
       "age                         float64\n",
       "days_since_last_purch       float64\n",
       "loyalty                        bool\n",
       "age_group                  category\n",
       "weeks_since_last_purch      float64\n",
       "months_since_last_purch     float64\n",
       "purch_group                category\n",
       "dtype: object"
      ]
     },
     "execution_count": 32,
     "metadata": {},
     "output_type": "execute_result"
    }
   ],
   "source": [
    "df.dtypes"
   ]
  },
  {
   "cell_type": "code",
   "execution_count": 33,
   "metadata": {
    "scrolled": true
   },
   "outputs": [
    {
     "data": {
      "text/plain": [
       "purch_amt                  float64\n",
       "gender                      object\n",
       "card_on_file                object\n",
       "age                        float64\n",
       "days_since_last_purch      float64\n",
       "loyalty                       bool\n",
       "age_group                   object\n",
       "weeks_since_last_purch     float64\n",
       "months_since_last_purch    float64\n",
       "purch_group                 object\n",
       "dtype: object"
      ]
     },
     "execution_count": 33,
     "metadata": {},
     "output_type": "execute_result"
    }
   ],
   "source": [
    "df['age_group'] = df['age_group'].astype(str)\n",
    "df['purch_group'] = df['purch_group'].astype(str)\n",
    "df.dtypes"
   ]
  },
  {
   "cell_type": "code",
   "execution_count": 34,
   "metadata": {
    "scrolled": true
   },
   "outputs": [
    {
     "name": "stdout",
     "output_type": "stream",
     "text": [
      "(106484, 10)\n",
      "(106484, 5)\n",
      "(106484, 5)\n"
     ]
    }
   ],
   "source": [
    "#separate the data into object vs nonobjects\n",
    "notif=df.select_dtypes(exclude=['int','float','int64'])\n",
    "intfldtypes = df.select_dtypes(include=['int','float','int64'])\n",
    "print(df.shape)\n",
    "print(notif.shape)\n",
    "print(intfldtypes.shape)"
   ]
  },
  {
   "cell_type": "code",
   "execution_count": 35,
   "metadata": {
    "scrolled": true
   },
   "outputs": [
    {
     "name": "stdout",
     "output_type": "stream",
     "text": [
      "(106484, 10)\n"
     ]
    }
   ],
   "source": [
    "#label encode objects\n",
    "obj_le= notif.apply(LabelEncoder().fit_transform)\n",
    "#re-add with non-objects\n",
    "df_ml= pd.concat([obj_le,intfldtypes], axis=1, sort=False)\n",
    "#check shape\n",
    "print(df_ml.shape)"
   ]
  },
  {
   "cell_type": "code",
   "execution_count": 36,
   "metadata": {
    "scrolled": true
   },
   "outputs": [
    {
     "data": {
      "text/plain": [
       "gender                     0.002016\n",
       "card_on_file               0.000061\n",
       "loyalty                    1.000000\n",
       "age_group                 -0.016306\n",
       "purch_group               -0.005534\n",
       "purch_amt                  0.211915\n",
       "age                        0.169726\n",
       "days_since_last_purch     -0.465956\n",
       "weeks_since_last_purch    -0.462277\n",
       "months_since_last_purch   -0.418968\n",
       "Name: loyalty, dtype: float64"
      ]
     },
     "execution_count": 36,
     "metadata": {},
     "output_type": "execute_result"
    }
   ],
   "source": [
    "#check correlation\n",
    "df_ml.corr()['loyalty']"
   ]
  },
  {
   "cell_type": "code",
   "execution_count": 37,
   "metadata": {
    "scrolled": true
   },
   "outputs": [],
   "source": [
    "#set X and y\n",
    "X=df_ml.drop(['loyalty'],axis=1)\n",
    "y=df_ml['loyalty']"
   ]
  },
  {
   "cell_type": "code",
   "execution_count": 38,
   "metadata": {
    "scrolled": true
   },
   "outputs": [],
   "source": [
    "# setting up testing and training sets\n",
    "X_train, X_test, y_train, y_test = train_test_split(X, y, test_size=0.25, \n",
    "                                                    random_state=27)"
   ]
  },
  {
   "cell_type": "code",
   "execution_count": 39,
   "metadata": {
    "scrolled": true
   },
   "outputs": [],
   "source": [
    "# concatenate our training data back together\n",
    "X = pd.concat([X_train, y_train], axis=1)"
   ]
  },
  {
   "cell_type": "code",
   "execution_count": 40,
   "metadata": {
    "scrolled": true
   },
   "outputs": [],
   "source": [
    "# separate minority and majority classes\n",
    "not_loyalty = X[X.loyalty==0]\n",
    "loyalty = X[X.loyalty==1]"
   ]
  },
  {
   "cell_type": "code",
   "execution_count": 41,
   "metadata": {
    "scrolled": true
   },
   "outputs": [],
   "source": [
    "# decrease majority\n",
    "not_loyalty_decreased = resample(not_loyalty,\n",
    "                          replace=True, # sample with replacement\n",
    "                          n_samples=len(loyalty), # match number in majority class\n",
    "                          random_state=27) # reproducible results"
   ]
  },
  {
   "cell_type": "code",
   "execution_count": 42,
   "metadata": {
    "scrolled": true
   },
   "outputs": [],
   "source": [
    "# combine majority and loyalty_increased minority\n",
    "newdf = pd.concat([loyalty, not_loyalty_decreased])"
   ]
  },
  {
   "cell_type": "code",
   "execution_count": 43,
   "metadata": {
    "scrolled": true
   },
   "outputs": [
    {
     "data": {
      "text/plain": [
       "1    14146\n",
       "0    14146\n",
       "Name: loyalty, dtype: int64"
      ]
     },
     "execution_count": 43,
     "metadata": {},
     "output_type": "execute_result"
    }
   ],
   "source": [
    "#recheck values of lyalty\n",
    "newdf.loyalty.value_counts()"
   ]
  },
  {
   "cell_type": "code",
   "execution_count": 44,
   "metadata": {
    "scrolled": true
   },
   "outputs": [],
   "source": [
    "#set new X and y training data\n",
    "X_train = newdf.drop('loyalty', axis=1)\n",
    "y_train = newdf['loyalty']\n",
    "\n",
    "scaler = StandardScaler()\n",
    "\n",
    "#fit training set\n",
    "scaler.fit(X_train)\n",
    "\n",
    "# Apply transform to both the training set and the test set\n",
    "X_train = scaler.transform(X_train)\n",
    "X_test = scaler.transform(X_test)"
   ]
  },
  {
   "cell_type": "code",
   "execution_count": 45,
   "metadata": {
    "scrolled": true
   },
   "outputs": [],
   "source": [
    "#confusion matrix plot function\n",
    "def cm_plot(var):\n",
    "    plt.figure(figsize=(15,5))\n",
    "    plt.clf()\n",
    "    plt.imshow(var, interpolation='nearest', cmap='viridis')\n",
    "    classNames = ['No Loyalty','Loyalty']\n",
    "    plt.title('Confusion Matrix')\n",
    "    plt.ylabel('Actual\\n')\n",
    "    plt.xlabel('Predicted\\n')\n",
    "    tick_marks = np.arange(len(classNames))\n",
    "    plt.xticks(tick_marks, classNames)\n",
    "    plt.yticks(tick_marks, classNames)\n",
    "    s = [['TN','FP'], ['FN', 'TP']]\n",
    "    \n",
    "    for i in range(2):\n",
    "        for j in range(2):\n",
    "            plt.text(j,i, str(s[i][j])+\"=\"+str(var[i][j]),horizontalalignment='center')\n",
    "    plt.show()"
   ]
  },
  {
   "cell_type": "code",
   "execution_count": 46,
   "metadata": {
    "scrolled": false
   },
   "outputs": [
    {
     "name": "stdout",
     "output_type": "stream",
     "text": [
      "\n",
      "\n",
      "\n",
      "\n",
      "SVC Results:\n",
      "~~~~~~~~~~~~~~~~~~~~~~~~~~~~~~~~~~~~~~~~\n",
      "Accuracy: 78.6334%\n",
      "Cross validation scores: 0.7891277814205292\n",
      "Log Loss: 0.4959796797258027\n"
     ]
    },
    {
     "data": {
      "image/png": "[encoded data removed]",
      "text/plain": [
       "<Figure size 1080x360 with 1 Axes>"
      ]
     },
     "metadata": {},
     "output_type": "display_data"
    },
    {
     "name": "stdout",
     "output_type": "stream",
     "text": [
      "\n",
      "\n",
      "\n",
      "\n",
      "RandomForestClassifier Results:\n",
      "~~~~~~~~~~~~~~~~~~~~~~~~~~~~~~~~~~~~~~~~\n",
      "Accuracy: 75.2789%\n",
      "Cross validation scores: 0.7815989264826823\n",
      "Log Loss: 0.6120240784338765\n"
     ]
    },
    {
     "data": {
      "image/png": "[encoded data removed]",
      "text/plain": [
       "<Figure size 1080x360 with 1 Axes>"
      ]
     },
     "metadata": {},
     "output_type": "display_data"
    },
    {
     "name": "stdout",
     "output_type": "stream",
     "text": [
      "\n",
      "\n",
      "\n",
      "\n",
      "AdaBoostClassifier Results:\n",
      "~~~~~~~~~~~~~~~~~~~~~~~~~~~~~~~~~~~~~~~~\n",
      "Accuracy: 77.5741%\n",
      "Cross validation scores: 0.7901878970111751\n",
      "Log Loss: 0.6814076969143326\n"
     ]
    },
    {
     "data": {
      "image/png": "[encoded data removed]",
      "text/plain": [
       "<Figure size 1080x360 with 1 Axes>"
      ]
     },
     "metadata": {},
     "output_type": "display_data"
    },
    {
     "name": "stdout",
     "output_type": "stream",
     "text": [
      "\n",
      "\n",
      "\n",
      "\n",
      "GradientBoostingClassifier Results:\n",
      "~~~~~~~~~~~~~~~~~~~~~~~~~~~~~~~~~~~~~~~~\n",
      "Accuracy: 77.9497%\n",
      "Cross validation scores: 0.7928033924658308\n",
      "Log Loss: 0.45222127833781683\n"
     ]
    },
    {
     "data": {
      "image/png": "[encoded data removed]",
      "text/plain": [
       "<Figure size 1080x360 with 1 Axes>"
      ]
     },
     "metadata": {},
     "output_type": "display_data"
    },
    {
     "name": "stdout",
     "output_type": "stream",
     "text": [
      "\n",
      "\n",
      "\n",
      "\n",
      "XGBClassifier Results:\n",
      "~~~~~~~~~~~~~~~~~~~~~~~~~~~~~~~~~~~~~~~~\n",
      "Accuracy: 77.9310%\n",
      "Cross validation scores: 0.7935103335710866\n",
      "Log Loss: 0.451735243909281\n"
     ]
    },
    {
     "data": {
      "image/png": "[encoded data removed]",
      "text/plain": [
       "<Figure size 1080x360 with 1 Axes>"
      ]
     },
     "metadata": {},
     "output_type": "display_data"
    },
    {
     "name": "stdout",
     "output_type": "stream",
     "text": [
      "\n",
      "\n",
      "\n",
      "\n",
      "ExtraTreesClassifier Results:\n",
      "~~~~~~~~~~~~~~~~~~~~~~~~~~~~~~~~~~~~~~~~\n",
      "Accuracy: 73.5848%\n",
      "Cross validation scores: 0.7698995485087057\n",
      "Log Loss: 0.9271580230834471\n"
     ]
    },
    {
     "data": {
      "image/png": "[encoded data removed]",
      "text/plain": [
       "<Figure size 1080x360 with 1 Axes>"
      ]
     },
     "metadata": {},
     "output_type": "display_data"
    },
    {
     "name": "stdout",
     "output_type": "stream",
     "text": [
      "\n",
      "\n",
      "\n",
      "\n",
      "LGBMClassifier Results:\n",
      "~~~~~~~~~~~~~~~~~~~~~~~~~~~~~~~~~~~~~~~~\n",
      "Accuracy: 77.8483%\n",
      "Cross validation scores: 0.791919897847059\n",
      "Log Loss: 0.4552361993730162\n"
     ]
    },
    {
     "data": {
      "image/png": "[encoded data removed]",
      "text/plain": [
       "<Figure size 1080x360 with 1 Axes>"
      ]
     },
     "metadata": {},
     "output_type": "display_data"
    },
    {
     "name": "stdout",
     "output_type": "stream",
     "text": [
      "****************************************\n"
     ]
    }
   ],
   "source": [
    "#Try modeling using  different classification models\n",
    "classifiers = [\n",
    "    SVC(probability=True, random_state=42),\n",
    "    #DecisionTreeClassifier(), worst performer so I commented out for plotting\n",
    "    RandomForestClassifier(random_state=42, n_estimators=100),\n",
    "    AdaBoostClassifier(random_state=42, n_estimators=100),\n",
    "    GradientBoostingClassifier(random_state=42, n_estimators=100),\n",
    "    XGBClassifier(random_state=42, n_estimators=100),\n",
    "    ExtraTreesClassifier(random_state=42, n_estimators=100),\n",
    "    LGBMClassifier(random_state=42, n_estimators=100)]\n",
    "\n",
    "#putting results in df\n",
    "res_cols=[\"Classifier\", \"Accuracy\", \"Log Loss\", \"Cross Val\", \"Recall\", \"Roc Auc\",\"F1\", \n",
    "          \"False Positive Rate\", \"Error Rate\"]\n",
    "results = pd.DataFrame(columns=res_cols)\n",
    "\n",
    "for clf in classifiers:\n",
    "    clf.fit(X_train, y_train)\n",
    "    name = clf.__class__.__name__\n",
    "    \n",
    "    print(\"\\n\"*3)\n",
    "    print(name,\"Results:\")\n",
    "       \n",
    "    print('~'*40)\n",
    "    y_pred = clf.predict(X_test)\n",
    "    acc = accuracy_score(y_test, y_pred)\n",
    "    print(\"Accuracy: {:.4%}\".format(acc))\n",
    "    \n",
    "    cv= np.mean(cross_val_score(clf, X_train, y_train, cv=3))\n",
    "    print(\"Cross validation scores:\",cv)\n",
    "    \n",
    "    \n",
    "    train_predictions = clf.predict_proba(X_test)\n",
    "    logloss = log_loss(y_test, train_predictions)\n",
    "    print(\"Log Loss: {}\".format(logloss))\n",
    "    \n",
    "    cm = confusion_matrix(y_test, y_pred)\n",
    "    \n",
    "    cm_plot(cm)\n",
    "    \n",
    "    #FPR and Error Rate setup\n",
    "    tn, fp, fn, tp = confusion_matrix(y_test,y_pred).ravel()\n",
    "    \n",
    "    fpr = fp/(tn+fp)\n",
    "    ers = 1-acc\n",
    "    rec= recall_score(y_test, y_pred)\n",
    "    roc=roc_auc_score(y_test, y_pred)\n",
    "    f1s=f1_score(y_test, y_pred)\n",
    "    results_final = pd.DataFrame([[name, round(acc*100,3), round(logloss,3), \n",
    "                                   round(cv*100,3), round(rec*100,3), round(roc*100,3),\n",
    "                                   round(f1s*100,3),round(fpr*100,3),round(ers*100,3)]],\n",
    "                                 columns=res_cols)\n",
    "    results = results.append(results_final)\n",
    "    \n",
    "print(\"*\"*40)"
   ]
  },
  {
   "cell_type": "code",
   "execution_count": 47,
   "metadata": {
    "scrolled": true
   },
   "outputs": [
    {
     "name": "stdout",
     "output_type": "stream",
     "text": [
      "Shape (7, 9)\n"
     ]
    },
    {
     "data": {
      "text/html": [
       "<div>\n",
       "<style scoped>\n",
       "    .dataframe tbody tr th:only-of-type {\n",
       "        vertical-align: middle;\n",
       "    }\n",
       "\n",
       "    .dataframe tbody tr th {\n",
       "        vertical-align: top;\n",
       "    }\n",
       "\n",
       "    .dataframe thead th {\n",
       "        text-align: right;\n",
       "    }\n",
       "</style>\n",
       "<table border=\"1\" class=\"dataframe\">\n",
       "  <thead>\n",
       "    <tr style=\"text-align: right;\">\n",
       "      <th></th>\n",
       "      <th>Classifier</th>\n",
       "      <th>Accuracy</th>\n",
       "      <th>Log Loss</th>\n",
       "      <th>Cross Val</th>\n",
       "      <th>Recall</th>\n",
       "      <th>Roc Auc</th>\n",
       "      <th>F1</th>\n",
       "      <th>False Positive Rate</th>\n",
       "      <th>Error Rate</th>\n",
       "    </tr>\n",
       "  </thead>\n",
       "  <tbody>\n",
       "    <tr>\n",
       "      <th>0</th>\n",
       "      <td>SVC</td>\n",
       "      <td>78.633</td>\n",
       "      <td>0.496</td>\n",
       "      <td>78.913</td>\n",
       "      <td>77.911</td>\n",
       "      <td>78.349</td>\n",
       "      <td>56.138</td>\n",
       "      <td>21.213</td>\n",
       "      <td>21.367</td>\n",
       "    </tr>\n",
       "    <tr>\n",
       "      <th>0</th>\n",
       "      <td>RandomForestClassifier</td>\n",
       "      <td>75.279</td>\n",
       "      <td>0.612</td>\n",
       "      <td>78.160</td>\n",
       "      <td>78.981</td>\n",
       "      <td>76.736</td>\n",
       "      <td>52.862</td>\n",
       "      <td>25.509</td>\n",
       "      <td>24.721</td>\n",
       "    </tr>\n",
       "    <tr>\n",
       "      <th>0</th>\n",
       "      <td>AdaBoostClassifier</td>\n",
       "      <td>77.574</td>\n",
       "      <td>0.681</td>\n",
       "      <td>79.019</td>\n",
       "      <td>81.314</td>\n",
       "      <td>79.046</td>\n",
       "      <td>55.999</td>\n",
       "      <td>23.222</td>\n",
       "      <td>22.426</td>\n",
       "    </tr>\n",
       "    <tr>\n",
       "      <th>0</th>\n",
       "      <td>GradientBoostingClassifier</td>\n",
       "      <td>77.950</td>\n",
       "      <td>0.452</td>\n",
       "      <td>79.280</td>\n",
       "      <td>81.057</td>\n",
       "      <td>79.173</td>\n",
       "      <td>56.337</td>\n",
       "      <td>22.712</td>\n",
       "      <td>22.050</td>\n",
       "    </tr>\n",
       "    <tr>\n",
       "      <th>0</th>\n",
       "      <td>XGBClassifier</td>\n",
       "      <td>77.931</td>\n",
       "      <td>0.452</td>\n",
       "      <td>79.351</td>\n",
       "      <td>81.271</td>\n",
       "      <td>79.246</td>\n",
       "      <td>56.381</td>\n",
       "      <td>22.780</td>\n",
       "      <td>22.069</td>\n",
       "    </tr>\n",
       "    <tr>\n",
       "      <th>0</th>\n",
       "      <td>ExtraTreesClassifier</td>\n",
       "      <td>73.585</td>\n",
       "      <td>0.927</td>\n",
       "      <td>76.990</td>\n",
       "      <td>77.761</td>\n",
       "      <td>75.228</td>\n",
       "      <td>50.818</td>\n",
       "      <td>27.304</td>\n",
       "      <td>26.415</td>\n",
       "    </tr>\n",
       "    <tr>\n",
       "      <th>0</th>\n",
       "      <td>LGBMClassifier</td>\n",
       "      <td>77.848</td>\n",
       "      <td>0.455</td>\n",
       "      <td>79.192</td>\n",
       "      <td>80.972</td>\n",
       "      <td>79.078</td>\n",
       "      <td>56.198</td>\n",
       "      <td>22.817</td>\n",
       "      <td>22.152</td>\n",
       "    </tr>\n",
       "  </tbody>\n",
       "</table>\n",
       "</div>"
      ],
      "text/plain": [
       "                   Classifier  Accuracy  Log Loss  Cross Val  Recall  Roc Auc  \\\n",
       "0                         SVC    78.633     0.496     78.913  77.911   78.349   \n",
       "0      RandomForestClassifier    75.279     0.612     78.160  78.981   76.736   \n",
       "0          AdaBoostClassifier    77.574     0.681     79.019  81.314   79.046   \n",
       "0  GradientBoostingClassifier    77.950     0.452     79.280  81.057   79.173   \n",
       "0               XGBClassifier    77.931     0.452     79.351  81.271   79.246   \n",
       "0        ExtraTreesClassifier    73.585     0.927     76.990  77.761   75.228   \n",
       "0              LGBMClassifier    77.848     0.455     79.192  80.972   79.078   \n",
       "\n",
       "       F1  False Positive Rate  Error Rate  \n",
       "0  56.138               21.213      21.367  \n",
       "0  52.862               25.509      24.721  \n",
       "0  55.999               23.222      22.426  \n",
       "0  56.337               22.712      22.050  \n",
       "0  56.381               22.780      22.069  \n",
       "0  50.818               27.304      26.415  \n",
       "0  56.198               22.817      22.152  "
      ]
     },
     "execution_count": 47,
     "metadata": {},
     "output_type": "execute_result"
    }
   ],
   "source": [
    "print(\"Shape\",results.shape)\n",
    "results.head(10)"
   ]
  },
  {
   "cell_type": "code",
   "execution_count": 48,
   "metadata": {
    "scrolled": true
   },
   "outputs": [
    {
     "data": {
      "image/png": "[encoded data removed]",
      "text/plain": [
       "<Figure size 576x1296 with 8 Axes>"
      ]
     },
     "metadata": {},
     "output_type": "display_data"
    }
   ],
   "source": [
    "#Visualize accuracy and loss for all model\n",
    "fig, ax =plt.subplots(nrows=8, ncols=1,figsize = (8,18))\n",
    "sns.barplot(x='Accuracy', y='Classifier', data=results, color=\"darkred\", ax=ax[0])\n",
    "sns.barplot(x='Log Loss', y='Classifier', data=results, color=\"orangered\", ax=ax[1])\n",
    "sns.barplot(x='Cross Val', y='Classifier', data=results, color=\"gold\", ax=ax[2])\n",
    "sns.barplot(x='Recall', y='Classifier', data=results, color=\"green\", ax=ax[3])\n",
    "sns.barplot(x='Roc Auc', y='Classifier', data=results, color=\"cyan\", ax=ax[4])\n",
    "sns.barplot(x='F1', y='Classifier', data=results, color=\"blue\", ax=ax[5])\n",
    "sns.barplot(x='False Positive Rate', y='Classifier', data=results, color=\"indigo\", ax=ax[6])\n",
    "sns.barplot(x='Error Rate', y='Classifier', data=results, color=\"magenta\", ax=ax[7])\n",
    "plt.tight_layout()\n",
    "plt.show()"
   ]
  },
  {
   "cell_type": "markdown",
   "metadata": {},
   "source": [
    "Although the results were close, SVC gave the best results of the 7. With that being known, I decided to performing tuning on the algorithm to find the best result."
   ]
  },
  {
   "cell_type": "code",
   "execution_count": 49,
   "metadata": {
    "scrolled": true
   },
   "outputs": [],
   "source": [
    "# svc_params =  {'C':[1,10,100],\n",
    "#                'gamma':['scale',1,0.1,0.001], \n",
    "#                'kernel':['linear','poly','rbf', 'sigmoid'],\n",
    "#                'probability':[True],\n",
    "#                'class_weight':['balanced'],\n",
    "#                'random_state':[42]}\n",
    "\n",
    "# grid_svc = GridSearchCV(SVC(), svc_params)\n",
    "# grid_svc.fit(X_train, y_train)\n",
    "\n",
    "# ## SVC best parameters\n",
    "# svc_best = grid_svc.best_estimator_\n",
    "\n",
    "# print(\"Support Vector Classifier:\\n\",grid_svc.best_params_)"
   ]
  },
  {
   "cell_type": "code",
   "execution_count": 72,
   "metadata": {},
   "outputs": [
    {
     "name": "stdout",
     "output_type": "stream",
     "text": [
      "Support Vector Results\n",
      "~~~~~~~~~~~~~~~~~~~~~~~~~~~~~~\n",
      "Accuracy Score: 78.68%\n",
      "F1 Score: 71.12%\n",
      "Precision Score: 69.23%\n",
      "Recall Score: 78.56%\n",
      "Cross Validation Score: 78.99%\n",
      "Log Loss Score: 0.4552361993730162\n",
      "False Positive Rate: 21.26%\n",
      "Error Rate: 22.15%\n"
     ]
    },
    {
     "data": {
      "image/png": "[encoded data removed]",
      "text/plain": [
       "<Figure size 1080x360 with 2 Axes>"
      ]
     },
     "metadata": {},
     "output_type": "display_data"
    }
   ],
   "source": [
    "svc = SVC(C=2,class_weight='balanced', probability=True, random_state = 42)\n",
    "svc.fit(X_train, y_train)\n",
    "pred_svc = svc.predict(X_test)\n",
    "\n",
    "print('Support Vector Results')\n",
    "print('~'*30)\n",
    "print(\"Accuracy Score: {:0.2f}%\".format(accuracy_score(y_test,pred_svc )*100))\n",
    "print(\"F1 Score: {:0.2f}%\".format(f1_score(y_test, pred_svc, average=\"macro\")*100))\n",
    "print(\"Precision Score: {:0.2f}%\".format(precision_score(y_test,pred_svc, average=\"macro\")*100))\n",
    "print(\"Recall Score: {:0.2f}%\".format(recall_score(y_test, pred_svc, average=\"macro\")*100))\n",
    "print(\"Cross Validation Score: {:0.2f}%\".format(np.mean(cross_val_score(svc, \n",
    "                                                                        X_train, y_train, cv=3)*100)))\n",
    "\n",
    "\n",
    "train_predictions = clf.predict_proba(X_test)\n",
    "logloss = log_loss(y_test, train_predictions)\n",
    "print(\"Log Loss Score:\",logloss)\n",
    "\n",
    "      \n",
    "#FPR and Error Rate setup\n",
    "tn, fp, fn, tp = confusion_matrix(y_test,pred_svc).ravel()\n",
    "fpr = fp/(tn+fp)\n",
    "ers = 1-acc\n",
    "print(\"False Positive Rate: {:0.2f}%\".format(fpr*100))\n",
    "print(\"Error Rate: {:0.2f}%\".format(ers*100))\n",
    "\n",
    "svc_cm = confusion_matrix(y_test,pred_svc)\n",
    "svc_cm_df = pd.DataFrame(svc_cm, \n",
    "                         index = ['No Loyalty','Loyalty'], \n",
    "                         columns = ['No Loyalty','Loyalty'])\n",
    "plt.figure(figsize=(15,5))\n",
    "\n",
    "sns.heatmap(svc_cm_df, annot=True, fmt=\"d\", cmap='viridis', linecolor='black', linewidths=1)\n",
    "plt.ylabel('Actual\\n')\n",
    "plt.xlabel('Predicted\\n')\n",
    "plt.show()"
   ]
  },
  {
   "cell_type": "code",
   "execution_count": null,
   "metadata": {},
   "outputs": [],
   "source": []
  }
 ],
 "metadata": {
  "kernelspec": {
   "display_name": "Python 3",
   "language": "python",
   "name": "python3"
  },
  "language_info": {
   "codemirror_mode": {
    "name": "ipython",
    "version": 3
   },
   "file_extension": ".py",
   "mimetype": "text/x-python",
   "name": "python",
   "nbconvert_exporter": "python",
   "pygments_lexer": "ipython3",
   "version": "3.7.3"
  }
 },
 "nbformat": 4,
 "nbformat_minor": 2
}
