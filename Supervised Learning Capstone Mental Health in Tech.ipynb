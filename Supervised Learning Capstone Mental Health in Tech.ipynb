{
 "cells": [
  {
   "cell_type": "markdown",
   "metadata": {},
   "source": [
    "# Supervised Learning Capstone: Mental Health in Tech"
   ]
  },
  {
   "cell_type": "markdown",
   "metadata": {},
   "source": [
    "### Introduction"
   ]
  },
  {
   "cell_type": "markdown",
   "metadata": {},
   "source": [
    "This data is extracted from __[Kaggle](https://www.kaggle.com/osmi/mental-health-in-tech-survey)__ It is from a survey that was conducted in 2014. It measures the attitudes towards mental health in the workplace. The survey includes questions about attitudes, health, and benefits availability."
   ]
  },
  {
   "cell_type": "markdown",
   "metadata": {},
   "source": [
    "### Research Interest"
   ]
  },
  {
   "cell_type": "markdown",
   "metadata": {},
   "source": [
    "<b>Objective:</b> To use the variables of this dataset to predict if a person in tech has sought treatment for a mental health condition."
   ]
  },
  {
   "cell_type": "markdown",
   "metadata": {},
   "source": [
    "<b>Original Features:</b>\n",
    "-  <b>Timestamp</b>: Time survey was submitted\n",
    "-  <b>Age</b>: Age of Responder\n",
    "-  <b>Gender</b>: Gender of Responder\n",
    "-  <b>Country</b>: Country of Responder\n",
    "-  <b>state</b>: State of Responder\n",
    "-  <b>self_employed</b>: Are they self employed?\n",
    "-  <b>family_history</b>: Is there a family history of mental health conditions?\n",
    "-  <b>treatment</b>: Have you sought treatment for a mental health condition?\n",
    "-  <b>work_interfere</b>: If you have a mental health condition, do you feel that it interferes with your work?\n",
    "-  <b>no_employees</b>: How many employees does your company or organization have?\n",
    "-  <b>remote_work</b>: Do you work remotely (outside of an office) at least 50% of the time?\n",
    "-  <b>tech_company</b>: Is your employer primarily a tech company/organization?\n",
    "-  <b>benefits</b>: Does your employer provide mental health benefits?\n",
    "-  <b>care_options</b>: Do you know the options for mental health care your employer provides? \n",
    "-  <b>wellness_program</b>: Has your employer ever discussed mental health as part of an employee wellness program?\n",
    "-  <b>seek_help</b>: Does your employer provide resources to learn more about mental health issues and how to seek help?\n",
    "-  <b>anonymity</b>: Is your anonymity protected if you choose to take advantage of mental health or substance abuse treatment resources?\n",
    "-  <b>leave</b>: How easy is it for you to take medical leave for a mental health condition?\n",
    "-  <b>mental_health_consequence</b>: Do you think that discussing a mental health issue with your employer would have negative consequences?\n",
    "-  <b>phys_health_consequence</b>: Do you think that discussing a physical health issue with your employer would have negative consequences?\n",
    "-  <b>coworkers</b>: Would you be willing to discuss a mental health issue with your coworkers?\n",
    "-  <b>supervisor</b>: Would you be willing to discuss a mental health issue with your direct supervisor(s)?\n",
    "-  <b>mental_health_interview</b>: Would you bring up a mental health issue with a potential employer in an interview?\n",
    "-  <b>phys_health_interview</b>: Would you bring up a physical health issue with a potential employer in an interview?\n",
    "-  <b>mental_vs_physical</b>: Do you feel that your employer takes mental health as seriously as physical health?\n",
    "-  <b>obs_consequence</b>: Have you heard of or observed negative consequences for coworkers with mental health conditions in your workplace?\n",
    "-  <b>comments</b>: Any additional notes or comments"
   ]
  },
  {
   "cell_type": "markdown",
   "metadata": {},
   "source": [
    "### Modules and Data Loading"
   ]
  },
  {
   "cell_type": "code",
   "execution_count": 1,
   "metadata": {},
   "outputs": [],
   "source": [
    "#Import modules\n",
    "import numpy as np\n",
    "import pandas as pd\n",
    "import sklearn\n",
    "import scipy\n",
    "import matplotlib.pyplot as plt\n",
    "from sklearn.model_selection import GridSearchCV\n",
    "import seaborn as sns\n",
    "import math\n",
    "from sklearn.model_selection import cross_val_score\n",
    "%matplotlib inline\n",
    "import warnings\n",
    "warnings.filterwarnings(\"ignore\")"
   ]
  },
  {
   "cell_type": "code",
   "execution_count": 2,
   "metadata": {},
   "outputs": [],
   "source": [
    "df = pd.read_csv((\"https://raw.githubusercontent.com/GenTaylor/SupervisedLearning/master/mentalhealthintechsurvey.csv\"))"
   ]
  },
  {
   "cell_type": "code",
   "execution_count": 3,
   "metadata": {},
   "outputs": [
    {
     "data": {
      "text/plain": [
       "Index(['Timestamp', 'Age', 'Gender', 'Country', 'state', 'self_employed',\n",
       "       'family_history', 'treatment', 'work_interfere', 'no_employees',\n",
       "       'remote_work', 'tech_company', 'benefits', 'care_options',\n",
       "       'wellness_program', 'seek_help', 'anonymity', 'leave',\n",
       "       'mental_health_consequence', 'phys_health_consequence', 'coworkers',\n",
       "       'supervisor', 'mental_health_interview', 'phys_health_interview',\n",
       "       'mental_vs_physical', 'obs_consequence', 'comments'],\n",
       "      dtype='object')"
      ]
     },
     "execution_count": 3,
     "metadata": {},
     "output_type": "execute_result"
    }
   ],
   "source": [
    "df.columns"
   ]
  },
  {
   "cell_type": "markdown",
   "metadata": {},
   "source": [
    "### Data Exploration and Cleaning"
   ]
  },
  {
   "cell_type": "code",
   "execution_count": 4,
   "metadata": {},
   "outputs": [
    {
     "data": {
      "text/plain": [
       "Timestamp                    object\n",
       "Age                           int64\n",
       "Gender                       object\n",
       "Country                      object\n",
       "state                        object\n",
       "self_employed                object\n",
       "family_history               object\n",
       "treatment                    object\n",
       "work_interfere               object\n",
       "no_employees                 object\n",
       "remote_work                  object\n",
       "tech_company                 object\n",
       "benefits                     object\n",
       "care_options                 object\n",
       "wellness_program             object\n",
       "seek_help                    object\n",
       "anonymity                    object\n",
       "leave                        object\n",
       "mental_health_consequence    object\n",
       "phys_health_consequence      object\n",
       "coworkers                    object\n",
       "supervisor                   object\n",
       "mental_health_interview      object\n",
       "phys_health_interview        object\n",
       "mental_vs_physical           object\n",
       "obs_consequence              object\n",
       "comments                     object\n",
       "dtype: object"
      ]
     },
     "execution_count": 4,
     "metadata": {},
     "output_type": "execute_result"
    }
   ],
   "source": [
    "df.dtypes"
   ]
  },
  {
   "cell_type": "markdown",
   "metadata": {},
   "source": [
    "There are 27 features and of those features 26 are objects and 1 is an integer."
   ]
  },
  {
   "cell_type": "code",
   "execution_count": 5,
   "metadata": {},
   "outputs": [
    {
     "data": {
      "text/html": [
       "<div>\n",
       "<style scoped>\n",
       "    .dataframe tbody tr th:only-of-type {\n",
       "        vertical-align: middle;\n",
       "    }\n",
       "\n",
       "    .dataframe tbody tr th {\n",
       "        vertical-align: top;\n",
       "    }\n",
       "\n",
       "    .dataframe thead th {\n",
       "        text-align: right;\n",
       "    }\n",
       "</style>\n",
       "<table border=\"1\" class=\"dataframe\">\n",
       "  <thead>\n",
       "    <tr style=\"text-align: right;\">\n",
       "      <th></th>\n",
       "      <th>Timestamp</th>\n",
       "      <th>Age</th>\n",
       "      <th>Gender</th>\n",
       "      <th>Country</th>\n",
       "      <th>state</th>\n",
       "      <th>self_employed</th>\n",
       "      <th>family_history</th>\n",
       "      <th>treatment</th>\n",
       "      <th>work_interfere</th>\n",
       "      <th>no_employees</th>\n",
       "      <th>...</th>\n",
       "      <th>leave</th>\n",
       "      <th>mental_health_consequence</th>\n",
       "      <th>phys_health_consequence</th>\n",
       "      <th>coworkers</th>\n",
       "      <th>supervisor</th>\n",
       "      <th>mental_health_interview</th>\n",
       "      <th>phys_health_interview</th>\n",
       "      <th>mental_vs_physical</th>\n",
       "      <th>obs_consequence</th>\n",
       "      <th>comments</th>\n",
       "    </tr>\n",
       "  </thead>\n",
       "  <tbody>\n",
       "    <tr>\n",
       "      <th>0</th>\n",
       "      <td>2014-08-27 11:29:31</td>\n",
       "      <td>37</td>\n",
       "      <td>Female</td>\n",
       "      <td>United States</td>\n",
       "      <td>IL</td>\n",
       "      <td>NaN</td>\n",
       "      <td>No</td>\n",
       "      <td>Yes</td>\n",
       "      <td>Often</td>\n",
       "      <td>6-25</td>\n",
       "      <td>...</td>\n",
       "      <td>Somewhat easy</td>\n",
       "      <td>No</td>\n",
       "      <td>No</td>\n",
       "      <td>Some of them</td>\n",
       "      <td>Yes</td>\n",
       "      <td>No</td>\n",
       "      <td>Maybe</td>\n",
       "      <td>Yes</td>\n",
       "      <td>No</td>\n",
       "      <td>NaN</td>\n",
       "    </tr>\n",
       "    <tr>\n",
       "      <th>1</th>\n",
       "      <td>2014-08-27 11:29:37</td>\n",
       "      <td>44</td>\n",
       "      <td>M</td>\n",
       "      <td>United States</td>\n",
       "      <td>IN</td>\n",
       "      <td>NaN</td>\n",
       "      <td>No</td>\n",
       "      <td>No</td>\n",
       "      <td>Rarely</td>\n",
       "      <td>More than 1000</td>\n",
       "      <td>...</td>\n",
       "      <td>Don't know</td>\n",
       "      <td>Maybe</td>\n",
       "      <td>No</td>\n",
       "      <td>No</td>\n",
       "      <td>No</td>\n",
       "      <td>No</td>\n",
       "      <td>No</td>\n",
       "      <td>Don't know</td>\n",
       "      <td>No</td>\n",
       "      <td>NaN</td>\n",
       "    </tr>\n",
       "    <tr>\n",
       "      <th>2</th>\n",
       "      <td>2014-08-27 11:29:44</td>\n",
       "      <td>32</td>\n",
       "      <td>Male</td>\n",
       "      <td>Canada</td>\n",
       "      <td>NaN</td>\n",
       "      <td>NaN</td>\n",
       "      <td>No</td>\n",
       "      <td>No</td>\n",
       "      <td>Rarely</td>\n",
       "      <td>6-25</td>\n",
       "      <td>...</td>\n",
       "      <td>Somewhat difficult</td>\n",
       "      <td>No</td>\n",
       "      <td>No</td>\n",
       "      <td>Yes</td>\n",
       "      <td>Yes</td>\n",
       "      <td>Yes</td>\n",
       "      <td>Yes</td>\n",
       "      <td>No</td>\n",
       "      <td>No</td>\n",
       "      <td>NaN</td>\n",
       "    </tr>\n",
       "    <tr>\n",
       "      <th>3</th>\n",
       "      <td>2014-08-27 11:29:46</td>\n",
       "      <td>31</td>\n",
       "      <td>Male</td>\n",
       "      <td>United Kingdom</td>\n",
       "      <td>NaN</td>\n",
       "      <td>NaN</td>\n",
       "      <td>Yes</td>\n",
       "      <td>Yes</td>\n",
       "      <td>Often</td>\n",
       "      <td>26-100</td>\n",
       "      <td>...</td>\n",
       "      <td>Somewhat difficult</td>\n",
       "      <td>Yes</td>\n",
       "      <td>Yes</td>\n",
       "      <td>Some of them</td>\n",
       "      <td>No</td>\n",
       "      <td>Maybe</td>\n",
       "      <td>Maybe</td>\n",
       "      <td>No</td>\n",
       "      <td>Yes</td>\n",
       "      <td>NaN</td>\n",
       "    </tr>\n",
       "    <tr>\n",
       "      <th>4</th>\n",
       "      <td>2014-08-27 11:30:22</td>\n",
       "      <td>31</td>\n",
       "      <td>Male</td>\n",
       "      <td>United States</td>\n",
       "      <td>TX</td>\n",
       "      <td>NaN</td>\n",
       "      <td>No</td>\n",
       "      <td>No</td>\n",
       "      <td>Never</td>\n",
       "      <td>100-500</td>\n",
       "      <td>...</td>\n",
       "      <td>Don't know</td>\n",
       "      <td>No</td>\n",
       "      <td>No</td>\n",
       "      <td>Some of them</td>\n",
       "      <td>Yes</td>\n",
       "      <td>Yes</td>\n",
       "      <td>Yes</td>\n",
       "      <td>Don't know</td>\n",
       "      <td>No</td>\n",
       "      <td>NaN</td>\n",
       "    </tr>\n",
       "  </tbody>\n",
       "</table>\n",
       "<p>5 rows × 27 columns</p>\n",
       "</div>"
      ],
      "text/plain": [
       "             Timestamp  Age  Gender         Country state self_employed  \\\n",
       "0  2014-08-27 11:29:31   37  Female   United States    IL           NaN   \n",
       "1  2014-08-27 11:29:37   44       M   United States    IN           NaN   \n",
       "2  2014-08-27 11:29:44   32    Male          Canada   NaN           NaN   \n",
       "3  2014-08-27 11:29:46   31    Male  United Kingdom   NaN           NaN   \n",
       "4  2014-08-27 11:30:22   31    Male   United States    TX           NaN   \n",
       "\n",
       "  family_history treatment work_interfere    no_employees  ...  \\\n",
       "0             No       Yes          Often            6-25  ...   \n",
       "1             No        No         Rarely  More than 1000  ...   \n",
       "2             No        No         Rarely            6-25  ...   \n",
       "3            Yes       Yes          Often          26-100  ...   \n",
       "4             No        No          Never         100-500  ...   \n",
       "\n",
       "                leave mental_health_consequence phys_health_consequence  \\\n",
       "0       Somewhat easy                        No                      No   \n",
       "1          Don't know                     Maybe                      No   \n",
       "2  Somewhat difficult                        No                      No   \n",
       "3  Somewhat difficult                       Yes                     Yes   \n",
       "4          Don't know                        No                      No   \n",
       "\n",
       "      coworkers supervisor mental_health_interview phys_health_interview  \\\n",
       "0  Some of them        Yes                      No                 Maybe   \n",
       "1            No         No                      No                    No   \n",
       "2           Yes        Yes                     Yes                   Yes   \n",
       "3  Some of them         No                   Maybe                 Maybe   \n",
       "4  Some of them        Yes                     Yes                   Yes   \n",
       "\n",
       "  mental_vs_physical obs_consequence comments  \n",
       "0                Yes              No      NaN  \n",
       "1         Don't know              No      NaN  \n",
       "2                 No              No      NaN  \n",
       "3                 No             Yes      NaN  \n",
       "4         Don't know              No      NaN  \n",
       "\n",
       "[5 rows x 27 columns]"
      ]
     },
     "execution_count": 5,
     "metadata": {},
     "output_type": "execute_result"
    }
   ],
   "source": [
    "df.head()"
   ]
  },
  {
   "cell_type": "code",
   "execution_count": 6,
   "metadata": {
    "scrolled": true
   },
   "outputs": [
    {
     "data": {
      "text/plain": [
       "Index(['timestamp', 'age', 'gender', 'country', 'state', 'self_employed',\n",
       "       'family_history', 'treatment', 'work_interfere', 'no_employees',\n",
       "       'remote_work', 'tech_company', 'benefits', 'care_options',\n",
       "       'wellness_program', 'seek_help', 'anonymity', 'leave',\n",
       "       'mental_health_consequence', 'phys_health_consequence', 'coworkers',\n",
       "       'supervisor', 'mental_health_interview', 'phys_health_interview',\n",
       "       'mental_vs_physical', 'obs_consequence', 'comments'],\n",
       "      dtype='object')"
      ]
     },
     "execution_count": 6,
     "metadata": {},
     "output_type": "execute_result"
    }
   ],
   "source": [
    "#standardize all columns to lowercase for ease of use in querying\n",
    "df.columns = map(str.lower, df.columns)\n",
    "\n",
    "#verify\n",
    "df.columns"
   ]
  },
  {
   "cell_type": "code",
   "execution_count": 7,
   "metadata": {},
   "outputs": [
    {
     "data": {
      "text/html": [
       "<div>\n",
       "<style scoped>\n",
       "    .dataframe tbody tr th:only-of-type {\n",
       "        vertical-align: middle;\n",
       "    }\n",
       "\n",
       "    .dataframe tbody tr th {\n",
       "        vertical-align: top;\n",
       "    }\n",
       "\n",
       "    .dataframe thead th {\n",
       "        text-align: right;\n",
       "    }\n",
       "</style>\n",
       "<table border=\"1\" class=\"dataframe\">\n",
       "  <thead>\n",
       "    <tr style=\"text-align: right;\">\n",
       "      <th></th>\n",
       "      <th>timestamp</th>\n",
       "      <th>age</th>\n",
       "      <th>gender</th>\n",
       "      <th>country</th>\n",
       "      <th>state</th>\n",
       "      <th>self_employed</th>\n",
       "      <th>family_history</th>\n",
       "      <th>treatment</th>\n",
       "      <th>work_interfere</th>\n",
       "      <th>no_employees</th>\n",
       "      <th>...</th>\n",
       "      <th>leave</th>\n",
       "      <th>mental_health_consequence</th>\n",
       "      <th>phys_health_consequence</th>\n",
       "      <th>coworkers</th>\n",
       "      <th>supervisor</th>\n",
       "      <th>mental_health_interview</th>\n",
       "      <th>phys_health_interview</th>\n",
       "      <th>mental_vs_physical</th>\n",
       "      <th>obs_consequence</th>\n",
       "      <th>comments</th>\n",
       "    </tr>\n",
       "  </thead>\n",
       "  <tbody>\n",
       "    <tr>\n",
       "      <th>count</th>\n",
       "      <td>1259</td>\n",
       "      <td>1.259000e+03</td>\n",
       "      <td>1259</td>\n",
       "      <td>1259</td>\n",
       "      <td>744</td>\n",
       "      <td>1241</td>\n",
       "      <td>1259</td>\n",
       "      <td>1259</td>\n",
       "      <td>995</td>\n",
       "      <td>1259</td>\n",
       "      <td>...</td>\n",
       "      <td>1259</td>\n",
       "      <td>1259</td>\n",
       "      <td>1259</td>\n",
       "      <td>1259</td>\n",
       "      <td>1259</td>\n",
       "      <td>1259</td>\n",
       "      <td>1259</td>\n",
       "      <td>1259</td>\n",
       "      <td>1259</td>\n",
       "      <td>164</td>\n",
       "    </tr>\n",
       "    <tr>\n",
       "      <th>unique</th>\n",
       "      <td>1246</td>\n",
       "      <td>NaN</td>\n",
       "      <td>49</td>\n",
       "      <td>48</td>\n",
       "      <td>45</td>\n",
       "      <td>2</td>\n",
       "      <td>2</td>\n",
       "      <td>2</td>\n",
       "      <td>4</td>\n",
       "      <td>6</td>\n",
       "      <td>...</td>\n",
       "      <td>5</td>\n",
       "      <td>3</td>\n",
       "      <td>3</td>\n",
       "      <td>3</td>\n",
       "      <td>3</td>\n",
       "      <td>3</td>\n",
       "      <td>3</td>\n",
       "      <td>3</td>\n",
       "      <td>2</td>\n",
       "      <td>160</td>\n",
       "    </tr>\n",
       "    <tr>\n",
       "      <th>top</th>\n",
       "      <td>2014-08-27 12:37:50</td>\n",
       "      <td>NaN</td>\n",
       "      <td>Male</td>\n",
       "      <td>United States</td>\n",
       "      <td>CA</td>\n",
       "      <td>No</td>\n",
       "      <td>No</td>\n",
       "      <td>Yes</td>\n",
       "      <td>Sometimes</td>\n",
       "      <td>6-25</td>\n",
       "      <td>...</td>\n",
       "      <td>Don't know</td>\n",
       "      <td>No</td>\n",
       "      <td>No</td>\n",
       "      <td>Some of them</td>\n",
       "      <td>Yes</td>\n",
       "      <td>No</td>\n",
       "      <td>Maybe</td>\n",
       "      <td>Don't know</td>\n",
       "      <td>No</td>\n",
       "      <td>* Small family business - YMMV.</td>\n",
       "    </tr>\n",
       "    <tr>\n",
       "      <th>freq</th>\n",
       "      <td>2</td>\n",
       "      <td>NaN</td>\n",
       "      <td>615</td>\n",
       "      <td>751</td>\n",
       "      <td>138</td>\n",
       "      <td>1095</td>\n",
       "      <td>767</td>\n",
       "      <td>637</td>\n",
       "      <td>465</td>\n",
       "      <td>290</td>\n",
       "      <td>...</td>\n",
       "      <td>563</td>\n",
       "      <td>490</td>\n",
       "      <td>925</td>\n",
       "      <td>774</td>\n",
       "      <td>516</td>\n",
       "      <td>1008</td>\n",
       "      <td>557</td>\n",
       "      <td>576</td>\n",
       "      <td>1075</td>\n",
       "      <td>5</td>\n",
       "    </tr>\n",
       "    <tr>\n",
       "      <th>mean</th>\n",
       "      <td>NaN</td>\n",
       "      <td>7.942815e+07</td>\n",
       "      <td>NaN</td>\n",
       "      <td>NaN</td>\n",
       "      <td>NaN</td>\n",
       "      <td>NaN</td>\n",
       "      <td>NaN</td>\n",
       "      <td>NaN</td>\n",
       "      <td>NaN</td>\n",
       "      <td>NaN</td>\n",
       "      <td>...</td>\n",
       "      <td>NaN</td>\n",
       "      <td>NaN</td>\n",
       "      <td>NaN</td>\n",
       "      <td>NaN</td>\n",
       "      <td>NaN</td>\n",
       "      <td>NaN</td>\n",
       "      <td>NaN</td>\n",
       "      <td>NaN</td>\n",
       "      <td>NaN</td>\n",
       "      <td>NaN</td>\n",
       "    </tr>\n",
       "    <tr>\n",
       "      <th>std</th>\n",
       "      <td>NaN</td>\n",
       "      <td>2.818299e+09</td>\n",
       "      <td>NaN</td>\n",
       "      <td>NaN</td>\n",
       "      <td>NaN</td>\n",
       "      <td>NaN</td>\n",
       "      <td>NaN</td>\n",
       "      <td>NaN</td>\n",
       "      <td>NaN</td>\n",
       "      <td>NaN</td>\n",
       "      <td>...</td>\n",
       "      <td>NaN</td>\n",
       "      <td>NaN</td>\n",
       "      <td>NaN</td>\n",
       "      <td>NaN</td>\n",
       "      <td>NaN</td>\n",
       "      <td>NaN</td>\n",
       "      <td>NaN</td>\n",
       "      <td>NaN</td>\n",
       "      <td>NaN</td>\n",
       "      <td>NaN</td>\n",
       "    </tr>\n",
       "    <tr>\n",
       "      <th>min</th>\n",
       "      <td>NaN</td>\n",
       "      <td>-1.726000e+03</td>\n",
       "      <td>NaN</td>\n",
       "      <td>NaN</td>\n",
       "      <td>NaN</td>\n",
       "      <td>NaN</td>\n",
       "      <td>NaN</td>\n",
       "      <td>NaN</td>\n",
       "      <td>NaN</td>\n",
       "      <td>NaN</td>\n",
       "      <td>...</td>\n",
       "      <td>NaN</td>\n",
       "      <td>NaN</td>\n",
       "      <td>NaN</td>\n",
       "      <td>NaN</td>\n",
       "      <td>NaN</td>\n",
       "      <td>NaN</td>\n",
       "      <td>NaN</td>\n",
       "      <td>NaN</td>\n",
       "      <td>NaN</td>\n",
       "      <td>NaN</td>\n",
       "    </tr>\n",
       "    <tr>\n",
       "      <th>25%</th>\n",
       "      <td>NaN</td>\n",
       "      <td>2.700000e+01</td>\n",
       "      <td>NaN</td>\n",
       "      <td>NaN</td>\n",
       "      <td>NaN</td>\n",
       "      <td>NaN</td>\n",
       "      <td>NaN</td>\n",
       "      <td>NaN</td>\n",
       "      <td>NaN</td>\n",
       "      <td>NaN</td>\n",
       "      <td>...</td>\n",
       "      <td>NaN</td>\n",
       "      <td>NaN</td>\n",
       "      <td>NaN</td>\n",
       "      <td>NaN</td>\n",
       "      <td>NaN</td>\n",
       "      <td>NaN</td>\n",
       "      <td>NaN</td>\n",
       "      <td>NaN</td>\n",
       "      <td>NaN</td>\n",
       "      <td>NaN</td>\n",
       "    </tr>\n",
       "    <tr>\n",
       "      <th>50%</th>\n",
       "      <td>NaN</td>\n",
       "      <td>3.100000e+01</td>\n",
       "      <td>NaN</td>\n",
       "      <td>NaN</td>\n",
       "      <td>NaN</td>\n",
       "      <td>NaN</td>\n",
       "      <td>NaN</td>\n",
       "      <td>NaN</td>\n",
       "      <td>NaN</td>\n",
       "      <td>NaN</td>\n",
       "      <td>...</td>\n",
       "      <td>NaN</td>\n",
       "      <td>NaN</td>\n",
       "      <td>NaN</td>\n",
       "      <td>NaN</td>\n",
       "      <td>NaN</td>\n",
       "      <td>NaN</td>\n",
       "      <td>NaN</td>\n",
       "      <td>NaN</td>\n",
       "      <td>NaN</td>\n",
       "      <td>NaN</td>\n",
       "    </tr>\n",
       "    <tr>\n",
       "      <th>75%</th>\n",
       "      <td>NaN</td>\n",
       "      <td>3.600000e+01</td>\n",
       "      <td>NaN</td>\n",
       "      <td>NaN</td>\n",
       "      <td>NaN</td>\n",
       "      <td>NaN</td>\n",
       "      <td>NaN</td>\n",
       "      <td>NaN</td>\n",
       "      <td>NaN</td>\n",
       "      <td>NaN</td>\n",
       "      <td>...</td>\n",
       "      <td>NaN</td>\n",
       "      <td>NaN</td>\n",
       "      <td>NaN</td>\n",
       "      <td>NaN</td>\n",
       "      <td>NaN</td>\n",
       "      <td>NaN</td>\n",
       "      <td>NaN</td>\n",
       "      <td>NaN</td>\n",
       "      <td>NaN</td>\n",
       "      <td>NaN</td>\n",
       "    </tr>\n",
       "    <tr>\n",
       "      <th>max</th>\n",
       "      <td>NaN</td>\n",
       "      <td>1.000000e+11</td>\n",
       "      <td>NaN</td>\n",
       "      <td>NaN</td>\n",
       "      <td>NaN</td>\n",
       "      <td>NaN</td>\n",
       "      <td>NaN</td>\n",
       "      <td>NaN</td>\n",
       "      <td>NaN</td>\n",
       "      <td>NaN</td>\n",
       "      <td>...</td>\n",
       "      <td>NaN</td>\n",
       "      <td>NaN</td>\n",
       "      <td>NaN</td>\n",
       "      <td>NaN</td>\n",
       "      <td>NaN</td>\n",
       "      <td>NaN</td>\n",
       "      <td>NaN</td>\n",
       "      <td>NaN</td>\n",
       "      <td>NaN</td>\n",
       "      <td>NaN</td>\n",
       "    </tr>\n",
       "  </tbody>\n",
       "</table>\n",
       "<p>11 rows × 27 columns</p>\n",
       "</div>"
      ],
      "text/plain": [
       "                  timestamp           age gender        country state  \\\n",
       "count                  1259  1.259000e+03   1259           1259   744   \n",
       "unique                 1246           NaN     49             48    45   \n",
       "top     2014-08-27 12:37:50           NaN   Male  United States    CA   \n",
       "freq                      2           NaN    615            751   138   \n",
       "mean                    NaN  7.942815e+07    NaN            NaN   NaN   \n",
       "std                     NaN  2.818299e+09    NaN            NaN   NaN   \n",
       "min                     NaN -1.726000e+03    NaN            NaN   NaN   \n",
       "25%                     NaN  2.700000e+01    NaN            NaN   NaN   \n",
       "50%                     NaN  3.100000e+01    NaN            NaN   NaN   \n",
       "75%                     NaN  3.600000e+01    NaN            NaN   NaN   \n",
       "max                     NaN  1.000000e+11    NaN            NaN   NaN   \n",
       "\n",
       "       self_employed family_history treatment work_interfere no_employees  \\\n",
       "count           1241           1259      1259            995         1259   \n",
       "unique             2              2         2              4            6   \n",
       "top               No             No       Yes      Sometimes         6-25   \n",
       "freq            1095            767       637            465          290   \n",
       "mean             NaN            NaN       NaN            NaN          NaN   \n",
       "std              NaN            NaN       NaN            NaN          NaN   \n",
       "min              NaN            NaN       NaN            NaN          NaN   \n",
       "25%              NaN            NaN       NaN            NaN          NaN   \n",
       "50%              NaN            NaN       NaN            NaN          NaN   \n",
       "75%              NaN            NaN       NaN            NaN          NaN   \n",
       "max              NaN            NaN       NaN            NaN          NaN   \n",
       "\n",
       "        ...       leave mental_health_consequence phys_health_consequence  \\\n",
       "count   ...        1259                      1259                    1259   \n",
       "unique  ...           5                         3                       3   \n",
       "top     ...  Don't know                        No                      No   \n",
       "freq    ...         563                       490                     925   \n",
       "mean    ...         NaN                       NaN                     NaN   \n",
       "std     ...         NaN                       NaN                     NaN   \n",
       "min     ...         NaN                       NaN                     NaN   \n",
       "25%     ...         NaN                       NaN                     NaN   \n",
       "50%     ...         NaN                       NaN                     NaN   \n",
       "75%     ...         NaN                       NaN                     NaN   \n",
       "max     ...         NaN                       NaN                     NaN   \n",
       "\n",
       "           coworkers supervisor mental_health_interview phys_health_interview  \\\n",
       "count           1259       1259                    1259                  1259   \n",
       "unique             3          3                       3                     3   \n",
       "top     Some of them        Yes                      No                 Maybe   \n",
       "freq             774        516                    1008                   557   \n",
       "mean             NaN        NaN                     NaN                   NaN   \n",
       "std              NaN        NaN                     NaN                   NaN   \n",
       "min              NaN        NaN                     NaN                   NaN   \n",
       "25%              NaN        NaN                     NaN                   NaN   \n",
       "50%              NaN        NaN                     NaN                   NaN   \n",
       "75%              NaN        NaN                     NaN                   NaN   \n",
       "max              NaN        NaN                     NaN                   NaN   \n",
       "\n",
       "       mental_vs_physical obs_consequence                         comments  \n",
       "count                1259            1259                              164  \n",
       "unique                  3               2                              160  \n",
       "top            Don't know              No  * Small family business - YMMV.  \n",
       "freq                  576            1075                                5  \n",
       "mean                  NaN             NaN                              NaN  \n",
       "std                   NaN             NaN                              NaN  \n",
       "min                   NaN             NaN                              NaN  \n",
       "25%                   NaN             NaN                              NaN  \n",
       "50%                   NaN             NaN                              NaN  \n",
       "75%                   NaN             NaN                              NaN  \n",
       "max                   NaN             NaN                              NaN  \n",
       "\n",
       "[11 rows x 27 columns]"
      ]
     },
     "execution_count": 7,
     "metadata": {},
     "output_type": "execute_result"
    }
   ],
   "source": [
    "df.describe(include='all')  "
   ]
  },
  {
   "cell_type": "markdown",
   "metadata": {},
   "source": [
    "The mean of age seemed odd for something such as a technical professional so I decided to explore its values."
   ]
  },
  {
   "cell_type": "code",
   "execution_count": 8,
   "metadata": {},
   "outputs": [
    {
     "name": "stdout",
     "output_type": "stream",
     "text": [
      "Age Values\n",
      "Average Age:  79428148.31135821\n",
      "Minimum Age:  -1726\n",
      "Maximum Age:  99999999999\n",
      "Null values:  0\n"
     ]
    }
   ],
   "source": [
    "#check values of only int, age\n",
    "\n",
    "print(\"Age Values\")\n",
    "print(\"Average Age: \", df['age'].mean())\n",
    "print(\"Minimum Age: \", df['age'].min())\n",
    "print(\"Maximum Age: \", df['age'].max())\n",
    "print(\"Null values: \", pd.isnull(df['age']).sum())"
   ]
  },
  {
   "cell_type": "markdown",
   "metadata": {},
   "source": [
    "Age values are obviously off, and the outliers need to be fixed before any machine learning or analysis can be done."
   ]
  },
  {
   "cell_type": "code",
   "execution_count": 9,
   "metadata": {},
   "outputs": [
    {
     "name": "stdout",
     "output_type": "stream",
     "text": [
      "Age Values\n",
      "Average Age:  32.01913875598086\n",
      "Minimum Age:  5.0\n",
      "Maximum Age:  72.0\n",
      "Null values:  5\n"
     ]
    }
   ],
   "source": [
    "#fix outlier issues for ages\n",
    "def fixedage(age):\n",
    "    if age>=1 and age<=99:\n",
    "        return age\n",
    "    else:\n",
    "        return np.nan\n",
    "df['age'] = df['age'].apply(fixedage)\n",
    "\n",
    "\n",
    "#check age values again\n",
    "\n",
    "print(\"Age Values\")\n",
    "print(\"Average Age: \", df['age'].mean())\n",
    "print(\"Minimum Age: \", df['age'].min())\n",
    "print(\"Maximum Age: \", df['age'].max())\n",
    "print(\"Null values: \", pd.isnull(df['age']).sum())"
   ]
  },
  {
   "cell_type": "markdown",
   "metadata": {},
   "source": [
    "#### Handling Null Values"
   ]
  },
  {
   "cell_type": "code",
   "execution_count": 10,
   "metadata": {},
   "outputs": [
    {
     "data": {
      "text/plain": [
       "comments                     1095\n",
       "state                         515\n",
       "work_interfere                264\n",
       "self_employed                  18\n",
       "age                             5\n",
       "benefits                        0\n",
       "gender                          0\n",
       "country                         0\n",
       "family_history                  0\n",
       "treatment                       0\n",
       "no_employees                    0\n",
       "remote_work                     0\n",
       "tech_company                    0\n",
       "care_options                    0\n",
       "obs_consequence                 0\n",
       "wellness_program                0\n",
       "seek_help                       0\n",
       "anonymity                       0\n",
       "leave                           0\n",
       "mental_health_consequence       0\n",
       "phys_health_consequence         0\n",
       "coworkers                       0\n",
       "supervisor                      0\n",
       "mental_health_interview         0\n",
       "phys_health_interview           0\n",
       "mental_vs_physical              0\n",
       "timestamp                       0\n",
       "dtype: int64"
      ]
     },
     "execution_count": 10,
     "metadata": {},
     "output_type": "execute_result"
    }
   ],
   "source": [
    "#Check Missing Data\n",
    "df.isnull().sum().sort_values(ascending=False)"
   ]
  },
  {
   "cell_type": "code",
   "execution_count": 11,
   "metadata": {},
   "outputs": [
    {
     "name": "stdout",
     "output_type": "stream",
     "text": [
      "Null values:  0\n"
     ]
    }
   ],
   "source": [
    "#fill null values with avg age\n",
    "\n",
    "df['age'].fillna(df['age'].mean(), inplace = True)\n",
    "\n",
    "\n",
    "df['age']=df['age'].astype(int)\n",
    "\n",
    "#check null again\n",
    "print(\"Null values: \", pd.isnull(df['age']).sum())"
   ]
  },
  {
   "cell_type": "code",
   "execution_count": 12,
   "metadata": {},
   "outputs": [],
   "source": [
    "#drop timestamp, state, and comments\n",
    "\n",
    "df = df.drop(['comments'], axis=1)\n",
    "df = df.drop(['timestamp'], axis=1)\n",
    "df = df.drop(['state'], axis=1)\n"
   ]
  },
  {
   "cell_type": "code",
   "execution_count": 13,
   "metadata": {},
   "outputs": [
    {
     "data": {
      "text/plain": [
       "work_interfere               264\n",
       "self_employed                 18\n",
       "obs_consequence                0\n",
       "mental_vs_physical             0\n",
       "gender                         0\n",
       "country                        0\n",
       "family_history                 0\n",
       "treatment                      0\n",
       "no_employees                   0\n",
       "remote_work                    0\n",
       "tech_company                   0\n",
       "benefits                       0\n",
       "care_options                   0\n",
       "wellness_program               0\n",
       "seek_help                      0\n",
       "anonymity                      0\n",
       "leave                          0\n",
       "mental_health_consequence      0\n",
       "phys_health_consequence        0\n",
       "coworkers                      0\n",
       "supervisor                     0\n",
       "mental_health_interview        0\n",
       "phys_health_interview          0\n",
       "age                            0\n",
       "dtype: int64"
      ]
     },
     "execution_count": 13,
     "metadata": {},
     "output_type": "execute_result"
    }
   ],
   "source": [
    "#Check Missing Data\n",
    "df.isnull().sum().sort_values(ascending=False)"
   ]
  },
  {
   "cell_type": "code",
   "execution_count": 14,
   "metadata": {},
   "outputs": [
    {
     "name": "stdout",
     "output_type": "stream",
     "text": [
      "Distinct values for work_interfere:\n",
      " {'Sometimes', nan, 'Rarely', 'Never', 'Often'}\n"
     ]
    }
   ],
   "source": [
    "#Checking the unique values for 'work_interfere'\n",
    "print(\"Distinct values for work_interfere:\\n\", set(df['work_interfere']))"
   ]
  },
  {
   "cell_type": "code",
   "execution_count": 15,
   "metadata": {},
   "outputs": [
    {
     "name": "stdout",
     "output_type": "stream",
     "text": [
      "Distinct values for self employed:\n",
      " {nan, 'Yes', 'No'}\n"
     ]
    }
   ],
   "source": [
    "#Checking the unique values for 'self_employed'\n",
    "print(\"Distinct values for self employed:\\n\", set(df['self_employed']))"
   ]
  },
  {
   "cell_type": "code",
   "execution_count": 16,
   "metadata": {},
   "outputs": [],
   "source": [
    "\n",
    "df['work_interfere'].fillna(\"Unsure\",inplace = True) \n",
    "  \n",
    "df['self_employed'].fillna(\"No\",inplace = True) \n",
    "  "
   ]
  },
  {
   "cell_type": "code",
   "execution_count": 17,
   "metadata": {},
   "outputs": [
    {
     "data": {
      "text/plain": [
       "obs_consequence              0\n",
       "mental_vs_physical           0\n",
       "gender                       0\n",
       "country                      0\n",
       "self_employed                0\n",
       "family_history               0\n",
       "treatment                    0\n",
       "work_interfere               0\n",
       "no_employees                 0\n",
       "remote_work                  0\n",
       "tech_company                 0\n",
       "benefits                     0\n",
       "care_options                 0\n",
       "wellness_program             0\n",
       "seek_help                    0\n",
       "anonymity                    0\n",
       "leave                        0\n",
       "mental_health_consequence    0\n",
       "phys_health_consequence      0\n",
       "coworkers                    0\n",
       "supervisor                   0\n",
       "mental_health_interview      0\n",
       "phys_health_interview        0\n",
       "age                          0\n",
       "dtype: int64"
      ]
     },
     "execution_count": 17,
     "metadata": {},
     "output_type": "execute_result"
    }
   ],
   "source": [
    "#Check Missing Data\n",
    "df.isnull().sum().sort_values(ascending=False)"
   ]
  },
  {
   "cell_type": "markdown",
   "metadata": {},
   "source": [
    "##### Check Distinct Values"
   ]
  },
  {
   "cell_type": "code",
   "execution_count": 18,
   "metadata": {},
   "outputs": [
    {
     "data": {
      "text/plain": [
       "age                          48\n",
       "gender                       49\n",
       "country                      48\n",
       "self_employed                 2\n",
       "family_history                2\n",
       "treatment                     2\n",
       "work_interfere                5\n",
       "no_employees                  6\n",
       "remote_work                   2\n",
       "tech_company                  2\n",
       "benefits                      3\n",
       "care_options                  3\n",
       "wellness_program              3\n",
       "seek_help                     3\n",
       "anonymity                     3\n",
       "leave                         5\n",
       "mental_health_consequence     3\n",
       "phys_health_consequence       3\n",
       "coworkers                     3\n",
       "supervisor                    3\n",
       "mental_health_interview       3\n",
       "phys_health_interview         3\n",
       "mental_vs_physical            3\n",
       "obs_consequence               2\n",
       "dtype: int64"
      ]
     },
     "execution_count": 18,
     "metadata": {},
     "output_type": "execute_result"
    }
   ],
   "source": [
    "#unique values\n",
    "df.nunique()"
   ]
  },
  {
   "cell_type": "code",
   "execution_count": 19,
   "metadata": {},
   "outputs": [
    {
     "name": "stdout",
     "output_type": "stream",
     "text": [
      "Distinct values for gender:\n",
      " {'Woman', 'female', 'Man', 'Neuter', 'Cis Man', 'Genderqueer', 'Female (trans)', 'F', 'queer', 'Trans-female', 'All', 'Mail', 'Malr', 'Female', 'Female ', 'Guy (-ish) ^_^', 'something kinda male?', 'non-binary', 'male', 'p', 'cis-female/femme', 'Male-ish', 'Female (cis)', 'Femake', 'Agender', 'male leaning androgynous', 'Male', 'M', 'f', 'Cis Male', 'Enby', 'queer/she/they', 'cis male', 'Androgyne', 'maile', 'femail', 'm', 'Trans woman', 'Cis Female', 'ostensibly male, unsure what that really means', 'Male (CIS)', 'msle', 'Make', 'Nah', 'Mal', 'Male ', 'A little about you', 'woman', 'fluid'}\n"
     ]
    }
   ],
   "source": [
    "#Gender\n",
    "print(\"Distinct values for gender:\\n\", set(df['gender']))"
   ]
  },
  {
   "cell_type": "code",
   "execution_count": 20,
   "metadata": {},
   "outputs": [
    {
     "name": "stdout",
     "output_type": "stream",
     "text": [
      "Distinct values for age:\n",
      " {5, 8, 11, 18, 19, 20, 21, 22, 23, 24, 25, 26, 27, 28, 29, 30, 31, 32, 33, 34, 35, 36, 37, 38, 39, 40, 41, 42, 43, 44, 45, 46, 47, 48, 49, 50, 51, 53, 54, 55, 56, 57, 58, 60, 61, 62, 65, 72}\n"
     ]
    }
   ],
   "source": [
    "#Age\n",
    "print(\"Distinct values for age:\\n\", set(df['age']))"
   ]
  },
  {
   "cell_type": "code",
   "execution_count": 21,
   "metadata": {},
   "outputs": [
    {
     "name": "stdout",
     "output_type": "stream",
     "text": [
      "Distinct values for country:\n",
      " {'United Kingdom', 'Zimbabwe', 'Romania', 'Uruguay', 'Australia', 'Denmark', 'Germany', 'Moldova', 'Nigeria', 'United States', 'South Africa', 'Latvia', 'Portugal', 'Poland', 'Russia', 'Netherlands', 'Mexico', 'Slovenia', 'Canada', 'Greece', 'Bosnia and Herzegovina', 'Colombia', 'Philippines', 'Costa Rica', 'Croatia', 'India', 'Hungary', 'Ireland', 'Italy', 'Singapore', 'Finland', 'Belgium', 'Israel', 'Georgia', 'Thailand', 'Japan', 'Bahamas, The', 'Sweden', 'China', 'Switzerland', 'France', 'New Zealand', 'Norway', 'Spain', 'Austria', 'Czech Republic', 'Brazil', 'Bulgaria'}\n"
     ]
    }
   ],
   "source": [
    "#Country\n",
    "print(\"Distinct values for country:\\n\", set(df['country']))"
   ]
  },
  {
   "cell_type": "markdown",
   "metadata": {},
   "source": [
    "Gender as a distinct value seems too varied in spellings and classifications so I assume it would cause a problem. I decided to cleanse this data through strings and grouping of the values into categories."
   ]
  },
  {
   "cell_type": "code",
   "execution_count": 22,
   "metadata": {},
   "outputs": [
    {
     "name": "stdout",
     "output_type": "stream",
     "text": [
      "Distinct responses for gender:\n",
      " {'male', 'other_or_trans', 'female'}\n"
     ]
    }
   ],
   "source": [
    "#create gender groups\n",
    "\n",
    "male= [\"man\",\"msle\", \"mail\", \"malr\",\"male\", \"m\", \"male-ish\", \"maile\", \"mal\", \"male (cis)\", \n",
    "       \"make\", \"male \",\"cis man\", \"Cis Male\", \"cis male\"]\n",
    "\n",
    "female=[\"female \",\"cis-female/femme\", \"female (cis)\", \"femail\", \"cis female\", \"f\", \"female\", \n",
    "        \"woman\",  \"femake\"]\n",
    "\n",
    "other_or_trans =[\"something kinda male?\", \"queer/she/they\", \"p\",\"a little about you\",\"non-binary\",\"nah\", \"all\", \n",
    "        \"enby\", \"fluid\", \"genderqueer\", \"androgyne\", \"agender\", \"male leaning androgynous\", \n",
    "        \"guy (-ish) ^_^\",  \"neuter\",  \"queer\", \"ostensibly male, unsure what that really means\", \"trans-female\",\"trans woman\",\"female (trans)\"]\n",
    "\n",
    "for (row, col) in df.iterrows():\n",
    "\n",
    "    if str.lower(col.gender) in male:\n",
    "        df['gender'].replace(to_replace=col.gender, value='male', inplace=True)\n",
    "\n",
    "    if str.lower(col.gender) in female:\n",
    "        df['gender'].replace(to_replace=col.gender, value='female', inplace=True)\n",
    "    \n",
    "    if str.lower(col.gender) in other_or_trans:\n",
    "        df['gender'].replace(to_replace=col.gender, value='other_or_trans', inplace=True)\n",
    "    \n",
    "    \n",
    " \n",
    "#Gender\n",
    "print(\"Distinct responses for gender:\\n\", set(df['gender']))"
   ]
  },
  {
   "cell_type": "code",
   "execution_count": 23,
   "metadata": {},
   "outputs": [
    {
     "name": "stdout",
     "output_type": "stream",
     "text": [
      "Distinct values for leave:\n",
      " {\"Don't know\", 'Somewhat easy', 'Very easy', 'Somewhat difficult', 'Very difficult'}\n"
     ]
    }
   ],
   "source": [
    "print(\"Distinct values for leave:\\n\", set(df['leave']))"
   ]
  },
  {
   "cell_type": "markdown",
   "metadata": {},
   "source": [
    "<b>Ages:</b> I want to create a feature that groups the ages. I didn't want to not include certain groups such as those <18 because it is possible for someone in that age group to be working in tech and taking that survey. Their responses to age could have been typos but I did not want to take the risk of completely deleting them and changing things."
   ]
  },
  {
   "cell_type": "code",
   "execution_count": 24,
   "metadata": {},
   "outputs": [],
   "source": [
    "#Group the ages into groups\n",
    "df['age'] = pd.cut(df['age'],\n",
    "                         [0,18, 25, 35, 45, 55, 65, 99],\n",
    "                         labels=['<18','18-24','25-34','35-44','45-54', '55-64', '65+'])"
   ]
  },
  {
   "cell_type": "code",
   "execution_count": 25,
   "metadata": {},
   "outputs": [
    {
     "data": {
      "text/plain": [
       "Index(['age', 'gender', 'country', 'self_employed', 'family_history',\n",
       "       'treatment', 'work_interfere', 'no_employees', 'remote_work',\n",
       "       'tech_company', 'benefits', 'care_options', 'wellness_program',\n",
       "       'seek_help', 'anonymity', 'leave', 'mental_health_consequence',\n",
       "       'phys_health_consequence', 'coworkers', 'supervisor',\n",
       "       'mental_health_interview', 'phys_health_interview',\n",
       "       'mental_vs_physical', 'obs_consequence'],\n",
       "      dtype='object')"
      ]
     },
     "execution_count": 25,
     "metadata": {},
     "output_type": "execute_result"
    }
   ],
   "source": [
    "df.columns"
   ]
  },
  {
   "cell_type": "markdown",
   "metadata": {},
   "source": [
    "### Visualizations"
   ]
  },
  {
   "cell_type": "markdown",
   "metadata": {},
   "source": [
    "First, I would like to look at the responses for each question and their relation to treatment."
   ]
  },
  {
   "cell_type": "code",
   "execution_count": 26,
   "metadata": {},
   "outputs": [
    {
     "data": {
      "image/png": "[encoded data removed]",
      "text/plain": [
       "<Figure size 720x360 with 1 Axes>"
      ]
     },
     "metadata": {
      "needs_background": "light"
     },
     "output_type": "display_data"
    }
   ],
   "source": [
    "plt.figure(figsize=(10,5))\n",
    "sns.countplot(\"family_history\", hue=\"treatment\", palette=\"PuBu\",data=df)\n",
    "plt.title(\"Treatment vs Family History\",fontsize=12,fontweight=\"bold\")\n",
    "plt.xlabel(\"\")\n",
    "plt.ylabel(\"\")\n",
    "plt.show()"
   ]
  },
  {
   "cell_type": "code",
   "execution_count": 27,
   "metadata": {},
   "outputs": [
    {
     "data": {
      "image/png": "[encoded data removed]",
      "text/plain": [
       "<Figure size 720x360 with 1 Axes>"
      ]
     },
     "metadata": {
      "needs_background": "light"
     },
     "output_type": "display_data"
    }
   ],
   "source": [
    "plt.figure(figsize=(10,5))\n",
    "sns.countplot(\"age\", hue=\"treatment\", palette=\"PuBu\",data=df)\n",
    "plt.title(\"Treatment vs Age\",fontsize=12,fontweight=\"bold\")\n",
    "plt.xlabel(\"\")\n",
    "plt.ylabel(\"\")\n",
    "plt.show()"
   ]
  },
  {
   "cell_type": "code",
   "execution_count": 28,
   "metadata": {},
   "outputs": [
    {
     "data": {
      "image/png": "[encoded data removed]",
      "text/plain": [
       "<Figure size 720x360 with 1 Axes>"
      ]
     },
     "metadata": {
      "needs_background": "light"
     },
     "output_type": "display_data"
    }
   ],
   "source": [
    "plt.figure(figsize=(10,5))\n",
    "sns.countplot(\"gender\", hue=\"treatment\", palette=\"PuBu\",data=df)\n",
    "plt.title(\"Treatment vs Gender\",fontsize=12,fontweight=\"bold\")\n",
    "plt.xlabel(\"\")\n",
    "plt.ylabel(\"\")\n",
    "plt.show()"
   ]
  },
  {
   "cell_type": "code",
   "execution_count": 29,
   "metadata": {},
   "outputs": [
    {
     "data": {
      "image/png": "[encoded data removed]",
      "text/plain": [
       "<Figure size 720x360 with 1 Axes>"
      ]
     },
     "metadata": {
      "needs_background": "light"
     },
     "output_type": "display_data"
    }
   ],
   "source": [
    "plt.figure(figsize=(10,5))\n",
    "sns.countplot(\"self_employed\", hue=\"treatment\", palette=\"PuBu\",data=df)\n",
    "plt.title(\"Treatment vs Self Employed\",fontsize=12,fontweight=\"bold\")\n",
    "plt.xlabel(\"\")\n",
    "plt.ylabel(\"\")\n",
    "plt.show()"
   ]
  },
  {
   "cell_type": "code",
   "execution_count": 30,
   "metadata": {},
   "outputs": [
    {
     "data": {
      "image/png": "[encoded data removed]",
      "text/plain": [
       "<Figure size 720x360 with 1 Axes>"
      ]
     },
     "metadata": {
      "needs_background": "light"
     },
     "output_type": "display_data"
    }
   ],
   "source": [
    "plt.figure(figsize=(10,5))\n",
    "sns.countplot(\"work_interfere\", hue=\"treatment\", palette=\"PuBu\",data=df)\n",
    "plt.title(\"Treatment vs Work Interfere\",fontsize=12,fontweight=\"bold\")\n",
    "plt.xlabel(\"\")\n",
    "plt.ylabel(\"\")\n",
    "plt.show()"
   ]
  },
  {
   "cell_type": "code",
   "execution_count": 31,
   "metadata": {},
   "outputs": [
    {
     "data": {
      "image/png": "[encoded data removed]",
      "text/plain": [
       "<Figure size 720x360 with 1 Axes>"
      ]
     },
     "metadata": {
      "needs_background": "light"
     },
     "output_type": "display_data"
    }
   ],
   "source": [
    "plt.figure(figsize=(10,5))\n",
    "sns.countplot(\"no_employees\", hue=\"treatment\", palette=\"PuBu\",data=df)\n",
    "plt.title(\"Treatment vs Number of Employees\",fontsize=12,fontweight=\"bold\")\n",
    "plt.xlabel(\"\")\n",
    "plt.ylabel(\"\")\n",
    "plt.show()"
   ]
  },
  {
   "cell_type": "code",
   "execution_count": 32,
   "metadata": {},
   "outputs": [
    {
     "data": {
      "image/png": "[encoded data removed]",
      "text/plain": [
       "<Figure size 720x360 with 1 Axes>"
      ]
     },
     "metadata": {
      "needs_background": "light"
     },
     "output_type": "display_data"
    }
   ],
   "source": [
    "plt.figure(figsize=(10,5))\n",
    "sns.countplot(\"remote_work\", hue=\"treatment\", palette=\"PuBu\",data=df)\n",
    "plt.title(\"Treatment vs Remote Work\",fontsize=12,fontweight=\"bold\")\n",
    "plt.xlabel(\"\")\n",
    "plt.ylabel(\"\")\n",
    "plt.show()"
   ]
  },
  {
   "cell_type": "code",
   "execution_count": 33,
   "metadata": {},
   "outputs": [
    {
     "data": {
      "image/png": "[encoded data removed]",
      "text/plain": [
       "<Figure size 720x360 with 1 Axes>"
      ]
     },
     "metadata": {
      "needs_background": "light"
     },
     "output_type": "display_data"
    }
   ],
   "source": [
    "plt.figure(figsize=(10,5))\n",
    "sns.countplot(\"tech_company\", hue=\"treatment\", palette=\"PuBu\",data=df)\n",
    "plt.title(\"Treatment vs Tech Company\",fontsize=12,fontweight=\"bold\")\n",
    "plt.xlabel(\"\")\n",
    "plt.ylabel(\"\")\n",
    "plt.show()"
   ]
  },
  {
   "cell_type": "code",
   "execution_count": 34,
   "metadata": {},
   "outputs": [
    {
     "data": {
      "image/png": "[encoded data removed]",
      "text/plain": [
       "<Figure size 720x360 with 1 Axes>"
      ]
     },
     "metadata": {
      "needs_background": "light"
     },
     "output_type": "display_data"
    }
   ],
   "source": [
    "plt.figure(figsize=(10,5))\n",
    "sns.countplot(\"benefits\", hue=\"treatment\", palette=\"PuBu\",data=df)\n",
    "plt.title(\"Treatment vs Benefits\",fontsize=12,fontweight=\"bold\")\n",
    "plt.xlabel(\"\")\n",
    "plt.ylabel(\"\")\n",
    "plt.show()"
   ]
  },
  {
   "cell_type": "code",
   "execution_count": 35,
   "metadata": {},
   "outputs": [
    {
     "data": {
      "image/png": "[encoded data removed]",
      "text/plain": [
       "<Figure size 720x360 with 1 Axes>"
      ]
     },
     "metadata": {
      "needs_background": "light"
     },
     "output_type": "display_data"
    }
   ],
   "source": [
    "plt.figure(figsize=(10,5))\n",
    "sns.countplot(\"care_options\", hue=\"treatment\", palette=\"PuBu\",data=df)\n",
    "plt.title(\"Treatment vs Care Options\",fontsize=12,fontweight=\"bold\")\n",
    "plt.xlabel(\"\")\n",
    "plt.ylabel(\"\")\n",
    "plt.show()"
   ]
  },
  {
   "cell_type": "code",
   "execution_count": 36,
   "metadata": {},
   "outputs": [
    {
     "data": {
      "image/png": "[encoded data removed]",
      "text/plain": [
       "<Figure size 720x360 with 1 Axes>"
      ]
     },
     "metadata": {
      "needs_background": "light"
     },
     "output_type": "display_data"
    }
   ],
   "source": [
    "plt.figure(figsize=(10,5))\n",
    "sns.countplot(\"wellness_program\", hue=\"treatment\", palette=\"PuBu\",data=df)\n",
    "plt.title(\"Treatment vs Wellness Program\",fontsize=12,fontweight=\"bold\")\n",
    "plt.xlabel(\"\")\n",
    "plt.ylabel(\"\")\n",
    "plt.show()"
   ]
  },
  {
   "cell_type": "code",
   "execution_count": 37,
   "metadata": {},
   "outputs": [
    {
     "data": {
      "image/png": "[encoded data removed]",
      "text/plain": [
       "<Figure size 720x360 with 1 Axes>"
      ]
     },
     "metadata": {
      "needs_background": "light"
     },
     "output_type": "display_data"
    }
   ],
   "source": [
    "plt.figure(figsize=(10,5))\n",
    "sns.countplot(\"seek_help\", hue=\"treatment\", palette=\"PuBu\",data=df)\n",
    "plt.title(\"Treatment vs Seek Help\",fontsize=12,fontweight=\"bold\")\n",
    "plt.xlabel(\"\")\n",
    "plt.ylabel(\"\")\n",
    "plt.show()"
   ]
  },
  {
   "cell_type": "code",
   "execution_count": 38,
   "metadata": {},
   "outputs": [
    {
     "data": {
      "image/png": "[encoded data removed]",
      "text/plain": [
       "<Figure size 720x360 with 1 Axes>"
      ]
     },
     "metadata": {
      "needs_background": "light"
     },
     "output_type": "display_data"
    }
   ],
   "source": [
    "plt.figure(figsize=(10,5))\n",
    "sns.countplot(\"anonymity\", hue=\"treatment\", palette=\"PuBu\",data=df)\n",
    "plt.title(\"Treatment vs Anonymity\",fontsize=12,fontweight=\"bold\")\n",
    "plt.xlabel(\"\")\n",
    "plt.ylabel(\"\")\n",
    "plt.show()"
   ]
  },
  {
   "cell_type": "code",
   "execution_count": 39,
   "metadata": {},
   "outputs": [
    {
     "data": {
      "image/png": "[encoded data removed]",
      "text/plain": [
       "<Figure size 720x360 with 1 Axes>"
      ]
     },
     "metadata": {
      "needs_background": "light"
     },
     "output_type": "display_data"
    }
   ],
   "source": [
    "plt.figure(figsize=(10,5))\n",
    "sns.countplot(\"leave\", hue=\"treatment\", palette=\"PuBu\",data=df)\n",
    "plt.title(\"Treatment vs Leave\",fontsize=12,fontweight=\"bold\")\n",
    "plt.xlabel(\"\")\n",
    "plt.ylabel(\"\")\n",
    "plt.show()"
   ]
  },
  {
   "cell_type": "code",
   "execution_count": 40,
   "metadata": {},
   "outputs": [
    {
     "data": {
      "image/png": "[encoded data removed]",
      "text/plain": [
       "<Figure size 720x360 with 1 Axes>"
      ]
     },
     "metadata": {
      "needs_background": "light"
     },
     "output_type": "display_data"
    }
   ],
   "source": [
    "plt.figure(figsize=(10,5))\n",
    "sns.countplot(\"mental_health_consequence\", hue=\"treatment\", palette=\"PuBu\",data=df)\n",
    "plt.title(\"Treatment vs Mental Health Consequence\",fontsize=12,fontweight=\"bold\")\n",
    "plt.xlabel(\"\")\n",
    "plt.ylabel(\"\")\n",
    "plt.show()"
   ]
  },
  {
   "cell_type": "code",
   "execution_count": 41,
   "metadata": {},
   "outputs": [
    {
     "data": {
      "image/png": "[encoded data removed]",
      "text/plain": [
       "<Figure size 720x360 with 1 Axes>"
      ]
     },
     "metadata": {
      "needs_background": "light"
     },
     "output_type": "display_data"
    }
   ],
   "source": [
    "plt.figure(figsize=(10,5))\n",
    "sns.countplot(\"phys_health_consequence\", hue=\"treatment\", palette=\"PuBu\",data=df)\n",
    "plt.title(\"Treatment vs Physical Health Consequence\",fontsize=12,fontweight=\"bold\")\n",
    "plt.xlabel(\"\")\n",
    "plt.ylabel(\"\")\n",
    "plt.show()"
   ]
  },
  {
   "cell_type": "code",
   "execution_count": 42,
   "metadata": {},
   "outputs": [
    {
     "data": {
      "image/png": "[encoded data removed]",
      "text/plain": [
       "<Figure size 720x360 with 1 Axes>"
      ]
     },
     "metadata": {
      "needs_background": "light"
     },
     "output_type": "display_data"
    }
   ],
   "source": [
    "plt.figure(figsize=(10,5))\n",
    "sns.countplot(\"coworkers\", hue=\"treatment\", palette=\"PuBu\",data=df)\n",
    "plt.title(\"Treatment vs Coworkers\",fontsize=12,fontweight=\"bold\")\n",
    "plt.xlabel(\"\")\n",
    "plt.ylabel(\"\")\n",
    "plt.show()"
   ]
  },
  {
   "cell_type": "code",
   "execution_count": 43,
   "metadata": {},
   "outputs": [
    {
     "data": {
      "image/png": "[encoded data removed]",
      "text/plain": [
       "<Figure size 720x360 with 1 Axes>"
      ]
     },
     "metadata": {
      "needs_background": "light"
     },
     "output_type": "display_data"
    }
   ],
   "source": [
    "plt.figure(figsize=(10,5))\n",
    "sns.countplot(\"supervisor\", hue=\"treatment\", palette=\"PuBu\",data=df)\n",
    "plt.title(\"Treatment vs Supervisor\",fontsize=12,fontweight=\"bold\")\n",
    "plt.xlabel(\"\")\n",
    "plt.ylabel(\"\")\n",
    "plt.show()"
   ]
  },
  {
   "cell_type": "code",
   "execution_count": 44,
   "metadata": {},
   "outputs": [
    {
     "data": {
      "image/png": "[encoded data removed]",
      "text/plain": [
       "<Figure size 720x360 with 1 Axes>"
      ]
     },
     "metadata": {
      "needs_background": "light"
     },
     "output_type": "display_data"
    }
   ],
   "source": [
    "plt.figure(figsize=(10,5))\n",
    "sns.countplot(\"mental_health_interview\", hue=\"treatment\", palette=\"PuBu\",data=df)\n",
    "plt.title(\"Treatment vs Mental Health Interview\",fontsize=12,fontweight=\"bold\")\n",
    "plt.xlabel(\"\")\n",
    "plt.ylabel(\"\")\n",
    "plt.show()"
   ]
  },
  {
   "cell_type": "code",
   "execution_count": 45,
   "metadata": {},
   "outputs": [
    {
     "data": {
      "image/png": "[encoded data removed]",
      "text/plain": [
       "<Figure size 720x360 with 1 Axes>"
      ]
     },
     "metadata": {
      "needs_background": "light"
     },
     "output_type": "display_data"
    }
   ],
   "source": [
    "plt.figure(figsize=(10,5))\n",
    "sns.countplot(\"phys_health_interview\", hue=\"treatment\", palette=\"PuBu\",data=df)\n",
    "plt.title(\"Treatment vs Physical Health Interview\",fontsize=12,fontweight=\"bold\")\n",
    "plt.xlabel(\"\")\n",
    "plt.ylabel(\"\")\n",
    "plt.show()"
   ]
  },
  {
   "cell_type": "code",
   "execution_count": 46,
   "metadata": {},
   "outputs": [
    {
     "data": {
      "image/png": "[encoded data removed]",
      "text/plain": [
       "<Figure size 720x360 with 1 Axes>"
      ]
     },
     "metadata": {
      "needs_background": "light"
     },
     "output_type": "display_data"
    }
   ],
   "source": [
    "plt.figure(figsize=(10,5))\n",
    "sns.countplot(\"mental_vs_physical\", hue=\"treatment\", palette=\"PuBu\",data=df)\n",
    "plt.title(\"Treatment vs Mental/Physical\",fontsize=12,fontweight=\"bold\")\n",
    "plt.xlabel(\"\")\n",
    "plt.ylabel(\"\")\n",
    "plt.show()"
   ]
  },
  {
   "cell_type": "code",
   "execution_count": 47,
   "metadata": {},
   "outputs": [
    {
     "data": {
      "image/png": "[encoded data removed]",
      "text/plain": [
       "<Figure size 720x360 with 1 Axes>"
      ]
     },
     "metadata": {
      "needs_background": "light"
     },
     "output_type": "display_data"
    }
   ],
   "source": [
    "plt.figure(figsize=(10,5))\n",
    "sns.countplot(\"obs_consequence\", hue=\"treatment\", palette=\"PuBu\",data=df)\n",
    "plt.title(\"Treatment vs Observed Negative Consequences\",fontsize=12,fontweight=\"bold\")\n",
    "plt.xlabel(\"\")\n",
    "plt.ylabel(\"\")\n",
    "plt.show()"
   ]
  },
  {
   "cell_type": "markdown",
   "metadata": {},
   "source": [
    "#### Label Encoding"
   ]
  },
  {
   "cell_type": "code",
   "execution_count": 48,
   "metadata": {},
   "outputs": [],
   "source": [
    "from sklearn.preprocessing import LabelEncoder\n",
    "\n",
    "age= LabelEncoder()\n",
    "gender= LabelEncoder()\n",
    "country= LabelEncoder()\n",
    "state= LabelEncoder()\n",
    "self_employed= LabelEncoder()\n",
    "family_history= LabelEncoder()     \n",
    "treatment=LabelEncoder() \n",
    "work_interfere= LabelEncoder()\n",
    "no_employees= LabelEncoder()\n",
    "remote_work= LabelEncoder()     \n",
    "tech_company= LabelEncoder()\n",
    "benefits= LabelEncoder()\n",
    "care_options= LabelEncoder()\n",
    "wellness_program= LabelEncoder()     \n",
    "seek_help= LabelEncoder()\n",
    "anonymity=LabelEncoder() \n",
    "leave= LabelEncoder()\n",
    "mental_health_consequence=LabelEncoder()\n",
    "phys_health_consequence= LabelEncoder()\n",
    "coworkers=LabelEncoder()\n",
    "supervisor=LabelEncoder()\n",
    "mental_health_interview= LabelEncoder()\n",
    "phys_health_interview=LabelEncoder()\n",
    "mental_vs_physical= LabelEncoder()\n",
    "obs_consequence=LabelEncoder()\n",
    "\n",
    "\n",
    "df['age']=gender.fit_transform(df['age'])\n",
    "df['gender']=gender.fit_transform(df['gender']) \n",
    "df['country']=country.fit_transform(df['country']) \n",
    "\n",
    "df['self_employed']=self_employed.fit_transform(df['self_employed'])  \n",
    "df['family_history']=family_history.fit_transform(df['family_history'])       \n",
    "df['treatment']=treatment.fit_transform(df['treatment'])  \n",
    "df['work_interfere']=work_interfere.fit_transform(df['work_interfere'])  \n",
    "df['no_employees']=no_employees.fit_transform(df['no_employees'])  \n",
    "df['remote_work']=remote_work.fit_transform(df['remote_work'])       \n",
    "df['tech_company']=tech_company.fit_transform(df['tech_company'])  \n",
    "df['benefits']=benefits.fit_transform(df['benefits'])  \n",
    "df['care_options']=care_options.fit_transform(df['care_options'])  \n",
    "df['wellness_program']=wellness_program.fit_transform(df['wellness_program'])       \n",
    "df['seek_help']=seek_help.fit_transform(df['seek_help'])  \n",
    "df['anonymity']=anonymity.fit_transform(df['anonymity'])  \n",
    "df['leave']=leave.fit_transform(df['leave'])  \n",
    "df['mental_health_consequence']=mental_health_consequence.fit_transform(df['mental_health_consequence']) \n",
    "df['phys_health_consequence']=phys_health_consequence.fit_transform(df['phys_health_consequence'])  \n",
    "df['coworkers']=coworkers.fit_transform(df['coworkers'])  \n",
    "df['supervisor']=supervisor.fit_transform(df['supervisor']) \n",
    "df['mental_health_interview']=mental_health_interview.fit_transform(df['mental_health_interview'])  \n",
    "df['phys_health_interview']=phys_health_interview.fit_transform(df['phys_health_interview']) \n",
    "df['mental_vs_physical']=mental_vs_physical.fit_transform(df['mental_vs_physical'])  \n",
    "df['obs_consequence']=obs_consequence.fit_transform(df['obs_consequence']) \n",
    "\n"
   ]
  },
  {
   "cell_type": "code",
   "execution_count": 49,
   "metadata": {},
   "outputs": [
    {
     "data": {
      "text/html": [
       "<div>\n",
       "<style scoped>\n",
       "    .dataframe tbody tr th:only-of-type {\n",
       "        vertical-align: middle;\n",
       "    }\n",
       "\n",
       "    .dataframe tbody tr th {\n",
       "        vertical-align: top;\n",
       "    }\n",
       "\n",
       "    .dataframe thead th {\n",
       "        text-align: right;\n",
       "    }\n",
       "</style>\n",
       "<table border=\"1\" class=\"dataframe\">\n",
       "  <thead>\n",
       "    <tr style=\"text-align: right;\">\n",
       "      <th></th>\n",
       "      <th>age</th>\n",
       "      <th>gender</th>\n",
       "      <th>country</th>\n",
       "      <th>self_employed</th>\n",
       "      <th>family_history</th>\n",
       "      <th>treatment</th>\n",
       "      <th>work_interfere</th>\n",
       "      <th>no_employees</th>\n",
       "      <th>remote_work</th>\n",
       "      <th>tech_company</th>\n",
       "      <th>...</th>\n",
       "      <th>anonymity</th>\n",
       "      <th>leave</th>\n",
       "      <th>mental_health_consequence</th>\n",
       "      <th>phys_health_consequence</th>\n",
       "      <th>coworkers</th>\n",
       "      <th>supervisor</th>\n",
       "      <th>mental_health_interview</th>\n",
       "      <th>phys_health_interview</th>\n",
       "      <th>mental_vs_physical</th>\n",
       "      <th>obs_consequence</th>\n",
       "    </tr>\n",
       "  </thead>\n",
       "  <tbody>\n",
       "    <tr>\n",
       "      <th>count</th>\n",
       "      <td>1259.000000</td>\n",
       "      <td>1259.000000</td>\n",
       "      <td>1259.000000</td>\n",
       "      <td>1259.000000</td>\n",
       "      <td>1259.000000</td>\n",
       "      <td>1259.000000</td>\n",
       "      <td>1259.000000</td>\n",
       "      <td>1259.000000</td>\n",
       "      <td>1259.000000</td>\n",
       "      <td>1259.000000</td>\n",
       "      <td>...</td>\n",
       "      <td>1259.000000</td>\n",
       "      <td>1259.000000</td>\n",
       "      <td>1259.000000</td>\n",
       "      <td>1259.000000</td>\n",
       "      <td>1259.00000</td>\n",
       "      <td>1259.000000</td>\n",
       "      <td>1259.000000</td>\n",
       "      <td>1259.000000</td>\n",
       "      <td>1259.000000</td>\n",
       "      <td>1259.000000</td>\n",
       "    </tr>\n",
       "    <tr>\n",
       "      <th>mean</th>\n",
       "      <td>1.193805</td>\n",
       "      <td>0.820492</td>\n",
       "      <td>37.792693</td>\n",
       "      <td>0.115965</td>\n",
       "      <td>0.390786</td>\n",
       "      <td>0.505957</td>\n",
       "      <td>2.335981</td>\n",
       "      <td>2.783161</td>\n",
       "      <td>0.298650</td>\n",
       "      <td>0.818904</td>\n",
       "      <td>...</td>\n",
       "      <td>0.647339</td>\n",
       "      <td>1.410643</td>\n",
       "      <td>0.853058</td>\n",
       "      <td>0.831612</td>\n",
       "      <td>0.97220</td>\n",
       "      <td>1.097697</td>\n",
       "      <td>0.870532</td>\n",
       "      <td>0.718030</td>\n",
       "      <td>0.814932</td>\n",
       "      <td>0.146148</td>\n",
       "    </tr>\n",
       "    <tr>\n",
       "      <th>std</th>\n",
       "      <td>0.887428</td>\n",
       "      <td>0.425192</td>\n",
       "      <td>13.320224</td>\n",
       "      <td>0.320310</td>\n",
       "      <td>0.488121</td>\n",
       "      <td>0.500163</td>\n",
       "      <td>1.373980</td>\n",
       "      <td>1.740247</td>\n",
       "      <td>0.457848</td>\n",
       "      <td>0.385251</td>\n",
       "      <td>...</td>\n",
       "      <td>0.908106</td>\n",
       "      <td>1.508507</td>\n",
       "      <td>0.767905</td>\n",
       "      <td>0.486954</td>\n",
       "      <td>0.62029</td>\n",
       "      <td>0.844407</td>\n",
       "      <td>0.427490</td>\n",
       "      <td>0.723718</td>\n",
       "      <td>0.834414</td>\n",
       "      <td>0.353395</td>\n",
       "    </tr>\n",
       "    <tr>\n",
       "      <th>min</th>\n",
       "      <td>0.000000</td>\n",
       "      <td>0.000000</td>\n",
       "      <td>0.000000</td>\n",
       "      <td>0.000000</td>\n",
       "      <td>0.000000</td>\n",
       "      <td>0.000000</td>\n",
       "      <td>0.000000</td>\n",
       "      <td>0.000000</td>\n",
       "      <td>0.000000</td>\n",
       "      <td>0.000000</td>\n",
       "      <td>...</td>\n",
       "      <td>0.000000</td>\n",
       "      <td>0.000000</td>\n",
       "      <td>0.000000</td>\n",
       "      <td>0.000000</td>\n",
       "      <td>0.00000</td>\n",
       "      <td>0.000000</td>\n",
       "      <td>0.000000</td>\n",
       "      <td>0.000000</td>\n",
       "      <td>0.000000</td>\n",
       "      <td>0.000000</td>\n",
       "    </tr>\n",
       "    <tr>\n",
       "      <th>25%</th>\n",
       "      <td>1.000000</td>\n",
       "      <td>1.000000</td>\n",
       "      <td>42.000000</td>\n",
       "      <td>0.000000</td>\n",
       "      <td>0.000000</td>\n",
       "      <td>0.000000</td>\n",
       "      <td>1.000000</td>\n",
       "      <td>1.000000</td>\n",
       "      <td>0.000000</td>\n",
       "      <td>1.000000</td>\n",
       "      <td>...</td>\n",
       "      <td>0.000000</td>\n",
       "      <td>0.000000</td>\n",
       "      <td>0.000000</td>\n",
       "      <td>1.000000</td>\n",
       "      <td>1.00000</td>\n",
       "      <td>0.000000</td>\n",
       "      <td>1.000000</td>\n",
       "      <td>0.000000</td>\n",
       "      <td>0.000000</td>\n",
       "      <td>0.000000</td>\n",
       "    </tr>\n",
       "    <tr>\n",
       "      <th>50%</th>\n",
       "      <td>1.000000</td>\n",
       "      <td>1.000000</td>\n",
       "      <td>45.000000</td>\n",
       "      <td>0.000000</td>\n",
       "      <td>0.000000</td>\n",
       "      <td>1.000000</td>\n",
       "      <td>3.000000</td>\n",
       "      <td>3.000000</td>\n",
       "      <td>0.000000</td>\n",
       "      <td>1.000000</td>\n",
       "      <td>...</td>\n",
       "      <td>0.000000</td>\n",
       "      <td>1.000000</td>\n",
       "      <td>1.000000</td>\n",
       "      <td>1.000000</td>\n",
       "      <td>1.00000</td>\n",
       "      <td>1.000000</td>\n",
       "      <td>1.000000</td>\n",
       "      <td>1.000000</td>\n",
       "      <td>1.000000</td>\n",
       "      <td>0.000000</td>\n",
       "    </tr>\n",
       "    <tr>\n",
       "      <th>75%</th>\n",
       "      <td>2.000000</td>\n",
       "      <td>1.000000</td>\n",
       "      <td>45.000000</td>\n",
       "      <td>0.000000</td>\n",
       "      <td>1.000000</td>\n",
       "      <td>1.000000</td>\n",
       "      <td>3.000000</td>\n",
       "      <td>4.000000</td>\n",
       "      <td>1.000000</td>\n",
       "      <td>1.000000</td>\n",
       "      <td>...</td>\n",
       "      <td>2.000000</td>\n",
       "      <td>2.000000</td>\n",
       "      <td>1.000000</td>\n",
       "      <td>1.000000</td>\n",
       "      <td>1.00000</td>\n",
       "      <td>2.000000</td>\n",
       "      <td>1.000000</td>\n",
       "      <td>1.000000</td>\n",
       "      <td>2.000000</td>\n",
       "      <td>0.000000</td>\n",
       "    </tr>\n",
       "    <tr>\n",
       "      <th>max</th>\n",
       "      <td>6.000000</td>\n",
       "      <td>2.000000</td>\n",
       "      <td>47.000000</td>\n",
       "      <td>1.000000</td>\n",
       "      <td>1.000000</td>\n",
       "      <td>1.000000</td>\n",
       "      <td>4.000000</td>\n",
       "      <td>5.000000</td>\n",
       "      <td>1.000000</td>\n",
       "      <td>1.000000</td>\n",
       "      <td>...</td>\n",
       "      <td>2.000000</td>\n",
       "      <td>4.000000</td>\n",
       "      <td>2.000000</td>\n",
       "      <td>2.000000</td>\n",
       "      <td>2.00000</td>\n",
       "      <td>2.000000</td>\n",
       "      <td>2.000000</td>\n",
       "      <td>2.000000</td>\n",
       "      <td>2.000000</td>\n",
       "      <td>1.000000</td>\n",
       "    </tr>\n",
       "  </tbody>\n",
       "</table>\n",
       "<p>8 rows × 24 columns</p>\n",
       "</div>"
      ],
      "text/plain": [
       "               age       gender      country  self_employed  family_history  \\\n",
       "count  1259.000000  1259.000000  1259.000000    1259.000000     1259.000000   \n",
       "mean      1.193805     0.820492    37.792693       0.115965        0.390786   \n",
       "std       0.887428     0.425192    13.320224       0.320310        0.488121   \n",
       "min       0.000000     0.000000     0.000000       0.000000        0.000000   \n",
       "25%       1.000000     1.000000    42.000000       0.000000        0.000000   \n",
       "50%       1.000000     1.000000    45.000000       0.000000        0.000000   \n",
       "75%       2.000000     1.000000    45.000000       0.000000        1.000000   \n",
       "max       6.000000     2.000000    47.000000       1.000000        1.000000   \n",
       "\n",
       "         treatment  work_interfere  no_employees  remote_work  tech_company  \\\n",
       "count  1259.000000     1259.000000   1259.000000  1259.000000   1259.000000   \n",
       "mean      0.505957        2.335981      2.783161     0.298650      0.818904   \n",
       "std       0.500163        1.373980      1.740247     0.457848      0.385251   \n",
       "min       0.000000        0.000000      0.000000     0.000000      0.000000   \n",
       "25%       0.000000        1.000000      1.000000     0.000000      1.000000   \n",
       "50%       1.000000        3.000000      3.000000     0.000000      1.000000   \n",
       "75%       1.000000        3.000000      4.000000     1.000000      1.000000   \n",
       "max       1.000000        4.000000      5.000000     1.000000      1.000000   \n",
       "\n",
       "       ...    anonymity        leave  mental_health_consequence  \\\n",
       "count  ...  1259.000000  1259.000000                1259.000000   \n",
       "mean   ...     0.647339     1.410643                   0.853058   \n",
       "std    ...     0.908106     1.508507                   0.767905   \n",
       "min    ...     0.000000     0.000000                   0.000000   \n",
       "25%    ...     0.000000     0.000000                   0.000000   \n",
       "50%    ...     0.000000     1.000000                   1.000000   \n",
       "75%    ...     2.000000     2.000000                   1.000000   \n",
       "max    ...     2.000000     4.000000                   2.000000   \n",
       "\n",
       "       phys_health_consequence   coworkers   supervisor  \\\n",
       "count              1259.000000  1259.00000  1259.000000   \n",
       "mean                  0.831612     0.97220     1.097697   \n",
       "std                   0.486954     0.62029     0.844407   \n",
       "min                   0.000000     0.00000     0.000000   \n",
       "25%                   1.000000     1.00000     0.000000   \n",
       "50%                   1.000000     1.00000     1.000000   \n",
       "75%                   1.000000     1.00000     2.000000   \n",
       "max                   2.000000     2.00000     2.000000   \n",
       "\n",
       "       mental_health_interview  phys_health_interview  mental_vs_physical  \\\n",
       "count              1259.000000            1259.000000         1259.000000   \n",
       "mean                  0.870532               0.718030            0.814932   \n",
       "std                   0.427490               0.723718            0.834414   \n",
       "min                   0.000000               0.000000            0.000000   \n",
       "25%                   1.000000               0.000000            0.000000   \n",
       "50%                   1.000000               1.000000            1.000000   \n",
       "75%                   1.000000               1.000000            2.000000   \n",
       "max                   2.000000               2.000000            2.000000   \n",
       "\n",
       "       obs_consequence  \n",
       "count      1259.000000  \n",
       "mean          0.146148  \n",
       "std           0.353395  \n",
       "min           0.000000  \n",
       "25%           0.000000  \n",
       "50%           0.000000  \n",
       "75%           0.000000  \n",
       "max           1.000000  \n",
       "\n",
       "[8 rows x 24 columns]"
      ]
     },
     "execution_count": 49,
     "metadata": {},
     "output_type": "execute_result"
    }
   ],
   "source": [
    "df.describe()"
   ]
  },
  {
   "cell_type": "code",
   "execution_count": 50,
   "metadata": {},
   "outputs": [
    {
     "data": {
      "text/plain": [
       "1    706\n",
       "2    277\n",
       "0    210\n",
       "3     42\n",
       "4     13\n",
       "6     10\n",
       "5      1\n",
       "Name: age, dtype: int64"
      ]
     },
     "execution_count": 50,
     "metadata": {},
     "output_type": "execute_result"
    }
   ],
   "source": [
    "df['age'].value_counts()"
   ]
  },
  {
   "cell_type": "code",
   "execution_count": 51,
   "metadata": {},
   "outputs": [
    {
     "data": {
      "text/plain": [
       "45    751\n",
       "44    185\n",
       "7      72\n",
       "17     45\n",
       "21     27\n",
       "28     27\n",
       "0      21\n",
       "15     13\n",
       "20     10\n",
       "29      8\n",
       "33      7\n",
       "23      7\n",
       "41      7\n",
       "42      7\n",
       "3       6\n",
       "5       6\n",
       "39      6\n",
       "22      5\n",
       "37      4\n",
       "6       4\n",
       "36      3\n",
       "1       3\n",
       "14      3\n",
       "26      3\n",
       "18      2\n",
       "11      2\n",
       "34      2\n",
       "13      2\n",
       "9       2\n",
       "10      1\n",
       "8       1\n",
       "12      1\n",
       "4       1\n",
       "2       1\n",
       "43      1\n",
       "35      1\n",
       "16      1\n",
       "19      1\n",
       "40      1\n",
       "46      1\n",
       "24      1\n",
       "25      1\n",
       "27      1\n",
       "38      1\n",
       "30      1\n",
       "31      1\n",
       "32      1\n",
       "47      1\n",
       "Name: country, dtype: int64"
      ]
     },
     "execution_count": 51,
     "metadata": {},
     "output_type": "execute_result"
    }
   ],
   "source": [
    "df['country'].value_counts()"
   ]
  },
  {
   "cell_type": "markdown",
   "metadata": {},
   "source": [
    "Looking the distribution of country, I've decided to drop it as well, considering most of the countries do not have many participants, it really does not have much of an effect on the modeling. "
   ]
  },
  {
   "cell_type": "code",
   "execution_count": 52,
   "metadata": {},
   "outputs": [],
   "source": [
    "df = df.drop(['country'], axis=1)"
   ]
  },
  {
   "cell_type": "markdown",
   "metadata": {},
   "source": [
    "#### Check Correlations"
   ]
  },
  {
   "cell_type": "code",
   "execution_count": 53,
   "metadata": {
    "scrolled": true
   },
   "outputs": [
    {
     "data": {
      "text/plain": [
       "Text(0.5, 1.0, 'Mental Health in Tech Survey Correlations')"
      ]
     },
     "execution_count": 53,
     "metadata": {},
     "output_type": "execute_result"
    },
    {
     "data": {
      "image/png": "[encoded data removed]",
      "text/plain": [
       "<Figure size 2160x864 with 2 Axes>"
      ]
     },
     "metadata": {
      "needs_background": "light"
     },
     "output_type": "display_data"
    }
   ],
   "source": [
    "#Correlations\n",
    "\n",
    "plt.figure(figsize=(30,12))\n",
    "sns.heatmap(df.corr(),cmap = 'PuBu',annot=True, square=True, fmt='.2f', annot_kws={'size': 10})\n",
    "plt.title('Mental Health in Tech Survey Correlations')"
   ]
  },
  {
   "cell_type": "code",
   "execution_count": 54,
   "metadata": {},
   "outputs": [
    {
     "data": {
      "text/plain": [
       "treatment                    1.000000\n",
       "family_history               0.377918\n",
       "care_options                 0.236578\n",
       "benefits                     0.226140\n",
       "obs_consequence              0.156972\n",
       "anonymity                    0.142889\n",
       "mental_health_interview      0.098413\n",
       "wellness_program             0.094713\n",
       "seek_help                    0.089935\n",
       "coworkers                    0.068433\n",
       "mental_vs_physical           0.062642\n",
       "leave                        0.061549\n",
       "phys_health_interview        0.051859\n",
       "age                          0.042170\n",
       "mental_health_consequence    0.030221\n",
       "remote_work                  0.026937\n",
       "self_employed                0.020493\n",
       "phys_health_consequence     -0.008933\n",
       "tech_company                -0.031525\n",
       "work_interfere              -0.035881\n",
       "supervisor                  -0.036199\n",
       "no_employees                -0.050114\n",
       "gender                      -0.144482\n",
       "Name: treatment, dtype: float64"
      ]
     },
     "execution_count": 54,
     "metadata": {},
     "output_type": "execute_result"
    }
   ],
   "source": [
    "corr=df.corr()['treatment']\n",
    "corr[np.argsort(corr,axis=0)[::-1]]"
   ]
  },
  {
   "cell_type": "markdown",
   "metadata": {},
   "source": [
    "From the correlation commands executed I see where there may be strong correlations, and I have an idea of which columns and values would be of high importance."
   ]
  },
  {
   "cell_type": "markdown",
   "metadata": {},
   "source": [
    "#### A specified research question your model addresses"
   ]
  },
  {
   "cell_type": "markdown",
   "metadata": {},
   "source": [
    "My model will address the question of whether the survey takers' answers to any of the questions can be used to predict whether they have sought treatment for mental health conditions. I will test multiple models and compare them against each other and determine which best predicts the answers to my question.\n"
   ]
  },
  {
   "cell_type": "markdown",
   "metadata": {},
   "source": [
    "#### Setup for Modeling"
   ]
  },
  {
   "cell_type": "markdown",
   "metadata": {},
   "source": [
    "From the visualizations above, I noticed the biggest difference in the features that I decided to use for X in relation to y. "
   ]
  },
  {
   "cell_type": "code",
   "execution_count": 55,
   "metadata": {},
   "outputs": [],
   "source": [
    "#Setup X and y\n",
    "X= df[['family_history','age','benefits','gender',\n",
    "       'care_options', 'work_interfere', 'leave', 'anonymity' ]]\n",
    "y=df['treatment']\n"
   ]
  },
  {
   "cell_type": "code",
   "execution_count": 56,
   "metadata": {},
   "outputs": [],
   "source": [
    "#train test split\n",
    "from sklearn.model_selection import train_test_split\n",
    "\n",
    "X_train, X_test, y_train, y_test = train_test_split(X,y, test_size = 0.3, random_state = 42)\n"
   ]
  },
  {
   "cell_type": "markdown",
   "metadata": {},
   "source": [
    "### Modeling"
   ]
  },
  {
   "cell_type": "markdown",
   "metadata": {},
   "source": [
    "#### How you chose your model specification and what alternatives you compared it to?"
   ]
  },
  {
   "cell_type": "markdown",
   "metadata": {},
   "source": [
    "I wanted to look at four models and compare how they worked with this data. I decided to use the first model that I learned that could be applied for categorical features, logistic regression, and three other models (Random Forest, Support Vector Machines, and Gradient Boost) that I was familiar with, and thought would preform well. \n",
    "\n",
    "Initially I wanted to test these models in their vanilla state (but with the same random_state) before I added any parameters, just to see how they performed with default settings. \n",
    "\n"
   ]
  },
  {
   "cell_type": "markdown",
   "metadata": {},
   "source": [
    "#### Logistic Regression"
   ]
  },
  {
   "cell_type": "code",
   "execution_count": 57,
   "metadata": {},
   "outputs": [
    {
     "name": "stdout",
     "output_type": "stream",
     "text": [
      "9.37 ns ± 0.219 ns per loop (mean ± std. dev. of 7 runs, 100000000 loops each)\n",
      "\n",
      "\n",
      "Logistic Regression Accuracy Score: 69.31216931216932\n",
      "Logistic Regression F1 Score: 69.31131019036954\n",
      "Logistic Regression Precision Score: 69.39890710382514\n",
      "Logistic Regression Recall Score: 69.41414028101075\n",
      "Logistic Regression Cross Validation Scores: [64.96598639 69.3877551  73.37883959]\n",
      "\n",
      "\n",
      "Logistic Regression Confusion Matrix:\n",
      " [[130  51]\n",
      " [ 65 132]]\n"
     ]
    }
   ],
   "source": [
    "import timeit\n",
    "from sklearn.linear_model import LogisticRegression\n",
    "from sklearn.metrics import accuracy_score, f1_score, precision_score, recall_score, classification_report, confusion_matrix\n",
    "\n",
    "%timeit pass\n",
    "\n",
    "lr = LogisticRegression(random_state = 42)\n",
    "lr.fit(X_train, y_train)\n",
    "lr_predict = lr.predict(X_test)\n",
    "#print confusion matrix and accuracy score\n",
    "lr_conf_matrix = confusion_matrix(y_test, lr_predict)\n",
    "lr_acc_score = accuracy_score(y_test, lr_predict)\n",
    "\n",
    "print(\"\\n\")\n",
    "print(\"Logistic Regression Accuracy Score:\",lr_acc_score*100)\n",
    "print(\"Logistic Regression F1 Score:\",f1_score(y_test, lr_predict, average=\"macro\")*100)\n",
    "print(\"Logistic Regression Precision Score:\",precision_score(y_test,lr_predict, average=\"macro\")*100)\n",
    "print(\"Logistic Regression Recall Score:\",recall_score(y_test, lr_predict, average=\"macro\")*100) \n",
    "print(\"Logistic Regression Cross Validation Scores:\", cross_val_score(lr, X_train, y_train, cv=3)*100)\n",
    "print(\"\\n\")\n",
    "\n",
    "print(\"Logistic Regression Confusion Matrix:\\n\",lr_conf_matrix)"
   ]
  },
  {
   "cell_type": "markdown",
   "metadata": {},
   "source": [
    "#### Random Forest"
   ]
  },
  {
   "cell_type": "code",
   "execution_count": 58,
   "metadata": {},
   "outputs": [
    {
     "name": "stdout",
     "output_type": "stream",
     "text": [
      "9.2 ns ± 0.261 ns per loop (mean ± std. dev. of 7 runs, 100000000 loops each)\n",
      "\n",
      "\n",
      "Random Forest Classifier Accuracy Score: 79.1005291005291\n",
      "Random Forest Classifier F1 Score: 79.03582485625829\n",
      "Random Forest Classifier Precision Score: 79.09259675967597\n",
      "Random Forest Classifier Recall Score: 79.00692711108618\n",
      "Random Forest Classifier Cross Validation Scores: [76.19047619 79.59183673 77.81569966]\n",
      "\n",
      "\n",
      "Random Forest Classifier Confusion Matrix:\n",
      " [[139  42]\n",
      " [ 37 160]]\n"
     ]
    }
   ],
   "source": [
    "#random forest\n",
    "from sklearn.ensemble import RandomForestClassifier\n",
    "\n",
    "#decided to time the modeling \n",
    "%timeit pass\n",
    "\n",
    "rfc = RandomForestClassifier(random_state = 42)\n",
    "rfc.fit(X_train, y_train)\n",
    "pred_rfc = rfc.predict(X_test)\n",
    "#Check accuracy\n",
    "\n",
    "print('\\n')\n",
    "print(\"Random Forest Classifier Accuracy Score:\",accuracy_score(y_test,pred_rfc )*100)\n",
    "print(\"Random Forest Classifier F1 Score:\",f1_score(y_test,pred_rfc, average=\"macro\")*100)\n",
    "print(\"Random Forest Classifier Precision Score:\",precision_score(y_test,pred_rfc, average=\"macro\")*100)\n",
    "print(\"Random Forest Classifier Recall Score:\",recall_score(y_test, pred_rfc, average=\"macro\")*100) \n",
    "print(\"Random Forest Classifier Cross Validation Scores:\", cross_val_score(rfc, X_train, y_train, cv=3)*100)\n",
    "print(\"\\n\")\n",
    "print(\"Random Forest Classifier Confusion Matrix:\\n\", confusion_matrix(y_test,pred_rfc))\n",
    "\n"
   ]
  },
  {
   "cell_type": "markdown",
   "metadata": {},
   "source": [
    "<b>Support Vector"
   ]
  },
  {
   "cell_type": "code",
   "execution_count": 59,
   "metadata": {},
   "outputs": [
    {
     "name": "stdout",
     "output_type": "stream",
     "text": [
      "9.05 ns ± 0.372 ns per loop (mean ± std. dev. of 7 runs, 100000000 loops each)\n",
      "\n",
      "\n",
      "Support Vector Classifier Accuracy Score: 82.53968253968253\n",
      "Support Vector Classifier F1 Score: 82.14786615908636\n",
      "Support Vector Classifier Precision Score: 84.20863632282969\n",
      "Support Vector Classifier Recall Score: 82.05962363631265\n",
      "Support Vector Cross Validation Scores: [81.63265306 82.99319728 82.59385666]\n",
      "\n",
      "\n",
      "Support Vector Confusion Matrix:\n",
      " [[128  53]\n",
      " [ 13 184]]\n"
     ]
    }
   ],
   "source": [
    "#Support vector\n",
    "from sklearn.svm import SVC\n",
    "\n",
    "%timeit pass\n",
    "\n",
    "svc = SVC(random_state = 42)\n",
    "svc.fit(X_train, y_train)\n",
    "pred_svc = svc.predict(X_test)\n",
    "\n",
    "print('\\n')\n",
    "print(\"Support Vector Classifier Accuracy Score:\",accuracy_score(y_test,pred_svc )*100)\n",
    "print(\"Support Vector Classifier F1 Score:\",f1_score(y_test, pred_svc, average=\"macro\")*100)\n",
    "print(\"Support Vector Classifier Precision Score:\",precision_score(y_test,pred_svc, average=\"macro\")*100)\n",
    "print(\"Support Vector Classifier Recall Score:\",recall_score(y_test, pred_svc, average=\"macro\")*100) \n",
    "print(\"Support Vector Cross Validation Scores:\", cross_val_score(svc, X_train, y_train, cv=3)*100)\n",
    "print(\"\\n\")\n",
    "print(\"Support Vector Confusion Matrix:\\n\", confusion_matrix(y_test,pred_svc))"
   ]
  },
  {
   "cell_type": "markdown",
   "metadata": {},
   "source": [
    "<b>Gradient Boosting Classifier"
   ]
  },
  {
   "cell_type": "code",
   "execution_count": 60,
   "metadata": {},
   "outputs": [
    {
     "name": "stdout",
     "output_type": "stream",
     "text": [
      "9.12 ns ± 0.217 ns per loop (mean ± std. dev. of 7 runs, 100000000 loops each)\n",
      "\n",
      "\n",
      "Gradient Boosting Classifier Accuracy Score: 82.27513227513228\n",
      "Gradient Boosting Classifier F1 Score: 82.02031819053096\n",
      "Gradient Boosting Classifier Precision Score: 83.13053097345133\n",
      "Gradient Boosting Classifier Recall Score: 81.917996466332\n",
      "Gradient Boosting Classifier Cross Validation Scores: [83.33333333 82.99319728 82.25255973]\n",
      "\n",
      "\n",
      "Gradient Boosting Classifier Confusion Matrix:\n",
      " [[133  48]\n",
      " [ 19 178]]\n"
     ]
    }
   ],
   "source": [
    "from sklearn import ensemble\n",
    "\n",
    "\n",
    "%timeit pass\n",
    "\n",
    "gbc = ensemble.GradientBoostingClassifier(random_state = 42)\n",
    "gbc.fit(X_train, y_train)\n",
    "pred_gbc = gbc.predict(X_test)\n",
    "#Check accuracy\n",
    "\n",
    "print('\\n')\n",
    "print(\"Gradient Boosting Classifier Accuracy Score:\",accuracy_score(y_test,pred_gbc )*100)\n",
    "print(\"Gradient Boosting Classifier F1 Score:\",f1_score(y_test, pred_gbc, average=\"macro\")*100)\n",
    "print(\"Gradient Boosting Classifier Precision Score:\",precision_score(y_test,pred_gbc, average=\"macro\")*100)\n",
    "print(\"Gradient Boosting Classifier Recall Score:\",recall_score(y_test, pred_gbc, average=\"macro\")*100) \n",
    "print(\"Gradient Boosting Classifier Cross Validation Scores:\", cross_val_score(gbc, X_train, y_train, cv=3)*100)\n",
    "print(\"\\n\")\n",
    "print(\"Gradient Boosting Classifier Confusion Matrix:\\n\", confusion_matrix(y_test,pred_gbc))\n"
   ]
  },
  {
   "cell_type": "markdown",
   "metadata": {},
   "source": [
    "<b> Looking at the initial scores of these models, I thought that I could improve the accuracies so I decided to explore Parameter Tuning. "
   ]
  },
  {
   "cell_type": "markdown",
   "metadata": {},
   "source": [
    "### Model Tuning"
   ]
  },
  {
   "cell_type": "markdown",
   "metadata": {},
   "source": [
    "<b>Logistic Regression Tuning"
   ]
  },
  {
   "cell_type": "code",
   "execution_count": 61,
   "metadata": {},
   "outputs": [
    {
     "name": "stdout",
     "output_type": "stream",
     "text": [
      "9.41 ns ± 0.666 ns per loop (mean ± std. dev. of 7 runs, 100000000 loops each)\n",
      "\n",
      "\n"
     ]
    }
   ],
   "source": [
    "# Logistic Regression \n",
    "%timeit pass\n",
    "\n",
    "print('\\n')\n",
    "\n",
    "log_reg_params = {\"penalty\": ['l1', 'l2'], \n",
    "                  'C': [0.001, 0.01, 0.1, 1, 10, 100, 1000], \n",
    "                  'random_state':[42]}\n",
    "\n",
    "grid_log_reg = GridSearchCV(LogisticRegression(), log_reg_params,  cv=3, verbose=0)\n",
    "grid_log_reg.fit(X_train, y_train)\n",
    "# logistic regression with the best parameters.\n",
    "log_reg = grid_log_reg.best_estimator_"
   ]
  },
  {
   "cell_type": "markdown",
   "metadata": {},
   "source": [
    "<b>Gradient Boosting Classifier Tuning"
   ]
  },
  {
   "cell_type": "code",
   "execution_count": 62,
   "metadata": {
    "scrolled": true
   },
   "outputs": [
    {
     "name": "stdout",
     "output_type": "stream",
     "text": [
      "9.05 ns ± 0.3 ns per loop (mean ± std. dev. of 7 runs, 100000000 loops each)\n",
      "\n",
      "\n"
     ]
    },
    {
     "data": {
      "text/plain": [
       "GridSearchCV(cv=3, error_score='raise-deprecating',\n",
       "       estimator=GradientBoostingClassifier(criterion='friedman_mse', init=None,\n",
       "              learning_rate=0.1, loss='deviance', max_depth=4,\n",
       "              max_features='sqrt', max_leaf_nodes=None,\n",
       "              min_impurity_decrease=0.0, min_impurity_split=None,\n",
       "              min_samples_leaf=1, min_sam...        subsample=1, tol=0.0001, validation_fraction=0.1, verbose=0,\n",
       "              warm_start=False),\n",
       "       fit_params=None, iid=False, n_jobs=4,\n",
       "       param_grid={'learning_rate': [0.15, 0.1, 0.05, 0.01, 0.005, 0.001], 'n_estimators': [100, 250, 500], 'max_depth': [4, 6, 8], 'min_samples_leaf': [20, 50, 100, 150], 'max_features': [1.0, 0.3, 0.1], 'random_state': [42]},\n",
       "       pre_dispatch='2*n_jobs', refit=True, return_train_score='warn',\n",
       "       scoring='accuracy', verbose=0)"
      ]
     },
     "execution_count": 62,
     "metadata": {},
     "output_type": "execute_result"
    }
   ],
   "source": [
    "%timeit pass\n",
    "print('\\n')\n",
    "gbcparam= {'learning_rate':[0.15,0.1,0.05,0.01,0.005,0.001], \n",
    "           'n_estimators':[100,250,500,],\n",
    "           'max_depth': [4, 6, 8],\n",
    "           'min_samples_leaf': [20, 50,100,150],\n",
    "           'max_features': [1.0, 0.3, 0.1],\n",
    "          'random_state':[42]}\n",
    "\n",
    "gbctuning = GridSearchCV(estimator = ensemble.GradientBoostingClassifier(max_depth=4, min_samples_split=2, min_samples_leaf=1, subsample=1,max_features='sqrt', random_state=10), \n",
    "            param_grid = gbcparam, scoring='accuracy',n_jobs=4,iid=False, cv=3)\n",
    "\n",
    "\n",
    "gbctuning.fit(X_train,y_train)\n"
   ]
  },
  {
   "cell_type": "markdown",
   "metadata": {},
   "source": [
    "<b>SVC Tuning"
   ]
  },
  {
   "cell_type": "code",
   "execution_count": 63,
   "metadata": {},
   "outputs": [
    {
     "name": "stdout",
     "output_type": "stream",
     "text": [
      "26.7 ns ± 0.89 ns per loop (mean ± std. dev. of 7 runs, 10000000 loops each)\n",
      "\n",
      "\n"
     ]
    }
   ],
   "source": [
    "#SVC Tuning\n",
    "%timeit pass\n",
    "print('\\n')\n",
    "svc_params =  {'C':[1,10,100,1000],\n",
    "               'gamma':['scale',1,0.1,0.001,0.0001], \n",
    "               'kernel':['linear','rbf'], \n",
    "               'random_state':[42]}\n",
    "\n",
    "grid_svc = GridSearchCV(SVC(), svc_params)\n",
    "grid_svc.fit(X_train, y_train)\n",
    "\n",
    "## SVC best parameters\n",
    "svc_best = grid_svc.best_estimator_"
   ]
  },
  {
   "cell_type": "markdown",
   "metadata": {},
   "source": [
    "<b>Random Forest GridSearchCV"
   ]
  },
  {
   "cell_type": "code",
   "execution_count": 75,
   "metadata": {},
   "outputs": [
    {
     "name": "stdout",
     "output_type": "stream",
     "text": [
      "10.5 ns ± 0.872 ns per loop (mean ± std. dev. of 7 runs, 100000000 loops each)\n",
      "\n",
      "\n",
      "Fitting 3 folds for each of 216 candidates, totalling 648 fits\n",
      "[CV] criterion=entropy, max_depth=10, max_features=log2, min_samples_split=2, n_estimators=100, random_state=42 \n",
      "[CV]  criterion=entropy, max_depth=10, max_features=log2, min_samples_split=2, n_estimators=100, random_state=42, score=0.782312925170068, total=   0.0s\n",
      "[CV] criterion=entropy, max_depth=10, max_features=log2, min_samples_split=2, n_estimators=100, random_state=42 \n"
     ]
    },
    {
     "name": "stderr",
     "output_type": "stream",
     "text": [
      "[Parallel(n_jobs=1)]: Using backend SequentialBackend with 1 concurrent workers.\n",
      "[Parallel(n_jobs=1)]: Done   1 out of   1 | elapsed:    0.0s remaining:    0.0s\n"
     ]
    },
    {
     "name": "stdout",
     "output_type": "stream",
     "text": [
      "[CV]  criterion=entropy, max_depth=10, max_features=log2, min_samples_split=2, n_estimators=100, random_state=42, score=0.8231292517006803, total=   0.0s\n",
      "[CV] criterion=entropy, max_depth=10, max_features=log2, min_samples_split=2, n_estimators=100, random_state=42 \n",
      "[CV]  criterion=entropy, max_depth=10, max_features=log2, min_samples_split=2, n_estimators=100, random_state=42, score=0.8122866894197952, total=   0.0s\n",
      "[CV] criterion=entropy, max_depth=10, max_features=log2, min_samples_split=2, n_estimators=200, random_state=42 \n"
     ]
    },
    {
     "name": "stderr",
     "output_type": "stream",
     "text": [
      "[Parallel(n_jobs=1)]: Done   2 out of   2 | elapsed:    0.1s remaining:    0.0s\n",
      "[Parallel(n_jobs=1)]: Done   3 out of   3 | elapsed:    0.3s remaining:    0.0s\n"
     ]
    },
    {
     "name": "stdout",
     "output_type": "stream",
     "text": [
      "[CV]  criterion=entropy, max_depth=10, max_features=log2, min_samples_split=2, n_estimators=200, random_state=42, score=0.7789115646258503, total=   0.1s\n",
      "[CV] criterion=entropy, max_depth=10, max_features=log2, min_samples_split=2, n_estimators=200, random_state=42 \n"
     ]
    },
    {
     "name": "stderr",
     "output_type": "stream",
     "text": [
      "[Parallel(n_jobs=1)]: Done   4 out of   4 | elapsed:    0.5s remaining:    0.0s\n"
     ]
    },
    {
     "name": "stdout",
     "output_type": "stream",
     "text": [
      "[CV]  criterion=entropy, max_depth=10, max_features=log2, min_samples_split=2, n_estimators=200, random_state=42, score=0.826530612244898, total=   0.1s\n",
      "[CV] criterion=entropy, max_depth=10, max_features=log2, min_samples_split=2, n_estimators=200, random_state=42 \n",
      "[CV]  criterion=entropy, max_depth=10, max_features=log2, min_samples_split=2, n_estimators=200, random_state=42, score=0.8088737201365188, total=   0.1s\n",
      "[CV] criterion=entropy, max_depth=10, max_features=log2, min_samples_split=2, n_estimators=300, random_state=42 \n",
      "[CV]  criterion=entropy, max_depth=10, max_features=log2, min_samples_split=2, n_estimators=300, random_state=42, score=0.7721088435374149, total=   0.2s\n",
      "[CV] criterion=entropy, max_depth=10, max_features=log2, min_samples_split=2, n_estimators=300, random_state=42 \n",
      "[CV]  criterion=entropy, max_depth=10, max_features=log2, min_samples_split=2, n_estimators=300, random_state=42, score=0.8197278911564626, total=   0.2s\n",
      "[CV] criterion=entropy, max_depth=10, max_features=log2, min_samples_split=2, n_estimators=300, random_state=42 \n",
      "[CV]  criterion=entropy, max_depth=10, max_features=log2, min_samples_split=2, n_estimators=300, random_state=42, score=0.8156996587030717, total=   0.2s\n",
      "[CV] criterion=entropy, max_depth=10, max_features=log2, min_samples_split=4, n_estimators=100, random_state=42 \n",
      "[CV]  criterion=entropy, max_depth=10, max_features=log2, min_samples_split=4, n_estimators=100, random_state=42, score=0.8231292517006803, total=   0.0s\n",
      "[CV] criterion=entropy, max_depth=10, max_features=log2, min_samples_split=4, n_estimators=100, random_state=42 \n",
      "[CV]  criterion=entropy, max_depth=10, max_features=log2, min_samples_split=4, n_estimators=100, random_state=42, score=0.8333333333333334, total=   0.0s\n",
      "[CV] criterion=entropy, max_depth=10, max_features=log2, min_samples_split=4, n_estimators=100, random_state=42 \n",
      "[CV]  criterion=entropy, max_depth=10, max_features=log2, min_samples_split=4, n_estimators=100, random_state=42, score=0.8156996587030717, total=   0.0s\n",
      "[CV] criterion=entropy, max_depth=10, max_features=log2, min_samples_split=4, n_estimators=200, random_state=42 \n",
      "[CV]  criterion=entropy, max_depth=10, max_features=log2, min_samples_split=4, n_estimators=200, random_state=42, score=0.8197278911564626, total=   0.1s\n",
      "[CV] criterion=entropy, max_depth=10, max_features=log2, min_samples_split=4, n_estimators=200, random_state=42 \n",
      "[CV]  criterion=entropy, max_depth=10, max_features=log2, min_samples_split=4, n_estimators=200, random_state=42, score=0.8299319727891157, total=   0.1s\n",
      "[CV] criterion=entropy, max_depth=10, max_features=log2, min_samples_split=4, n_estimators=200, random_state=42 \n",
      "[CV]  criterion=entropy, max_depth=10, max_features=log2, min_samples_split=4, n_estimators=200, random_state=42, score=0.8430034129692833, total=   0.1s\n",
      "[CV] criterion=entropy, max_depth=10, max_features=log2, min_samples_split=4, n_estimators=300, random_state=42 \n",
      "[CV]  criterion=entropy, max_depth=10, max_features=log2, min_samples_split=4, n_estimators=300, random_state=42, score=0.8231292517006803, total=   0.2s\n",
      "[CV] criterion=entropy, max_depth=10, max_features=log2, min_samples_split=4, n_estimators=300, random_state=42 \n",
      "[CV]  criterion=entropy, max_depth=10, max_features=log2, min_samples_split=4, n_estimators=300, random_state=42, score=0.8231292517006803, total=   0.2s\n",
      "[CV] criterion=entropy, max_depth=10, max_features=log2, min_samples_split=4, n_estimators=300, random_state=42 \n",
      "[CV]  criterion=entropy, max_depth=10, max_features=log2, min_samples_split=4, n_estimators=300, random_state=42, score=0.8293515358361775, total=   0.2s\n",
      "[CV] criterion=entropy, max_depth=10, max_features=log2, min_samples_split=6, n_estimators=100, random_state=42 \n",
      "[CV]  criterion=entropy, max_depth=10, max_features=log2, min_samples_split=6, n_estimators=100, random_state=42, score=0.826530612244898, total=   0.0s\n",
      "[CV] criterion=entropy, max_depth=10, max_features=log2, min_samples_split=6, n_estimators=100, random_state=42 \n",
      "[CV]  criterion=entropy, max_depth=10, max_features=log2, min_samples_split=6, n_estimators=100, random_state=42, score=0.8299319727891157, total=   0.0s\n",
      "[CV] criterion=entropy, max_depth=10, max_features=log2, min_samples_split=6, n_estimators=100, random_state=42 \n",
      "[CV]  criterion=entropy, max_depth=10, max_features=log2, min_samples_split=6, n_estimators=100, random_state=42, score=0.8225255972696246, total=   0.0s\n",
      "[CV] criterion=entropy, max_depth=10, max_features=log2, min_samples_split=6, n_estimators=200, random_state=42 \n",
      "[CV]  criterion=entropy, max_depth=10, max_features=log2, min_samples_split=6, n_estimators=200, random_state=42, score=0.826530612244898, total=   0.1s\n",
      "[CV] criterion=entropy, max_depth=10, max_features=log2, min_samples_split=6, n_estimators=200, random_state=42 \n",
      "[CV]  criterion=entropy, max_depth=10, max_features=log2, min_samples_split=6, n_estimators=200, random_state=42, score=0.8299319727891157, total=   0.1s\n",
      "[CV] criterion=entropy, max_depth=10, max_features=log2, min_samples_split=6, n_estimators=200, random_state=42 \n",
      "[CV]  criterion=entropy, max_depth=10, max_features=log2, min_samples_split=6, n_estimators=200, random_state=42, score=0.8293515358361775, total=   0.1s\n",
      "[CV] criterion=entropy, max_depth=10, max_features=log2, min_samples_split=6, n_estimators=300, random_state=42 \n",
      "[CV]  criterion=entropy, max_depth=10, max_features=log2, min_samples_split=6, n_estimators=300, random_state=42, score=0.8197278911564626, total=   0.2s\n",
      "[CV] criterion=entropy, max_depth=10, max_features=log2, min_samples_split=6, n_estimators=300, random_state=42 \n",
      "[CV]  criterion=entropy, max_depth=10, max_features=log2, min_samples_split=6, n_estimators=300, random_state=42, score=0.8299319727891157, total=   0.3s\n",
      "[CV] criterion=entropy, max_depth=10, max_features=log2, min_samples_split=6, n_estimators=300, random_state=42 \n",
      "[CV]  criterion=entropy, max_depth=10, max_features=log2, min_samples_split=6, n_estimators=300, random_state=42, score=0.8327645051194539, total=   0.3s\n",
      "[CV] criterion=entropy, max_depth=10, max_features=log2, min_samples_split=8, n_estimators=100, random_state=42 \n",
      "[CV]  criterion=entropy, max_depth=10, max_features=log2, min_samples_split=8, n_estimators=100, random_state=42, score=0.8197278911564626, total=   0.0s\n",
      "[CV] criterion=entropy, max_depth=10, max_features=log2, min_samples_split=8, n_estimators=100, random_state=42 \n",
      "[CV]  criterion=entropy, max_depth=10, max_features=log2, min_samples_split=8, n_estimators=100, random_state=42, score=0.826530612244898, total=   0.0s\n",
      "[CV] criterion=entropy, max_depth=10, max_features=log2, min_samples_split=8, n_estimators=100, random_state=42 \n",
      "[CV]  criterion=entropy, max_depth=10, max_features=log2, min_samples_split=8, n_estimators=100, random_state=42, score=0.8293515358361775, total=   0.0s\n",
      "[CV] criterion=entropy, max_depth=10, max_features=log2, min_samples_split=8, n_estimators=200, random_state=42 \n",
      "[CV]  criterion=entropy, max_depth=10, max_features=log2, min_samples_split=8, n_estimators=200, random_state=42, score=0.8333333333333334, total=   0.1s\n",
      "[CV] criterion=entropy, max_depth=10, max_features=log2, min_samples_split=8, n_estimators=200, random_state=42 \n",
      "[CV]  criterion=entropy, max_depth=10, max_features=log2, min_samples_split=8, n_estimators=200, random_state=42, score=0.8333333333333334, total=   0.1s\n",
      "[CV] criterion=entropy, max_depth=10, max_features=log2, min_samples_split=8, n_estimators=200, random_state=42 \n",
      "[CV]  criterion=entropy, max_depth=10, max_features=log2, min_samples_split=8, n_estimators=200, random_state=42, score=0.8395904436860068, total=   0.1s\n",
      "[CV] criterion=entropy, max_depth=10, max_features=log2, min_samples_split=8, n_estimators=300, random_state=42 \n",
      "[CV]  criterion=entropy, max_depth=10, max_features=log2, min_samples_split=8, n_estimators=300, random_state=42, score=0.8299319727891157, total=   0.2s\n",
      "[CV] criterion=entropy, max_depth=10, max_features=log2, min_samples_split=8, n_estimators=300, random_state=42 \n",
      "[CV]  criterion=entropy, max_depth=10, max_features=log2, min_samples_split=8, n_estimators=300, random_state=42, score=0.8333333333333334, total=   0.2s\n",
      "[CV] criterion=entropy, max_depth=10, max_features=log2, min_samples_split=8, n_estimators=300, random_state=42 \n"
     ]
    },
    {
     "name": "stdout",
     "output_type": "stream",
     "text": [
      "[CV]  criterion=entropy, max_depth=10, max_features=log2, min_samples_split=8, n_estimators=300, random_state=42, score=0.8361774744027304, total=   0.2s\n",
      "[CV] criterion=entropy, max_depth=10, max_features=sqrt, min_samples_split=2, n_estimators=100, random_state=42 \n",
      "[CV]  criterion=entropy, max_depth=10, max_features=sqrt, min_samples_split=2, n_estimators=100, random_state=42, score=0.7585034013605442, total=   0.0s\n",
      "[CV] criterion=entropy, max_depth=10, max_features=sqrt, min_samples_split=2, n_estimators=100, random_state=42 \n",
      "[CV]  criterion=entropy, max_depth=10, max_features=sqrt, min_samples_split=2, n_estimators=100, random_state=42, score=0.8095238095238095, total=   0.0s\n",
      "[CV] criterion=entropy, max_depth=10, max_features=sqrt, min_samples_split=2, n_estimators=100, random_state=42 \n",
      "[CV]  criterion=entropy, max_depth=10, max_features=sqrt, min_samples_split=2, n_estimators=100, random_state=42, score=0.8156996587030717, total=   0.0s\n",
      "[CV] criterion=entropy, max_depth=10, max_features=sqrt, min_samples_split=2, n_estimators=200, random_state=42 \n",
      "[CV]  criterion=entropy, max_depth=10, max_features=sqrt, min_samples_split=2, n_estimators=200, random_state=42, score=0.7687074829931972, total=   0.1s\n",
      "[CV] criterion=entropy, max_depth=10, max_features=sqrt, min_samples_split=2, n_estimators=200, random_state=42 \n",
      "[CV]  criterion=entropy, max_depth=10, max_features=sqrt, min_samples_split=2, n_estimators=200, random_state=42, score=0.8027210884353742, total=   0.1s\n",
      "[CV] criterion=entropy, max_depth=10, max_features=sqrt, min_samples_split=2, n_estimators=200, random_state=42 \n",
      "[CV]  criterion=entropy, max_depth=10, max_features=sqrt, min_samples_split=2, n_estimators=200, random_state=42, score=0.8191126279863481, total=   0.2s\n",
      "[CV] criterion=entropy, max_depth=10, max_features=sqrt, min_samples_split=2, n_estimators=300, random_state=42 \n",
      "[CV]  criterion=entropy, max_depth=10, max_features=sqrt, min_samples_split=2, n_estimators=300, random_state=42, score=0.7585034013605442, total=   0.2s\n",
      "[CV] criterion=entropy, max_depth=10, max_features=sqrt, min_samples_split=2, n_estimators=300, random_state=42 \n",
      "[CV]  criterion=entropy, max_depth=10, max_features=sqrt, min_samples_split=2, n_estimators=300, random_state=42, score=0.8197278911564626, total=   0.3s\n",
      "[CV] criterion=entropy, max_depth=10, max_features=sqrt, min_samples_split=2, n_estimators=300, random_state=42 \n",
      "[CV]  criterion=entropy, max_depth=10, max_features=sqrt, min_samples_split=2, n_estimators=300, random_state=42, score=0.8156996587030717, total=   0.3s\n",
      "[CV] criterion=entropy, max_depth=10, max_features=sqrt, min_samples_split=4, n_estimators=100, random_state=42 \n",
      "[CV]  criterion=entropy, max_depth=10, max_features=sqrt, min_samples_split=4, n_estimators=100, random_state=42, score=0.782312925170068, total=   0.0s\n",
      "[CV] criterion=entropy, max_depth=10, max_features=sqrt, min_samples_split=4, n_estimators=100, random_state=42 \n",
      "[CV]  criterion=entropy, max_depth=10, max_features=sqrt, min_samples_split=4, n_estimators=100, random_state=42, score=0.8163265306122449, total=   0.1s\n",
      "[CV] criterion=entropy, max_depth=10, max_features=sqrt, min_samples_split=4, n_estimators=100, random_state=42 \n",
      "[CV]  criterion=entropy, max_depth=10, max_features=sqrt, min_samples_split=4, n_estimators=100, random_state=42, score=0.8156996587030717, total=   0.0s\n",
      "[CV] criterion=entropy, max_depth=10, max_features=sqrt, min_samples_split=4, n_estimators=200, random_state=42 \n",
      "[CV]  criterion=entropy, max_depth=10, max_features=sqrt, min_samples_split=4, n_estimators=200, random_state=42, score=0.782312925170068, total=   0.1s\n",
      "[CV] criterion=entropy, max_depth=10, max_features=sqrt, min_samples_split=4, n_estimators=200, random_state=42 \n",
      "[CV]  criterion=entropy, max_depth=10, max_features=sqrt, min_samples_split=4, n_estimators=200, random_state=42, score=0.8197278911564626, total=   0.1s\n",
      "[CV] criterion=entropy, max_depth=10, max_features=sqrt, min_samples_split=4, n_estimators=200, random_state=42 \n",
      "[CV]  criterion=entropy, max_depth=10, max_features=sqrt, min_samples_split=4, n_estimators=200, random_state=42, score=0.8122866894197952, total=   0.1s\n",
      "[CV] criterion=entropy, max_depth=10, max_features=sqrt, min_samples_split=4, n_estimators=300, random_state=42 \n",
      "[CV]  criterion=entropy, max_depth=10, max_features=sqrt, min_samples_split=4, n_estimators=300, random_state=42, score=0.782312925170068, total=   0.2s\n",
      "[CV] criterion=entropy, max_depth=10, max_features=sqrt, min_samples_split=4, n_estimators=300, random_state=42 \n",
      "[CV]  criterion=entropy, max_depth=10, max_features=sqrt, min_samples_split=4, n_estimators=300, random_state=42, score=0.8299319727891157, total=   0.2s\n",
      "[CV] criterion=entropy, max_depth=10, max_features=sqrt, min_samples_split=4, n_estimators=300, random_state=42 \n",
      "[CV]  criterion=entropy, max_depth=10, max_features=sqrt, min_samples_split=4, n_estimators=300, random_state=42, score=0.8156996587030717, total=   0.2s\n",
      "[CV] criterion=entropy, max_depth=10, max_features=sqrt, min_samples_split=6, n_estimators=100, random_state=42 \n",
      "[CV]  criterion=entropy, max_depth=10, max_features=sqrt, min_samples_split=6, n_estimators=100, random_state=42, score=0.8027210884353742, total=   0.0s\n",
      "[CV] criterion=entropy, max_depth=10, max_features=sqrt, min_samples_split=6, n_estimators=100, random_state=42 \n",
      "[CV]  criterion=entropy, max_depth=10, max_features=sqrt, min_samples_split=6, n_estimators=100, random_state=42, score=0.826530612244898, total=   0.0s\n",
      "[CV] criterion=entropy, max_depth=10, max_features=sqrt, min_samples_split=6, n_estimators=100, random_state=42 \n",
      "[CV]  criterion=entropy, max_depth=10, max_features=sqrt, min_samples_split=6, n_estimators=100, random_state=42, score=0.8225255972696246, total=   0.0s\n",
      "[CV] criterion=entropy, max_depth=10, max_features=sqrt, min_samples_split=6, n_estimators=200, random_state=42 \n",
      "[CV]  criterion=entropy, max_depth=10, max_features=sqrt, min_samples_split=6, n_estimators=200, random_state=42, score=0.7959183673469388, total=   0.2s\n",
      "[CV] criterion=entropy, max_depth=10, max_features=sqrt, min_samples_split=6, n_estimators=200, random_state=42 \n",
      "[CV]  criterion=entropy, max_depth=10, max_features=sqrt, min_samples_split=6, n_estimators=200, random_state=42, score=0.826530612244898, total=   0.1s\n",
      "[CV] criterion=entropy, max_depth=10, max_features=sqrt, min_samples_split=6, n_estimators=200, random_state=42 \n",
      "[CV]  criterion=entropy, max_depth=10, max_features=sqrt, min_samples_split=6, n_estimators=200, random_state=42, score=0.8327645051194539, total=   0.1s\n",
      "[CV] criterion=entropy, max_depth=10, max_features=sqrt, min_samples_split=6, n_estimators=300, random_state=42 \n",
      "[CV]  criterion=entropy, max_depth=10, max_features=sqrt, min_samples_split=6, n_estimators=300, random_state=42, score=0.7925170068027211, total=   0.2s\n",
      "[CV] criterion=entropy, max_depth=10, max_features=sqrt, min_samples_split=6, n_estimators=300, random_state=42 \n",
      "[CV]  criterion=entropy, max_depth=10, max_features=sqrt, min_samples_split=6, n_estimators=300, random_state=42, score=0.8231292517006803, total=   0.2s\n",
      "[CV] criterion=entropy, max_depth=10, max_features=sqrt, min_samples_split=6, n_estimators=300, random_state=42 \n",
      "[CV]  criterion=entropy, max_depth=10, max_features=sqrt, min_samples_split=6, n_estimators=300, random_state=42, score=0.825938566552901, total=   0.3s\n",
      "[CV] criterion=entropy, max_depth=10, max_features=sqrt, min_samples_split=8, n_estimators=100, random_state=42 \n",
      "[CV]  criterion=entropy, max_depth=10, max_features=sqrt, min_samples_split=8, n_estimators=100, random_state=42, score=0.7925170068027211, total=   0.0s\n",
      "[CV] criterion=entropy, max_depth=10, max_features=sqrt, min_samples_split=8, n_estimators=100, random_state=42 \n",
      "[CV]  criterion=entropy, max_depth=10, max_features=sqrt, min_samples_split=8, n_estimators=100, random_state=42, score=0.8197278911564626, total=   0.0s\n",
      "[CV] criterion=entropy, max_depth=10, max_features=sqrt, min_samples_split=8, n_estimators=100, random_state=42 \n",
      "[CV]  criterion=entropy, max_depth=10, max_features=sqrt, min_samples_split=8, n_estimators=100, random_state=42, score=0.8156996587030717, total=   0.0s\n",
      "[CV] criterion=entropy, max_depth=10, max_features=sqrt, min_samples_split=8, n_estimators=200, random_state=42 \n"
     ]
    },
    {
     "name": "stdout",
     "output_type": "stream",
     "text": [
      "[CV]  criterion=entropy, max_depth=10, max_features=sqrt, min_samples_split=8, n_estimators=200, random_state=42, score=0.7959183673469388, total=   0.2s\n",
      "[CV] criterion=entropy, max_depth=10, max_features=sqrt, min_samples_split=8, n_estimators=200, random_state=42 \n",
      "[CV]  criterion=entropy, max_depth=10, max_features=sqrt, min_samples_split=8, n_estimators=200, random_state=42, score=0.8197278911564626, total=   0.1s\n",
      "[CV] criterion=entropy, max_depth=10, max_features=sqrt, min_samples_split=8, n_estimators=200, random_state=42 \n",
      "[CV]  criterion=entropy, max_depth=10, max_features=sqrt, min_samples_split=8, n_estimators=200, random_state=42, score=0.8225255972696246, total=   0.1s\n",
      "[CV] criterion=entropy, max_depth=10, max_features=sqrt, min_samples_split=8, n_estimators=300, random_state=42 \n",
      "[CV]  criterion=entropy, max_depth=10, max_features=sqrt, min_samples_split=8, n_estimators=300, random_state=42, score=0.7959183673469388, total=   0.3s\n",
      "[CV] criterion=entropy, max_depth=10, max_features=sqrt, min_samples_split=8, n_estimators=300, random_state=42 \n",
      "[CV]  criterion=entropy, max_depth=10, max_features=sqrt, min_samples_split=8, n_estimators=300, random_state=42, score=0.8299319727891157, total=   0.3s\n",
      "[CV] criterion=entropy, max_depth=10, max_features=sqrt, min_samples_split=8, n_estimators=300, random_state=42 \n",
      "[CV]  criterion=entropy, max_depth=10, max_features=sqrt, min_samples_split=8, n_estimators=300, random_state=42, score=0.8293515358361775, total=   0.2s\n",
      "[CV] criterion=entropy, max_depth=10, max_features=auto, min_samples_split=2, n_estimators=100, random_state=42 \n",
      "[CV]  criterion=entropy, max_depth=10, max_features=auto, min_samples_split=2, n_estimators=100, random_state=42, score=0.7585034013605442, total=   0.0s\n",
      "[CV] criterion=entropy, max_depth=10, max_features=auto, min_samples_split=2, n_estimators=100, random_state=42 \n",
      "[CV]  criterion=entropy, max_depth=10, max_features=auto, min_samples_split=2, n_estimators=100, random_state=42, score=0.8095238095238095, total=   0.0s\n",
      "[CV] criterion=entropy, max_depth=10, max_features=auto, min_samples_split=2, n_estimators=100, random_state=42 \n",
      "[CV]  criterion=entropy, max_depth=10, max_features=auto, min_samples_split=2, n_estimators=100, random_state=42, score=0.8156996587030717, total=   0.0s\n",
      "[CV] criterion=entropy, max_depth=10, max_features=auto, min_samples_split=2, n_estimators=200, random_state=42 \n",
      "[CV]  criterion=entropy, max_depth=10, max_features=auto, min_samples_split=2, n_estimators=200, random_state=42, score=0.7687074829931972, total=   0.1s\n",
      "[CV] criterion=entropy, max_depth=10, max_features=auto, min_samples_split=2, n_estimators=200, random_state=42 \n",
      "[CV]  criterion=entropy, max_depth=10, max_features=auto, min_samples_split=2, n_estimators=200, random_state=42, score=0.8027210884353742, total=   0.1s\n",
      "[CV] criterion=entropy, max_depth=10, max_features=auto, min_samples_split=2, n_estimators=200, random_state=42 \n",
      "[CV]  criterion=entropy, max_depth=10, max_features=auto, min_samples_split=2, n_estimators=200, random_state=42, score=0.8191126279863481, total=   0.1s\n",
      "[CV] criterion=entropy, max_depth=10, max_features=auto, min_samples_split=2, n_estimators=300, random_state=42 \n",
      "[CV]  criterion=entropy, max_depth=10, max_features=auto, min_samples_split=2, n_estimators=300, random_state=42, score=0.7585034013605442, total=   0.2s\n",
      "[CV] criterion=entropy, max_depth=10, max_features=auto, min_samples_split=2, n_estimators=300, random_state=42 \n",
      "[CV]  criterion=entropy, max_depth=10, max_features=auto, min_samples_split=2, n_estimators=300, random_state=42, score=0.8197278911564626, total=   0.2s\n",
      "[CV] criterion=entropy, max_depth=10, max_features=auto, min_samples_split=2, n_estimators=300, random_state=42 \n",
      "[CV]  criterion=entropy, max_depth=10, max_features=auto, min_samples_split=2, n_estimators=300, random_state=42, score=0.8156996587030717, total=   0.2s\n",
      "[CV] criterion=entropy, max_depth=10, max_features=auto, min_samples_split=4, n_estimators=100, random_state=42 \n",
      "[CV]  criterion=entropy, max_depth=10, max_features=auto, min_samples_split=4, n_estimators=100, random_state=42, score=0.782312925170068, total=   0.0s\n",
      "[CV] criterion=entropy, max_depth=10, max_features=auto, min_samples_split=4, n_estimators=100, random_state=42 \n",
      "[CV]  criterion=entropy, max_depth=10, max_features=auto, min_samples_split=4, n_estimators=100, random_state=42, score=0.8163265306122449, total=   0.0s\n",
      "[CV] criterion=entropy, max_depth=10, max_features=auto, min_samples_split=4, n_estimators=100, random_state=42 \n",
      "[CV]  criterion=entropy, max_depth=10, max_features=auto, min_samples_split=4, n_estimators=100, random_state=42, score=0.8156996587030717, total=   0.0s\n",
      "[CV] criterion=entropy, max_depth=10, max_features=auto, min_samples_split=4, n_estimators=200, random_state=42 \n",
      "[CV]  criterion=entropy, max_depth=10, max_features=auto, min_samples_split=4, n_estimators=200, random_state=42, score=0.782312925170068, total=   0.2s\n",
      "[CV] criterion=entropy, max_depth=10, max_features=auto, min_samples_split=4, n_estimators=200, random_state=42 \n",
      "[CV]  criterion=entropy, max_depth=10, max_features=auto, min_samples_split=4, n_estimators=200, random_state=42, score=0.8197278911564626, total=   0.1s\n",
      "[CV] criterion=entropy, max_depth=10, max_features=auto, min_samples_split=4, n_estimators=200, random_state=42 \n",
      "[CV]  criterion=entropy, max_depth=10, max_features=auto, min_samples_split=4, n_estimators=200, random_state=42, score=0.8122866894197952, total=   0.2s\n",
      "[CV] criterion=entropy, max_depth=10, max_features=auto, min_samples_split=4, n_estimators=300, random_state=42 \n",
      "[CV]  criterion=entropy, max_depth=10, max_features=auto, min_samples_split=4, n_estimators=300, random_state=42, score=0.782312925170068, total=   0.3s\n",
      "[CV] criterion=entropy, max_depth=10, max_features=auto, min_samples_split=4, n_estimators=300, random_state=42 \n",
      "[CV]  criterion=entropy, max_depth=10, max_features=auto, min_samples_split=4, n_estimators=300, random_state=42, score=0.8299319727891157, total=   0.3s\n",
      "[CV] criterion=entropy, max_depth=10, max_features=auto, min_samples_split=4, n_estimators=300, random_state=42 \n",
      "[CV]  criterion=entropy, max_depth=10, max_features=auto, min_samples_split=4, n_estimators=300, random_state=42, score=0.8156996587030717, total=   0.3s\n",
      "[CV] criterion=entropy, max_depth=10, max_features=auto, min_samples_split=6, n_estimators=100, random_state=42 \n",
      "[CV]  criterion=entropy, max_depth=10, max_features=auto, min_samples_split=6, n_estimators=100, random_state=42, score=0.8027210884353742, total=   0.0s\n",
      "[CV] criterion=entropy, max_depth=10, max_features=auto, min_samples_split=6, n_estimators=100, random_state=42 \n",
      "[CV]  criterion=entropy, max_depth=10, max_features=auto, min_samples_split=6, n_estimators=100, random_state=42, score=0.826530612244898, total=   0.0s\n",
      "[CV] criterion=entropy, max_depth=10, max_features=auto, min_samples_split=6, n_estimators=100, random_state=42 \n",
      "[CV]  criterion=entropy, max_depth=10, max_features=auto, min_samples_split=6, n_estimators=100, random_state=42, score=0.8225255972696246, total=   0.0s\n",
      "[CV] criterion=entropy, max_depth=10, max_features=auto, min_samples_split=6, n_estimators=200, random_state=42 \n",
      "[CV]  criterion=entropy, max_depth=10, max_features=auto, min_samples_split=6, n_estimators=200, random_state=42, score=0.7959183673469388, total=   0.1s\n",
      "[CV] criterion=entropy, max_depth=10, max_features=auto, min_samples_split=6, n_estimators=200, random_state=42 \n",
      "[CV]  criterion=entropy, max_depth=10, max_features=auto, min_samples_split=6, n_estimators=200, random_state=42, score=0.826530612244898, total=   0.1s\n",
      "[CV] criterion=entropy, max_depth=10, max_features=auto, min_samples_split=6, n_estimators=200, random_state=42 \n",
      "[CV]  criterion=entropy, max_depth=10, max_features=auto, min_samples_split=6, n_estimators=200, random_state=42, score=0.8327645051194539, total=   0.2s\n",
      "[CV] criterion=entropy, max_depth=10, max_features=auto, min_samples_split=6, n_estimators=300, random_state=42 \n",
      "[CV]  criterion=entropy, max_depth=10, max_features=auto, min_samples_split=6, n_estimators=300, random_state=42, score=0.7925170068027211, total=   0.2s\n",
      "[CV] criterion=entropy, max_depth=10, max_features=auto, min_samples_split=6, n_estimators=300, random_state=42 \n"
     ]
    },
    {
     "name": "stdout",
     "output_type": "stream",
     "text": [
      "[CV]  criterion=entropy, max_depth=10, max_features=auto, min_samples_split=6, n_estimators=300, random_state=42, score=0.8231292517006803, total=   0.2s\n",
      "[CV] criterion=entropy, max_depth=10, max_features=auto, min_samples_split=6, n_estimators=300, random_state=42 \n",
      "[CV]  criterion=entropy, max_depth=10, max_features=auto, min_samples_split=6, n_estimators=300, random_state=42, score=0.825938566552901, total=   0.3s\n",
      "[CV] criterion=entropy, max_depth=10, max_features=auto, min_samples_split=8, n_estimators=100, random_state=42 \n",
      "[CV]  criterion=entropy, max_depth=10, max_features=auto, min_samples_split=8, n_estimators=100, random_state=42, score=0.7925170068027211, total=   0.0s\n",
      "[CV] criterion=entropy, max_depth=10, max_features=auto, min_samples_split=8, n_estimators=100, random_state=42 \n",
      "[CV]  criterion=entropy, max_depth=10, max_features=auto, min_samples_split=8, n_estimators=100, random_state=42, score=0.8197278911564626, total=   0.0s\n",
      "[CV] criterion=entropy, max_depth=10, max_features=auto, min_samples_split=8, n_estimators=100, random_state=42 \n",
      "[CV]  criterion=entropy, max_depth=10, max_features=auto, min_samples_split=8, n_estimators=100, random_state=42, score=0.8156996587030717, total=   0.0s\n",
      "[CV] criterion=entropy, max_depth=10, max_features=auto, min_samples_split=8, n_estimators=200, random_state=42 \n",
      "[CV]  criterion=entropy, max_depth=10, max_features=auto, min_samples_split=8, n_estimators=200, random_state=42, score=0.7959183673469388, total=   0.1s\n",
      "[CV] criterion=entropy, max_depth=10, max_features=auto, min_samples_split=8, n_estimators=200, random_state=42 \n",
      "[CV]  criterion=entropy, max_depth=10, max_features=auto, min_samples_split=8, n_estimators=200, random_state=42, score=0.8197278911564626, total=   0.1s\n",
      "[CV] criterion=entropy, max_depth=10, max_features=auto, min_samples_split=8, n_estimators=200, random_state=42 \n",
      "[CV]  criterion=entropy, max_depth=10, max_features=auto, min_samples_split=8, n_estimators=200, random_state=42, score=0.8225255972696246, total=   0.1s\n",
      "[CV] criterion=entropy, max_depth=10, max_features=auto, min_samples_split=8, n_estimators=300, random_state=42 \n",
      "[CV]  criterion=entropy, max_depth=10, max_features=auto, min_samples_split=8, n_estimators=300, random_state=42, score=0.7959183673469388, total=   0.2s\n",
      "[CV] criterion=entropy, max_depth=10, max_features=auto, min_samples_split=8, n_estimators=300, random_state=42 \n",
      "[CV]  criterion=entropy, max_depth=10, max_features=auto, min_samples_split=8, n_estimators=300, random_state=42, score=0.8299319727891157, total=   0.2s\n",
      "[CV] criterion=entropy, max_depth=10, max_features=auto, min_samples_split=8, n_estimators=300, random_state=42 \n",
      "[CV]  criterion=entropy, max_depth=10, max_features=auto, min_samples_split=8, n_estimators=300, random_state=42, score=0.8293515358361775, total=   0.2s\n",
      "[CV] criterion=entropy, max_depth=50, max_features=log2, min_samples_split=2, n_estimators=100, random_state=42 \n",
      "[CV]  criterion=entropy, max_depth=50, max_features=log2, min_samples_split=2, n_estimators=100, random_state=42, score=0.7755102040816326, total=   0.0s\n",
      "[CV] criterion=entropy, max_depth=50, max_features=log2, min_samples_split=2, n_estimators=100, random_state=42 \n",
      "[CV]  criterion=entropy, max_depth=50, max_features=log2, min_samples_split=2, n_estimators=100, random_state=42, score=0.8129251700680272, total=   0.0s\n",
      "[CV] criterion=entropy, max_depth=50, max_features=log2, min_samples_split=2, n_estimators=100, random_state=42 \n",
      "[CV]  criterion=entropy, max_depth=50, max_features=log2, min_samples_split=2, n_estimators=100, random_state=42, score=0.8088737201365188, total=   0.0s\n",
      "[CV] criterion=entropy, max_depth=50, max_features=log2, min_samples_split=2, n_estimators=200, random_state=42 \n",
      "[CV]  criterion=entropy, max_depth=50, max_features=log2, min_samples_split=2, n_estimators=200, random_state=42, score=0.7653061224489796, total=   0.1s\n",
      "[CV] criterion=entropy, max_depth=50, max_features=log2, min_samples_split=2, n_estimators=200, random_state=42 \n",
      "[CV]  criterion=entropy, max_depth=50, max_features=log2, min_samples_split=2, n_estimators=200, random_state=42, score=0.8129251700680272, total=   0.1s\n",
      "[CV] criterion=entropy, max_depth=50, max_features=log2, min_samples_split=2, n_estimators=200, random_state=42 \n",
      "[CV]  criterion=entropy, max_depth=50, max_features=log2, min_samples_split=2, n_estimators=200, random_state=42, score=0.8156996587030717, total=   0.1s\n",
      "[CV] criterion=entropy, max_depth=50, max_features=log2, min_samples_split=2, n_estimators=300, random_state=42 \n",
      "[CV]  criterion=entropy, max_depth=50, max_features=log2, min_samples_split=2, n_estimators=300, random_state=42, score=0.7653061224489796, total=   0.2s\n",
      "[CV] criterion=entropy, max_depth=50, max_features=log2, min_samples_split=2, n_estimators=300, random_state=42 \n",
      "[CV]  criterion=entropy, max_depth=50, max_features=log2, min_samples_split=2, n_estimators=300, random_state=42, score=0.8129251700680272, total=   0.2s\n",
      "[CV] criterion=entropy, max_depth=50, max_features=log2, min_samples_split=2, n_estimators=300, random_state=42 \n",
      "[CV]  criterion=entropy, max_depth=50, max_features=log2, min_samples_split=2, n_estimators=300, random_state=42, score=0.8088737201365188, total=   0.2s\n",
      "[CV] criterion=entropy, max_depth=50, max_features=log2, min_samples_split=4, n_estimators=100, random_state=42 \n",
      "[CV]  criterion=entropy, max_depth=50, max_features=log2, min_samples_split=4, n_estimators=100, random_state=42, score=0.8095238095238095, total=   0.0s\n",
      "[CV] criterion=entropy, max_depth=50, max_features=log2, min_samples_split=4, n_estimators=100, random_state=42 \n",
      "[CV]  criterion=entropy, max_depth=50, max_features=log2, min_samples_split=4, n_estimators=100, random_state=42, score=0.8163265306122449, total=   0.0s\n",
      "[CV] criterion=entropy, max_depth=50, max_features=log2, min_samples_split=4, n_estimators=100, random_state=42 \n",
      "[CV]  criterion=entropy, max_depth=50, max_features=log2, min_samples_split=4, n_estimators=100, random_state=42, score=0.8191126279863481, total=   0.0s\n",
      "[CV] criterion=entropy, max_depth=50, max_features=log2, min_samples_split=4, n_estimators=200, random_state=42 \n",
      "[CV]  criterion=entropy, max_depth=50, max_features=log2, min_samples_split=4, n_estimators=200, random_state=42, score=0.8095238095238095, total=   0.1s\n",
      "[CV] criterion=entropy, max_depth=50, max_features=log2, min_samples_split=4, n_estimators=200, random_state=42 \n",
      "[CV]  criterion=entropy, max_depth=50, max_features=log2, min_samples_split=4, n_estimators=200, random_state=42, score=0.8095238095238095, total=   0.1s\n",
      "[CV] criterion=entropy, max_depth=50, max_features=log2, min_samples_split=4, n_estimators=200, random_state=42 \n",
      "[CV]  criterion=entropy, max_depth=50, max_features=log2, min_samples_split=4, n_estimators=200, random_state=42, score=0.8327645051194539, total=   0.1s\n",
      "[CV] criterion=entropy, max_depth=50, max_features=log2, min_samples_split=4, n_estimators=300, random_state=42 \n",
      "[CV]  criterion=entropy, max_depth=50, max_features=log2, min_samples_split=4, n_estimators=300, random_state=42, score=0.8061224489795918, total=   0.2s\n",
      "[CV] criterion=entropy, max_depth=50, max_features=log2, min_samples_split=4, n_estimators=300, random_state=42 \n",
      "[CV]  criterion=entropy, max_depth=50, max_features=log2, min_samples_split=4, n_estimators=300, random_state=42, score=0.8197278911564626, total=   0.2s\n",
      "[CV] criterion=entropy, max_depth=50, max_features=log2, min_samples_split=4, n_estimators=300, random_state=42 \n",
      "[CV]  criterion=entropy, max_depth=50, max_features=log2, min_samples_split=4, n_estimators=300, random_state=42, score=0.8293515358361775, total=   0.2s\n",
      "[CV] criterion=entropy, max_depth=50, max_features=log2, min_samples_split=6, n_estimators=100, random_state=42 \n",
      "[CV]  criterion=entropy, max_depth=50, max_features=log2, min_samples_split=6, n_estimators=100, random_state=42, score=0.8231292517006803, total=   0.0s\n",
      "[CV] criterion=entropy, max_depth=50, max_features=log2, min_samples_split=6, n_estimators=100, random_state=42 \n",
      "[CV]  criterion=entropy, max_depth=50, max_features=log2, min_samples_split=6, n_estimators=100, random_state=42, score=0.826530612244898, total=   0.0s\n",
      "[CV] criterion=entropy, max_depth=50, max_features=log2, min_samples_split=6, n_estimators=100, random_state=42 \n",
      "[CV]  criterion=entropy, max_depth=50, max_features=log2, min_samples_split=6, n_estimators=100, random_state=42, score=0.8225255972696246, total=   0.0s\n",
      "[CV] criterion=entropy, max_depth=50, max_features=log2, min_samples_split=6, n_estimators=200, random_state=42 \n"
     ]
    },
    {
     "name": "stdout",
     "output_type": "stream",
     "text": [
      "[CV]  criterion=entropy, max_depth=50, max_features=log2, min_samples_split=6, n_estimators=200, random_state=42, score=0.826530612244898, total=   0.1s\n",
      "[CV] criterion=entropy, max_depth=50, max_features=log2, min_samples_split=6, n_estimators=200, random_state=42 \n",
      "[CV]  criterion=entropy, max_depth=50, max_features=log2, min_samples_split=6, n_estimators=200, random_state=42, score=0.8333333333333334, total=   0.1s\n",
      "[CV] criterion=entropy, max_depth=50, max_features=log2, min_samples_split=6, n_estimators=200, random_state=42 \n",
      "[CV]  criterion=entropy, max_depth=50, max_features=log2, min_samples_split=6, n_estimators=200, random_state=42, score=0.8293515358361775, total=   0.1s\n",
      "[CV] criterion=entropy, max_depth=50, max_features=log2, min_samples_split=6, n_estimators=300, random_state=42 \n",
      "[CV]  criterion=entropy, max_depth=50, max_features=log2, min_samples_split=6, n_estimators=300, random_state=42, score=0.8197278911564626, total=   0.2s\n",
      "[CV] criterion=entropy, max_depth=50, max_features=log2, min_samples_split=6, n_estimators=300, random_state=42 \n",
      "[CV]  criterion=entropy, max_depth=50, max_features=log2, min_samples_split=6, n_estimators=300, random_state=42, score=0.8333333333333334, total=   0.2s\n",
      "[CV] criterion=entropy, max_depth=50, max_features=log2, min_samples_split=6, n_estimators=300, random_state=42 \n",
      "[CV]  criterion=entropy, max_depth=50, max_features=log2, min_samples_split=6, n_estimators=300, random_state=42, score=0.8225255972696246, total=   0.3s\n",
      "[CV] criterion=entropy, max_depth=50, max_features=log2, min_samples_split=8, n_estimators=100, random_state=42 \n",
      "[CV]  criterion=entropy, max_depth=50, max_features=log2, min_samples_split=8, n_estimators=100, random_state=42, score=0.8231292517006803, total=   0.0s\n",
      "[CV] criterion=entropy, max_depth=50, max_features=log2, min_samples_split=8, n_estimators=100, random_state=42 \n",
      "[CV]  criterion=entropy, max_depth=50, max_features=log2, min_samples_split=8, n_estimators=100, random_state=42, score=0.8333333333333334, total=   0.0s\n",
      "[CV] criterion=entropy, max_depth=50, max_features=log2, min_samples_split=8, n_estimators=100, random_state=42 \n",
      "[CV]  criterion=entropy, max_depth=50, max_features=log2, min_samples_split=8, n_estimators=100, random_state=42, score=0.8361774744027304, total=   0.0s\n",
      "[CV] criterion=entropy, max_depth=50, max_features=log2, min_samples_split=8, n_estimators=200, random_state=42 \n",
      "[CV]  criterion=entropy, max_depth=50, max_features=log2, min_samples_split=8, n_estimators=200, random_state=42, score=0.826530612244898, total=   0.1s\n",
      "[CV] criterion=entropy, max_depth=50, max_features=log2, min_samples_split=8, n_estimators=200, random_state=42 \n",
      "[CV]  criterion=entropy, max_depth=50, max_features=log2, min_samples_split=8, n_estimators=200, random_state=42, score=0.8299319727891157, total=   0.1s\n",
      "[CV] criterion=entropy, max_depth=50, max_features=log2, min_samples_split=8, n_estimators=200, random_state=42 \n",
      "[CV]  criterion=entropy, max_depth=50, max_features=log2, min_samples_split=8, n_estimators=200, random_state=42, score=0.8395904436860068, total=   0.1s\n",
      "[CV] criterion=entropy, max_depth=50, max_features=log2, min_samples_split=8, n_estimators=300, random_state=42 \n",
      "[CV]  criterion=entropy, max_depth=50, max_features=log2, min_samples_split=8, n_estimators=300, random_state=42, score=0.8231292517006803, total=   0.2s\n",
      "[CV] criterion=entropy, max_depth=50, max_features=log2, min_samples_split=8, n_estimators=300, random_state=42 \n",
      "[CV]  criterion=entropy, max_depth=50, max_features=log2, min_samples_split=8, n_estimators=300, random_state=42, score=0.8333333333333334, total=   0.2s\n",
      "[CV] criterion=entropy, max_depth=50, max_features=log2, min_samples_split=8, n_estimators=300, random_state=42 \n",
      "[CV]  criterion=entropy, max_depth=50, max_features=log2, min_samples_split=8, n_estimators=300, random_state=42, score=0.8361774744027304, total=   0.2s\n",
      "[CV] criterion=entropy, max_depth=50, max_features=sqrt, min_samples_split=2, n_estimators=100, random_state=42 \n",
      "[CV]  criterion=entropy, max_depth=50, max_features=sqrt, min_samples_split=2, n_estimators=100, random_state=42, score=0.7517006802721088, total=   0.1s\n",
      "[CV] criterion=entropy, max_depth=50, max_features=sqrt, min_samples_split=2, n_estimators=100, random_state=42 \n",
      "[CV]  criterion=entropy, max_depth=50, max_features=sqrt, min_samples_split=2, n_estimators=100, random_state=42, score=0.8027210884353742, total=   0.1s\n",
      "[CV] criterion=entropy, max_depth=50, max_features=sqrt, min_samples_split=2, n_estimators=100, random_state=42 \n",
      "[CV]  criterion=entropy, max_depth=50, max_features=sqrt, min_samples_split=2, n_estimators=100, random_state=42, score=0.8020477815699659, total=   0.1s\n",
      "[CV] criterion=entropy, max_depth=50, max_features=sqrt, min_samples_split=2, n_estimators=200, random_state=42 \n",
      "[CV]  criterion=entropy, max_depth=50, max_features=sqrt, min_samples_split=2, n_estimators=200, random_state=42, score=0.7517006802721088, total=   0.1s\n",
      "[CV] criterion=entropy, max_depth=50, max_features=sqrt, min_samples_split=2, n_estimators=200, random_state=42 \n",
      "[CV]  criterion=entropy, max_depth=50, max_features=sqrt, min_samples_split=2, n_estimators=200, random_state=42, score=0.8095238095238095, total=   0.1s\n",
      "[CV] criterion=entropy, max_depth=50, max_features=sqrt, min_samples_split=2, n_estimators=200, random_state=42 \n",
      "[CV]  criterion=entropy, max_depth=50, max_features=sqrt, min_samples_split=2, n_estimators=200, random_state=42, score=0.8020477815699659, total=   0.1s\n",
      "[CV] criterion=entropy, max_depth=50, max_features=sqrt, min_samples_split=2, n_estimators=300, random_state=42 \n",
      "[CV]  criterion=entropy, max_depth=50, max_features=sqrt, min_samples_split=2, n_estimators=300, random_state=42, score=0.7585034013605442, total=   0.2s\n",
      "[CV] criterion=entropy, max_depth=50, max_features=sqrt, min_samples_split=2, n_estimators=300, random_state=42 \n",
      "[CV]  criterion=entropy, max_depth=50, max_features=sqrt, min_samples_split=2, n_estimators=300, random_state=42, score=0.8163265306122449, total=   0.2s\n",
      "[CV] criterion=entropy, max_depth=50, max_features=sqrt, min_samples_split=2, n_estimators=300, random_state=42 \n",
      "[CV]  criterion=entropy, max_depth=50, max_features=sqrt, min_samples_split=2, n_estimators=300, random_state=42, score=0.7986348122866894, total=   0.2s\n",
      "[CV] criterion=entropy, max_depth=50, max_features=sqrt, min_samples_split=4, n_estimators=100, random_state=42 \n",
      "[CV]  criterion=entropy, max_depth=50, max_features=sqrt, min_samples_split=4, n_estimators=100, random_state=42, score=0.7585034013605442, total=   0.0s\n",
      "[CV] criterion=entropy, max_depth=50, max_features=sqrt, min_samples_split=4, n_estimators=100, random_state=42 \n",
      "[CV]  criterion=entropy, max_depth=50, max_features=sqrt, min_samples_split=4, n_estimators=100, random_state=42, score=0.8163265306122449, total=   0.0s\n",
      "[CV] criterion=entropy, max_depth=50, max_features=sqrt, min_samples_split=4, n_estimators=100, random_state=42 \n",
      "[CV]  criterion=entropy, max_depth=50, max_features=sqrt, min_samples_split=4, n_estimators=100, random_state=42, score=0.8156996587030717, total=   0.0s\n",
      "[CV] criterion=entropy, max_depth=50, max_features=sqrt, min_samples_split=4, n_estimators=200, random_state=42 \n",
      "[CV]  criterion=entropy, max_depth=50, max_features=sqrt, min_samples_split=4, n_estimators=200, random_state=42, score=0.7755102040816326, total=   0.1s\n",
      "[CV] criterion=entropy, max_depth=50, max_features=sqrt, min_samples_split=4, n_estimators=200, random_state=42 \n",
      "[CV]  criterion=entropy, max_depth=50, max_features=sqrt, min_samples_split=4, n_estimators=200, random_state=42, score=0.8231292517006803, total=   0.1s\n",
      "[CV] criterion=entropy, max_depth=50, max_features=sqrt, min_samples_split=4, n_estimators=200, random_state=42 \n",
      "[CV]  criterion=entropy, max_depth=50, max_features=sqrt, min_samples_split=4, n_estimators=200, random_state=42, score=0.8225255972696246, total=   0.1s\n",
      "[CV] criterion=entropy, max_depth=50, max_features=sqrt, min_samples_split=4, n_estimators=300, random_state=42 \n",
      "[CV]  criterion=entropy, max_depth=50, max_features=sqrt, min_samples_split=4, n_estimators=300, random_state=42, score=0.7789115646258503, total=   0.2s\n",
      "[CV] criterion=entropy, max_depth=50, max_features=sqrt, min_samples_split=4, n_estimators=300, random_state=42 \n"
     ]
    },
    {
     "name": "stdout",
     "output_type": "stream",
     "text": [
      "[CV]  criterion=entropy, max_depth=50, max_features=sqrt, min_samples_split=4, n_estimators=300, random_state=42, score=0.8299319727891157, total=   0.2s\n",
      "[CV] criterion=entropy, max_depth=50, max_features=sqrt, min_samples_split=4, n_estimators=300, random_state=42 \n",
      "[CV]  criterion=entropy, max_depth=50, max_features=sqrt, min_samples_split=4, n_estimators=300, random_state=42, score=0.8156996587030717, total=   0.2s\n",
      "[CV] criterion=entropy, max_depth=50, max_features=sqrt, min_samples_split=6, n_estimators=100, random_state=42 \n",
      "[CV]  criterion=entropy, max_depth=50, max_features=sqrt, min_samples_split=6, n_estimators=100, random_state=42, score=0.8095238095238095, total=   0.0s\n",
      "[CV] criterion=entropy, max_depth=50, max_features=sqrt, min_samples_split=6, n_estimators=100, random_state=42 \n",
      "[CV]  criterion=entropy, max_depth=50, max_features=sqrt, min_samples_split=6, n_estimators=100, random_state=42, score=0.8231292517006803, total=   0.0s\n",
      "[CV] criterion=entropy, max_depth=50, max_features=sqrt, min_samples_split=6, n_estimators=100, random_state=42 \n",
      "[CV]  criterion=entropy, max_depth=50, max_features=sqrt, min_samples_split=6, n_estimators=100, random_state=42, score=0.8225255972696246, total=   0.0s\n",
      "[CV] criterion=entropy, max_depth=50, max_features=sqrt, min_samples_split=6, n_estimators=200, random_state=42 \n",
      "[CV]  criterion=entropy, max_depth=50, max_features=sqrt, min_samples_split=6, n_estimators=200, random_state=42, score=0.7959183673469388, total=   0.1s\n",
      "[CV] criterion=entropy, max_depth=50, max_features=sqrt, min_samples_split=6, n_estimators=200, random_state=42 \n",
      "[CV]  criterion=entropy, max_depth=50, max_features=sqrt, min_samples_split=6, n_estimators=200, random_state=42, score=0.8299319727891157, total=   0.1s\n",
      "[CV] criterion=entropy, max_depth=50, max_features=sqrt, min_samples_split=6, n_estimators=200, random_state=42 \n",
      "[CV]  criterion=entropy, max_depth=50, max_features=sqrt, min_samples_split=6, n_estimators=200, random_state=42, score=0.8191126279863481, total=   0.1s\n",
      "[CV] criterion=entropy, max_depth=50, max_features=sqrt, min_samples_split=6, n_estimators=300, random_state=42 \n",
      "[CV]  criterion=entropy, max_depth=50, max_features=sqrt, min_samples_split=6, n_estimators=300, random_state=42, score=0.7959183673469388, total=   0.2s\n",
      "[CV] criterion=entropy, max_depth=50, max_features=sqrt, min_samples_split=6, n_estimators=300, random_state=42 \n",
      "[CV]  criterion=entropy, max_depth=50, max_features=sqrt, min_samples_split=6, n_estimators=300, random_state=42, score=0.8299319727891157, total=   0.2s\n",
      "[CV] criterion=entropy, max_depth=50, max_features=sqrt, min_samples_split=6, n_estimators=300, random_state=42 \n",
      "[CV]  criterion=entropy, max_depth=50, max_features=sqrt, min_samples_split=6, n_estimators=300, random_state=42, score=0.8191126279863481, total=   0.2s\n",
      "[CV] criterion=entropy, max_depth=50, max_features=sqrt, min_samples_split=8, n_estimators=100, random_state=42 \n",
      "[CV]  criterion=entropy, max_depth=50, max_features=sqrt, min_samples_split=8, n_estimators=100, random_state=42, score=0.7959183673469388, total=   0.0s\n",
      "[CV] criterion=entropy, max_depth=50, max_features=sqrt, min_samples_split=8, n_estimators=100, random_state=42 \n",
      "[CV]  criterion=entropy, max_depth=50, max_features=sqrt, min_samples_split=8, n_estimators=100, random_state=42, score=0.826530612244898, total=   0.0s\n",
      "[CV] criterion=entropy, max_depth=50, max_features=sqrt, min_samples_split=8, n_estimators=100, random_state=42 \n",
      "[CV]  criterion=entropy, max_depth=50, max_features=sqrt, min_samples_split=8, n_estimators=100, random_state=42, score=0.8327645051194539, total=   0.0s\n",
      "[CV] criterion=entropy, max_depth=50, max_features=sqrt, min_samples_split=8, n_estimators=200, random_state=42 \n",
      "[CV]  criterion=entropy, max_depth=50, max_features=sqrt, min_samples_split=8, n_estimators=200, random_state=42, score=0.7925170068027211, total=   0.1s\n",
      "[CV] criterion=entropy, max_depth=50, max_features=sqrt, min_samples_split=8, n_estimators=200, random_state=42 \n",
      "[CV]  criterion=entropy, max_depth=50, max_features=sqrt, min_samples_split=8, n_estimators=200, random_state=42, score=0.8299319727891157, total=   0.1s\n",
      "[CV] criterion=entropy, max_depth=50, max_features=sqrt, min_samples_split=8, n_estimators=200, random_state=42 \n",
      "[CV]  criterion=entropy, max_depth=50, max_features=sqrt, min_samples_split=8, n_estimators=200, random_state=42, score=0.8191126279863481, total=   0.1s\n",
      "[CV] criterion=entropy, max_depth=50, max_features=sqrt, min_samples_split=8, n_estimators=300, random_state=42 \n",
      "[CV]  criterion=entropy, max_depth=50, max_features=sqrt, min_samples_split=8, n_estimators=300, random_state=42, score=0.7891156462585034, total=   0.2s\n",
      "[CV] criterion=entropy, max_depth=50, max_features=sqrt, min_samples_split=8, n_estimators=300, random_state=42 \n",
      "[CV]  criterion=entropy, max_depth=50, max_features=sqrt, min_samples_split=8, n_estimators=300, random_state=42, score=0.8299319727891157, total=   0.2s\n",
      "[CV] criterion=entropy, max_depth=50, max_features=sqrt, min_samples_split=8, n_estimators=300, random_state=42 \n",
      "[CV]  criterion=entropy, max_depth=50, max_features=sqrt, min_samples_split=8, n_estimators=300, random_state=42, score=0.8191126279863481, total=   0.2s\n",
      "[CV] criterion=entropy, max_depth=50, max_features=auto, min_samples_split=2, n_estimators=100, random_state=42 \n",
      "[CV]  criterion=entropy, max_depth=50, max_features=auto, min_samples_split=2, n_estimators=100, random_state=42, score=0.7517006802721088, total=   0.0s\n",
      "[CV] criterion=entropy, max_depth=50, max_features=auto, min_samples_split=2, n_estimators=100, random_state=42 \n",
      "[CV]  criterion=entropy, max_depth=50, max_features=auto, min_samples_split=2, n_estimators=100, random_state=42, score=0.8027210884353742, total=   0.0s\n",
      "[CV] criterion=entropy, max_depth=50, max_features=auto, min_samples_split=2, n_estimators=100, random_state=42 \n",
      "[CV]  criterion=entropy, max_depth=50, max_features=auto, min_samples_split=2, n_estimators=100, random_state=42, score=0.8020477815699659, total=   0.0s\n",
      "[CV] criterion=entropy, max_depth=50, max_features=auto, min_samples_split=2, n_estimators=200, random_state=42 \n",
      "[CV]  criterion=entropy, max_depth=50, max_features=auto, min_samples_split=2, n_estimators=200, random_state=42, score=0.7517006802721088, total=   0.1s\n",
      "[CV] criterion=entropy, max_depth=50, max_features=auto, min_samples_split=2, n_estimators=200, random_state=42 \n",
      "[CV]  criterion=entropy, max_depth=50, max_features=auto, min_samples_split=2, n_estimators=200, random_state=42, score=0.8095238095238095, total=   0.1s\n",
      "[CV] criterion=entropy, max_depth=50, max_features=auto, min_samples_split=2, n_estimators=200, random_state=42 \n",
      "[CV]  criterion=entropy, max_depth=50, max_features=auto, min_samples_split=2, n_estimators=200, random_state=42, score=0.8020477815699659, total=   0.1s\n",
      "[CV] criterion=entropy, max_depth=50, max_features=auto, min_samples_split=2, n_estimators=300, random_state=42 \n",
      "[CV]  criterion=entropy, max_depth=50, max_features=auto, min_samples_split=2, n_estimators=300, random_state=42, score=0.7585034013605442, total=   0.2s\n",
      "[CV] criterion=entropy, max_depth=50, max_features=auto, min_samples_split=2, n_estimators=300, random_state=42 \n",
      "[CV]  criterion=entropy, max_depth=50, max_features=auto, min_samples_split=2, n_estimators=300, random_state=42, score=0.8163265306122449, total=   0.3s\n",
      "[CV] criterion=entropy, max_depth=50, max_features=auto, min_samples_split=2, n_estimators=300, random_state=42 \n",
      "[CV]  criterion=entropy, max_depth=50, max_features=auto, min_samples_split=2, n_estimators=300, random_state=42, score=0.7986348122866894, total=   0.2s\n",
      "[CV] criterion=entropy, max_depth=50, max_features=auto, min_samples_split=4, n_estimators=100, random_state=42 \n",
      "[CV]  criterion=entropy, max_depth=50, max_features=auto, min_samples_split=4, n_estimators=100, random_state=42, score=0.7585034013605442, total=   0.0s\n",
      "[CV] criterion=entropy, max_depth=50, max_features=auto, min_samples_split=4, n_estimators=100, random_state=42 \n",
      "[CV]  criterion=entropy, max_depth=50, max_features=auto, min_samples_split=4, n_estimators=100, random_state=42, score=0.8163265306122449, total=   0.0s\n",
      "[CV] criterion=entropy, max_depth=50, max_features=auto, min_samples_split=4, n_estimators=100, random_state=42 \n",
      "[CV]  criterion=entropy, max_depth=50, max_features=auto, min_samples_split=4, n_estimators=100, random_state=42, score=0.8156996587030717, total=   0.0s\n",
      "[CV] criterion=entropy, max_depth=50, max_features=auto, min_samples_split=4, n_estimators=200, random_state=42 \n"
     ]
    },
    {
     "name": "stdout",
     "output_type": "stream",
     "text": [
      "[CV]  criterion=entropy, max_depth=50, max_features=auto, min_samples_split=4, n_estimators=200, random_state=42, score=0.7755102040816326, total=   0.1s\n",
      "[CV] criterion=entropy, max_depth=50, max_features=auto, min_samples_split=4, n_estimators=200, random_state=42 \n",
      "[CV]  criterion=entropy, max_depth=50, max_features=auto, min_samples_split=4, n_estimators=200, random_state=42, score=0.8231292517006803, total=   0.1s\n",
      "[CV] criterion=entropy, max_depth=50, max_features=auto, min_samples_split=4, n_estimators=200, random_state=42 \n",
      "[CV]  criterion=entropy, max_depth=50, max_features=auto, min_samples_split=4, n_estimators=200, random_state=42, score=0.8225255972696246, total=   0.1s\n",
      "[CV] criterion=entropy, max_depth=50, max_features=auto, min_samples_split=4, n_estimators=300, random_state=42 \n",
      "[CV]  criterion=entropy, max_depth=50, max_features=auto, min_samples_split=4, n_estimators=300, random_state=42, score=0.7789115646258503, total=   0.2s\n",
      "[CV] criterion=entropy, max_depth=50, max_features=auto, min_samples_split=4, n_estimators=300, random_state=42 \n",
      "[CV]  criterion=entropy, max_depth=50, max_features=auto, min_samples_split=4, n_estimators=300, random_state=42, score=0.8299319727891157, total=   0.2s\n",
      "[CV] criterion=entropy, max_depth=50, max_features=auto, min_samples_split=4, n_estimators=300, random_state=42 \n",
      "[CV]  criterion=entropy, max_depth=50, max_features=auto, min_samples_split=4, n_estimators=300, random_state=42, score=0.8156996587030717, total=   0.2s\n",
      "[CV] criterion=entropy, max_depth=50, max_features=auto, min_samples_split=6, n_estimators=100, random_state=42 \n",
      "[CV]  criterion=entropy, max_depth=50, max_features=auto, min_samples_split=6, n_estimators=100, random_state=42, score=0.8095238095238095, total=   0.0s\n",
      "[CV] criterion=entropy, max_depth=50, max_features=auto, min_samples_split=6, n_estimators=100, random_state=42 \n",
      "[CV]  criterion=entropy, max_depth=50, max_features=auto, min_samples_split=6, n_estimators=100, random_state=42, score=0.8231292517006803, total=   0.0s\n",
      "[CV] criterion=entropy, max_depth=50, max_features=auto, min_samples_split=6, n_estimators=100, random_state=42 \n",
      "[CV]  criterion=entropy, max_depth=50, max_features=auto, min_samples_split=6, n_estimators=100, random_state=42, score=0.8225255972696246, total=   0.0s\n",
      "[CV] criterion=entropy, max_depth=50, max_features=auto, min_samples_split=6, n_estimators=200, random_state=42 \n",
      "[CV]  criterion=entropy, max_depth=50, max_features=auto, min_samples_split=6, n_estimators=200, random_state=42, score=0.7959183673469388, total=   0.1s\n",
      "[CV] criterion=entropy, max_depth=50, max_features=auto, min_samples_split=6, n_estimators=200, random_state=42 \n",
      "[CV]  criterion=entropy, max_depth=50, max_features=auto, min_samples_split=6, n_estimators=200, random_state=42, score=0.8299319727891157, total=   0.1s\n",
      "[CV] criterion=entropy, max_depth=50, max_features=auto, min_samples_split=6, n_estimators=200, random_state=42 \n",
      "[CV]  criterion=entropy, max_depth=50, max_features=auto, min_samples_split=6, n_estimators=200, random_state=42, score=0.8191126279863481, total=   0.1s\n",
      "[CV] criterion=entropy, max_depth=50, max_features=auto, min_samples_split=6, n_estimators=300, random_state=42 \n",
      "[CV]  criterion=entropy, max_depth=50, max_features=auto, min_samples_split=6, n_estimators=300, random_state=42, score=0.7959183673469388, total=   0.2s\n",
      "[CV] criterion=entropy, max_depth=50, max_features=auto, min_samples_split=6, n_estimators=300, random_state=42 \n",
      "[CV]  criterion=entropy, max_depth=50, max_features=auto, min_samples_split=6, n_estimators=300, random_state=42, score=0.8299319727891157, total=   0.2s\n",
      "[CV] criterion=entropy, max_depth=50, max_features=auto, min_samples_split=6, n_estimators=300, random_state=42 \n",
      "[CV]  criterion=entropy, max_depth=50, max_features=auto, min_samples_split=6, n_estimators=300, random_state=42, score=0.8191126279863481, total=   0.2s\n",
      "[CV] criterion=entropy, max_depth=50, max_features=auto, min_samples_split=8, n_estimators=100, random_state=42 \n",
      "[CV]  criterion=entropy, max_depth=50, max_features=auto, min_samples_split=8, n_estimators=100, random_state=42, score=0.7959183673469388, total=   0.0s\n",
      "[CV] criterion=entropy, max_depth=50, max_features=auto, min_samples_split=8, n_estimators=100, random_state=42 \n",
      "[CV]  criterion=entropy, max_depth=50, max_features=auto, min_samples_split=8, n_estimators=100, random_state=42, score=0.826530612244898, total=   0.0s\n",
      "[CV] criterion=entropy, max_depth=50, max_features=auto, min_samples_split=8, n_estimators=100, random_state=42 \n",
      "[CV]  criterion=entropy, max_depth=50, max_features=auto, min_samples_split=8, n_estimators=100, random_state=42, score=0.8327645051194539, total=   0.0s\n",
      "[CV] criterion=entropy, max_depth=50, max_features=auto, min_samples_split=8, n_estimators=200, random_state=42 \n",
      "[CV]  criterion=entropy, max_depth=50, max_features=auto, min_samples_split=8, n_estimators=200, random_state=42, score=0.7925170068027211, total=   0.1s\n",
      "[CV] criterion=entropy, max_depth=50, max_features=auto, min_samples_split=8, n_estimators=200, random_state=42 \n",
      "[CV]  criterion=entropy, max_depth=50, max_features=auto, min_samples_split=8, n_estimators=200, random_state=42, score=0.8299319727891157, total=   0.1s\n",
      "[CV] criterion=entropy, max_depth=50, max_features=auto, min_samples_split=8, n_estimators=200, random_state=42 \n",
      "[CV]  criterion=entropy, max_depth=50, max_features=auto, min_samples_split=8, n_estimators=200, random_state=42, score=0.8191126279863481, total=   0.1s\n",
      "[CV] criterion=entropy, max_depth=50, max_features=auto, min_samples_split=8, n_estimators=300, random_state=42 \n",
      "[CV]  criterion=entropy, max_depth=50, max_features=auto, min_samples_split=8, n_estimators=300, random_state=42, score=0.7891156462585034, total=   0.2s\n",
      "[CV] criterion=entropy, max_depth=50, max_features=auto, min_samples_split=8, n_estimators=300, random_state=42 \n",
      "[CV]  criterion=entropy, max_depth=50, max_features=auto, min_samples_split=8, n_estimators=300, random_state=42, score=0.8299319727891157, total=   0.2s\n",
      "[CV] criterion=entropy, max_depth=50, max_features=auto, min_samples_split=8, n_estimators=300, random_state=42 \n",
      "[CV]  criterion=entropy, max_depth=50, max_features=auto, min_samples_split=8, n_estimators=300, random_state=42, score=0.8191126279863481, total=   0.2s\n",
      "[CV] criterion=entropy, max_depth=100, max_features=log2, min_samples_split=2, n_estimators=100, random_state=42 \n",
      "[CV]  criterion=entropy, max_depth=100, max_features=log2, min_samples_split=2, n_estimators=100, random_state=42, score=0.7755102040816326, total=   0.0s\n",
      "[CV] criterion=entropy, max_depth=100, max_features=log2, min_samples_split=2, n_estimators=100, random_state=42 \n",
      "[CV]  criterion=entropy, max_depth=100, max_features=log2, min_samples_split=2, n_estimators=100, random_state=42, score=0.8129251700680272, total=   0.0s\n",
      "[CV] criterion=entropy, max_depth=100, max_features=log2, min_samples_split=2, n_estimators=100, random_state=42 \n",
      "[CV]  criterion=entropy, max_depth=100, max_features=log2, min_samples_split=2, n_estimators=100, random_state=42, score=0.8088737201365188, total=   0.0s\n",
      "[CV] criterion=entropy, max_depth=100, max_features=log2, min_samples_split=2, n_estimators=200, random_state=42 \n",
      "[CV]  criterion=entropy, max_depth=100, max_features=log2, min_samples_split=2, n_estimators=200, random_state=42, score=0.7653061224489796, total=   0.1s\n",
      "[CV] criterion=entropy, max_depth=100, max_features=log2, min_samples_split=2, n_estimators=200, random_state=42 \n",
      "[CV]  criterion=entropy, max_depth=100, max_features=log2, min_samples_split=2, n_estimators=200, random_state=42, score=0.8129251700680272, total=   0.1s\n",
      "[CV] criterion=entropy, max_depth=100, max_features=log2, min_samples_split=2, n_estimators=200, random_state=42 \n",
      "[CV]  criterion=entropy, max_depth=100, max_features=log2, min_samples_split=2, n_estimators=200, random_state=42, score=0.8156996587030717, total=   0.1s\n",
      "[CV] criterion=entropy, max_depth=100, max_features=log2, min_samples_split=2, n_estimators=300, random_state=42 \n",
      "[CV]  criterion=entropy, max_depth=100, max_features=log2, min_samples_split=2, n_estimators=300, random_state=42, score=0.7653061224489796, total=   0.2s\n",
      "[CV] criterion=entropy, max_depth=100, max_features=log2, min_samples_split=2, n_estimators=300, random_state=42 \n"
     ]
    },
    {
     "name": "stdout",
     "output_type": "stream",
     "text": [
      "[CV]  criterion=entropy, max_depth=100, max_features=log2, min_samples_split=2, n_estimators=300, random_state=42, score=0.8129251700680272, total=   0.2s\n",
      "[CV] criterion=entropy, max_depth=100, max_features=log2, min_samples_split=2, n_estimators=300, random_state=42 \n",
      "[CV]  criterion=entropy, max_depth=100, max_features=log2, min_samples_split=2, n_estimators=300, random_state=42, score=0.8088737201365188, total=   0.2s\n",
      "[CV] criterion=entropy, max_depth=100, max_features=log2, min_samples_split=4, n_estimators=100, random_state=42 \n",
      "[CV]  criterion=entropy, max_depth=100, max_features=log2, min_samples_split=4, n_estimators=100, random_state=42, score=0.8095238095238095, total=   0.0s\n",
      "[CV] criterion=entropy, max_depth=100, max_features=log2, min_samples_split=4, n_estimators=100, random_state=42 \n",
      "[CV]  criterion=entropy, max_depth=100, max_features=log2, min_samples_split=4, n_estimators=100, random_state=42, score=0.8163265306122449, total=   0.0s\n",
      "[CV] criterion=entropy, max_depth=100, max_features=log2, min_samples_split=4, n_estimators=100, random_state=42 \n",
      "[CV]  criterion=entropy, max_depth=100, max_features=log2, min_samples_split=4, n_estimators=100, random_state=42, score=0.8191126279863481, total=   0.0s\n",
      "[CV] criterion=entropy, max_depth=100, max_features=log2, min_samples_split=4, n_estimators=200, random_state=42 \n",
      "[CV]  criterion=entropy, max_depth=100, max_features=log2, min_samples_split=4, n_estimators=200, random_state=42, score=0.8095238095238095, total=   0.1s\n",
      "[CV] criterion=entropy, max_depth=100, max_features=log2, min_samples_split=4, n_estimators=200, random_state=42 \n",
      "[CV]  criterion=entropy, max_depth=100, max_features=log2, min_samples_split=4, n_estimators=200, random_state=42, score=0.8095238095238095, total=   0.1s\n",
      "[CV] criterion=entropy, max_depth=100, max_features=log2, min_samples_split=4, n_estimators=200, random_state=42 \n",
      "[CV]  criterion=entropy, max_depth=100, max_features=log2, min_samples_split=4, n_estimators=200, random_state=42, score=0.8327645051194539, total=   0.1s\n",
      "[CV] criterion=entropy, max_depth=100, max_features=log2, min_samples_split=4, n_estimators=300, random_state=42 \n",
      "[CV]  criterion=entropy, max_depth=100, max_features=log2, min_samples_split=4, n_estimators=300, random_state=42, score=0.8061224489795918, total=   0.2s\n",
      "[CV] criterion=entropy, max_depth=100, max_features=log2, min_samples_split=4, n_estimators=300, random_state=42 \n",
      "[CV]  criterion=entropy, max_depth=100, max_features=log2, min_samples_split=4, n_estimators=300, random_state=42, score=0.8197278911564626, total=   0.2s\n",
      "[CV] criterion=entropy, max_depth=100, max_features=log2, min_samples_split=4, n_estimators=300, random_state=42 \n",
      "[CV]  criterion=entropy, max_depth=100, max_features=log2, min_samples_split=4, n_estimators=300, random_state=42, score=0.8293515358361775, total=   0.2s\n",
      "[CV] criterion=entropy, max_depth=100, max_features=log2, min_samples_split=6, n_estimators=100, random_state=42 \n",
      "[CV]  criterion=entropy, max_depth=100, max_features=log2, min_samples_split=6, n_estimators=100, random_state=42, score=0.8231292517006803, total=   0.0s\n",
      "[CV] criterion=entropy, max_depth=100, max_features=log2, min_samples_split=6, n_estimators=100, random_state=42 \n",
      "[CV]  criterion=entropy, max_depth=100, max_features=log2, min_samples_split=6, n_estimators=100, random_state=42, score=0.826530612244898, total=   0.0s\n",
      "[CV] criterion=entropy, max_depth=100, max_features=log2, min_samples_split=6, n_estimators=100, random_state=42 \n",
      "[CV]  criterion=entropy, max_depth=100, max_features=log2, min_samples_split=6, n_estimators=100, random_state=42, score=0.8225255972696246, total=   0.0s\n",
      "[CV] criterion=entropy, max_depth=100, max_features=log2, min_samples_split=6, n_estimators=200, random_state=42 \n",
      "[CV]  criterion=entropy, max_depth=100, max_features=log2, min_samples_split=6, n_estimators=200, random_state=42, score=0.826530612244898, total=   0.1s\n",
      "[CV] criterion=entropy, max_depth=100, max_features=log2, min_samples_split=6, n_estimators=200, random_state=42 \n",
      "[CV]  criterion=entropy, max_depth=100, max_features=log2, min_samples_split=6, n_estimators=200, random_state=42, score=0.8333333333333334, total=   0.1s\n",
      "[CV] criterion=entropy, max_depth=100, max_features=log2, min_samples_split=6, n_estimators=200, random_state=42 \n",
      "[CV]  criterion=entropy, max_depth=100, max_features=log2, min_samples_split=6, n_estimators=200, random_state=42, score=0.8293515358361775, total=   0.1s\n",
      "[CV] criterion=entropy, max_depth=100, max_features=log2, min_samples_split=6, n_estimators=300, random_state=42 \n",
      "[CV]  criterion=entropy, max_depth=100, max_features=log2, min_samples_split=6, n_estimators=300, random_state=42, score=0.8197278911564626, total=   0.2s\n",
      "[CV] criterion=entropy, max_depth=100, max_features=log2, min_samples_split=6, n_estimators=300, random_state=42 \n",
      "[CV]  criterion=entropy, max_depth=100, max_features=log2, min_samples_split=6, n_estimators=300, random_state=42, score=0.8333333333333334, total=   0.2s\n",
      "[CV] criterion=entropy, max_depth=100, max_features=log2, min_samples_split=6, n_estimators=300, random_state=42 \n",
      "[CV]  criterion=entropy, max_depth=100, max_features=log2, min_samples_split=6, n_estimators=300, random_state=42, score=0.8225255972696246, total=   0.2s\n",
      "[CV] criterion=entropy, max_depth=100, max_features=log2, min_samples_split=8, n_estimators=100, random_state=42 \n",
      "[CV]  criterion=entropy, max_depth=100, max_features=log2, min_samples_split=8, n_estimators=100, random_state=42, score=0.8231292517006803, total=   0.0s\n",
      "[CV] criterion=entropy, max_depth=100, max_features=log2, min_samples_split=8, n_estimators=100, random_state=42 \n",
      "[CV]  criterion=entropy, max_depth=100, max_features=log2, min_samples_split=8, n_estimators=100, random_state=42, score=0.8333333333333334, total=   0.0s\n",
      "[CV] criterion=entropy, max_depth=100, max_features=log2, min_samples_split=8, n_estimators=100, random_state=42 \n",
      "[CV]  criterion=entropy, max_depth=100, max_features=log2, min_samples_split=8, n_estimators=100, random_state=42, score=0.8361774744027304, total=   0.0s\n",
      "[CV] criterion=entropy, max_depth=100, max_features=log2, min_samples_split=8, n_estimators=200, random_state=42 \n",
      "[CV]  criterion=entropy, max_depth=100, max_features=log2, min_samples_split=8, n_estimators=200, random_state=42, score=0.826530612244898, total=   0.1s\n",
      "[CV] criterion=entropy, max_depth=100, max_features=log2, min_samples_split=8, n_estimators=200, random_state=42 \n",
      "[CV]  criterion=entropy, max_depth=100, max_features=log2, min_samples_split=8, n_estimators=200, random_state=42, score=0.8299319727891157, total=   0.1s\n",
      "[CV] criterion=entropy, max_depth=100, max_features=log2, min_samples_split=8, n_estimators=200, random_state=42 \n",
      "[CV]  criterion=entropy, max_depth=100, max_features=log2, min_samples_split=8, n_estimators=200, random_state=42, score=0.8395904436860068, total=   0.1s\n",
      "[CV] criterion=entropy, max_depth=100, max_features=log2, min_samples_split=8, n_estimators=300, random_state=42 \n",
      "[CV]  criterion=entropy, max_depth=100, max_features=log2, min_samples_split=8, n_estimators=300, random_state=42, score=0.8231292517006803, total=   0.2s\n",
      "[CV] criterion=entropy, max_depth=100, max_features=log2, min_samples_split=8, n_estimators=300, random_state=42 \n",
      "[CV]  criterion=entropy, max_depth=100, max_features=log2, min_samples_split=8, n_estimators=300, random_state=42, score=0.8333333333333334, total=   0.2s\n",
      "[CV] criterion=entropy, max_depth=100, max_features=log2, min_samples_split=8, n_estimators=300, random_state=42 \n",
      "[CV]  criterion=entropy, max_depth=100, max_features=log2, min_samples_split=8, n_estimators=300, random_state=42, score=0.8361774744027304, total=   0.2s\n",
      "[CV] criterion=entropy, max_depth=100, max_features=sqrt, min_samples_split=2, n_estimators=100, random_state=42 \n",
      "[CV]  criterion=entropy, max_depth=100, max_features=sqrt, min_samples_split=2, n_estimators=100, random_state=42, score=0.7517006802721088, total=   0.0s\n",
      "[CV] criterion=entropy, max_depth=100, max_features=sqrt, min_samples_split=2, n_estimators=100, random_state=42 \n",
      "[CV]  criterion=entropy, max_depth=100, max_features=sqrt, min_samples_split=2, n_estimators=100, random_state=42, score=0.8027210884353742, total=   0.0s\n",
      "[CV] criterion=entropy, max_depth=100, max_features=sqrt, min_samples_split=2, n_estimators=100, random_state=42 \n",
      "[CV]  criterion=entropy, max_depth=100, max_features=sqrt, min_samples_split=2, n_estimators=100, random_state=42, score=0.8020477815699659, total=   0.0s\n",
      "[CV] criterion=entropy, max_depth=100, max_features=sqrt, min_samples_split=2, n_estimators=200, random_state=42 \n"
     ]
    },
    {
     "name": "stdout",
     "output_type": "stream",
     "text": [
      "[CV]  criterion=entropy, max_depth=100, max_features=sqrt, min_samples_split=2, n_estimators=200, random_state=42, score=0.7517006802721088, total=   0.1s\n",
      "[CV] criterion=entropy, max_depth=100, max_features=sqrt, min_samples_split=2, n_estimators=200, random_state=42 \n",
      "[CV]  criterion=entropy, max_depth=100, max_features=sqrt, min_samples_split=2, n_estimators=200, random_state=42, score=0.8095238095238095, total=   0.1s\n",
      "[CV] criterion=entropy, max_depth=100, max_features=sqrt, min_samples_split=2, n_estimators=200, random_state=42 \n",
      "[CV]  criterion=entropy, max_depth=100, max_features=sqrt, min_samples_split=2, n_estimators=200, random_state=42, score=0.8020477815699659, total=   0.1s\n",
      "[CV] criterion=entropy, max_depth=100, max_features=sqrt, min_samples_split=2, n_estimators=300, random_state=42 \n",
      "[CV]  criterion=entropy, max_depth=100, max_features=sqrt, min_samples_split=2, n_estimators=300, random_state=42, score=0.7585034013605442, total=   0.2s\n",
      "[CV] criterion=entropy, max_depth=100, max_features=sqrt, min_samples_split=2, n_estimators=300, random_state=42 \n",
      "[CV]  criterion=entropy, max_depth=100, max_features=sqrt, min_samples_split=2, n_estimators=300, random_state=42, score=0.8163265306122449, total=   0.2s\n",
      "[CV] criterion=entropy, max_depth=100, max_features=sqrt, min_samples_split=2, n_estimators=300, random_state=42 \n",
      "[CV]  criterion=entropy, max_depth=100, max_features=sqrt, min_samples_split=2, n_estimators=300, random_state=42, score=0.7986348122866894, total=   0.2s\n",
      "[CV] criterion=entropy, max_depth=100, max_features=sqrt, min_samples_split=4, n_estimators=100, random_state=42 \n",
      "[CV]  criterion=entropy, max_depth=100, max_features=sqrt, min_samples_split=4, n_estimators=100, random_state=42, score=0.7585034013605442, total=   0.0s\n",
      "[CV] criterion=entropy, max_depth=100, max_features=sqrt, min_samples_split=4, n_estimators=100, random_state=42 \n",
      "[CV]  criterion=entropy, max_depth=100, max_features=sqrt, min_samples_split=4, n_estimators=100, random_state=42, score=0.8163265306122449, total=   0.0s\n",
      "[CV] criterion=entropy, max_depth=100, max_features=sqrt, min_samples_split=4, n_estimators=100, random_state=42 \n",
      "[CV]  criterion=entropy, max_depth=100, max_features=sqrt, min_samples_split=4, n_estimators=100, random_state=42, score=0.8156996587030717, total=   0.0s\n",
      "[CV] criterion=entropy, max_depth=100, max_features=sqrt, min_samples_split=4, n_estimators=200, random_state=42 \n",
      "[CV]  criterion=entropy, max_depth=100, max_features=sqrt, min_samples_split=4, n_estimators=200, random_state=42, score=0.7755102040816326, total=   0.1s\n",
      "[CV] criterion=entropy, max_depth=100, max_features=sqrt, min_samples_split=4, n_estimators=200, random_state=42 \n",
      "[CV]  criterion=entropy, max_depth=100, max_features=sqrt, min_samples_split=4, n_estimators=200, random_state=42, score=0.8231292517006803, total=   0.1s\n",
      "[CV] criterion=entropy, max_depth=100, max_features=sqrt, min_samples_split=4, n_estimators=200, random_state=42 \n",
      "[CV]  criterion=entropy, max_depth=100, max_features=sqrt, min_samples_split=4, n_estimators=200, random_state=42, score=0.8225255972696246, total=   0.1s\n",
      "[CV] criterion=entropy, max_depth=100, max_features=sqrt, min_samples_split=4, n_estimators=300, random_state=42 \n",
      "[CV]  criterion=entropy, max_depth=100, max_features=sqrt, min_samples_split=4, n_estimators=300, random_state=42, score=0.7789115646258503, total=   0.2s\n",
      "[CV] criterion=entropy, max_depth=100, max_features=sqrt, min_samples_split=4, n_estimators=300, random_state=42 \n",
      "[CV]  criterion=entropy, max_depth=100, max_features=sqrt, min_samples_split=4, n_estimators=300, random_state=42, score=0.8299319727891157, total=   0.2s\n",
      "[CV] criterion=entropy, max_depth=100, max_features=sqrt, min_samples_split=4, n_estimators=300, random_state=42 \n",
      "[CV]  criterion=entropy, max_depth=100, max_features=sqrt, min_samples_split=4, n_estimators=300, random_state=42, score=0.8156996587030717, total=   0.2s\n",
      "[CV] criterion=entropy, max_depth=100, max_features=sqrt, min_samples_split=6, n_estimators=100, random_state=42 \n",
      "[CV]  criterion=entropy, max_depth=100, max_features=sqrt, min_samples_split=6, n_estimators=100, random_state=42, score=0.8095238095238095, total=   0.0s\n",
      "[CV] criterion=entropy, max_depth=100, max_features=sqrt, min_samples_split=6, n_estimators=100, random_state=42 \n",
      "[CV]  criterion=entropy, max_depth=100, max_features=sqrt, min_samples_split=6, n_estimators=100, random_state=42, score=0.8231292517006803, total=   0.0s\n",
      "[CV] criterion=entropy, max_depth=100, max_features=sqrt, min_samples_split=6, n_estimators=100, random_state=42 \n",
      "[CV]  criterion=entropy, max_depth=100, max_features=sqrt, min_samples_split=6, n_estimators=100, random_state=42, score=0.8225255972696246, total=   0.0s\n",
      "[CV] criterion=entropy, max_depth=100, max_features=sqrt, min_samples_split=6, n_estimators=200, random_state=42 \n",
      "[CV]  criterion=entropy, max_depth=100, max_features=sqrt, min_samples_split=6, n_estimators=200, random_state=42, score=0.7959183673469388, total=   0.1s\n",
      "[CV] criterion=entropy, max_depth=100, max_features=sqrt, min_samples_split=6, n_estimators=200, random_state=42 \n",
      "[CV]  criterion=entropy, max_depth=100, max_features=sqrt, min_samples_split=6, n_estimators=200, random_state=42, score=0.8299319727891157, total=   0.1s\n",
      "[CV] criterion=entropy, max_depth=100, max_features=sqrt, min_samples_split=6, n_estimators=200, random_state=42 \n",
      "[CV]  criterion=entropy, max_depth=100, max_features=sqrt, min_samples_split=6, n_estimators=200, random_state=42, score=0.8191126279863481, total=   0.1s\n",
      "[CV] criterion=entropy, max_depth=100, max_features=sqrt, min_samples_split=6, n_estimators=300, random_state=42 \n",
      "[CV]  criterion=entropy, max_depth=100, max_features=sqrt, min_samples_split=6, n_estimators=300, random_state=42, score=0.7959183673469388, total=   0.2s\n",
      "[CV] criterion=entropy, max_depth=100, max_features=sqrt, min_samples_split=6, n_estimators=300, random_state=42 \n",
      "[CV]  criterion=entropy, max_depth=100, max_features=sqrt, min_samples_split=6, n_estimators=300, random_state=42, score=0.8299319727891157, total=   0.2s\n",
      "[CV] criterion=entropy, max_depth=100, max_features=sqrt, min_samples_split=6, n_estimators=300, random_state=42 \n",
      "[CV]  criterion=entropy, max_depth=100, max_features=sqrt, min_samples_split=6, n_estimators=300, random_state=42, score=0.8191126279863481, total=   0.2s\n",
      "[CV] criterion=entropy, max_depth=100, max_features=sqrt, min_samples_split=8, n_estimators=100, random_state=42 \n",
      "[CV]  criterion=entropy, max_depth=100, max_features=sqrt, min_samples_split=8, n_estimators=100, random_state=42, score=0.7959183673469388, total=   0.0s\n",
      "[CV] criterion=entropy, max_depth=100, max_features=sqrt, min_samples_split=8, n_estimators=100, random_state=42 \n",
      "[CV]  criterion=entropy, max_depth=100, max_features=sqrt, min_samples_split=8, n_estimators=100, random_state=42, score=0.826530612244898, total=   0.0s\n",
      "[CV] criterion=entropy, max_depth=100, max_features=sqrt, min_samples_split=8, n_estimators=100, random_state=42 \n",
      "[CV]  criterion=entropy, max_depth=100, max_features=sqrt, min_samples_split=8, n_estimators=100, random_state=42, score=0.8327645051194539, total=   0.0s\n",
      "[CV] criterion=entropy, max_depth=100, max_features=sqrt, min_samples_split=8, n_estimators=200, random_state=42 \n",
      "[CV]  criterion=entropy, max_depth=100, max_features=sqrt, min_samples_split=8, n_estimators=200, random_state=42, score=0.7925170068027211, total=   0.1s\n",
      "[CV] criterion=entropy, max_depth=100, max_features=sqrt, min_samples_split=8, n_estimators=200, random_state=42 \n",
      "[CV]  criterion=entropy, max_depth=100, max_features=sqrt, min_samples_split=8, n_estimators=200, random_state=42, score=0.8299319727891157, total=   0.1s\n",
      "[CV] criterion=entropy, max_depth=100, max_features=sqrt, min_samples_split=8, n_estimators=200, random_state=42 \n",
      "[CV]  criterion=entropy, max_depth=100, max_features=sqrt, min_samples_split=8, n_estimators=200, random_state=42, score=0.8191126279863481, total=   0.1s\n",
      "[CV] criterion=entropy, max_depth=100, max_features=sqrt, min_samples_split=8, n_estimators=300, random_state=42 \n",
      "[CV]  criterion=entropy, max_depth=100, max_features=sqrt, min_samples_split=8, n_estimators=300, random_state=42, score=0.7891156462585034, total=   0.2s\n",
      "[CV] criterion=entropy, max_depth=100, max_features=sqrt, min_samples_split=8, n_estimators=300, random_state=42 \n"
     ]
    },
    {
     "name": "stdout",
     "output_type": "stream",
     "text": [
      "[CV]  criterion=entropy, max_depth=100, max_features=sqrt, min_samples_split=8, n_estimators=300, random_state=42, score=0.8299319727891157, total=   0.2s\n",
      "[CV] criterion=entropy, max_depth=100, max_features=sqrt, min_samples_split=8, n_estimators=300, random_state=42 \n",
      "[CV]  criterion=entropy, max_depth=100, max_features=sqrt, min_samples_split=8, n_estimators=300, random_state=42, score=0.8191126279863481, total=   0.2s\n",
      "[CV] criterion=entropy, max_depth=100, max_features=auto, min_samples_split=2, n_estimators=100, random_state=42 \n",
      "[CV]  criterion=entropy, max_depth=100, max_features=auto, min_samples_split=2, n_estimators=100, random_state=42, score=0.7517006802721088, total=   0.0s\n",
      "[CV] criterion=entropy, max_depth=100, max_features=auto, min_samples_split=2, n_estimators=100, random_state=42 \n",
      "[CV]  criterion=entropy, max_depth=100, max_features=auto, min_samples_split=2, n_estimators=100, random_state=42, score=0.8027210884353742, total=   0.0s\n",
      "[CV] criterion=entropy, max_depth=100, max_features=auto, min_samples_split=2, n_estimators=100, random_state=42 \n",
      "[CV]  criterion=entropy, max_depth=100, max_features=auto, min_samples_split=2, n_estimators=100, random_state=42, score=0.8020477815699659, total=   0.0s\n",
      "[CV] criterion=entropy, max_depth=100, max_features=auto, min_samples_split=2, n_estimators=200, random_state=42 \n",
      "[CV]  criterion=entropy, max_depth=100, max_features=auto, min_samples_split=2, n_estimators=200, random_state=42, score=0.7517006802721088, total=   0.1s\n",
      "[CV] criterion=entropy, max_depth=100, max_features=auto, min_samples_split=2, n_estimators=200, random_state=42 \n",
      "[CV]  criterion=entropy, max_depth=100, max_features=auto, min_samples_split=2, n_estimators=200, random_state=42, score=0.8095238095238095, total=   0.1s\n",
      "[CV] criterion=entropy, max_depth=100, max_features=auto, min_samples_split=2, n_estimators=200, random_state=42 \n",
      "[CV]  criterion=entropy, max_depth=100, max_features=auto, min_samples_split=2, n_estimators=200, random_state=42, score=0.8020477815699659, total=   0.1s\n",
      "[CV] criterion=entropy, max_depth=100, max_features=auto, min_samples_split=2, n_estimators=300, random_state=42 \n",
      "[CV]  criterion=entropy, max_depth=100, max_features=auto, min_samples_split=2, n_estimators=300, random_state=42, score=0.7585034013605442, total=   0.2s\n",
      "[CV] criterion=entropy, max_depth=100, max_features=auto, min_samples_split=2, n_estimators=300, random_state=42 \n",
      "[CV]  criterion=entropy, max_depth=100, max_features=auto, min_samples_split=2, n_estimators=300, random_state=42, score=0.8163265306122449, total=   0.2s\n",
      "[CV] criterion=entropy, max_depth=100, max_features=auto, min_samples_split=2, n_estimators=300, random_state=42 \n",
      "[CV]  criterion=entropy, max_depth=100, max_features=auto, min_samples_split=2, n_estimators=300, random_state=42, score=0.7986348122866894, total=   0.2s\n",
      "[CV] criterion=entropy, max_depth=100, max_features=auto, min_samples_split=4, n_estimators=100, random_state=42 \n",
      "[CV]  criterion=entropy, max_depth=100, max_features=auto, min_samples_split=4, n_estimators=100, random_state=42, score=0.7585034013605442, total=   0.0s\n",
      "[CV] criterion=entropy, max_depth=100, max_features=auto, min_samples_split=4, n_estimators=100, random_state=42 \n",
      "[CV]  criterion=entropy, max_depth=100, max_features=auto, min_samples_split=4, n_estimators=100, random_state=42, score=0.8163265306122449, total=   0.0s\n",
      "[CV] criterion=entropy, max_depth=100, max_features=auto, min_samples_split=4, n_estimators=100, random_state=42 \n",
      "[CV]  criterion=entropy, max_depth=100, max_features=auto, min_samples_split=4, n_estimators=100, random_state=42, score=0.8156996587030717, total=   0.0s\n",
      "[CV] criterion=entropy, max_depth=100, max_features=auto, min_samples_split=4, n_estimators=200, random_state=42 \n",
      "[CV]  criterion=entropy, max_depth=100, max_features=auto, min_samples_split=4, n_estimators=200, random_state=42, score=0.7755102040816326, total=   0.1s\n",
      "[CV] criterion=entropy, max_depth=100, max_features=auto, min_samples_split=4, n_estimators=200, random_state=42 \n",
      "[CV]  criterion=entropy, max_depth=100, max_features=auto, min_samples_split=4, n_estimators=200, random_state=42, score=0.8231292517006803, total=   0.2s\n",
      "[CV] criterion=entropy, max_depth=100, max_features=auto, min_samples_split=4, n_estimators=200, random_state=42 \n",
      "[CV]  criterion=entropy, max_depth=100, max_features=auto, min_samples_split=4, n_estimators=200, random_state=42, score=0.8225255972696246, total=   0.2s\n",
      "[CV] criterion=entropy, max_depth=100, max_features=auto, min_samples_split=4, n_estimators=300, random_state=42 \n",
      "[CV]  criterion=entropy, max_depth=100, max_features=auto, min_samples_split=4, n_estimators=300, random_state=42, score=0.7789115646258503, total=   0.3s\n",
      "[CV] criterion=entropy, max_depth=100, max_features=auto, min_samples_split=4, n_estimators=300, random_state=42 \n",
      "[CV]  criterion=entropy, max_depth=100, max_features=auto, min_samples_split=4, n_estimators=300, random_state=42, score=0.8299319727891157, total=   0.2s\n",
      "[CV] criterion=entropy, max_depth=100, max_features=auto, min_samples_split=4, n_estimators=300, random_state=42 \n",
      "[CV]  criterion=entropy, max_depth=100, max_features=auto, min_samples_split=4, n_estimators=300, random_state=42, score=0.8156996587030717, total=   0.2s\n",
      "[CV] criterion=entropy, max_depth=100, max_features=auto, min_samples_split=6, n_estimators=100, random_state=42 \n",
      "[CV]  criterion=entropy, max_depth=100, max_features=auto, min_samples_split=6, n_estimators=100, random_state=42, score=0.8095238095238095, total=   0.0s\n",
      "[CV] criterion=entropy, max_depth=100, max_features=auto, min_samples_split=6, n_estimators=100, random_state=42 \n",
      "[CV]  criterion=entropy, max_depth=100, max_features=auto, min_samples_split=6, n_estimators=100, random_state=42, score=0.8231292517006803, total=   0.0s\n",
      "[CV] criterion=entropy, max_depth=100, max_features=auto, min_samples_split=6, n_estimators=100, random_state=42 \n",
      "[CV]  criterion=entropy, max_depth=100, max_features=auto, min_samples_split=6, n_estimators=100, random_state=42, score=0.8225255972696246, total=   0.0s\n",
      "[CV] criterion=entropy, max_depth=100, max_features=auto, min_samples_split=6, n_estimators=200, random_state=42 \n",
      "[CV]  criterion=entropy, max_depth=100, max_features=auto, min_samples_split=6, n_estimators=200, random_state=42, score=0.7959183673469388, total=   0.1s\n",
      "[CV] criterion=entropy, max_depth=100, max_features=auto, min_samples_split=6, n_estimators=200, random_state=42 \n",
      "[CV]  criterion=entropy, max_depth=100, max_features=auto, min_samples_split=6, n_estimators=200, random_state=42, score=0.8299319727891157, total=   0.1s\n",
      "[CV] criterion=entropy, max_depth=100, max_features=auto, min_samples_split=6, n_estimators=200, random_state=42 \n",
      "[CV]  criterion=entropy, max_depth=100, max_features=auto, min_samples_split=6, n_estimators=200, random_state=42, score=0.8191126279863481, total=   0.1s\n",
      "[CV] criterion=entropy, max_depth=100, max_features=auto, min_samples_split=6, n_estimators=300, random_state=42 \n",
      "[CV]  criterion=entropy, max_depth=100, max_features=auto, min_samples_split=6, n_estimators=300, random_state=42, score=0.7959183673469388, total=   0.2s\n",
      "[CV] criterion=entropy, max_depth=100, max_features=auto, min_samples_split=6, n_estimators=300, random_state=42 \n",
      "[CV]  criterion=entropy, max_depth=100, max_features=auto, min_samples_split=6, n_estimators=300, random_state=42, score=0.8299319727891157, total=   0.2s\n",
      "[CV] criterion=entropy, max_depth=100, max_features=auto, min_samples_split=6, n_estimators=300, random_state=42 \n",
      "[CV]  criterion=entropy, max_depth=100, max_features=auto, min_samples_split=6, n_estimators=300, random_state=42, score=0.8191126279863481, total=   0.2s\n",
      "[CV] criterion=entropy, max_depth=100, max_features=auto, min_samples_split=8, n_estimators=100, random_state=42 \n",
      "[CV]  criterion=entropy, max_depth=100, max_features=auto, min_samples_split=8, n_estimators=100, random_state=42, score=0.7959183673469388, total=   0.0s\n",
      "[CV] criterion=entropy, max_depth=100, max_features=auto, min_samples_split=8, n_estimators=100, random_state=42 \n",
      "[CV]  criterion=entropy, max_depth=100, max_features=auto, min_samples_split=8, n_estimators=100, random_state=42, score=0.826530612244898, total=   0.0s\n",
      "[CV] criterion=entropy, max_depth=100, max_features=auto, min_samples_split=8, n_estimators=100, random_state=42 \n",
      "[CV]  criterion=entropy, max_depth=100, max_features=auto, min_samples_split=8, n_estimators=100, random_state=42, score=0.8327645051194539, total=   0.0s\n",
      "[CV] criterion=entropy, max_depth=100, max_features=auto, min_samples_split=8, n_estimators=200, random_state=42 \n"
     ]
    },
    {
     "name": "stdout",
     "output_type": "stream",
     "text": [
      "[CV]  criterion=entropy, max_depth=100, max_features=auto, min_samples_split=8, n_estimators=200, random_state=42, score=0.7925170068027211, total=   0.1s\n",
      "[CV] criterion=entropy, max_depth=100, max_features=auto, min_samples_split=8, n_estimators=200, random_state=42 \n",
      "[CV]  criterion=entropy, max_depth=100, max_features=auto, min_samples_split=8, n_estimators=200, random_state=42, score=0.8299319727891157, total=   0.1s\n",
      "[CV] criterion=entropy, max_depth=100, max_features=auto, min_samples_split=8, n_estimators=200, random_state=42 \n",
      "[CV]  criterion=entropy, max_depth=100, max_features=auto, min_samples_split=8, n_estimators=200, random_state=42, score=0.8191126279863481, total=   0.1s\n",
      "[CV] criterion=entropy, max_depth=100, max_features=auto, min_samples_split=8, n_estimators=300, random_state=42 \n",
      "[CV]  criterion=entropy, max_depth=100, max_features=auto, min_samples_split=8, n_estimators=300, random_state=42, score=0.7891156462585034, total=   0.2s\n",
      "[CV] criterion=entropy, max_depth=100, max_features=auto, min_samples_split=8, n_estimators=300, random_state=42 \n",
      "[CV]  criterion=entropy, max_depth=100, max_features=auto, min_samples_split=8, n_estimators=300, random_state=42, score=0.8299319727891157, total=   0.2s\n",
      "[CV] criterion=entropy, max_depth=100, max_features=auto, min_samples_split=8, n_estimators=300, random_state=42 \n",
      "[CV]  criterion=entropy, max_depth=100, max_features=auto, min_samples_split=8, n_estimators=300, random_state=42, score=0.8191126279863481, total=   0.2s\n",
      "[CV] criterion=gini, max_depth=10, max_features=log2, min_samples_split=2, n_estimators=100, random_state=42 \n",
      "[CV]  criterion=gini, max_depth=10, max_features=log2, min_samples_split=2, n_estimators=100, random_state=42, score=0.7925170068027211, total=   0.0s\n",
      "[CV] criterion=gini, max_depth=10, max_features=log2, min_samples_split=2, n_estimators=100, random_state=42 \n",
      "[CV]  criterion=gini, max_depth=10, max_features=log2, min_samples_split=2, n_estimators=100, random_state=42, score=0.8197278911564626, total=   0.0s\n",
      "[CV] criterion=gini, max_depth=10, max_features=log2, min_samples_split=2, n_estimators=100, random_state=42 \n",
      "[CV]  criterion=gini, max_depth=10, max_features=log2, min_samples_split=2, n_estimators=100, random_state=42, score=0.7986348122866894, total=   0.0s\n",
      "[CV] criterion=gini, max_depth=10, max_features=log2, min_samples_split=2, n_estimators=200, random_state=42 \n",
      "[CV]  criterion=gini, max_depth=10, max_features=log2, min_samples_split=2, n_estimators=200, random_state=42, score=0.7891156462585034, total=   0.1s\n",
      "[CV] criterion=gini, max_depth=10, max_features=log2, min_samples_split=2, n_estimators=200, random_state=42 \n",
      "[CV]  criterion=gini, max_depth=10, max_features=log2, min_samples_split=2, n_estimators=200, random_state=42, score=0.8163265306122449, total=   0.1s\n",
      "[CV] criterion=gini, max_depth=10, max_features=log2, min_samples_split=2, n_estimators=200, random_state=42 \n",
      "[CV]  criterion=gini, max_depth=10, max_features=log2, min_samples_split=2, n_estimators=200, random_state=42, score=0.8156996587030717, total=   0.1s\n",
      "[CV] criterion=gini, max_depth=10, max_features=log2, min_samples_split=2, n_estimators=300, random_state=42 \n",
      "[CV]  criterion=gini, max_depth=10, max_features=log2, min_samples_split=2, n_estimators=300, random_state=42, score=0.782312925170068, total=   0.2s\n",
      "[CV] criterion=gini, max_depth=10, max_features=log2, min_samples_split=2, n_estimators=300, random_state=42 \n",
      "[CV]  criterion=gini, max_depth=10, max_features=log2, min_samples_split=2, n_estimators=300, random_state=42, score=0.8163265306122449, total=   0.2s\n",
      "[CV] criterion=gini, max_depth=10, max_features=log2, min_samples_split=2, n_estimators=300, random_state=42 \n",
      "[CV]  criterion=gini, max_depth=10, max_features=log2, min_samples_split=2, n_estimators=300, random_state=42, score=0.8191126279863481, total=   0.2s\n",
      "[CV] criterion=gini, max_depth=10, max_features=log2, min_samples_split=4, n_estimators=100, random_state=42 \n",
      "[CV]  criterion=gini, max_depth=10, max_features=log2, min_samples_split=4, n_estimators=100, random_state=42, score=0.8095238095238095, total=   0.0s\n",
      "[CV] criterion=gini, max_depth=10, max_features=log2, min_samples_split=4, n_estimators=100, random_state=42 \n",
      "[CV]  criterion=gini, max_depth=10, max_features=log2, min_samples_split=4, n_estimators=100, random_state=42, score=0.8231292517006803, total=   0.0s\n",
      "[CV] criterion=gini, max_depth=10, max_features=log2, min_samples_split=4, n_estimators=100, random_state=42 \n",
      "[CV]  criterion=gini, max_depth=10, max_features=log2, min_samples_split=4, n_estimators=100, random_state=42, score=0.8191126279863481, total=   0.0s\n",
      "[CV] criterion=gini, max_depth=10, max_features=log2, min_samples_split=4, n_estimators=200, random_state=42 \n",
      "[CV]  criterion=gini, max_depth=10, max_features=log2, min_samples_split=4, n_estimators=200, random_state=42, score=0.8061224489795918, total=   0.1s\n",
      "[CV] criterion=gini, max_depth=10, max_features=log2, min_samples_split=4, n_estimators=200, random_state=42 \n",
      "[CV]  criterion=gini, max_depth=10, max_features=log2, min_samples_split=4, n_estimators=200, random_state=42, score=0.8231292517006803, total=   0.1s\n",
      "[CV] criterion=gini, max_depth=10, max_features=log2, min_samples_split=4, n_estimators=200, random_state=42 \n",
      "[CV]  criterion=gini, max_depth=10, max_features=log2, min_samples_split=4, n_estimators=200, random_state=42, score=0.8156996587030717, total=   0.1s\n",
      "[CV] criterion=gini, max_depth=10, max_features=log2, min_samples_split=4, n_estimators=300, random_state=42 \n",
      "[CV]  criterion=gini, max_depth=10, max_features=log2, min_samples_split=4, n_estimators=300, random_state=42, score=0.8197278911564626, total=   0.2s\n",
      "[CV] criterion=gini, max_depth=10, max_features=log2, min_samples_split=4, n_estimators=300, random_state=42 \n",
      "[CV]  criterion=gini, max_depth=10, max_features=log2, min_samples_split=4, n_estimators=300, random_state=42, score=0.826530612244898, total=   0.2s\n",
      "[CV] criterion=gini, max_depth=10, max_features=log2, min_samples_split=4, n_estimators=300, random_state=42 \n",
      "[CV]  criterion=gini, max_depth=10, max_features=log2, min_samples_split=4, n_estimators=300, random_state=42, score=0.8191126279863481, total=   0.2s\n",
      "[CV] criterion=gini, max_depth=10, max_features=log2, min_samples_split=6, n_estimators=100, random_state=42 \n",
      "[CV]  criterion=gini, max_depth=10, max_features=log2, min_samples_split=6, n_estimators=100, random_state=42, score=0.8197278911564626, total=   0.0s\n",
      "[CV] criterion=gini, max_depth=10, max_features=log2, min_samples_split=6, n_estimators=100, random_state=42 \n",
      "[CV]  criterion=gini, max_depth=10, max_features=log2, min_samples_split=6, n_estimators=100, random_state=42, score=0.8299319727891157, total=   0.0s\n",
      "[CV] criterion=gini, max_depth=10, max_features=log2, min_samples_split=6, n_estimators=100, random_state=42 \n",
      "[CV]  criterion=gini, max_depth=10, max_features=log2, min_samples_split=6, n_estimators=100, random_state=42, score=0.8191126279863481, total=   0.0s\n",
      "[CV] criterion=gini, max_depth=10, max_features=log2, min_samples_split=6, n_estimators=200, random_state=42 \n",
      "[CV]  criterion=gini, max_depth=10, max_features=log2, min_samples_split=6, n_estimators=200, random_state=42, score=0.8299319727891157, total=   0.1s\n",
      "[CV] criterion=gini, max_depth=10, max_features=log2, min_samples_split=6, n_estimators=200, random_state=42 \n",
      "[CV]  criterion=gini, max_depth=10, max_features=log2, min_samples_split=6, n_estimators=200, random_state=42, score=0.8197278911564626, total=   0.1s\n",
      "[CV] criterion=gini, max_depth=10, max_features=log2, min_samples_split=6, n_estimators=200, random_state=42 \n",
      "[CV]  criterion=gini, max_depth=10, max_features=log2, min_samples_split=6, n_estimators=200, random_state=42, score=0.8327645051194539, total=   0.1s\n",
      "[CV] criterion=gini, max_depth=10, max_features=log2, min_samples_split=6, n_estimators=300, random_state=42 \n",
      "[CV]  criterion=gini, max_depth=10, max_features=log2, min_samples_split=6, n_estimators=300, random_state=42, score=0.826530612244898, total=   0.2s\n",
      "[CV] criterion=gini, max_depth=10, max_features=log2, min_samples_split=6, n_estimators=300, random_state=42 \n",
      "[CV]  criterion=gini, max_depth=10, max_features=log2, min_samples_split=6, n_estimators=300, random_state=42, score=0.826530612244898, total=   0.2s\n",
      "[CV] criterion=gini, max_depth=10, max_features=log2, min_samples_split=6, n_estimators=300, random_state=42 \n"
     ]
    },
    {
     "name": "stdout",
     "output_type": "stream",
     "text": [
      "[CV]  criterion=gini, max_depth=10, max_features=log2, min_samples_split=6, n_estimators=300, random_state=42, score=0.8361774744027304, total=   0.2s\n",
      "[CV] criterion=gini, max_depth=10, max_features=log2, min_samples_split=8, n_estimators=100, random_state=42 \n",
      "[CV]  criterion=gini, max_depth=10, max_features=log2, min_samples_split=8, n_estimators=100, random_state=42, score=0.8299319727891157, total=   0.0s\n",
      "[CV] criterion=gini, max_depth=10, max_features=log2, min_samples_split=8, n_estimators=100, random_state=42 \n",
      "[CV]  criterion=gini, max_depth=10, max_features=log2, min_samples_split=8, n_estimators=100, random_state=42, score=0.826530612244898, total=   0.0s\n",
      "[CV] criterion=gini, max_depth=10, max_features=log2, min_samples_split=8, n_estimators=100, random_state=42 \n",
      "[CV]  criterion=gini, max_depth=10, max_features=log2, min_samples_split=8, n_estimators=100, random_state=42, score=0.8361774744027304, total=   0.0s\n",
      "[CV] criterion=gini, max_depth=10, max_features=log2, min_samples_split=8, n_estimators=200, random_state=42 \n",
      "[CV]  criterion=gini, max_depth=10, max_features=log2, min_samples_split=8, n_estimators=200, random_state=42, score=0.8299319727891157, total=   0.1s\n",
      "[CV] criterion=gini, max_depth=10, max_features=log2, min_samples_split=8, n_estimators=200, random_state=42 \n",
      "[CV]  criterion=gini, max_depth=10, max_features=log2, min_samples_split=8, n_estimators=200, random_state=42, score=0.8299319727891157, total=   0.1s\n",
      "[CV] criterion=gini, max_depth=10, max_features=log2, min_samples_split=8, n_estimators=200, random_state=42 \n",
      "[CV]  criterion=gini, max_depth=10, max_features=log2, min_samples_split=8, n_estimators=200, random_state=42, score=0.8327645051194539, total=   0.1s\n",
      "[CV] criterion=gini, max_depth=10, max_features=log2, min_samples_split=8, n_estimators=300, random_state=42 \n",
      "[CV]  criterion=gini, max_depth=10, max_features=log2, min_samples_split=8, n_estimators=300, random_state=42, score=0.826530612244898, total=   0.2s\n",
      "[CV] criterion=gini, max_depth=10, max_features=log2, min_samples_split=8, n_estimators=300, random_state=42 \n",
      "[CV]  criterion=gini, max_depth=10, max_features=log2, min_samples_split=8, n_estimators=300, random_state=42, score=0.826530612244898, total=   0.2s\n",
      "[CV] criterion=gini, max_depth=10, max_features=log2, min_samples_split=8, n_estimators=300, random_state=42 \n",
      "[CV]  criterion=gini, max_depth=10, max_features=log2, min_samples_split=8, n_estimators=300, random_state=42, score=0.8395904436860068, total=   0.2s\n",
      "[CV] criterion=gini, max_depth=10, max_features=sqrt, min_samples_split=2, n_estimators=100, random_state=42 \n",
      "[CV]  criterion=gini, max_depth=10, max_features=sqrt, min_samples_split=2, n_estimators=100, random_state=42, score=0.7687074829931972, total=   0.0s\n",
      "[CV] criterion=gini, max_depth=10, max_features=sqrt, min_samples_split=2, n_estimators=100, random_state=42 \n",
      "[CV]  criterion=gini, max_depth=10, max_features=sqrt, min_samples_split=2, n_estimators=100, random_state=42, score=0.8027210884353742, total=   0.0s\n",
      "[CV] criterion=gini, max_depth=10, max_features=sqrt, min_samples_split=2, n_estimators=100, random_state=42 \n",
      "[CV]  criterion=gini, max_depth=10, max_features=sqrt, min_samples_split=2, n_estimators=100, random_state=42, score=0.8225255972696246, total=   0.0s\n",
      "[CV] criterion=gini, max_depth=10, max_features=sqrt, min_samples_split=2, n_estimators=200, random_state=42 \n",
      "[CV]  criterion=gini, max_depth=10, max_features=sqrt, min_samples_split=2, n_estimators=200, random_state=42, score=0.7687074829931972, total=   0.1s\n",
      "[CV] criterion=gini, max_depth=10, max_features=sqrt, min_samples_split=2, n_estimators=200, random_state=42 \n",
      "[CV]  criterion=gini, max_depth=10, max_features=sqrt, min_samples_split=2, n_estimators=200, random_state=42, score=0.7959183673469388, total=   0.1s\n",
      "[CV] criterion=gini, max_depth=10, max_features=sqrt, min_samples_split=2, n_estimators=200, random_state=42 \n",
      "[CV]  criterion=gini, max_depth=10, max_features=sqrt, min_samples_split=2, n_estimators=200, random_state=42, score=0.8156996587030717, total=   0.1s\n",
      "[CV] criterion=gini, max_depth=10, max_features=sqrt, min_samples_split=2, n_estimators=300, random_state=42 \n",
      "[CV]  criterion=gini, max_depth=10, max_features=sqrt, min_samples_split=2, n_estimators=300, random_state=42, score=0.7619047619047619, total=   0.2s\n",
      "[CV] criterion=gini, max_depth=10, max_features=sqrt, min_samples_split=2, n_estimators=300, random_state=42 \n",
      "[CV]  criterion=gini, max_depth=10, max_features=sqrt, min_samples_split=2, n_estimators=300, random_state=42, score=0.8163265306122449, total=   0.2s\n",
      "[CV] criterion=gini, max_depth=10, max_features=sqrt, min_samples_split=2, n_estimators=300, random_state=42 \n",
      "[CV]  criterion=gini, max_depth=10, max_features=sqrt, min_samples_split=2, n_estimators=300, random_state=42, score=0.8191126279863481, total=   0.2s\n",
      "[CV] criterion=gini, max_depth=10, max_features=sqrt, min_samples_split=4, n_estimators=100, random_state=42 \n",
      "[CV]  criterion=gini, max_depth=10, max_features=sqrt, min_samples_split=4, n_estimators=100, random_state=42, score=0.7585034013605442, total=   0.0s\n",
      "[CV] criterion=gini, max_depth=10, max_features=sqrt, min_samples_split=4, n_estimators=100, random_state=42 \n",
      "[CV]  criterion=gini, max_depth=10, max_features=sqrt, min_samples_split=4, n_estimators=100, random_state=42, score=0.8231292517006803, total=   0.0s\n",
      "[CV] criterion=gini, max_depth=10, max_features=sqrt, min_samples_split=4, n_estimators=100, random_state=42 \n",
      "[CV]  criterion=gini, max_depth=10, max_features=sqrt, min_samples_split=4, n_estimators=100, random_state=42, score=0.8122866894197952, total=   0.0s\n",
      "[CV] criterion=gini, max_depth=10, max_features=sqrt, min_samples_split=4, n_estimators=200, random_state=42 \n",
      "[CV]  criterion=gini, max_depth=10, max_features=sqrt, min_samples_split=4, n_estimators=200, random_state=42, score=0.782312925170068, total=   0.1s\n",
      "[CV] criterion=gini, max_depth=10, max_features=sqrt, min_samples_split=4, n_estimators=200, random_state=42 \n",
      "[CV]  criterion=gini, max_depth=10, max_features=sqrt, min_samples_split=4, n_estimators=200, random_state=42, score=0.8197278911564626, total=   0.1s\n",
      "[CV] criterion=gini, max_depth=10, max_features=sqrt, min_samples_split=4, n_estimators=200, random_state=42 \n",
      "[CV]  criterion=gini, max_depth=10, max_features=sqrt, min_samples_split=4, n_estimators=200, random_state=42, score=0.8191126279863481, total=   0.1s\n",
      "[CV] criterion=gini, max_depth=10, max_features=sqrt, min_samples_split=4, n_estimators=300, random_state=42 \n",
      "[CV]  criterion=gini, max_depth=10, max_features=sqrt, min_samples_split=4, n_estimators=300, random_state=42, score=0.782312925170068, total=   0.2s\n",
      "[CV] criterion=gini, max_depth=10, max_features=sqrt, min_samples_split=4, n_estimators=300, random_state=42 \n",
      "[CV]  criterion=gini, max_depth=10, max_features=sqrt, min_samples_split=4, n_estimators=300, random_state=42, score=0.8231292517006803, total=   0.2s\n",
      "[CV] criterion=gini, max_depth=10, max_features=sqrt, min_samples_split=4, n_estimators=300, random_state=42 \n",
      "[CV]  criterion=gini, max_depth=10, max_features=sqrt, min_samples_split=4, n_estimators=300, random_state=42, score=0.8156996587030717, total=   0.2s\n",
      "[CV] criterion=gini, max_depth=10, max_features=sqrt, min_samples_split=6, n_estimators=100, random_state=42 \n",
      "[CV]  criterion=gini, max_depth=10, max_features=sqrt, min_samples_split=6, n_estimators=100, random_state=42, score=0.7925170068027211, total=   0.0s\n",
      "[CV] criterion=gini, max_depth=10, max_features=sqrt, min_samples_split=6, n_estimators=100, random_state=42 \n",
      "[CV]  criterion=gini, max_depth=10, max_features=sqrt, min_samples_split=6, n_estimators=100, random_state=42, score=0.8095238095238095, total=   0.0s\n",
      "[CV] criterion=gini, max_depth=10, max_features=sqrt, min_samples_split=6, n_estimators=100, random_state=42 \n",
      "[CV]  criterion=gini, max_depth=10, max_features=sqrt, min_samples_split=6, n_estimators=100, random_state=42, score=0.8191126279863481, total=   0.0s\n",
      "[CV] criterion=gini, max_depth=10, max_features=sqrt, min_samples_split=6, n_estimators=200, random_state=42 \n",
      "[CV]  criterion=gini, max_depth=10, max_features=sqrt, min_samples_split=6, n_estimators=200, random_state=42, score=0.7925170068027211, total=   0.1s\n",
      "[CV] criterion=gini, max_depth=10, max_features=sqrt, min_samples_split=6, n_estimators=200, random_state=42 \n"
     ]
    },
    {
     "name": "stdout",
     "output_type": "stream",
     "text": [
      "[CV]  criterion=gini, max_depth=10, max_features=sqrt, min_samples_split=6, n_estimators=200, random_state=42, score=0.8197278911564626, total=   0.1s\n",
      "[CV] criterion=gini, max_depth=10, max_features=sqrt, min_samples_split=6, n_estimators=200, random_state=42 \n",
      "[CV]  criterion=gini, max_depth=10, max_features=sqrt, min_samples_split=6, n_estimators=200, random_state=42, score=0.8156996587030717, total=   0.1s\n",
      "[CV] criterion=gini, max_depth=10, max_features=sqrt, min_samples_split=6, n_estimators=300, random_state=42 \n",
      "[CV]  criterion=gini, max_depth=10, max_features=sqrt, min_samples_split=6, n_estimators=300, random_state=42, score=0.7891156462585034, total=   0.2s\n",
      "[CV] criterion=gini, max_depth=10, max_features=sqrt, min_samples_split=6, n_estimators=300, random_state=42 \n",
      "[CV]  criterion=gini, max_depth=10, max_features=sqrt, min_samples_split=6, n_estimators=300, random_state=42, score=0.8197278911564626, total=   0.2s\n",
      "[CV] criterion=gini, max_depth=10, max_features=sqrt, min_samples_split=6, n_estimators=300, random_state=42 \n",
      "[CV]  criterion=gini, max_depth=10, max_features=sqrt, min_samples_split=6, n_estimators=300, random_state=42, score=0.8191126279863481, total=   0.2s\n",
      "[CV] criterion=gini, max_depth=10, max_features=sqrt, min_samples_split=8, n_estimators=100, random_state=42 \n",
      "[CV]  criterion=gini, max_depth=10, max_features=sqrt, min_samples_split=8, n_estimators=100, random_state=42, score=0.7959183673469388, total=   0.0s\n",
      "[CV] criterion=gini, max_depth=10, max_features=sqrt, min_samples_split=8, n_estimators=100, random_state=42 \n",
      "[CV]  criterion=gini, max_depth=10, max_features=sqrt, min_samples_split=8, n_estimators=100, random_state=42, score=0.8163265306122449, total=   0.0s\n",
      "[CV] criterion=gini, max_depth=10, max_features=sqrt, min_samples_split=8, n_estimators=100, random_state=42 \n",
      "[CV]  criterion=gini, max_depth=10, max_features=sqrt, min_samples_split=8, n_estimators=100, random_state=42, score=0.8191126279863481, total=   0.0s\n",
      "[CV] criterion=gini, max_depth=10, max_features=sqrt, min_samples_split=8, n_estimators=200, random_state=42 \n",
      "[CV]  criterion=gini, max_depth=10, max_features=sqrt, min_samples_split=8, n_estimators=200, random_state=42, score=0.7993197278911565, total=   0.1s\n",
      "[CV] criterion=gini, max_depth=10, max_features=sqrt, min_samples_split=8, n_estimators=200, random_state=42 \n",
      "[CV]  criterion=gini, max_depth=10, max_features=sqrt, min_samples_split=8, n_estimators=200, random_state=42, score=0.826530612244898, total=   0.1s\n",
      "[CV] criterion=gini, max_depth=10, max_features=sqrt, min_samples_split=8, n_estimators=200, random_state=42 \n",
      "[CV]  criterion=gini, max_depth=10, max_features=sqrt, min_samples_split=8, n_estimators=200, random_state=42, score=0.8293515358361775, total=   0.1s\n",
      "[CV] criterion=gini, max_depth=10, max_features=sqrt, min_samples_split=8, n_estimators=300, random_state=42 \n",
      "[CV]  criterion=gini, max_depth=10, max_features=sqrt, min_samples_split=8, n_estimators=300, random_state=42, score=0.7891156462585034, total=   0.2s\n",
      "[CV] criterion=gini, max_depth=10, max_features=sqrt, min_samples_split=8, n_estimators=300, random_state=42 \n",
      "[CV]  criterion=gini, max_depth=10, max_features=sqrt, min_samples_split=8, n_estimators=300, random_state=42, score=0.8231292517006803, total=   0.2s\n",
      "[CV] criterion=gini, max_depth=10, max_features=sqrt, min_samples_split=8, n_estimators=300, random_state=42 \n",
      "[CV]  criterion=gini, max_depth=10, max_features=sqrt, min_samples_split=8, n_estimators=300, random_state=42, score=0.825938566552901, total=   0.2s\n",
      "[CV] criterion=gini, max_depth=10, max_features=auto, min_samples_split=2, n_estimators=100, random_state=42 \n",
      "[CV]  criterion=gini, max_depth=10, max_features=auto, min_samples_split=2, n_estimators=100, random_state=42, score=0.7687074829931972, total=   0.0s\n",
      "[CV] criterion=gini, max_depth=10, max_features=auto, min_samples_split=2, n_estimators=100, random_state=42 \n",
      "[CV]  criterion=gini, max_depth=10, max_features=auto, min_samples_split=2, n_estimators=100, random_state=42, score=0.8027210884353742, total=   0.0s\n",
      "[CV] criterion=gini, max_depth=10, max_features=auto, min_samples_split=2, n_estimators=100, random_state=42 \n",
      "[CV]  criterion=gini, max_depth=10, max_features=auto, min_samples_split=2, n_estimators=100, random_state=42, score=0.8225255972696246, total=   0.0s\n",
      "[CV] criterion=gini, max_depth=10, max_features=auto, min_samples_split=2, n_estimators=200, random_state=42 \n",
      "[CV]  criterion=gini, max_depth=10, max_features=auto, min_samples_split=2, n_estimators=200, random_state=42, score=0.7687074829931972, total=   0.1s\n",
      "[CV] criterion=gini, max_depth=10, max_features=auto, min_samples_split=2, n_estimators=200, random_state=42 \n",
      "[CV]  criterion=gini, max_depth=10, max_features=auto, min_samples_split=2, n_estimators=200, random_state=42, score=0.7959183673469388, total=   0.1s\n",
      "[CV] criterion=gini, max_depth=10, max_features=auto, min_samples_split=2, n_estimators=200, random_state=42 \n",
      "[CV]  criterion=gini, max_depth=10, max_features=auto, min_samples_split=2, n_estimators=200, random_state=42, score=0.8156996587030717, total=   0.1s\n",
      "[CV] criterion=gini, max_depth=10, max_features=auto, min_samples_split=2, n_estimators=300, random_state=42 \n",
      "[CV]  criterion=gini, max_depth=10, max_features=auto, min_samples_split=2, n_estimators=300, random_state=42, score=0.7619047619047619, total=   0.2s\n",
      "[CV] criterion=gini, max_depth=10, max_features=auto, min_samples_split=2, n_estimators=300, random_state=42 \n",
      "[CV]  criterion=gini, max_depth=10, max_features=auto, min_samples_split=2, n_estimators=300, random_state=42, score=0.8163265306122449, total=   0.2s\n",
      "[CV] criterion=gini, max_depth=10, max_features=auto, min_samples_split=2, n_estimators=300, random_state=42 \n",
      "[CV]  criterion=gini, max_depth=10, max_features=auto, min_samples_split=2, n_estimators=300, random_state=42, score=0.8191126279863481, total=   0.2s\n",
      "[CV] criterion=gini, max_depth=10, max_features=auto, min_samples_split=4, n_estimators=100, random_state=42 \n",
      "[CV]  criterion=gini, max_depth=10, max_features=auto, min_samples_split=4, n_estimators=100, random_state=42, score=0.7585034013605442, total=   0.0s\n",
      "[CV] criterion=gini, max_depth=10, max_features=auto, min_samples_split=4, n_estimators=100, random_state=42 \n",
      "[CV]  criterion=gini, max_depth=10, max_features=auto, min_samples_split=4, n_estimators=100, random_state=42, score=0.8231292517006803, total=   0.0s\n",
      "[CV] criterion=gini, max_depth=10, max_features=auto, min_samples_split=4, n_estimators=100, random_state=42 \n",
      "[CV]  criterion=gini, max_depth=10, max_features=auto, min_samples_split=4, n_estimators=100, random_state=42, score=0.8122866894197952, total=   0.0s\n",
      "[CV] criterion=gini, max_depth=10, max_features=auto, min_samples_split=4, n_estimators=200, random_state=42 \n",
      "[CV]  criterion=gini, max_depth=10, max_features=auto, min_samples_split=4, n_estimators=200, random_state=42, score=0.782312925170068, total=   0.1s\n",
      "[CV] criterion=gini, max_depth=10, max_features=auto, min_samples_split=4, n_estimators=200, random_state=42 \n",
      "[CV]  criterion=gini, max_depth=10, max_features=auto, min_samples_split=4, n_estimators=200, random_state=42, score=0.8197278911564626, total=   0.1s\n",
      "[CV] criterion=gini, max_depth=10, max_features=auto, min_samples_split=4, n_estimators=200, random_state=42 \n",
      "[CV]  criterion=gini, max_depth=10, max_features=auto, min_samples_split=4, n_estimators=200, random_state=42, score=0.8191126279863481, total=   0.1s\n",
      "[CV] criterion=gini, max_depth=10, max_features=auto, min_samples_split=4, n_estimators=300, random_state=42 \n",
      "[CV]  criterion=gini, max_depth=10, max_features=auto, min_samples_split=4, n_estimators=300, random_state=42, score=0.782312925170068, total=   0.2s\n",
      "[CV] criterion=gini, max_depth=10, max_features=auto, min_samples_split=4, n_estimators=300, random_state=42 \n",
      "[CV]  criterion=gini, max_depth=10, max_features=auto, min_samples_split=4, n_estimators=300, random_state=42, score=0.8231292517006803, total=   0.2s\n",
      "[CV] criterion=gini, max_depth=10, max_features=auto, min_samples_split=4, n_estimators=300, random_state=42 \n",
      "[CV]  criterion=gini, max_depth=10, max_features=auto, min_samples_split=4, n_estimators=300, random_state=42, score=0.8156996587030717, total=   0.2s\n",
      "[CV] criterion=gini, max_depth=10, max_features=auto, min_samples_split=6, n_estimators=100, random_state=42 \n",
      "[CV]  criterion=gini, max_depth=10, max_features=auto, min_samples_split=6, n_estimators=100, random_state=42, score=0.7925170068027211, total=   0.0s\n",
      "[CV] criterion=gini, max_depth=10, max_features=auto, min_samples_split=6, n_estimators=100, random_state=42 \n"
     ]
    },
    {
     "name": "stdout",
     "output_type": "stream",
     "text": [
      "[CV]  criterion=gini, max_depth=10, max_features=auto, min_samples_split=6, n_estimators=100, random_state=42, score=0.8095238095238095, total=   0.0s\n",
      "[CV] criterion=gini, max_depth=10, max_features=auto, min_samples_split=6, n_estimators=100, random_state=42 \n",
      "[CV]  criterion=gini, max_depth=10, max_features=auto, min_samples_split=6, n_estimators=100, random_state=42, score=0.8191126279863481, total=   0.0s\n",
      "[CV] criterion=gini, max_depth=10, max_features=auto, min_samples_split=6, n_estimators=200, random_state=42 \n",
      "[CV]  criterion=gini, max_depth=10, max_features=auto, min_samples_split=6, n_estimators=200, random_state=42, score=0.7925170068027211, total=   0.1s\n",
      "[CV] criterion=gini, max_depth=10, max_features=auto, min_samples_split=6, n_estimators=200, random_state=42 \n",
      "[CV]  criterion=gini, max_depth=10, max_features=auto, min_samples_split=6, n_estimators=200, random_state=42, score=0.8197278911564626, total=   0.2s\n",
      "[CV] criterion=gini, max_depth=10, max_features=auto, min_samples_split=6, n_estimators=200, random_state=42 \n",
      "[CV]  criterion=gini, max_depth=10, max_features=auto, min_samples_split=6, n_estimators=200, random_state=42, score=0.8156996587030717, total=   0.1s\n",
      "[CV] criterion=gini, max_depth=10, max_features=auto, min_samples_split=6, n_estimators=300, random_state=42 \n",
      "[CV]  criterion=gini, max_depth=10, max_features=auto, min_samples_split=6, n_estimators=300, random_state=42, score=0.7891156462585034, total=   0.2s\n",
      "[CV] criterion=gini, max_depth=10, max_features=auto, min_samples_split=6, n_estimators=300, random_state=42 \n",
      "[CV]  criterion=gini, max_depth=10, max_features=auto, min_samples_split=6, n_estimators=300, random_state=42, score=0.8197278911564626, total=   0.2s\n",
      "[CV] criterion=gini, max_depth=10, max_features=auto, min_samples_split=6, n_estimators=300, random_state=42 \n",
      "[CV]  criterion=gini, max_depth=10, max_features=auto, min_samples_split=6, n_estimators=300, random_state=42, score=0.8191126279863481, total=   0.2s\n",
      "[CV] criterion=gini, max_depth=10, max_features=auto, min_samples_split=8, n_estimators=100, random_state=42 \n",
      "[CV]  criterion=gini, max_depth=10, max_features=auto, min_samples_split=8, n_estimators=100, random_state=42, score=0.7959183673469388, total=   0.0s\n",
      "[CV] criterion=gini, max_depth=10, max_features=auto, min_samples_split=8, n_estimators=100, random_state=42 \n",
      "[CV]  criterion=gini, max_depth=10, max_features=auto, min_samples_split=8, n_estimators=100, random_state=42, score=0.8163265306122449, total=   0.0s\n",
      "[CV] criterion=gini, max_depth=10, max_features=auto, min_samples_split=8, n_estimators=100, random_state=42 \n",
      "[CV]  criterion=gini, max_depth=10, max_features=auto, min_samples_split=8, n_estimators=100, random_state=42, score=0.8191126279863481, total=   0.0s\n",
      "[CV] criterion=gini, max_depth=10, max_features=auto, min_samples_split=8, n_estimators=200, random_state=42 \n",
      "[CV]  criterion=gini, max_depth=10, max_features=auto, min_samples_split=8, n_estimators=200, random_state=42, score=0.7993197278911565, total=   0.1s\n",
      "[CV] criterion=gini, max_depth=10, max_features=auto, min_samples_split=8, n_estimators=200, random_state=42 \n",
      "[CV]  criterion=gini, max_depth=10, max_features=auto, min_samples_split=8, n_estimators=200, random_state=42, score=0.826530612244898, total=   0.1s\n",
      "[CV] criterion=gini, max_depth=10, max_features=auto, min_samples_split=8, n_estimators=200, random_state=42 \n",
      "[CV]  criterion=gini, max_depth=10, max_features=auto, min_samples_split=8, n_estimators=200, random_state=42, score=0.8293515358361775, total=   0.1s\n",
      "[CV] criterion=gini, max_depth=10, max_features=auto, min_samples_split=8, n_estimators=300, random_state=42 \n",
      "[CV]  criterion=gini, max_depth=10, max_features=auto, min_samples_split=8, n_estimators=300, random_state=42, score=0.7891156462585034, total=   0.2s\n",
      "[CV] criterion=gini, max_depth=10, max_features=auto, min_samples_split=8, n_estimators=300, random_state=42 \n",
      "[CV]  criterion=gini, max_depth=10, max_features=auto, min_samples_split=8, n_estimators=300, random_state=42, score=0.8231292517006803, total=   0.2s\n",
      "[CV] criterion=gini, max_depth=10, max_features=auto, min_samples_split=8, n_estimators=300, random_state=42 \n",
      "[CV]  criterion=gini, max_depth=10, max_features=auto, min_samples_split=8, n_estimators=300, random_state=42, score=0.825938566552901, total=   0.2s\n",
      "[CV] criterion=gini, max_depth=50, max_features=log2, min_samples_split=2, n_estimators=100, random_state=42 \n",
      "[CV]  criterion=gini, max_depth=50, max_features=log2, min_samples_split=2, n_estimators=100, random_state=42, score=0.7721088435374149, total=   0.0s\n",
      "[CV] criterion=gini, max_depth=50, max_features=log2, min_samples_split=2, n_estimators=100, random_state=42 \n",
      "[CV]  criterion=gini, max_depth=50, max_features=log2, min_samples_split=2, n_estimators=100, random_state=42, score=0.8061224489795918, total=   0.0s\n",
      "[CV] criterion=gini, max_depth=50, max_features=log2, min_samples_split=2, n_estimators=100, random_state=42 \n",
      "[CV]  criterion=gini, max_depth=50, max_features=log2, min_samples_split=2, n_estimators=100, random_state=42, score=0.8088737201365188, total=   0.0s\n",
      "[CV] criterion=gini, max_depth=50, max_features=log2, min_samples_split=2, n_estimators=200, random_state=42 \n",
      "[CV]  criterion=gini, max_depth=50, max_features=log2, min_samples_split=2, n_estimators=200, random_state=42, score=0.782312925170068, total=   0.1s\n",
      "[CV] criterion=gini, max_depth=50, max_features=log2, min_samples_split=2, n_estimators=200, random_state=42 \n",
      "[CV]  criterion=gini, max_depth=50, max_features=log2, min_samples_split=2, n_estimators=200, random_state=42, score=0.8129251700680272, total=   0.1s\n",
      "[CV] criterion=gini, max_depth=50, max_features=log2, min_samples_split=2, n_estimators=200, random_state=42 \n",
      "[CV]  criterion=gini, max_depth=50, max_features=log2, min_samples_split=2, n_estimators=200, random_state=42, score=0.8191126279863481, total=   0.1s\n",
      "[CV] criterion=gini, max_depth=50, max_features=log2, min_samples_split=2, n_estimators=300, random_state=42 \n",
      "[CV]  criterion=gini, max_depth=50, max_features=log2, min_samples_split=2, n_estimators=300, random_state=42, score=0.7755102040816326, total=   0.2s\n",
      "[CV] criterion=gini, max_depth=50, max_features=log2, min_samples_split=2, n_estimators=300, random_state=42 \n",
      "[CV]  criterion=gini, max_depth=50, max_features=log2, min_samples_split=2, n_estimators=300, random_state=42, score=0.8095238095238095, total=   0.2s\n",
      "[CV] criterion=gini, max_depth=50, max_features=log2, min_samples_split=2, n_estimators=300, random_state=42 \n",
      "[CV]  criterion=gini, max_depth=50, max_features=log2, min_samples_split=2, n_estimators=300, random_state=42, score=0.8156996587030717, total=   0.2s\n",
      "[CV] criterion=gini, max_depth=50, max_features=log2, min_samples_split=4, n_estimators=100, random_state=42 \n",
      "[CV]  criterion=gini, max_depth=50, max_features=log2, min_samples_split=4, n_estimators=100, random_state=42, score=0.8061224489795918, total=   0.0s\n",
      "[CV] criterion=gini, max_depth=50, max_features=log2, min_samples_split=4, n_estimators=100, random_state=42 \n",
      "[CV]  criterion=gini, max_depth=50, max_features=log2, min_samples_split=4, n_estimators=100, random_state=42, score=0.826530612244898, total=   0.0s\n",
      "[CV] criterion=gini, max_depth=50, max_features=log2, min_samples_split=4, n_estimators=100, random_state=42 \n",
      "[CV]  criterion=gini, max_depth=50, max_features=log2, min_samples_split=4, n_estimators=100, random_state=42, score=0.825938566552901, total=   0.0s\n",
      "[CV] criterion=gini, max_depth=50, max_features=log2, min_samples_split=4, n_estimators=200, random_state=42 \n",
      "[CV]  criterion=gini, max_depth=50, max_features=log2, min_samples_split=4, n_estimators=200, random_state=42, score=0.8061224489795918, total=   0.1s\n",
      "[CV] criterion=gini, max_depth=50, max_features=log2, min_samples_split=4, n_estimators=200, random_state=42 \n",
      "[CV]  criterion=gini, max_depth=50, max_features=log2, min_samples_split=4, n_estimators=200, random_state=42, score=0.8197278911564626, total=   0.1s\n",
      "[CV] criterion=gini, max_depth=50, max_features=log2, min_samples_split=4, n_estimators=200, random_state=42 \n",
      "[CV]  criterion=gini, max_depth=50, max_features=log2, min_samples_split=4, n_estimators=200, random_state=42, score=0.8156996587030717, total=   0.1s\n",
      "[CV] criterion=gini, max_depth=50, max_features=log2, min_samples_split=4, n_estimators=300, random_state=42 \n"
     ]
    },
    {
     "name": "stdout",
     "output_type": "stream",
     "text": [
      "[CV]  criterion=gini, max_depth=50, max_features=log2, min_samples_split=4, n_estimators=300, random_state=42, score=0.8095238095238095, total=   0.2s\n",
      "[CV] criterion=gini, max_depth=50, max_features=log2, min_samples_split=4, n_estimators=300, random_state=42 \n",
      "[CV]  criterion=gini, max_depth=50, max_features=log2, min_samples_split=4, n_estimators=300, random_state=42, score=0.8197278911564626, total=   0.2s\n",
      "[CV] criterion=gini, max_depth=50, max_features=log2, min_samples_split=4, n_estimators=300, random_state=42 \n",
      "[CV]  criterion=gini, max_depth=50, max_features=log2, min_samples_split=4, n_estimators=300, random_state=42, score=0.8156996587030717, total=   0.2s\n",
      "[CV] criterion=gini, max_depth=50, max_features=log2, min_samples_split=6, n_estimators=100, random_state=42 \n",
      "[CV]  criterion=gini, max_depth=50, max_features=log2, min_samples_split=6, n_estimators=100, random_state=42, score=0.8231292517006803, total=   0.0s\n",
      "[CV] criterion=gini, max_depth=50, max_features=log2, min_samples_split=6, n_estimators=100, random_state=42 \n",
      "[CV]  criterion=gini, max_depth=50, max_features=log2, min_samples_split=6, n_estimators=100, random_state=42, score=0.8197278911564626, total=   0.0s\n",
      "[CV] criterion=gini, max_depth=50, max_features=log2, min_samples_split=6, n_estimators=100, random_state=42 \n",
      "[CV]  criterion=gini, max_depth=50, max_features=log2, min_samples_split=6, n_estimators=100, random_state=42, score=0.8395904436860068, total=   0.0s\n",
      "[CV] criterion=gini, max_depth=50, max_features=log2, min_samples_split=6, n_estimators=200, random_state=42 \n",
      "[CV]  criterion=gini, max_depth=50, max_features=log2, min_samples_split=6, n_estimators=200, random_state=42, score=0.826530612244898, total=   0.1s\n",
      "[CV] criterion=gini, max_depth=50, max_features=log2, min_samples_split=6, n_estimators=200, random_state=42 \n",
      "[CV]  criterion=gini, max_depth=50, max_features=log2, min_samples_split=6, n_estimators=200, random_state=42, score=0.8299319727891157, total=   0.1s\n",
      "[CV] criterion=gini, max_depth=50, max_features=log2, min_samples_split=6, n_estimators=200, random_state=42 \n",
      "[CV]  criterion=gini, max_depth=50, max_features=log2, min_samples_split=6, n_estimators=200, random_state=42, score=0.8293515358361775, total=   0.1s\n",
      "[CV] criterion=gini, max_depth=50, max_features=log2, min_samples_split=6, n_estimators=300, random_state=42 \n",
      "[CV]  criterion=gini, max_depth=50, max_features=log2, min_samples_split=6, n_estimators=300, random_state=42, score=0.8197278911564626, total=   0.3s\n",
      "[CV] criterion=gini, max_depth=50, max_features=log2, min_samples_split=6, n_estimators=300, random_state=42 \n",
      "[CV]  criterion=gini, max_depth=50, max_features=log2, min_samples_split=6, n_estimators=300, random_state=42, score=0.8299319727891157, total=   0.3s\n",
      "[CV] criterion=gini, max_depth=50, max_features=log2, min_samples_split=6, n_estimators=300, random_state=42 \n",
      "[CV]  criterion=gini, max_depth=50, max_features=log2, min_samples_split=6, n_estimators=300, random_state=42, score=0.825938566552901, total=   0.2s\n",
      "[CV] criterion=gini, max_depth=50, max_features=log2, min_samples_split=8, n_estimators=100, random_state=42 \n",
      "[CV]  criterion=gini, max_depth=50, max_features=log2, min_samples_split=8, n_estimators=100, random_state=42, score=0.8231292517006803, total=   0.0s\n",
      "[CV] criterion=gini, max_depth=50, max_features=log2, min_samples_split=8, n_estimators=100, random_state=42 \n",
      "[CV]  criterion=gini, max_depth=50, max_features=log2, min_samples_split=8, n_estimators=100, random_state=42, score=0.8333333333333334, total=   0.0s\n",
      "[CV] criterion=gini, max_depth=50, max_features=log2, min_samples_split=8, n_estimators=100, random_state=42 \n",
      "[CV]  criterion=gini, max_depth=50, max_features=log2, min_samples_split=8, n_estimators=100, random_state=42, score=0.8361774744027304, total=   0.0s\n",
      "[CV] criterion=gini, max_depth=50, max_features=log2, min_samples_split=8, n_estimators=200, random_state=42 \n",
      "[CV]  criterion=gini, max_depth=50, max_features=log2, min_samples_split=8, n_estimators=200, random_state=42, score=0.8299319727891157, total=   0.1s\n",
      "[CV] criterion=gini, max_depth=50, max_features=log2, min_samples_split=8, n_estimators=200, random_state=42 \n",
      "[CV]  criterion=gini, max_depth=50, max_features=log2, min_samples_split=8, n_estimators=200, random_state=42, score=0.8299319727891157, total=   0.1s\n",
      "[CV] criterion=gini, max_depth=50, max_features=log2, min_samples_split=8, n_estimators=200, random_state=42 \n",
      "[CV]  criterion=gini, max_depth=50, max_features=log2, min_samples_split=8, n_estimators=200, random_state=42, score=0.8327645051194539, total=   0.1s\n",
      "[CV] criterion=gini, max_depth=50, max_features=log2, min_samples_split=8, n_estimators=300, random_state=42 \n",
      "[CV]  criterion=gini, max_depth=50, max_features=log2, min_samples_split=8, n_estimators=300, random_state=42, score=0.8231292517006803, total=   0.2s\n",
      "[CV] criterion=gini, max_depth=50, max_features=log2, min_samples_split=8, n_estimators=300, random_state=42 \n",
      "[CV]  criterion=gini, max_depth=50, max_features=log2, min_samples_split=8, n_estimators=300, random_state=42, score=0.8299319727891157, total=   0.2s\n",
      "[CV] criterion=gini, max_depth=50, max_features=log2, min_samples_split=8, n_estimators=300, random_state=42 \n",
      "[CV]  criterion=gini, max_depth=50, max_features=log2, min_samples_split=8, n_estimators=300, random_state=42, score=0.8327645051194539, total=   0.2s\n",
      "[CV] criterion=gini, max_depth=50, max_features=sqrt, min_samples_split=2, n_estimators=100, random_state=42 \n",
      "[CV]  criterion=gini, max_depth=50, max_features=sqrt, min_samples_split=2, n_estimators=100, random_state=42, score=0.7721088435374149, total=   0.0s\n",
      "[CV] criterion=gini, max_depth=50, max_features=sqrt, min_samples_split=2, n_estimators=100, random_state=42 \n",
      "[CV]  criterion=gini, max_depth=50, max_features=sqrt, min_samples_split=2, n_estimators=100, random_state=42, score=0.8095238095238095, total=   0.0s\n",
      "[CV] criterion=gini, max_depth=50, max_features=sqrt, min_samples_split=2, n_estimators=100, random_state=42 \n",
      "[CV]  criterion=gini, max_depth=50, max_features=sqrt, min_samples_split=2, n_estimators=100, random_state=42, score=0.7952218430034129, total=   0.0s\n",
      "[CV] criterion=gini, max_depth=50, max_features=sqrt, min_samples_split=2, n_estimators=200, random_state=42 \n",
      "[CV]  criterion=gini, max_depth=50, max_features=sqrt, min_samples_split=2, n_estimators=200, random_state=42, score=0.7619047619047619, total=   0.1s\n",
      "[CV] criterion=gini, max_depth=50, max_features=sqrt, min_samples_split=2, n_estimators=200, random_state=42 \n",
      "[CV]  criterion=gini, max_depth=50, max_features=sqrt, min_samples_split=2, n_estimators=200, random_state=42, score=0.8095238095238095, total=   0.1s\n",
      "[CV] criterion=gini, max_depth=50, max_features=sqrt, min_samples_split=2, n_estimators=200, random_state=42 \n",
      "[CV]  criterion=gini, max_depth=50, max_features=sqrt, min_samples_split=2, n_estimators=200, random_state=42, score=0.7952218430034129, total=   0.1s\n",
      "[CV] criterion=gini, max_depth=50, max_features=sqrt, min_samples_split=2, n_estimators=300, random_state=42 \n",
      "[CV]  criterion=gini, max_depth=50, max_features=sqrt, min_samples_split=2, n_estimators=300, random_state=42, score=0.7551020408163265, total=   0.2s\n",
      "[CV] criterion=gini, max_depth=50, max_features=sqrt, min_samples_split=2, n_estimators=300, random_state=42 \n",
      "[CV]  criterion=gini, max_depth=50, max_features=sqrt, min_samples_split=2, n_estimators=300, random_state=42, score=0.8163265306122449, total=   0.2s\n",
      "[CV] criterion=gini, max_depth=50, max_features=sqrt, min_samples_split=2, n_estimators=300, random_state=42 \n",
      "[CV]  criterion=gini, max_depth=50, max_features=sqrt, min_samples_split=2, n_estimators=300, random_state=42, score=0.7952218430034129, total=   0.2s\n",
      "[CV] criterion=gini, max_depth=50, max_features=sqrt, min_samples_split=4, n_estimators=100, random_state=42 \n",
      "[CV]  criterion=gini, max_depth=50, max_features=sqrt, min_samples_split=4, n_estimators=100, random_state=42, score=0.7721088435374149, total=   0.0s\n",
      "[CV] criterion=gini, max_depth=50, max_features=sqrt, min_samples_split=4, n_estimators=100, random_state=42 \n",
      "[CV]  criterion=gini, max_depth=50, max_features=sqrt, min_samples_split=4, n_estimators=100, random_state=42, score=0.8027210884353742, total=   0.0s\n",
      "[CV] criterion=gini, max_depth=50, max_features=sqrt, min_samples_split=4, n_estimators=100, random_state=42 \n",
      "[CV]  criterion=gini, max_depth=50, max_features=sqrt, min_samples_split=4, n_estimators=100, random_state=42, score=0.8088737201365188, total=   0.0s\n",
      "[CV] criterion=gini, max_depth=50, max_features=sqrt, min_samples_split=4, n_estimators=200, random_state=42 \n"
     ]
    },
    {
     "name": "stdout",
     "output_type": "stream",
     "text": [
      "[CV]  criterion=gini, max_depth=50, max_features=sqrt, min_samples_split=4, n_estimators=200, random_state=42, score=0.7755102040816326, total=   0.1s\n",
      "[CV] criterion=gini, max_depth=50, max_features=sqrt, min_samples_split=4, n_estimators=200, random_state=42 \n",
      "[CV]  criterion=gini, max_depth=50, max_features=sqrt, min_samples_split=4, n_estimators=200, random_state=42, score=0.8197278911564626, total=   0.1s\n",
      "[CV] criterion=gini, max_depth=50, max_features=sqrt, min_samples_split=4, n_estimators=200, random_state=42 \n",
      "[CV]  criterion=gini, max_depth=50, max_features=sqrt, min_samples_split=4, n_estimators=200, random_state=42, score=0.8122866894197952, total=   0.1s\n",
      "[CV] criterion=gini, max_depth=50, max_features=sqrt, min_samples_split=4, n_estimators=300, random_state=42 \n",
      "[CV]  criterion=gini, max_depth=50, max_features=sqrt, min_samples_split=4, n_estimators=300, random_state=42, score=0.7789115646258503, total=   0.2s\n",
      "[CV] criterion=gini, max_depth=50, max_features=sqrt, min_samples_split=4, n_estimators=300, random_state=42 \n",
      "[CV]  criterion=gini, max_depth=50, max_features=sqrt, min_samples_split=4, n_estimators=300, random_state=42, score=0.8299319727891157, total=   0.2s\n",
      "[CV] criterion=gini, max_depth=50, max_features=sqrt, min_samples_split=4, n_estimators=300, random_state=42 \n",
      "[CV]  criterion=gini, max_depth=50, max_features=sqrt, min_samples_split=4, n_estimators=300, random_state=42, score=0.8122866894197952, total=   0.2s\n",
      "[CV] criterion=gini, max_depth=50, max_features=sqrt, min_samples_split=6, n_estimators=100, random_state=42 \n",
      "[CV]  criterion=gini, max_depth=50, max_features=sqrt, min_samples_split=6, n_estimators=100, random_state=42, score=0.7925170068027211, total=   0.0s\n",
      "[CV] criterion=gini, max_depth=50, max_features=sqrt, min_samples_split=6, n_estimators=100, random_state=42 \n",
      "[CV]  criterion=gini, max_depth=50, max_features=sqrt, min_samples_split=6, n_estimators=100, random_state=42, score=0.8231292517006803, total=   0.0s\n",
      "[CV] criterion=gini, max_depth=50, max_features=sqrt, min_samples_split=6, n_estimators=100, random_state=42 \n",
      "[CV]  criterion=gini, max_depth=50, max_features=sqrt, min_samples_split=6, n_estimators=100, random_state=42, score=0.8395904436860068, total=   0.0s\n",
      "[CV] criterion=gini, max_depth=50, max_features=sqrt, min_samples_split=6, n_estimators=200, random_state=42 \n",
      "[CV]  criterion=gini, max_depth=50, max_features=sqrt, min_samples_split=6, n_estimators=200, random_state=42, score=0.7925170068027211, total=   0.1s\n",
      "[CV] criterion=gini, max_depth=50, max_features=sqrt, min_samples_split=6, n_estimators=200, random_state=42 \n",
      "[CV]  criterion=gini, max_depth=50, max_features=sqrt, min_samples_split=6, n_estimators=200, random_state=42, score=0.8299319727891157, total=   0.1s\n",
      "[CV] criterion=gini, max_depth=50, max_features=sqrt, min_samples_split=6, n_estimators=200, random_state=42 \n",
      "[CV]  criterion=gini, max_depth=50, max_features=sqrt, min_samples_split=6, n_estimators=200, random_state=42, score=0.8225255972696246, total=   0.1s\n",
      "[CV] criterion=gini, max_depth=50, max_features=sqrt, min_samples_split=6, n_estimators=300, random_state=42 \n",
      "[CV]  criterion=gini, max_depth=50, max_features=sqrt, min_samples_split=6, n_estimators=300, random_state=42, score=0.7925170068027211, total=   0.2s\n",
      "[CV] criterion=gini, max_depth=50, max_features=sqrt, min_samples_split=6, n_estimators=300, random_state=42 \n",
      "[CV]  criterion=gini, max_depth=50, max_features=sqrt, min_samples_split=6, n_estimators=300, random_state=42, score=0.826530612244898, total=   0.2s\n",
      "[CV] criterion=gini, max_depth=50, max_features=sqrt, min_samples_split=6, n_estimators=300, random_state=42 \n",
      "[CV]  criterion=gini, max_depth=50, max_features=sqrt, min_samples_split=6, n_estimators=300, random_state=42, score=0.8293515358361775, total=   0.2s\n",
      "[CV] criterion=gini, max_depth=50, max_features=sqrt, min_samples_split=8, n_estimators=100, random_state=42 \n",
      "[CV]  criterion=gini, max_depth=50, max_features=sqrt, min_samples_split=8, n_estimators=100, random_state=42, score=0.7959183673469388, total=   0.0s\n",
      "[CV] criterion=gini, max_depth=50, max_features=sqrt, min_samples_split=8, n_estimators=100, random_state=42 \n",
      "[CV]  criterion=gini, max_depth=50, max_features=sqrt, min_samples_split=8, n_estimators=100, random_state=42, score=0.826530612244898, total=   0.0s\n",
      "[CV] criterion=gini, max_depth=50, max_features=sqrt, min_samples_split=8, n_estimators=100, random_state=42 \n",
      "[CV]  criterion=gini, max_depth=50, max_features=sqrt, min_samples_split=8, n_estimators=100, random_state=42, score=0.825938566552901, total=   0.0s\n",
      "[CV] criterion=gini, max_depth=50, max_features=sqrt, min_samples_split=8, n_estimators=200, random_state=42 \n",
      "[CV]  criterion=gini, max_depth=50, max_features=sqrt, min_samples_split=8, n_estimators=200, random_state=42, score=0.7925170068027211, total=   0.1s\n",
      "[CV] criterion=gini, max_depth=50, max_features=sqrt, min_samples_split=8, n_estimators=200, random_state=42 \n",
      "[CV]  criterion=gini, max_depth=50, max_features=sqrt, min_samples_split=8, n_estimators=200, random_state=42, score=0.8333333333333334, total=   0.1s\n",
      "[CV] criterion=gini, max_depth=50, max_features=sqrt, min_samples_split=8, n_estimators=200, random_state=42 \n",
      "[CV]  criterion=gini, max_depth=50, max_features=sqrt, min_samples_split=8, n_estimators=200, random_state=42, score=0.8156996587030717, total=   0.1s\n",
      "[CV] criterion=gini, max_depth=50, max_features=sqrt, min_samples_split=8, n_estimators=300, random_state=42 \n",
      "[CV]  criterion=gini, max_depth=50, max_features=sqrt, min_samples_split=8, n_estimators=300, random_state=42, score=0.7857142857142857, total=   0.2s\n",
      "[CV] criterion=gini, max_depth=50, max_features=sqrt, min_samples_split=8, n_estimators=300, random_state=42 \n",
      "[CV]  criterion=gini, max_depth=50, max_features=sqrt, min_samples_split=8, n_estimators=300, random_state=42, score=0.8299319727891157, total=   0.2s\n",
      "[CV] criterion=gini, max_depth=50, max_features=sqrt, min_samples_split=8, n_estimators=300, random_state=42 \n",
      "[CV]  criterion=gini, max_depth=50, max_features=sqrt, min_samples_split=8, n_estimators=300, random_state=42, score=0.825938566552901, total=   0.2s\n",
      "[CV] criterion=gini, max_depth=50, max_features=auto, min_samples_split=2, n_estimators=100, random_state=42 \n",
      "[CV]  criterion=gini, max_depth=50, max_features=auto, min_samples_split=2, n_estimators=100, random_state=42, score=0.7721088435374149, total=   0.0s\n",
      "[CV] criterion=gini, max_depth=50, max_features=auto, min_samples_split=2, n_estimators=100, random_state=42 \n",
      "[CV]  criterion=gini, max_depth=50, max_features=auto, min_samples_split=2, n_estimators=100, random_state=42, score=0.8095238095238095, total=   0.0s\n",
      "[CV] criterion=gini, max_depth=50, max_features=auto, min_samples_split=2, n_estimators=100, random_state=42 \n",
      "[CV]  criterion=gini, max_depth=50, max_features=auto, min_samples_split=2, n_estimators=100, random_state=42, score=0.7952218430034129, total=   0.0s\n",
      "[CV] criterion=gini, max_depth=50, max_features=auto, min_samples_split=2, n_estimators=200, random_state=42 \n",
      "[CV]  criterion=gini, max_depth=50, max_features=auto, min_samples_split=2, n_estimators=200, random_state=42, score=0.7619047619047619, total=   0.1s\n",
      "[CV] criterion=gini, max_depth=50, max_features=auto, min_samples_split=2, n_estimators=200, random_state=42 \n",
      "[CV]  criterion=gini, max_depth=50, max_features=auto, min_samples_split=2, n_estimators=200, random_state=42, score=0.8095238095238095, total=   0.1s\n",
      "[CV] criterion=gini, max_depth=50, max_features=auto, min_samples_split=2, n_estimators=200, random_state=42 \n",
      "[CV]  criterion=gini, max_depth=50, max_features=auto, min_samples_split=2, n_estimators=200, random_state=42, score=0.7952218430034129, total=   0.1s\n",
      "[CV] criterion=gini, max_depth=50, max_features=auto, min_samples_split=2, n_estimators=300, random_state=42 \n",
      "[CV]  criterion=gini, max_depth=50, max_features=auto, min_samples_split=2, n_estimators=300, random_state=42, score=0.7551020408163265, total=   0.2s\n",
      "[CV] criterion=gini, max_depth=50, max_features=auto, min_samples_split=2, n_estimators=300, random_state=42 \n",
      "[CV]  criterion=gini, max_depth=50, max_features=auto, min_samples_split=2, n_estimators=300, random_state=42, score=0.8163265306122449, total=   0.2s\n",
      "[CV] criterion=gini, max_depth=50, max_features=auto, min_samples_split=2, n_estimators=300, random_state=42 \n"
     ]
    },
    {
     "name": "stdout",
     "output_type": "stream",
     "text": [
      "[CV]  criterion=gini, max_depth=50, max_features=auto, min_samples_split=2, n_estimators=300, random_state=42, score=0.7952218430034129, total=   0.2s\n",
      "[CV] criterion=gini, max_depth=50, max_features=auto, min_samples_split=4, n_estimators=100, random_state=42 \n",
      "[CV]  criterion=gini, max_depth=50, max_features=auto, min_samples_split=4, n_estimators=100, random_state=42, score=0.7721088435374149, total=   0.0s\n",
      "[CV] criterion=gini, max_depth=50, max_features=auto, min_samples_split=4, n_estimators=100, random_state=42 \n",
      "[CV]  criterion=gini, max_depth=50, max_features=auto, min_samples_split=4, n_estimators=100, random_state=42, score=0.8027210884353742, total=   0.0s\n",
      "[CV] criterion=gini, max_depth=50, max_features=auto, min_samples_split=4, n_estimators=100, random_state=42 \n",
      "[CV]  criterion=gini, max_depth=50, max_features=auto, min_samples_split=4, n_estimators=100, random_state=42, score=0.8088737201365188, total=   0.0s\n",
      "[CV] criterion=gini, max_depth=50, max_features=auto, min_samples_split=4, n_estimators=200, random_state=42 \n",
      "[CV]  criterion=gini, max_depth=50, max_features=auto, min_samples_split=4, n_estimators=200, random_state=42, score=0.7755102040816326, total=   0.1s\n",
      "[CV] criterion=gini, max_depth=50, max_features=auto, min_samples_split=4, n_estimators=200, random_state=42 \n",
      "[CV]  criterion=gini, max_depth=50, max_features=auto, min_samples_split=4, n_estimators=200, random_state=42, score=0.8197278911564626, total=   0.1s\n",
      "[CV] criterion=gini, max_depth=50, max_features=auto, min_samples_split=4, n_estimators=200, random_state=42 \n",
      "[CV]  criterion=gini, max_depth=50, max_features=auto, min_samples_split=4, n_estimators=200, random_state=42, score=0.8122866894197952, total=   0.1s\n",
      "[CV] criterion=gini, max_depth=50, max_features=auto, min_samples_split=4, n_estimators=300, random_state=42 \n",
      "[CV]  criterion=gini, max_depth=50, max_features=auto, min_samples_split=4, n_estimators=300, random_state=42, score=0.7789115646258503, total=   0.2s\n",
      "[CV] criterion=gini, max_depth=50, max_features=auto, min_samples_split=4, n_estimators=300, random_state=42 \n",
      "[CV]  criterion=gini, max_depth=50, max_features=auto, min_samples_split=4, n_estimators=300, random_state=42, score=0.8299319727891157, total=   0.2s\n",
      "[CV] criterion=gini, max_depth=50, max_features=auto, min_samples_split=4, n_estimators=300, random_state=42 \n",
      "[CV]  criterion=gini, max_depth=50, max_features=auto, min_samples_split=4, n_estimators=300, random_state=42, score=0.8122866894197952, total=   0.2s\n",
      "[CV] criterion=gini, max_depth=50, max_features=auto, min_samples_split=6, n_estimators=100, random_state=42 \n",
      "[CV]  criterion=gini, max_depth=50, max_features=auto, min_samples_split=6, n_estimators=100, random_state=42, score=0.7925170068027211, total=   0.0s\n",
      "[CV] criterion=gini, max_depth=50, max_features=auto, min_samples_split=6, n_estimators=100, random_state=42 \n",
      "[CV]  criterion=gini, max_depth=50, max_features=auto, min_samples_split=6, n_estimators=100, random_state=42, score=0.8231292517006803, total=   0.0s\n",
      "[CV] criterion=gini, max_depth=50, max_features=auto, min_samples_split=6, n_estimators=100, random_state=42 \n",
      "[CV]  criterion=gini, max_depth=50, max_features=auto, min_samples_split=6, n_estimators=100, random_state=42, score=0.8395904436860068, total=   0.0s\n",
      "[CV] criterion=gini, max_depth=50, max_features=auto, min_samples_split=6, n_estimators=200, random_state=42 \n",
      "[CV]  criterion=gini, max_depth=50, max_features=auto, min_samples_split=6, n_estimators=200, random_state=42, score=0.7925170068027211, total=   0.1s\n",
      "[CV] criterion=gini, max_depth=50, max_features=auto, min_samples_split=6, n_estimators=200, random_state=42 \n",
      "[CV]  criterion=gini, max_depth=50, max_features=auto, min_samples_split=6, n_estimators=200, random_state=42, score=0.8299319727891157, total=   0.2s\n",
      "[CV] criterion=gini, max_depth=50, max_features=auto, min_samples_split=6, n_estimators=200, random_state=42 \n",
      "[CV]  criterion=gini, max_depth=50, max_features=auto, min_samples_split=6, n_estimators=200, random_state=42, score=0.8225255972696246, total=   0.1s\n",
      "[CV] criterion=gini, max_depth=50, max_features=auto, min_samples_split=6, n_estimators=300, random_state=42 \n",
      "[CV]  criterion=gini, max_depth=50, max_features=auto, min_samples_split=6, n_estimators=300, random_state=42, score=0.7925170068027211, total=   0.2s\n",
      "[CV] criterion=gini, max_depth=50, max_features=auto, min_samples_split=6, n_estimators=300, random_state=42 \n",
      "[CV]  criterion=gini, max_depth=50, max_features=auto, min_samples_split=6, n_estimators=300, random_state=42, score=0.826530612244898, total=   0.3s\n",
      "[CV] criterion=gini, max_depth=50, max_features=auto, min_samples_split=6, n_estimators=300, random_state=42 \n",
      "[CV]  criterion=gini, max_depth=50, max_features=auto, min_samples_split=6, n_estimators=300, random_state=42, score=0.8293515358361775, total=   0.2s\n",
      "[CV] criterion=gini, max_depth=50, max_features=auto, min_samples_split=8, n_estimators=100, random_state=42 \n",
      "[CV]  criterion=gini, max_depth=50, max_features=auto, min_samples_split=8, n_estimators=100, random_state=42, score=0.7959183673469388, total=   0.0s\n",
      "[CV] criterion=gini, max_depth=50, max_features=auto, min_samples_split=8, n_estimators=100, random_state=42 \n",
      "[CV]  criterion=gini, max_depth=50, max_features=auto, min_samples_split=8, n_estimators=100, random_state=42, score=0.826530612244898, total=   0.0s\n",
      "[CV] criterion=gini, max_depth=50, max_features=auto, min_samples_split=8, n_estimators=100, random_state=42 \n",
      "[CV]  criterion=gini, max_depth=50, max_features=auto, min_samples_split=8, n_estimators=100, random_state=42, score=0.825938566552901, total=   0.0s\n",
      "[CV] criterion=gini, max_depth=50, max_features=auto, min_samples_split=8, n_estimators=200, random_state=42 \n",
      "[CV]  criterion=gini, max_depth=50, max_features=auto, min_samples_split=8, n_estimators=200, random_state=42, score=0.7925170068027211, total=   0.1s\n",
      "[CV] criterion=gini, max_depth=50, max_features=auto, min_samples_split=8, n_estimators=200, random_state=42 \n",
      "[CV]  criterion=gini, max_depth=50, max_features=auto, min_samples_split=8, n_estimators=200, random_state=42, score=0.8333333333333334, total=   0.1s\n",
      "[CV] criterion=gini, max_depth=50, max_features=auto, min_samples_split=8, n_estimators=200, random_state=42 \n",
      "[CV]  criterion=gini, max_depth=50, max_features=auto, min_samples_split=8, n_estimators=200, random_state=42, score=0.8156996587030717, total=   0.1s\n",
      "[CV] criterion=gini, max_depth=50, max_features=auto, min_samples_split=8, n_estimators=300, random_state=42 \n",
      "[CV]  criterion=gini, max_depth=50, max_features=auto, min_samples_split=8, n_estimators=300, random_state=42, score=0.7857142857142857, total=   0.2s\n",
      "[CV] criterion=gini, max_depth=50, max_features=auto, min_samples_split=8, n_estimators=300, random_state=42 \n",
      "[CV]  criterion=gini, max_depth=50, max_features=auto, min_samples_split=8, n_estimators=300, random_state=42, score=0.8299319727891157, total=   0.3s\n",
      "[CV] criterion=gini, max_depth=50, max_features=auto, min_samples_split=8, n_estimators=300, random_state=42 \n",
      "[CV]  criterion=gini, max_depth=50, max_features=auto, min_samples_split=8, n_estimators=300, random_state=42, score=0.825938566552901, total=   0.2s\n",
      "[CV] criterion=gini, max_depth=100, max_features=log2, min_samples_split=2, n_estimators=100, random_state=42 \n",
      "[CV]  criterion=gini, max_depth=100, max_features=log2, min_samples_split=2, n_estimators=100, random_state=42, score=0.7721088435374149, total=   0.0s\n",
      "[CV] criterion=gini, max_depth=100, max_features=log2, min_samples_split=2, n_estimators=100, random_state=42 \n",
      "[CV]  criterion=gini, max_depth=100, max_features=log2, min_samples_split=2, n_estimators=100, random_state=42, score=0.8061224489795918, total=   0.0s\n",
      "[CV] criterion=gini, max_depth=100, max_features=log2, min_samples_split=2, n_estimators=100, random_state=42 \n",
      "[CV]  criterion=gini, max_depth=100, max_features=log2, min_samples_split=2, n_estimators=100, random_state=42, score=0.8088737201365188, total=   0.0s\n",
      "[CV] criterion=gini, max_depth=100, max_features=log2, min_samples_split=2, n_estimators=200, random_state=42 \n",
      "[CV]  criterion=gini, max_depth=100, max_features=log2, min_samples_split=2, n_estimators=200, random_state=42, score=0.782312925170068, total=   0.1s\n",
      "[CV] criterion=gini, max_depth=100, max_features=log2, min_samples_split=2, n_estimators=200, random_state=42 \n"
     ]
    },
    {
     "name": "stdout",
     "output_type": "stream",
     "text": [
      "[CV]  criterion=gini, max_depth=100, max_features=log2, min_samples_split=2, n_estimators=200, random_state=42, score=0.8129251700680272, total=   0.2s\n",
      "[CV] criterion=gini, max_depth=100, max_features=log2, min_samples_split=2, n_estimators=200, random_state=42 \n",
      "[CV]  criterion=gini, max_depth=100, max_features=log2, min_samples_split=2, n_estimators=200, random_state=42, score=0.8191126279863481, total=   0.1s\n",
      "[CV] criterion=gini, max_depth=100, max_features=log2, min_samples_split=2, n_estimators=300, random_state=42 \n",
      "[CV]  criterion=gini, max_depth=100, max_features=log2, min_samples_split=2, n_estimators=300, random_state=42, score=0.7755102040816326, total=   0.3s\n",
      "[CV] criterion=gini, max_depth=100, max_features=log2, min_samples_split=2, n_estimators=300, random_state=42 \n",
      "[CV]  criterion=gini, max_depth=100, max_features=log2, min_samples_split=2, n_estimators=300, random_state=42, score=0.8095238095238095, total=   0.3s\n",
      "[CV] criterion=gini, max_depth=100, max_features=log2, min_samples_split=2, n_estimators=300, random_state=42 \n",
      "[CV]  criterion=gini, max_depth=100, max_features=log2, min_samples_split=2, n_estimators=300, random_state=42, score=0.8156996587030717, total=   0.2s\n",
      "[CV] criterion=gini, max_depth=100, max_features=log2, min_samples_split=4, n_estimators=100, random_state=42 \n",
      "[CV]  criterion=gini, max_depth=100, max_features=log2, min_samples_split=4, n_estimators=100, random_state=42, score=0.8061224489795918, total=   0.0s\n",
      "[CV] criterion=gini, max_depth=100, max_features=log2, min_samples_split=4, n_estimators=100, random_state=42 \n",
      "[CV]  criterion=gini, max_depth=100, max_features=log2, min_samples_split=4, n_estimators=100, random_state=42, score=0.826530612244898, total=   0.0s\n",
      "[CV] criterion=gini, max_depth=100, max_features=log2, min_samples_split=4, n_estimators=100, random_state=42 \n",
      "[CV]  criterion=gini, max_depth=100, max_features=log2, min_samples_split=4, n_estimators=100, random_state=42, score=0.825938566552901, total=   0.0s\n",
      "[CV] criterion=gini, max_depth=100, max_features=log2, min_samples_split=4, n_estimators=200, random_state=42 \n",
      "[CV]  criterion=gini, max_depth=100, max_features=log2, min_samples_split=4, n_estimators=200, random_state=42, score=0.8061224489795918, total=   0.1s\n",
      "[CV] criterion=gini, max_depth=100, max_features=log2, min_samples_split=4, n_estimators=200, random_state=42 \n",
      "[CV]  criterion=gini, max_depth=100, max_features=log2, min_samples_split=4, n_estimators=200, random_state=42, score=0.8197278911564626, total=   0.1s\n",
      "[CV] criterion=gini, max_depth=100, max_features=log2, min_samples_split=4, n_estimators=200, random_state=42 \n",
      "[CV]  criterion=gini, max_depth=100, max_features=log2, min_samples_split=4, n_estimators=200, random_state=42, score=0.8156996587030717, total=   0.3s\n",
      "[CV] criterion=gini, max_depth=100, max_features=log2, min_samples_split=4, n_estimators=300, random_state=42 \n",
      "[CV]  criterion=gini, max_depth=100, max_features=log2, min_samples_split=4, n_estimators=300, random_state=42, score=0.8095238095238095, total=   0.4s\n",
      "[CV] criterion=gini, max_depth=100, max_features=log2, min_samples_split=4, n_estimators=300, random_state=42 \n",
      "[CV]  criterion=gini, max_depth=100, max_features=log2, min_samples_split=4, n_estimators=300, random_state=42, score=0.8197278911564626, total=   0.2s\n",
      "[CV] criterion=gini, max_depth=100, max_features=log2, min_samples_split=4, n_estimators=300, random_state=42 \n",
      "[CV]  criterion=gini, max_depth=100, max_features=log2, min_samples_split=4, n_estimators=300, random_state=42, score=0.8156996587030717, total=   0.2s\n",
      "[CV] criterion=gini, max_depth=100, max_features=log2, min_samples_split=6, n_estimators=100, random_state=42 \n",
      "[CV]  criterion=gini, max_depth=100, max_features=log2, min_samples_split=6, n_estimators=100, random_state=42, score=0.8231292517006803, total=   0.0s\n",
      "[CV] criterion=gini, max_depth=100, max_features=log2, min_samples_split=6, n_estimators=100, random_state=42 \n",
      "[CV]  criterion=gini, max_depth=100, max_features=log2, min_samples_split=6, n_estimators=100, random_state=42, score=0.8197278911564626, total=   0.1s\n",
      "[CV] criterion=gini, max_depth=100, max_features=log2, min_samples_split=6, n_estimators=100, random_state=42 \n",
      "[CV]  criterion=gini, max_depth=100, max_features=log2, min_samples_split=6, n_estimators=100, random_state=42, score=0.8395904436860068, total=   0.0s\n",
      "[CV] criterion=gini, max_depth=100, max_features=log2, min_samples_split=6, n_estimators=200, random_state=42 \n",
      "[CV]  criterion=gini, max_depth=100, max_features=log2, min_samples_split=6, n_estimators=200, random_state=42, score=0.826530612244898, total=   0.1s\n",
      "[CV] criterion=gini, max_depth=100, max_features=log2, min_samples_split=6, n_estimators=200, random_state=42 \n",
      "[CV]  criterion=gini, max_depth=100, max_features=log2, min_samples_split=6, n_estimators=200, random_state=42, score=0.8299319727891157, total=   0.1s\n",
      "[CV] criterion=gini, max_depth=100, max_features=log2, min_samples_split=6, n_estimators=200, random_state=42 \n",
      "[CV]  criterion=gini, max_depth=100, max_features=log2, min_samples_split=6, n_estimators=200, random_state=42, score=0.8293515358361775, total=   0.1s\n",
      "[CV] criterion=gini, max_depth=100, max_features=log2, min_samples_split=6, n_estimators=300, random_state=42 \n",
      "[CV]  criterion=gini, max_depth=100, max_features=log2, min_samples_split=6, n_estimators=300, random_state=42, score=0.8197278911564626, total=   0.2s\n",
      "[CV] criterion=gini, max_depth=100, max_features=log2, min_samples_split=6, n_estimators=300, random_state=42 \n",
      "[CV]  criterion=gini, max_depth=100, max_features=log2, min_samples_split=6, n_estimators=300, random_state=42, score=0.8299319727891157, total=   0.2s\n",
      "[CV] criterion=gini, max_depth=100, max_features=log2, min_samples_split=6, n_estimators=300, random_state=42 \n",
      "[CV]  criterion=gini, max_depth=100, max_features=log2, min_samples_split=6, n_estimators=300, random_state=42, score=0.825938566552901, total=   0.2s\n",
      "[CV] criterion=gini, max_depth=100, max_features=log2, min_samples_split=8, n_estimators=100, random_state=42 \n",
      "[CV]  criterion=gini, max_depth=100, max_features=log2, min_samples_split=8, n_estimators=100, random_state=42, score=0.8231292517006803, total=   0.0s\n",
      "[CV] criterion=gini, max_depth=100, max_features=log2, min_samples_split=8, n_estimators=100, random_state=42 \n",
      "[CV]  criterion=gini, max_depth=100, max_features=log2, min_samples_split=8, n_estimators=100, random_state=42, score=0.8333333333333334, total=   0.0s\n",
      "[CV] criterion=gini, max_depth=100, max_features=log2, min_samples_split=8, n_estimators=100, random_state=42 \n",
      "[CV]  criterion=gini, max_depth=100, max_features=log2, min_samples_split=8, n_estimators=100, random_state=42, score=0.8361774744027304, total=   0.0s\n",
      "[CV] criterion=gini, max_depth=100, max_features=log2, min_samples_split=8, n_estimators=200, random_state=42 \n",
      "[CV]  criterion=gini, max_depth=100, max_features=log2, min_samples_split=8, n_estimators=200, random_state=42, score=0.8299319727891157, total=   0.1s\n",
      "[CV] criterion=gini, max_depth=100, max_features=log2, min_samples_split=8, n_estimators=200, random_state=42 \n",
      "[CV]  criterion=gini, max_depth=100, max_features=log2, min_samples_split=8, n_estimators=200, random_state=42, score=0.8299319727891157, total=   0.1s\n",
      "[CV] criterion=gini, max_depth=100, max_features=log2, min_samples_split=8, n_estimators=200, random_state=42 \n",
      "[CV]  criterion=gini, max_depth=100, max_features=log2, min_samples_split=8, n_estimators=200, random_state=42, score=0.8327645051194539, total=   0.1s\n",
      "[CV] criterion=gini, max_depth=100, max_features=log2, min_samples_split=8, n_estimators=300, random_state=42 \n",
      "[CV]  criterion=gini, max_depth=100, max_features=log2, min_samples_split=8, n_estimators=300, random_state=42, score=0.8231292517006803, total=   0.2s\n",
      "[CV] criterion=gini, max_depth=100, max_features=log2, min_samples_split=8, n_estimators=300, random_state=42 \n",
      "[CV]  criterion=gini, max_depth=100, max_features=log2, min_samples_split=8, n_estimators=300, random_state=42, score=0.8299319727891157, total=   0.2s\n",
      "[CV] criterion=gini, max_depth=100, max_features=log2, min_samples_split=8, n_estimators=300, random_state=42 \n",
      "[CV]  criterion=gini, max_depth=100, max_features=log2, min_samples_split=8, n_estimators=300, random_state=42, score=0.8327645051194539, total=   0.2s\n",
      "[CV] criterion=gini, max_depth=100, max_features=sqrt, min_samples_split=2, n_estimators=100, random_state=42 \n",
      "[CV]  criterion=gini, max_depth=100, max_features=sqrt, min_samples_split=2, n_estimators=100, random_state=42, score=0.7721088435374149, total=   0.0s\n",
      "[CV] criterion=gini, max_depth=100, max_features=sqrt, min_samples_split=2, n_estimators=100, random_state=42 \n"
     ]
    },
    {
     "name": "stdout",
     "output_type": "stream",
     "text": [
      "[CV]  criterion=gini, max_depth=100, max_features=sqrt, min_samples_split=2, n_estimators=100, random_state=42, score=0.8095238095238095, total=   0.0s\n",
      "[CV] criterion=gini, max_depth=100, max_features=sqrt, min_samples_split=2, n_estimators=100, random_state=42 \n",
      "[CV]  criterion=gini, max_depth=100, max_features=sqrt, min_samples_split=2, n_estimators=100, random_state=42, score=0.7952218430034129, total=   0.0s\n",
      "[CV] criterion=gini, max_depth=100, max_features=sqrt, min_samples_split=2, n_estimators=200, random_state=42 \n",
      "[CV]  criterion=gini, max_depth=100, max_features=sqrt, min_samples_split=2, n_estimators=200, random_state=42, score=0.7619047619047619, total=   0.2s\n",
      "[CV] criterion=gini, max_depth=100, max_features=sqrt, min_samples_split=2, n_estimators=200, random_state=42 \n",
      "[CV]  criterion=gini, max_depth=100, max_features=sqrt, min_samples_split=2, n_estimators=200, random_state=42, score=0.8095238095238095, total=   0.1s\n",
      "[CV] criterion=gini, max_depth=100, max_features=sqrt, min_samples_split=2, n_estimators=200, random_state=42 \n",
      "[CV]  criterion=gini, max_depth=100, max_features=sqrt, min_samples_split=2, n_estimators=200, random_state=42, score=0.7952218430034129, total=   0.2s\n",
      "[CV] criterion=gini, max_depth=100, max_features=sqrt, min_samples_split=2, n_estimators=300, random_state=42 \n",
      "[CV]  criterion=gini, max_depth=100, max_features=sqrt, min_samples_split=2, n_estimators=300, random_state=42, score=0.7551020408163265, total=   0.3s\n",
      "[CV] criterion=gini, max_depth=100, max_features=sqrt, min_samples_split=2, n_estimators=300, random_state=42 \n",
      "[CV]  criterion=gini, max_depth=100, max_features=sqrt, min_samples_split=2, n_estimators=300, random_state=42, score=0.8163265306122449, total=   0.2s\n",
      "[CV] criterion=gini, max_depth=100, max_features=sqrt, min_samples_split=2, n_estimators=300, random_state=42 \n",
      "[CV]  criterion=gini, max_depth=100, max_features=sqrt, min_samples_split=2, n_estimators=300, random_state=42, score=0.7952218430034129, total=   0.3s\n",
      "[CV] criterion=gini, max_depth=100, max_features=sqrt, min_samples_split=4, n_estimators=100, random_state=42 \n",
      "[CV]  criterion=gini, max_depth=100, max_features=sqrt, min_samples_split=4, n_estimators=100, random_state=42, score=0.7721088435374149, total=   0.0s\n",
      "[CV] criterion=gini, max_depth=100, max_features=sqrt, min_samples_split=4, n_estimators=100, random_state=42 \n",
      "[CV]  criterion=gini, max_depth=100, max_features=sqrt, min_samples_split=4, n_estimators=100, random_state=42, score=0.8027210884353742, total=   0.0s\n",
      "[CV] criterion=gini, max_depth=100, max_features=sqrt, min_samples_split=4, n_estimators=100, random_state=42 \n",
      "[CV]  criterion=gini, max_depth=100, max_features=sqrt, min_samples_split=4, n_estimators=100, random_state=42, score=0.8088737201365188, total=   0.0s\n",
      "[CV] criterion=gini, max_depth=100, max_features=sqrt, min_samples_split=4, n_estimators=200, random_state=42 \n",
      "[CV]  criterion=gini, max_depth=100, max_features=sqrt, min_samples_split=4, n_estimators=200, random_state=42, score=0.7755102040816326, total=   0.1s\n",
      "[CV] criterion=gini, max_depth=100, max_features=sqrt, min_samples_split=4, n_estimators=200, random_state=42 \n",
      "[CV]  criterion=gini, max_depth=100, max_features=sqrt, min_samples_split=4, n_estimators=200, random_state=42, score=0.8197278911564626, total=   0.1s\n",
      "[CV] criterion=gini, max_depth=100, max_features=sqrt, min_samples_split=4, n_estimators=200, random_state=42 \n",
      "[CV]  criterion=gini, max_depth=100, max_features=sqrt, min_samples_split=4, n_estimators=200, random_state=42, score=0.8122866894197952, total=   0.1s\n",
      "[CV] criterion=gini, max_depth=100, max_features=sqrt, min_samples_split=4, n_estimators=300, random_state=42 \n",
      "[CV]  criterion=gini, max_depth=100, max_features=sqrt, min_samples_split=4, n_estimators=300, random_state=42, score=0.7789115646258503, total=   0.2s\n",
      "[CV] criterion=gini, max_depth=100, max_features=sqrt, min_samples_split=4, n_estimators=300, random_state=42 \n",
      "[CV]  criterion=gini, max_depth=100, max_features=sqrt, min_samples_split=4, n_estimators=300, random_state=42, score=0.8299319727891157, total=   0.2s\n",
      "[CV] criterion=gini, max_depth=100, max_features=sqrt, min_samples_split=4, n_estimators=300, random_state=42 \n",
      "[CV]  criterion=gini, max_depth=100, max_features=sqrt, min_samples_split=4, n_estimators=300, random_state=42, score=0.8122866894197952, total=   0.2s\n",
      "[CV] criterion=gini, max_depth=100, max_features=sqrt, min_samples_split=6, n_estimators=100, random_state=42 \n",
      "[CV]  criterion=gini, max_depth=100, max_features=sqrt, min_samples_split=6, n_estimators=100, random_state=42, score=0.7925170068027211, total=   0.0s\n",
      "[CV] criterion=gini, max_depth=100, max_features=sqrt, min_samples_split=6, n_estimators=100, random_state=42 \n",
      "[CV]  criterion=gini, max_depth=100, max_features=sqrt, min_samples_split=6, n_estimators=100, random_state=42, score=0.8231292517006803, total=   0.0s\n",
      "[CV] criterion=gini, max_depth=100, max_features=sqrt, min_samples_split=6, n_estimators=100, random_state=42 \n",
      "[CV]  criterion=gini, max_depth=100, max_features=sqrt, min_samples_split=6, n_estimators=100, random_state=42, score=0.8395904436860068, total=   0.0s\n",
      "[CV] criterion=gini, max_depth=100, max_features=sqrt, min_samples_split=6, n_estimators=200, random_state=42 \n",
      "[CV]  criterion=gini, max_depth=100, max_features=sqrt, min_samples_split=6, n_estimators=200, random_state=42, score=0.7925170068027211, total=   0.1s\n",
      "[CV] criterion=gini, max_depth=100, max_features=sqrt, min_samples_split=6, n_estimators=200, random_state=42 \n",
      "[CV]  criterion=gini, max_depth=100, max_features=sqrt, min_samples_split=6, n_estimators=200, random_state=42, score=0.8299319727891157, total=   0.2s\n",
      "[CV] criterion=gini, max_depth=100, max_features=sqrt, min_samples_split=6, n_estimators=200, random_state=42 \n",
      "[CV]  criterion=gini, max_depth=100, max_features=sqrt, min_samples_split=6, n_estimators=200, random_state=42, score=0.8225255972696246, total=   0.1s\n",
      "[CV] criterion=gini, max_depth=100, max_features=sqrt, min_samples_split=6, n_estimators=300, random_state=42 \n",
      "[CV]  criterion=gini, max_depth=100, max_features=sqrt, min_samples_split=6, n_estimators=300, random_state=42, score=0.7925170068027211, total=   0.2s\n",
      "[CV] criterion=gini, max_depth=100, max_features=sqrt, min_samples_split=6, n_estimators=300, random_state=42 \n",
      "[CV]  criterion=gini, max_depth=100, max_features=sqrt, min_samples_split=6, n_estimators=300, random_state=42, score=0.826530612244898, total=   0.2s\n",
      "[CV] criterion=gini, max_depth=100, max_features=sqrt, min_samples_split=6, n_estimators=300, random_state=42 \n",
      "[CV]  criterion=gini, max_depth=100, max_features=sqrt, min_samples_split=6, n_estimators=300, random_state=42, score=0.8293515358361775, total=   0.2s\n",
      "[CV] criterion=gini, max_depth=100, max_features=sqrt, min_samples_split=8, n_estimators=100, random_state=42 \n",
      "[CV]  criterion=gini, max_depth=100, max_features=sqrt, min_samples_split=8, n_estimators=100, random_state=42, score=0.7959183673469388, total=   0.0s\n",
      "[CV] criterion=gini, max_depth=100, max_features=sqrt, min_samples_split=8, n_estimators=100, random_state=42 \n",
      "[CV]  criterion=gini, max_depth=100, max_features=sqrt, min_samples_split=8, n_estimators=100, random_state=42, score=0.826530612244898, total=   0.0s\n",
      "[CV] criterion=gini, max_depth=100, max_features=sqrt, min_samples_split=8, n_estimators=100, random_state=42 \n",
      "[CV]  criterion=gini, max_depth=100, max_features=sqrt, min_samples_split=8, n_estimators=100, random_state=42, score=0.825938566552901, total=   0.0s\n",
      "[CV] criterion=gini, max_depth=100, max_features=sqrt, min_samples_split=8, n_estimators=200, random_state=42 \n",
      "[CV]  criterion=gini, max_depth=100, max_features=sqrt, min_samples_split=8, n_estimators=200, random_state=42, score=0.7925170068027211, total=   0.1s\n",
      "[CV] criterion=gini, max_depth=100, max_features=sqrt, min_samples_split=8, n_estimators=200, random_state=42 \n",
      "[CV]  criterion=gini, max_depth=100, max_features=sqrt, min_samples_split=8, n_estimators=200, random_state=42, score=0.8333333333333334, total=   0.1s\n",
      "[CV] criterion=gini, max_depth=100, max_features=sqrt, min_samples_split=8, n_estimators=200, random_state=42 \n",
      "[CV]  criterion=gini, max_depth=100, max_features=sqrt, min_samples_split=8, n_estimators=200, random_state=42, score=0.8156996587030717, total=   0.1s\n",
      "[CV] criterion=gini, max_depth=100, max_features=sqrt, min_samples_split=8, n_estimators=300, random_state=42 \n"
     ]
    },
    {
     "name": "stdout",
     "output_type": "stream",
     "text": [
      "[CV]  criterion=gini, max_depth=100, max_features=sqrt, min_samples_split=8, n_estimators=300, random_state=42, score=0.7857142857142857, total=   0.2s\n",
      "[CV] criterion=gini, max_depth=100, max_features=sqrt, min_samples_split=8, n_estimators=300, random_state=42 \n",
      "[CV]  criterion=gini, max_depth=100, max_features=sqrt, min_samples_split=8, n_estimators=300, random_state=42, score=0.8299319727891157, total=   0.2s\n",
      "[CV] criterion=gini, max_depth=100, max_features=sqrt, min_samples_split=8, n_estimators=300, random_state=42 \n",
      "[CV]  criterion=gini, max_depth=100, max_features=sqrt, min_samples_split=8, n_estimators=300, random_state=42, score=0.825938566552901, total=   0.2s\n",
      "[CV] criterion=gini, max_depth=100, max_features=auto, min_samples_split=2, n_estimators=100, random_state=42 \n",
      "[CV]  criterion=gini, max_depth=100, max_features=auto, min_samples_split=2, n_estimators=100, random_state=42, score=0.7721088435374149, total=   0.0s\n",
      "[CV] criterion=gini, max_depth=100, max_features=auto, min_samples_split=2, n_estimators=100, random_state=42 \n",
      "[CV]  criterion=gini, max_depth=100, max_features=auto, min_samples_split=2, n_estimators=100, random_state=42, score=0.8095238095238095, total=   0.0s\n",
      "[CV] criterion=gini, max_depth=100, max_features=auto, min_samples_split=2, n_estimators=100, random_state=42 \n",
      "[CV]  criterion=gini, max_depth=100, max_features=auto, min_samples_split=2, n_estimators=100, random_state=42, score=0.7952218430034129, total=   0.0s\n",
      "[CV] criterion=gini, max_depth=100, max_features=auto, min_samples_split=2, n_estimators=200, random_state=42 \n",
      "[CV]  criterion=gini, max_depth=100, max_features=auto, min_samples_split=2, n_estimators=200, random_state=42, score=0.7619047619047619, total=   0.1s\n",
      "[CV] criterion=gini, max_depth=100, max_features=auto, min_samples_split=2, n_estimators=200, random_state=42 \n",
      "[CV]  criterion=gini, max_depth=100, max_features=auto, min_samples_split=2, n_estimators=200, random_state=42, score=0.8095238095238095, total=   0.2s\n",
      "[CV] criterion=gini, max_depth=100, max_features=auto, min_samples_split=2, n_estimators=200, random_state=42 \n",
      "[CV]  criterion=gini, max_depth=100, max_features=auto, min_samples_split=2, n_estimators=200, random_state=42, score=0.7952218430034129, total=   0.1s\n",
      "[CV] criterion=gini, max_depth=100, max_features=auto, min_samples_split=2, n_estimators=300, random_state=42 \n",
      "[CV]  criterion=gini, max_depth=100, max_features=auto, min_samples_split=2, n_estimators=300, random_state=42, score=0.7551020408163265, total=   0.2s\n",
      "[CV] criterion=gini, max_depth=100, max_features=auto, min_samples_split=2, n_estimators=300, random_state=42 \n",
      "[CV]  criterion=gini, max_depth=100, max_features=auto, min_samples_split=2, n_estimators=300, random_state=42, score=0.8163265306122449, total=   0.2s\n",
      "[CV] criterion=gini, max_depth=100, max_features=auto, min_samples_split=2, n_estimators=300, random_state=42 \n",
      "[CV]  criterion=gini, max_depth=100, max_features=auto, min_samples_split=2, n_estimators=300, random_state=42, score=0.7952218430034129, total=   0.2s\n",
      "[CV] criterion=gini, max_depth=100, max_features=auto, min_samples_split=4, n_estimators=100, random_state=42 \n",
      "[CV]  criterion=gini, max_depth=100, max_features=auto, min_samples_split=4, n_estimators=100, random_state=42, score=0.7721088435374149, total=   0.0s\n",
      "[CV] criterion=gini, max_depth=100, max_features=auto, min_samples_split=4, n_estimators=100, random_state=42 \n",
      "[CV]  criterion=gini, max_depth=100, max_features=auto, min_samples_split=4, n_estimators=100, random_state=42, score=0.8027210884353742, total=   0.0s\n",
      "[CV] criterion=gini, max_depth=100, max_features=auto, min_samples_split=4, n_estimators=100, random_state=42 \n",
      "[CV]  criterion=gini, max_depth=100, max_features=auto, min_samples_split=4, n_estimators=100, random_state=42, score=0.8088737201365188, total=   0.0s\n",
      "[CV] criterion=gini, max_depth=100, max_features=auto, min_samples_split=4, n_estimators=200, random_state=42 \n",
      "[CV]  criterion=gini, max_depth=100, max_features=auto, min_samples_split=4, n_estimators=200, random_state=42, score=0.7755102040816326, total=   0.1s\n",
      "[CV] criterion=gini, max_depth=100, max_features=auto, min_samples_split=4, n_estimators=200, random_state=42 \n",
      "[CV]  criterion=gini, max_depth=100, max_features=auto, min_samples_split=4, n_estimators=200, random_state=42, score=0.8197278911564626, total=   0.1s\n",
      "[CV] criterion=gini, max_depth=100, max_features=auto, min_samples_split=4, n_estimators=200, random_state=42 \n",
      "[CV]  criterion=gini, max_depth=100, max_features=auto, min_samples_split=4, n_estimators=200, random_state=42, score=0.8122866894197952, total=   0.1s\n",
      "[CV] criterion=gini, max_depth=100, max_features=auto, min_samples_split=4, n_estimators=300, random_state=42 \n",
      "[CV]  criterion=gini, max_depth=100, max_features=auto, min_samples_split=4, n_estimators=300, random_state=42, score=0.7789115646258503, total=   0.2s\n",
      "[CV] criterion=gini, max_depth=100, max_features=auto, min_samples_split=4, n_estimators=300, random_state=42 \n",
      "[CV]  criterion=gini, max_depth=100, max_features=auto, min_samples_split=4, n_estimators=300, random_state=42, score=0.8299319727891157, total=   0.2s\n",
      "[CV] criterion=gini, max_depth=100, max_features=auto, min_samples_split=4, n_estimators=300, random_state=42 \n",
      "[CV]  criterion=gini, max_depth=100, max_features=auto, min_samples_split=4, n_estimators=300, random_state=42, score=0.8122866894197952, total=   0.2s\n",
      "[CV] criterion=gini, max_depth=100, max_features=auto, min_samples_split=6, n_estimators=100, random_state=42 \n",
      "[CV]  criterion=gini, max_depth=100, max_features=auto, min_samples_split=6, n_estimators=100, random_state=42, score=0.7925170068027211, total=   0.0s\n",
      "[CV] criterion=gini, max_depth=100, max_features=auto, min_samples_split=6, n_estimators=100, random_state=42 \n",
      "[CV]  criterion=gini, max_depth=100, max_features=auto, min_samples_split=6, n_estimators=100, random_state=42, score=0.8231292517006803, total=   0.0s\n",
      "[CV] criterion=gini, max_depth=100, max_features=auto, min_samples_split=6, n_estimators=100, random_state=42 \n",
      "[CV]  criterion=gini, max_depth=100, max_features=auto, min_samples_split=6, n_estimators=100, random_state=42, score=0.8395904436860068, total=   0.0s\n",
      "[CV] criterion=gini, max_depth=100, max_features=auto, min_samples_split=6, n_estimators=200, random_state=42 \n",
      "[CV]  criterion=gini, max_depth=100, max_features=auto, min_samples_split=6, n_estimators=200, random_state=42, score=0.7925170068027211, total=   0.1s\n",
      "[CV] criterion=gini, max_depth=100, max_features=auto, min_samples_split=6, n_estimators=200, random_state=42 \n",
      "[CV]  criterion=gini, max_depth=100, max_features=auto, min_samples_split=6, n_estimators=200, random_state=42, score=0.8299319727891157, total=   0.1s\n",
      "[CV] criterion=gini, max_depth=100, max_features=auto, min_samples_split=6, n_estimators=200, random_state=42 \n",
      "[CV]  criterion=gini, max_depth=100, max_features=auto, min_samples_split=6, n_estimators=200, random_state=42, score=0.8225255972696246, total=   0.1s\n",
      "[CV] criterion=gini, max_depth=100, max_features=auto, min_samples_split=6, n_estimators=300, random_state=42 \n",
      "[CV]  criterion=gini, max_depth=100, max_features=auto, min_samples_split=6, n_estimators=300, random_state=42, score=0.7925170068027211, total=   0.2s\n",
      "[CV] criterion=gini, max_depth=100, max_features=auto, min_samples_split=6, n_estimators=300, random_state=42 \n",
      "[CV]  criterion=gini, max_depth=100, max_features=auto, min_samples_split=6, n_estimators=300, random_state=42, score=0.826530612244898, total=   0.2s\n",
      "[CV] criterion=gini, max_depth=100, max_features=auto, min_samples_split=6, n_estimators=300, random_state=42 \n",
      "[CV]  criterion=gini, max_depth=100, max_features=auto, min_samples_split=6, n_estimators=300, random_state=42, score=0.8293515358361775, total=   0.2s\n",
      "[CV] criterion=gini, max_depth=100, max_features=auto, min_samples_split=8, n_estimators=100, random_state=42 \n",
      "[CV]  criterion=gini, max_depth=100, max_features=auto, min_samples_split=8, n_estimators=100, random_state=42, score=0.7959183673469388, total=   0.0s\n",
      "[CV] criterion=gini, max_depth=100, max_features=auto, min_samples_split=8, n_estimators=100, random_state=42 \n",
      "[CV]  criterion=gini, max_depth=100, max_features=auto, min_samples_split=8, n_estimators=100, random_state=42, score=0.826530612244898, total=   0.0s\n",
      "[CV] criterion=gini, max_depth=100, max_features=auto, min_samples_split=8, n_estimators=100, random_state=42 \n",
      "[CV]  criterion=gini, max_depth=100, max_features=auto, min_samples_split=8, n_estimators=100, random_state=42, score=0.825938566552901, total=   0.0s\n",
      "[CV] criterion=gini, max_depth=100, max_features=auto, min_samples_split=8, n_estimators=200, random_state=42 \n"
     ]
    },
    {
     "name": "stdout",
     "output_type": "stream",
     "text": [
      "[CV]  criterion=gini, max_depth=100, max_features=auto, min_samples_split=8, n_estimators=200, random_state=42, score=0.7925170068027211, total=   0.1s\n",
      "[CV] criterion=gini, max_depth=100, max_features=auto, min_samples_split=8, n_estimators=200, random_state=42 \n",
      "[CV]  criterion=gini, max_depth=100, max_features=auto, min_samples_split=8, n_estimators=200, random_state=42, score=0.8333333333333334, total=   0.1s\n",
      "[CV] criterion=gini, max_depth=100, max_features=auto, min_samples_split=8, n_estimators=200, random_state=42 \n",
      "[CV]  criterion=gini, max_depth=100, max_features=auto, min_samples_split=8, n_estimators=200, random_state=42, score=0.8156996587030717, total=   0.1s\n",
      "[CV] criterion=gini, max_depth=100, max_features=auto, min_samples_split=8, n_estimators=300, random_state=42 \n",
      "[CV]  criterion=gini, max_depth=100, max_features=auto, min_samples_split=8, n_estimators=300, random_state=42, score=0.7857142857142857, total=   0.2s\n",
      "[CV] criterion=gini, max_depth=100, max_features=auto, min_samples_split=8, n_estimators=300, random_state=42 \n",
      "[CV]  criterion=gini, max_depth=100, max_features=auto, min_samples_split=8, n_estimators=300, random_state=42, score=0.8299319727891157, total=   0.2s\n",
      "[CV] criterion=gini, max_depth=100, max_features=auto, min_samples_split=8, n_estimators=300, random_state=42 \n",
      "[CV]  criterion=gini, max_depth=100, max_features=auto, min_samples_split=8, n_estimators=300, random_state=42, score=0.825938566552901, total=   0.2s\n"
     ]
    },
    {
     "name": "stderr",
     "output_type": "stream",
     "text": [
      "[Parallel(n_jobs=1)]: Done 648 out of 648 | elapsed:  2.5min finished\n"
     ]
    }
   ],
   "source": [
    "#random forest\n",
    "%timeit pass\n",
    "print('\\n')\n",
    "param_grid = {\n",
    "    'n_estimators': [100, 200, 300],\n",
    "    'criterion': ['entropy', 'gini'],\n",
    "    'max_depth': [10, 50, 100],\n",
    "    'min_samples_split': [2, 4, 6, 8],\n",
    "    'max_features': ['log2', 'sqrt','auto'],\n",
    "    'random_state':[42]}\n",
    "\n",
    "grid_rfc = GridSearchCV(rfc, param_grid = param_grid, cv = 3, verbose = 5)\n",
    "grid_rfc.fit(X_train,y_train)\n",
    "\n",
    "rfcbest_estimator = grid_rfc.best_estimator_"
   ]
  },
  {
   "cell_type": "code",
   "execution_count": 65,
   "metadata": {},
   "outputs": [
    {
     "name": "stdout",
     "output_type": "stream",
     "text": [
      "9.43 ns ± 0.32 ns per loop (mean ± std. dev. of 7 runs, 100000000 loops each)\n",
      "\n",
      "\n",
      "Best Parameters:\n",
      "\n",
      "\n",
      "Logistic Regression:\n",
      " {'C': 0.1, 'penalty': 'l1', 'random_state': 42}\n",
      "\n",
      "\n",
      "Support Vector Classifier:\n",
      " {'C': 1000, 'gamma': 0.001, 'kernel': 'rbf', 'random_state': 42}\n",
      "\n",
      "\n",
      "Random Forest:\n",
      " {'criterion': 'entropy', 'max_depth': 10, 'max_features': 'log2', 'min_samples_split': 8, 'n_estimators': 200, 'random_state': 42}\n",
      "\n",
      "\n",
      "Gradient Boost:\n",
      " {'learning_rate': 0.05, 'max_depth': 6, 'max_features': 1.0, 'min_samples_leaf': 20, 'n_estimators': 100, 'random_state': 42}\n"
     ]
    }
   ],
   "source": [
    "%timeit pass\n",
    "\n",
    "print('\\n')\n",
    "print('Best Parameters:')\n",
    "print('\\n')\n",
    "print(\"Logistic Regression:\\n\",grid_log_reg.best_params_)\n",
    "print('\\n')\n",
    "print(\"Support Vector Classifier:\\n\",grid_svc.best_params_)\n",
    "print('\\n')\n",
    "print(\"Random Forest:\\n\",grid_rfc.best_params_)\n",
    "print('\\n')\n",
    "print(\"Gradient Boost:\\n\",gbctuning.best_params_)"
   ]
  },
  {
   "cell_type": "markdown",
   "metadata": {},
   "source": [
    "### Re-Modeling"
   ]
  },
  {
   "cell_type": "markdown",
   "metadata": {},
   "source": [
    "<b>Logistic Regression"
   ]
  },
  {
   "cell_type": "code",
   "execution_count": 66,
   "metadata": {
    "scrolled": true
   },
   "outputs": [
    {
     "name": "stdout",
     "output_type": "stream",
     "text": [
      "9.35 ns ± 1.07 ns per loop (mean ± std. dev. of 7 runs, 100000000 loops each)\n",
      "\n",
      "\n",
      "Logistic Regression Accuracy Score: 70.1058201058201\n",
      "Logistic Regression F1 Score: 70.10393700787402\n",
      "Logistic Regression Precision Score: 70.17593007619902\n",
      "Logistic Regression Recall Score: 70.19799758813137\n",
      "Logistic Regression Cross Validation Scores: [66.66666667 69.3877551  74.06143345]\n",
      "\n",
      "\n",
      "Logistic Regression Confusion Matrix:\n",
      " [[131  50]\n",
      " [ 63 134]]\n"
     ]
    }
   ],
   "source": [
    "#Logistic Regression\n",
    "%timeit pass\n",
    "\n",
    "bestlr = LogisticRegression(C= 1, \n",
    "                            penalty= 'l1', \n",
    "                            random_state=42)\n",
    "bestlr.fit(X_train, y_train)\n",
    "bestlr_predict = bestlr.predict(X_test)\n",
    "#print confusion matrix and accuracy score\n",
    "bestlr_conf_matrix = confusion_matrix(y_test, bestlr_predict)\n",
    "bestlr_acc_score = accuracy_score(y_test, bestlr_predict)\n",
    "\n",
    "print('\\n')\n",
    "print(\"Logistic Regression Accuracy Score:\",bestlr_acc_score*100)\n",
    "print(\"Logistic Regression F1 Score:\",f1_score(y_test, bestlr_predict, average=\"macro\")*100)\n",
    "print(\"Logistic Regression Precision Score:\",precision_score(y_test,bestlr_predict, average=\"macro\")*100)\n",
    "print(\"Logistic Regression Recall Score:\",recall_score(y_test, bestlr_predict, average=\"macro\")*100) \n",
    "print(\"Logistic Regression Cross Validation Scores:\", cross_val_score(bestlr, X_train, y_train, cv=3)*100)\n",
    "print(\"\\n\")\n",
    "\n",
    "print(\"Logistic Regression Confusion Matrix:\\n\",bestlr_conf_matrix)\n"
   ]
  },
  {
   "cell_type": "markdown",
   "metadata": {},
   "source": [
    "<b>Random Forest"
   ]
  },
  {
   "cell_type": "code",
   "execution_count": 67,
   "metadata": {},
   "outputs": [
    {
     "name": "stdout",
     "output_type": "stream",
     "text": [
      "9.01 ns ± 0.393 ns per loop (mean ± std. dev. of 7 runs, 100000000 loops each)\n",
      "\n",
      "\n",
      "Random Forest Classifier Accuracy Score: 82.53968253968253\n",
      "Random Forest Classifier F1 Score: 82.29985526577177\n",
      "Random Forest Classifier Precision Score: 83.34640522875817\n",
      "Random Forest Classifier Recall Score: 82.19423956025464\n",
      "Random Forest Classifier Cross Validation Scores: [82.99319728 83.33333333 83.61774744]\n",
      "\n",
      "\n",
      "Random Forest Classifier Confusion Matrix:\n",
      " [[134  47]\n",
      " [ 19 178]]\n"
     ]
    }
   ],
   "source": [
    "#random forest\n",
    "from sklearn.ensemble import RandomForestClassifier\n",
    "\n",
    "%timeit pass\n",
    "\n",
    "bestrfc = RandomForestClassifier(criterion= 'entropy', \n",
    "                                 max_depth= 10, \n",
    "                                 max_features= 'log2', \n",
    "                                 min_samples_split= 8, \n",
    "                                 n_estimators= 300,\n",
    "                                random_state=42)\n",
    "bestrfc.fit(X_train, y_train)\n",
    "bestpred_rfc = bestrfc.predict(X_test)\n",
    "#Check accuracy\n",
    "\n",
    "print('\\n')\n",
    "print(\"Random Forest Classifier Accuracy Score:\",accuracy_score(y_test,bestpred_rfc )*100)\n",
    "print(\"Random Forest Classifier F1 Score:\",f1_score(y_test, bestpred_rfc, average=\"macro\")*100)\n",
    "print(\"Random Forest Classifier Precision Score:\",precision_score(y_test,bestpred_rfc, average=\"macro\")*100)\n",
    "print(\"Random Forest Classifier Recall Score:\",recall_score(y_test, bestpred_rfc, average=\"macro\")*100) \n",
    "print(\"Random Forest Classifier Cross Validation Scores:\", cross_val_score(bestrfc, X_train, y_train, cv=3)*100)\n",
    "print(\"\\n\")\n",
    "print(\"Random Forest Classifier Confusion Matrix:\\n\", confusion_matrix(y_test,bestpred_rfc))\n"
   ]
  },
  {
   "cell_type": "markdown",
   "metadata": {},
   "source": [
    "<b>Support Vector"
   ]
  },
  {
   "cell_type": "code",
   "execution_count": 68,
   "metadata": {},
   "outputs": [
    {
     "name": "stdout",
     "output_type": "stream",
     "text": [
      "9.82 ns ± 1.15 ns per loop (mean ± std. dev. of 7 runs, 100000000 loops each)\n",
      "\n",
      "\n",
      "Support Vector Classifier Accuracy Score: 82.53968253968253\n",
      "Support Vector Classifier F1 Score: 82.14786615908636\n",
      "Support Vector Classifier Precision Score: 84.20863632282969\n",
      "Support Vector Classifier Recall Score: 82.05962363631265\n",
      "Support Vector Cross Validation Scores: [82.31292517 83.67346939 82.93515358]\n",
      "\n",
      "\n",
      "Support Vector Confusion Matrix:\n",
      " [[128  53]\n",
      " [ 13 184]]\n"
     ]
    }
   ],
   "source": [
    "\n",
    "#Support vector\n",
    "%timeit pass\n",
    "\n",
    "bestsvc = SVC(C=1000, \n",
    "              gamma=0.001, \n",
    "              kernel='rbf',\n",
    "             random_state=42)\n",
    "bestsvc.fit(X_train, y_train)\n",
    "bestpred_svc = svc.predict(X_test)\n",
    "\n",
    "print('\\n')\n",
    "print(\"Support Vector Classifier Accuracy Score:\",accuracy_score(y_test,bestpred_svc )*100)\n",
    "print(\"Support Vector Classifier F1 Score:\",f1_score(y_test, bestpred_svc, average=\"macro\")*100)\n",
    "print(\"Support Vector Classifier Precision Score:\",precision_score(y_test,bestpred_svc, average=\"macro\")*100)\n",
    "print(\"Support Vector Classifier Recall Score:\",recall_score(y_test, bestpred_svc, average=\"macro\")*100) \n",
    "print(\"Support Vector Cross Validation Scores:\", cross_val_score(bestsvc, X_train, y_train, cv=3)*100)\n",
    "print(\"\\n\")\n",
    "print(\"Support Vector Confusion Matrix:\\n\", confusion_matrix(y_test,bestpred_svc))\n"
   ]
  },
  {
   "cell_type": "markdown",
   "metadata": {},
   "source": [
    "<b>Gradient Boost Classifier"
   ]
  },
  {
   "cell_type": "code",
   "execution_count": 69,
   "metadata": {
    "scrolled": true
   },
   "outputs": [
    {
     "name": "stdout",
     "output_type": "stream",
     "text": [
      "8.75 ns ± 0.395 ns per loop (mean ± std. dev. of 7 runs, 100000000 loops each)\n",
      "\n",
      "\n",
      "Gradient Boosting Classifier Accuracy Score: 83.33333333333334\n",
      "Gradient Boosting Classifier F1 Score: 83.09373202990224\n",
      "Gradient Boosting Classifier Precision Score: 84.23090358639963\n",
      "Gradient Boosting Classifier Recall Score: 82.97809686737527\n",
      "Gradient Boosting Classifier Cross Validation Scores: [82.99319728 85.03401361 83.95904437]\n",
      "\n",
      "\n",
      "Gradient Boosting Classifier Confusion Matrix:\n",
      " [[135  46]\n",
      " [ 17 180]]\n"
     ]
    }
   ],
   "source": [
    "%timeit pass\n",
    "\n",
    "bestgbc = ensemble.GradientBoostingClassifier(learning_rate= 0.1, \n",
    "                                              max_depth= 6, max_features= 1.0, \n",
    "                                              min_samples_leaf= 100, n_estimators= 100, random_state=42)\n",
    "bestgbc.fit(X_train, y_train)\n",
    "bestpred_gbc = bestgbc.predict(X_test)\n",
    "#Check accuracy\n",
    "print('\\n')\n",
    "print(\"Gradient Boosting Classifier Accuracy Score:\",accuracy_score(y_test,bestpred_gbc )*100)\n",
    "print(\"Gradient Boosting Classifier F1 Score:\",f1_score(y_test, bestpred_gbc, average=\"macro\")*100)\n",
    "print(\"Gradient Boosting Classifier Precision Score:\",precision_score(y_test,bestpred_gbc, average=\"macro\")*100)\n",
    "print(\"Gradient Boosting Classifier Recall Score:\",recall_score(y_test, bestpred_gbc, average=\"macro\")*100) \n",
    "print(\"Gradient Boosting Classifier Cross Validation Scores:\", cross_val_score(bestgbc, X_train, y_train, cv=3)*100)\n",
    "print(\"\\n\")\n",
    "print(\"Gradient Boosting Classifier Confusion Matrix:\\n\", confusion_matrix(y_test,bestpred_gbc))\n",
    "\n"
   ]
  },
  {
   "cell_type": "markdown",
   "metadata": {},
   "source": [
    "#### Imbalance Check"
   ]
  },
  {
   "cell_type": "code",
   "execution_count": 70,
   "metadata": {},
   "outputs": [
    {
     "name": "stdout",
     "output_type": "stream",
     "text": [
      "Gradient Boost: [0 1]\n",
      "Random Forest: [0 1]\n",
      "Support Vector: [0 1]\n",
      "Logistic Regression: [0 1]\n"
     ]
    }
   ],
   "source": [
    "print(\"Gradient Boost:\", np.unique( bestpred_gbc) )\n",
    "print(\"Random Forest:\", np.unique( bestpred_rfc) )\n",
    "print(\"Support Vector:\",np.unique(bestpred_svc))\n",
    "print( \"Logistic Regression:\",np.unique( bestlr_predict) )"
   ]
  },
  {
   "cell_type": "markdown",
   "metadata": {},
   "source": [
    "### Scores:\n",
    "I wanted to put all of the scores in one spot for easier viewing."
   ]
  },
  {
   "cell_type": "markdown",
   "metadata": {},
   "source": [
    "#### Vanilla Scores"
   ]
  },
  {
   "cell_type": "code",
   "execution_count": 71,
   "metadata": {},
   "outputs": [
    {
     "name": "stdout",
     "output_type": "stream",
     "text": [
      "Vanilla Scores\n",
      "\n",
      "\n",
      "Logistic Regression Scores\n",
      "Logistic Regression Accuracy Score: 69.31216931216932\n",
      "Logistic Regression F1 Score: 69.31131019036954\n",
      "Logistic Regression Precision Score: 69.39890710382514\n",
      "Logistic Regression Recall Score: 69.41414028101075\n",
      "Logistic Regression Cross Validation Scores: [64.96598639 69.3877551  73.37883959]\n",
      "Logistic Regression Confusion Matrix:\n",
      " [[130  51]\n",
      " [ 65 132]]\n",
      "\n",
      "\n",
      "Random Forest Classifier Scores\n",
      "Random Forest Classifier Accuracy Score: 79.1005291005291\n",
      "Random Forest Classifier F1 Score: 79.03582485625829\n",
      "Random Forest Classifier Precision Score: 79.09259675967597\n",
      "Random Forest Classifier Recall Score: 79.00692711108618\n",
      "Random Forest Classifier Cross Validation Scores: [76.19047619 79.59183673 77.81569966]\n",
      "Random Forest Classifier Confusion Matrix:\n",
      " [[139  42]\n",
      " [ 37 160]]\n",
      "\n",
      "\n",
      "Support Vector Classifier Scores\n",
      "Support Vector Classifier Accuracy Score: 82.53968253968253\n",
      "Support Vector Classifier F1 Score: 82.14786615908636\n",
      "Support Vector Classifier Precision Score: 84.20863632282969\n",
      "Support Vector Classifier Recall Score: 82.05962363631265\n",
      "Support Vector Cross Validation Scores: [81.63265306 82.99319728 82.59385666]\n",
      "Support Vector Confusion Matrix:\n",
      " [[128  53]\n",
      " [ 13 184]]\n",
      "\n",
      "\n",
      "Gradient Boost Classifier Scores\n",
      "Gradient Boosting Classifier Accuracy Score: 82.27513227513228\n",
      "Gradient Boosting Classifier F1 Score: 82.02031819053096\n",
      "Gradient Boosting Classifier Precision Score: 83.13053097345133\n",
      "Gradient Boosting Classifier Recall Score: 81.917996466332\n",
      "Gradient Boosting Classifier Cross Validation Scores: [83.33333333 82.99319728 82.25255973]\n",
      "Gradient Boosting Classifier Confusion Matrix:\n",
      " [[133  48]\n",
      " [ 19 178]]\n"
     ]
    }
   ],
   "source": [
    "print(\"Vanilla Scores\")\n",
    "print('\\n')\n",
    "\n",
    "print(\"Logistic Regression Scores\")\n",
    "print(\"Logistic Regression Accuracy Score:\",lr_acc_score*100)\n",
    "print(\"Logistic Regression F1 Score:\",f1_score(y_test, lr_predict, average=\"macro\")*100)\n",
    "print(\"Logistic Regression Precision Score:\",precision_score(y_test,lr_predict, average=\"macro\")*100)\n",
    "print(\"Logistic Regression Recall Score:\",recall_score(y_test, lr_predict, average=\"macro\")*100) \n",
    "print(\"Logistic Regression Cross Validation Scores:\", cross_val_score(lr, X_train, y_train, cv=3)*100)\n",
    "print(\"Logistic Regression Confusion Matrix:\\n\",lr_conf_matrix)\n",
    "\n",
    "\n",
    "print('\\n')\n",
    "print(\"Random Forest Classifier Scores\")\n",
    "print(\"Random Forest Classifier Accuracy Score:\",accuracy_score(y_test,pred_rfc )*100)\n",
    "print(\"Random Forest Classifier F1 Score:\",f1_score(y_test,pred_rfc, average=\"macro\")*100)\n",
    "print(\"Random Forest Classifier Precision Score:\",precision_score(y_test,pred_rfc, average=\"macro\")*100)\n",
    "print(\"Random Forest Classifier Recall Score:\",recall_score(y_test, pred_rfc, average=\"macro\")*100) \n",
    "print(\"Random Forest Classifier Cross Validation Scores:\", cross_val_score(rfc, X_train, y_train, cv=3)*100)\n",
    "print(\"Random Forest Classifier Confusion Matrix:\\n\", confusion_matrix(y_test,pred_rfc))\n",
    "\n",
    "\n",
    "print('\\n')\n",
    "print(\"Support Vector Classifier Scores\")\n",
    "print(\"Support Vector Classifier Accuracy Score:\",accuracy_score(y_test,pred_svc )*100)\n",
    "print(\"Support Vector Classifier F1 Score:\",f1_score(y_test, pred_svc, average=\"macro\")*100)\n",
    "print(\"Support Vector Classifier Precision Score:\",precision_score(y_test,pred_svc, average=\"macro\")*100)\n",
    "print(\"Support Vector Classifier Recall Score:\",recall_score(y_test, pred_svc, average=\"macro\")*100) \n",
    "print(\"Support Vector Cross Validation Scores:\", cross_val_score(svc, X_train, y_train, cv=3)*100)\n",
    "print(\"Support Vector Confusion Matrix:\\n\", confusion_matrix(y_test,pred_svc))\n",
    "\n",
    "\n",
    "print('\\n')\n",
    "print(\"Gradient Boost Classifier Scores\")\n",
    "print(\"Gradient Boosting Classifier Accuracy Score:\",accuracy_score(y_test,pred_gbc )*100)\n",
    "print(\"Gradient Boosting Classifier F1 Score:\",f1_score(y_test, pred_gbc, average=\"macro\")*100)\n",
    "print(\"Gradient Boosting Classifier Precision Score:\",precision_score(y_test,pred_gbc, average=\"macro\")*100)\n",
    "print(\"Gradient Boosting Classifier Recall Score:\",recall_score(y_test, pred_gbc, average=\"macro\")*100) \n",
    "print(\"Gradient Boosting Classifier Cross Validation Scores:\", cross_val_score(gbc, X_train, y_train, cv=3)*100)\n",
    "print(\"Gradient Boosting Classifier Confusion Matrix:\\n\", confusion_matrix(y_test,pred_gbc))\n",
    "\n"
   ]
  },
  {
   "cell_type": "markdown",
   "metadata": {},
   "source": [
    "#### Scores with Best Parameters\n"
   ]
  },
  {
   "cell_type": "code",
   "execution_count": 72,
   "metadata": {},
   "outputs": [
    {
     "name": "stdout",
     "output_type": "stream",
     "text": [
      "Scores with Best Parameters\n",
      "\n",
      "\n",
      "Logistic Regression Scores\n",
      "Logistic Regression Accuracy Score: 70.1058201058201\n",
      "Logistic Regression F1 Score: 70.10393700787402\n",
      "Logistic Regression Precision Score: 70.17593007619902\n",
      "Logistic Regression Recall Score: 70.19799758813137\n",
      "Logistic Regression Cross Validation Scores: [66.66666667 69.3877551  74.06143345]\n",
      "Logistic Regression Confusion Matrix:\n",
      " [[131  50]\n",
      " [ 63 134]]\n",
      "\n",
      "\n",
      "Random Forest Classifier Scores\n",
      "Random Forest Classifier Accuracy Score: 82.53968253968253\n",
      "Random Forest Classifier F1 Score: 82.29985526577177\n",
      "Random Forest Classifier Precision Score: 83.34640522875817\n",
      "Random Forest Classifier Recall Score: 82.19423956025464\n",
      "Random Forest Classifier Cross Validation Scores: [82.99319728 83.33333333 83.61774744]\n",
      "Random Forest Classifier Confusion Matrix:\n",
      " [[134  47]\n",
      " [ 19 178]]\n",
      "\n",
      "\n",
      "Support Vector Classifier Scores\n",
      "Support Vector Classifier Accuracy Score: 82.53968253968253\n",
      "Support Vector Classifier F1 Score: 82.14786615908636\n",
      "Support Vector Classifier Precision Score: 84.20863632282969\n",
      "Support Vector Classifier Recall Score: 82.05962363631265\n",
      "Support Vector Cross Validation Scores: [82.31292517 83.67346939 82.93515358]\n",
      "Support Vector Confusion Matrix:\n",
      " [[128  53]\n",
      " [ 13 184]]\n",
      "\n",
      "\n",
      "Gradient Boost Classifier Scores\n",
      "Gradient Boosting Classifier Accuracy Score: 83.33333333333334\n",
      "Gradient Boosting Classifier F1 Score: 83.09373202990224\n",
      "Gradient Boosting Classifier Precision Score: 84.23090358639963\n",
      "Gradient Boosting Classifier Recall Score: 82.97809686737527\n",
      "Gradient Boosting Classifier Cross Validation Scores: [82.99319728 85.03401361 83.95904437]\n",
      "Gradient Boosting Classifier Confusion Matrix:\n",
      " [[135  46]\n",
      " [ 17 180]]\n"
     ]
    }
   ],
   "source": [
    "print(\"Scores with Best Parameters\")\n",
    "print('\\n')\n",
    "\n",
    "print(\"Logistic Regression Scores\")\n",
    "print(\"Logistic Regression Accuracy Score:\",bestlr_acc_score*100)\n",
    "print(\"Logistic Regression F1 Score:\",f1_score(y_test, bestlr_predict, average=\"macro\")*100)\n",
    "print(\"Logistic Regression Precision Score:\",precision_score(y_test,bestlr_predict, average=\"macro\")*100)\n",
    "print(\"Logistic Regression Recall Score:\",recall_score(y_test, bestlr_predict, average=\"macro\")*100) \n",
    "print(\"Logistic Regression Cross Validation Scores:\", cross_val_score(bestlr, X_train, y_train, cv=3)*100)\n",
    "print(\"Logistic Regression Confusion Matrix:\\n\", bestlr_conf_matrix)\n",
    "\n",
    "print('\\n')\n",
    "print(\"Random Forest Classifier Scores\")\n",
    "print(\"Random Forest Classifier Accuracy Score:\",accuracy_score(y_test,bestpred_rfc )*100)\n",
    "print(\"Random Forest Classifier F1 Score:\",f1_score(y_test, bestpred_rfc, average=\"macro\")*100)\n",
    "print(\"Random Forest Classifier Precision Score:\",precision_score(y_test,bestpred_rfc, average=\"macro\")*100)\n",
    "print(\"Random Forest Classifier Recall Score:\",recall_score(y_test, bestpred_rfc, average=\"macro\")*100) \n",
    "print(\"Random Forest Classifier Cross Validation Scores:\", cross_val_score(bestrfc, X_train, y_train, cv=3)*100)\n",
    "print(\"Random Forest Classifier Confusion Matrix:\\n\", confusion_matrix(y_test,bestpred_rfc))\n",
    "\n",
    "\n",
    "print('\\n')\n",
    "print(\"Support Vector Classifier Scores\")\n",
    "print(\"Support Vector Classifier Accuracy Score:\",accuracy_score(y_test,bestpred_svc )*100)\n",
    "print(\"Support Vector Classifier F1 Score:\",f1_score(y_test, bestpred_svc, average=\"macro\")*100)\n",
    "print(\"Support Vector Classifier Precision Score:\",precision_score(y_test,bestpred_svc, average=\"macro\")*100)\n",
    "print(\"Support Vector Classifier Recall Score:\",recall_score(y_test, bestpred_svc, average=\"macro\")*100) \n",
    "print(\"Support Vector Cross Validation Scores:\", cross_val_score(bestsvc, X_train, y_train, cv=3)*100)\n",
    "print(\"Support Vector Confusion Matrix:\\n\", confusion_matrix(y_test,bestpred_svc))\n",
    "\n",
    "\n",
    "\n",
    "print('\\n')\n",
    "print(\"Gradient Boost Classifier Scores\")\n",
    "print(\"Gradient Boosting Classifier Accuracy Score:\",accuracy_score(y_test,bestpred_gbc )*100)\n",
    "print(\"Gradient Boosting Classifier F1 Score:\",f1_score(y_test, bestpred_gbc, average=\"macro\")*100)\n",
    "print(\"Gradient Boosting Classifier Precision Score:\",precision_score(y_test,bestpred_gbc, average=\"macro\")*100)\n",
    "print(\"Gradient Boosting Classifier Recall Score:\",recall_score(y_test, bestpred_gbc, average=\"macro\")*100) \n",
    "print(\"Gradient Boosting Classifier Cross Validation Scores:\", cross_val_score(bestgbc, X_train, y_train, cv=3)*100)\n",
    "print(\"Gradient Boosting Classifier Confusion Matrix:\\n\", confusion_matrix(y_test,bestpred_gbc))\n"
   ]
  },
  {
   "cell_type": "markdown",
   "metadata": {},
   "source": [
    "### Summary and Talking Points"
   ]
  },
  {
   "cell_type": "markdown",
   "metadata": {},
   "source": [
    "#### How you chose your model specification and what alternatives you compared it to?<\n"
   ]
  },
  {
   "cell_type": "markdown",
   "metadata": {},
   "source": [
    "First, I started by testing different classifiers that I thought would be of good use to the model. I picked 4 models, Logistic Regression, Random Forest, Support Vector, and Gradient Boosting, ran them in their most basic form and then compared the scores. From there I decided to check for their best parameters in hopes of improving the accuracy scores. After that I concluded which model would be the best to use.\n",
    "\n",
    "Logistic Regression gave me the lowest scores in both tests and the cross validation varied the most. There wasn't much improvement after tuning.\n",
    "\n",
    "Random Forest Classifier tied with Support Vector Classifier second best accuracy score but had slightly higher scores in other areas. It also was faster than Support Vector with both parameter tuning and its second modeling. Random forest also had the biggest improvement from vanilla modeling to best parameter modeling.\n",
    "\n",
    "Support Vector Classifier had a decent accuracy score, and the cross-validation scores weren't too varied. Support Vector Classifier also did not change in scores. I am unsure if it was a good or bad thing but since it took the longest to tune, it was cause for concern.\n",
    "\n",
    "Gradient Boost had the better overall performance in the scoring metrics that I chose of the 4 models. It also performed the quickest of the models on this dataset. Its cross-validation scores were cause for concern but the average of those still came out to be close to the rest of the other scores such as accuracy and f1.\n"
   ]
  },
  {
   "cell_type": "markdown",
   "metadata": {},
   "source": [
    "With all of that being said, a model needed to be chosen. Three out of four of the models performed rather well but had their down points. Any of those 3 could probably do an ok job with this dataset but I decided to choose Gradient Boost Classifier as my model choice.\n",
    "\n",
    "\n",
    "Gradient Boost Classifier was quick, accurate, and have me the highest number of correct \"Yes\" predictions according to the confusion matrix. It also gave the 2nd highest number of correct \"No\" predictions, which I think is a fair trade-off for the purpose of this model.\n"
   ]
  },
  {
   "cell_type": "markdown",
   "metadata": {},
   "source": [
    "#### The practical uses of your model for an audience of interest:"
   ]
  },
  {
   "cell_type": "markdown",
   "metadata": {},
   "source": [
    "\n",
    "\n",
    "This model is practical for at least two groups, employers and health insurance companies. It can help companies who are trying to improve the mental health of their workers. Employers can use these results to help boost the mental health of employees which can improve performance. They can also use it as a way to recruit new employees. Knowing that a company cares about the mental health of its employees is a want of many who are looking for employment.\n",
    "\n",
    "It can help health insurance companies learn how to better market their insurance to companies. Health insurance companies can use this information to better understand how to sell their policies to companies. Once they have done their research on the company they're pitching to and they better understand the needs of the organization, they can determine if they should be selling policies with a heavy focus on mental health and well-being or not.\n"
   ]
  },
  {
   "cell_type": "markdown",
   "metadata": {},
   "source": [
    "#### Any weak points or shortcomings of your model"
   ]
  },
  {
   "cell_type": "markdown",
   "metadata": {},
   "source": [
    "\n",
    "\n",
    "My model seems to have limited accuracy. While accurate for the most part, the accuracy is only 83%. Also, it is dependent on the answers to the questions being honest and accurate themselves. The data also required some cleaning that in some cases resulted in judgement calls that could have gone either way. Cross-validation also wasn't as strong or consistent as I'd like but it still averaged out. \n",
    "\n"
   ]
  },
  {
   "cell_type": "markdown",
   "metadata": {},
   "source": [
    "#### -Genesis Taylor"
   ]
  }
 ],
 "metadata": {
  "kernelspec": {
   "display_name": "Python 3",
   "language": "python",
   "name": "python3"
  },
  "language_info": {
   "codemirror_mode": {
    "name": "ipython",
    "version": 3
   },
   "file_extension": ".py",
   "mimetype": "text/x-python",
   "name": "python",
   "nbconvert_exporter": "python",
   "pygments_lexer": "ipython3",
   "version": "3.7.2"
  }
 },
 "nbformat": 4,
 "nbformat_minor": 2
}
